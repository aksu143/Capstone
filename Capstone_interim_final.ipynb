{
  "nbformat": 4,
  "nbformat_minor": 0,
  "metadata": {
    "colab": {
      "provenance": [],
      "gpuType": "V28"
    },
    "kernelspec": {
      "name": "python3",
      "display_name": "Python 3"
    },
    "language_info": {
      "name": "python"
    },
    "accelerator": "TPU"
  },
  "cells": [
    {
      "cell_type": "code",
      "execution_count": 1,
      "metadata": {
        "colab": {
          "base_uri": "https://localhost:8080/"
        },
        "id": "G4oTXykVCRsK",
        "outputId": "1911567a-f271-492f-8778-3b5c6aa41032"
      },
      "outputs": [
        {
          "output_type": "stream",
          "name": "stdout",
          "text": [
            "Mounted at /content/drive\n"
          ]
        }
      ],
      "source": [
        "from google.colab import drive\n",
        "drive.mount('/content/drive')"
      ]
    },
    {
      "cell_type": "code",
      "source": [
        "import re\n",
        "import string\n",
        "import pickle\n",
        "import random\n",
        "import tarfile\n",
        "import os\n",
        "import gc\n",
        "import numpy as np\n",
        "import pandas as pd\n",
        "import seaborn as sns\n",
        "import matplotlib.pyplot as plt"
      ],
      "metadata": {
        "id": "m9hyeBD6CZ-6"
      },
      "execution_count": 2,
      "outputs": []
    },
    {
      "cell_type": "code",
      "source": [
        "trainingmodule_dir = '/content/drive/MyDrive/capstone/'\n",
        "\n",
        "europarlv7_de = os.path.join(trainingmodule_dir, 'europarl-v7.de-en.de')\n",
        "europarlv7_en = os.path.join(trainingmodule_dir, 'europarl-v7.de-en.en')\n",
        "commoncrawlv1_de = os.path.join(trainingmodule_dir, 'commoncrawl.de-en.de')\n",
        "commoncrawlv1_en = os.path.join(trainingmodule_dir, 'commoncrawl.de-en.en')"
      ],
      "metadata": {
        "id": "Z-bZbg-VNxFW"
      },
      "execution_count": 3,
      "outputs": []
    },
    {
      "cell_type": "code",
      "source": [
        "def load_dataset(de_path, en_path):\n",
        "    # Load parallel sentences from two text files and create a DataFrame.\n",
        "    with open(de_path, 'r', encoding='utf-8') as de_file, open(en_path, 'r', encoding='utf-8') as en_file:\n",
        "        de_sentences = de_file.readlines()\n",
        "        en_sentences = en_file.readlines()\n",
        "\n",
        "    # Check if lengths match\n",
        "    if len(de_sentences) != len(en_sentences):\n",
        "        print(f\"Length mismatch: {de_path} ({len(de_sentences)}) and {en_path} ({len(en_sentences)})\")\n",
        "        # Truncate to the shorter length\n",
        "        min_length = min(len(de_sentences), len(en_sentences))\n",
        "        de_sentences = de_sentences[:min_length]\n",
        "        en_sentences = en_sentences[:min_length]\n",
        "\n",
        "    return pd.DataFrame({'German': de_sentences, 'English': en_sentences})\n",
        "\n",
        "# Load datasets\n",
        "europarl_f = load_dataset(europarlv7_de, europarlv7_en)\n",
        "commoncrawl_f = load_dataset(commoncrawlv1_de, commoncrawlv1_en)"
      ],
      "metadata": {
        "id": "AktpSCi3N64m"
      },
      "execution_count": 4,
      "outputs": []
    },
    {
      "cell_type": "code",
      "source": [
        "#Print the shape of each dataset\n",
        "print(\"Shape of Europarl German dataset :\",europarl_f.shape)"
      ],
      "metadata": {
        "colab": {
          "base_uri": "https://localhost:8080/"
        },
        "id": "3Oon0-rEOGUO",
        "outputId": "d81f5980-c8af-4a6e-a5fc-80a5789adabc"
      },
      "execution_count": 5,
      "outputs": [
        {
          "output_type": "stream",
          "name": "stdout",
          "text": [
            "Shape of Europarl German dataset : (1920209, 2)\n"
          ]
        }
      ]
    },
    {
      "cell_type": "code",
      "source": [
        "print(\"Shape of CommonCarl German dataset :\",commoncrawl_f.shape)"
      ],
      "metadata": {
        "colab": {
          "base_uri": "https://localhost:8080/"
        },
        "id": "nTR64N00OONe",
        "outputId": "69fafb13-e2db-4f0e-89f4-61c5437c1815"
      },
      "execution_count": 6,
      "outputs": [
        {
          "output_type": "stream",
          "name": "stdout",
          "text": [
            "Shape of CommonCarl German dataset : (2399123, 2)\n"
          ]
        }
      ]
    },
    {
      "cell_type": "code",
      "source": [
        "# Merge the datasets\n",
        "df = pd.concat([europarl_f, commoncrawl_f], ignore_index=True)\n",
        "\n",
        "# Display the number of sentences\n",
        "print(f\"Total number of sentences in the dataset: {len(df)}\")"
      ],
      "metadata": {
        "colab": {
          "base_uri": "https://localhost:8080/"
        },
        "id": "t0BoyjJ9OOzN",
        "outputId": "f7b2c4b8-06f1-4630-9c2e-5156583b3405"
      },
      "execution_count": 7,
      "outputs": [
        {
          "output_type": "stream",
          "name": "stdout",
          "text": [
            "Total number of sentences in the dataset: 4319332\n"
          ]
        }
      ]
    },
    {
      "cell_type": "code",
      "source": [
        "# Display entire dataframe\n",
        "pd.set_option('display.max_colwidth', None)  # Display full contents of each column without truncation\n",
        "pd.set_option('display.max_rows', None)      # Display all rows"
      ],
      "metadata": {
        "id": "W0VnSL8POZW1"
      },
      "execution_count": 8,
      "outputs": []
    },
    {
      "cell_type": "code",
      "source": [
        "df.head(20)"
      ],
      "metadata": {
        "colab": {
          "base_uri": "https://localhost:8080/",
          "height": 868
        },
        "id": "MD15fxLgObEV",
        "outputId": "614c0925-f0fe-43f0-cb6c-5398bff52659"
      },
      "execution_count": 9,
      "outputs": [
        {
          "output_type": "execute_result",
          "data": {
            "text/plain": [
              "                                                                                                                                                                                                                                                                                                                                                                     German  \\\n",
              "0                                                                                                                                                                                                                                                                                                                                      Wiederaufnahme der Sitzungsperiode\\n   \n",
              "1                                                                                                                                              Ich erkläre die am Freitag, dem 17. Dezember unterbrochene Sitzungsperiode des Europäischen Parlaments für wiederaufgenommen, wünsche Ihnen nochmals alles Gute zum Jahreswechsel und hoffe, daß Sie schöne Ferien hatten.\\n   \n",
              "2                                                                                                                                                                               Wie Sie feststellen konnten, ist der gefürchtete \"Millenium-Bug \" nicht eingetreten. Doch sind Bürger einiger unserer Mitgliedstaaten Opfer von schrecklichen Naturkatastrophen geworden.\\n   \n",
              "3                                                                                                                                                                                                                                                          Im Parlament besteht der Wunsch nach einer Aussprache im Verlauf dieser Sitzungsperiode in den nächsten Tagen.\\n   \n",
              "4                                                                                                                                               Heute möchte ich Sie bitten - das ist auch der Wunsch einiger Kolleginnen und Kollegen -, allen Opfern der Stürme, insbesondere in den verschiedenen Ländern der Europäischen Union, in einer Schweigeminute zu gedenken.\\n   \n",
              "5                                                                                                                                                                                                                                                                                                                 Ich bitte Sie, sich zu einer Schweigeminute zu erheben.\\n   \n",
              "6                                                                                                                                                                                                                                                                                                                    (Das Parlament erhebt sich zu einer Schweigeminute.)\\n   \n",
              "7                                                                                                                                                                                                                                                                                                                                 Frau Präsidentin, zur Geschäftsordnung.\\n   \n",
              "8                                                                                                                                                                                                                                            Wie Sie sicher aus der Presse und dem Fernsehen wissen, gab es in Sri Lanka mehrere Bombenexplosionen mit zahlreichen Toten.\\n   \n",
              "9                                                                                                                                                                Zu den Attentatsopfern, die es in jüngster Zeit in Sri Lanka zu beklagen gab, zählt auch Herr Kumar Ponnambalam, der dem Europäischen Parlament erst vor wenigen Monaten einen Besuch abgestattet hatte.\\n   \n",
              "10  Wäre es angemessen, wenn Sie, Frau Präsidentin, der Präsidentin von Sri Lanka in einem Schreiben das Bedauern des Parlaments zum gewaltsamen Tod von Herrn Ponnambalam und anderen Bürgern von Sri Lanka übermitteln und sie auffordern würden, alles in ihrem Kräften stehende zu tun, um nach einer friedlichen Lösung dieser sehr schwierigen Situation zu suchen?\\n   \n",
              "11                                                                                                                                                                                                                                                                                      Ja, Herr Evans, ich denke, daß eine derartige Initiative durchaus angebracht ist.\\n   \n",
              "12                                                                                                                                                                                                                                                                                 Wenn das Haus damit einverstanden ist, werde ich dem Vorschlag von Herrn Evans folgen.\\n   \n",
              "13                                                                                                                                                                                                                                                                                                                                Frau Präsidentin, zur Geschäftsordnung.\\n   \n",
              "14                                                                                                                                                                                                                                                                             Könnten Sie mir eine Auskunft zu Artikel 143 im Zusammenhang mit der Unzulässigkeit geben?\\n   \n",
              "15                                                                                                                                                                                                                                        Meine Frage betrifft eine Angelegenheit, die am Donnerstag zur Sprache kommen wird und auf die ich dann erneut verweisen werde.\\n   \n",
              "16                                                                                                   Das Parlament wird sich am Donnerstag mit dem Cunha-Bericht über mehrjährige Ausrichtungsprogramme befassen, der in Absatz 6 vorschlägt, daß Länder, die ihr Soll zur Flottenverkleinerung nicht erfüllen, jährlich mit einer Art Quotenstrafe belegt werden sollen.\\n   \n",
              "17                                                                                                                                                                                                                                                                      Und zwar sollen derartige Strafen trotz des Grundsatzes der relativen Stabilität verhängt werden.\\n   \n",
              "18                                                                                                                                                                Ich meine, daß der Grundsatz der relativen Stabilität einen elementaren Rechtsgrundsatz der gemeinsamen Fischereipolitik darstellt und ein Vorschlag, diesen zu unterlaufen, rechtlich unzulässig wäre.\\n   \n",
              "19                                                                                                                                                Ich möchte wissen, ob es möglich ist, einen Einwand gegen ein Dokument zu erheben, bei dem es sich lediglich um einen Bericht und keinen Legislativvorschlag handelt, und ob ich befugt bin, dies am Donnerstag zu tun.\\n   \n",
              "\n",
              "                                                                                                                                                                                                                                                                                                English  \n",
              "0                                                                                                                                                                                                                                                                           Resumption of the session\\n  \n",
              "1                                                                                     I declare resumed the session of the European Parliament adjourned on Friday 17 December 1999, and I would like once again to wish you a happy new year in the hope that you enjoyed a pleasant festive period.\\n  \n",
              "2                                                                                                     Although, as you will have seen, the dreaded 'millennium bug' failed to materialise, still the people in a number of countries suffered a series of natural disasters that truly were dreadful.\\n  \n",
              "3                                                                                                                                                                                           You have requested a debate on this subject in the course of the next few days, during this part-session.\\n  \n",
              "4                                                            In the meantime, I should like to observe a minute' s silence, as a number of Members have requested, on behalf of all the victims concerned, particularly those of the terrible storms, in the various countries of the European Union.\\n  \n",
              "5                                                                                                                                                                                                                                                      Please rise, then, for this minute' s silence.\\n  \n",
              "6                                                                                                                                                                                                                                                   (The House rose and observed a minute' s silence)\\n  \n",
              "7                                                                                                                                                                                                                                                               Madam President, on a point of order.\\n  \n",
              "8                                                                                                                                                                         You will be aware from the press and television that there have been a number of bomb explosions and killings in Sri Lanka.\\n  \n",
              "9                                                                                                                                                  One of the people assassinated very recently in Sri Lanka was Mr Kumar Ponnambalam, who had visited the European Parliament just a few months ago.\\n  \n",
              "10  Would it be appropriate for you, Madam President, to write a letter to the Sri Lankan President expressing Parliament's regret at his and the other violent deaths in Sri Lanka and urging her to do everything she possibly can to seek a peaceful reconciliation to a very difficult situation?\\n  \n",
              "11                                                                                                                                                                                             Yes, Mr Evans, I feel an initiative of the type you have just suggested would be entirely appropriate.\\n  \n",
              "12                                                                                                                                                                                                                                         If the House agrees, I shall do as Mr Evans has suggested.\\n  \n",
              "13                                                                                                                                                                                                                                                              Madam President, on a point of order.\\n  \n",
              "14                                                                                                                                                                                                                                I would like your advice about Rule 143 concerning inadmissibility.\\n  \n",
              "15                                                                                                                                                                                                  My question relates to something that will come up on Thursday and which I will then raise again.\\n  \n",
              "16                                        The Cunha report on multiannual guidance programmes comes before Parliament on Thursday and contains a proposal in paragraph 6 that a form of quota penalties should be introduced for countries which fail to meet their fleet reduction targets annually.\\n  \n",
              "17                                                                                                                                                                                                                      It says that this should be done despite the principle of relative stability.\\n  \n",
              "18                                                                                                                     I believe that the principle of relative stability is a fundamental legal principle of the common fisheries policy and a proposal to subvert it would be legally inadmissible.\\n  \n",
              "19                                                                                                             I want to know whether one can raise an objection of that kind to what is merely a report, not a legislative proposal, and whether that is something I can competently do on Thursday.\\n  "
            ],
            "text/html": [
              "\n",
              "  <div id=\"df-139a5793-b995-48a0-9f3b-c7fcf53ce5ee\" class=\"colab-df-container\">\n",
              "    <div>\n",
              "<style scoped>\n",
              "    .dataframe tbody tr th:only-of-type {\n",
              "        vertical-align: middle;\n",
              "    }\n",
              "\n",
              "    .dataframe tbody tr th {\n",
              "        vertical-align: top;\n",
              "    }\n",
              "\n",
              "    .dataframe thead th {\n",
              "        text-align: right;\n",
              "    }\n",
              "</style>\n",
              "<table border=\"1\" class=\"dataframe\">\n",
              "  <thead>\n",
              "    <tr style=\"text-align: right;\">\n",
              "      <th></th>\n",
              "      <th>German</th>\n",
              "      <th>English</th>\n",
              "    </tr>\n",
              "  </thead>\n",
              "  <tbody>\n",
              "    <tr>\n",
              "      <th>0</th>\n",
              "      <td>Wiederaufnahme der Sitzungsperiode\\n</td>\n",
              "      <td>Resumption of the session\\n</td>\n",
              "    </tr>\n",
              "    <tr>\n",
              "      <th>1</th>\n",
              "      <td>Ich erkläre die am Freitag, dem 17. Dezember unterbrochene Sitzungsperiode des Europäischen Parlaments für wiederaufgenommen, wünsche Ihnen nochmals alles Gute zum Jahreswechsel und hoffe, daß Sie schöne Ferien hatten.\\n</td>\n",
              "      <td>I declare resumed the session of the European Parliament adjourned on Friday 17 December 1999, and I would like once again to wish you a happy new year in the hope that you enjoyed a pleasant festive period.\\n</td>\n",
              "    </tr>\n",
              "    <tr>\n",
              "      <th>2</th>\n",
              "      <td>Wie Sie feststellen konnten, ist der gefürchtete \"Millenium-Bug \" nicht eingetreten. Doch sind Bürger einiger unserer Mitgliedstaaten Opfer von schrecklichen Naturkatastrophen geworden.\\n</td>\n",
              "      <td>Although, as you will have seen, the dreaded 'millennium bug' failed to materialise, still the people in a number of countries suffered a series of natural disasters that truly were dreadful.\\n</td>\n",
              "    </tr>\n",
              "    <tr>\n",
              "      <th>3</th>\n",
              "      <td>Im Parlament besteht der Wunsch nach einer Aussprache im Verlauf dieser Sitzungsperiode in den nächsten Tagen.\\n</td>\n",
              "      <td>You have requested a debate on this subject in the course of the next few days, during this part-session.\\n</td>\n",
              "    </tr>\n",
              "    <tr>\n",
              "      <th>4</th>\n",
              "      <td>Heute möchte ich Sie bitten - das ist auch der Wunsch einiger Kolleginnen und Kollegen -, allen Opfern der Stürme, insbesondere in den verschiedenen Ländern der Europäischen Union, in einer Schweigeminute zu gedenken.\\n</td>\n",
              "      <td>In the meantime, I should like to observe a minute' s silence, as a number of Members have requested, on behalf of all the victims concerned, particularly those of the terrible storms, in the various countries of the European Union.\\n</td>\n",
              "    </tr>\n",
              "    <tr>\n",
              "      <th>5</th>\n",
              "      <td>Ich bitte Sie, sich zu einer Schweigeminute zu erheben.\\n</td>\n",
              "      <td>Please rise, then, for this minute' s silence.\\n</td>\n",
              "    </tr>\n",
              "    <tr>\n",
              "      <th>6</th>\n",
              "      <td>(Das Parlament erhebt sich zu einer Schweigeminute.)\\n</td>\n",
              "      <td>(The House rose and observed a minute' s silence)\\n</td>\n",
              "    </tr>\n",
              "    <tr>\n",
              "      <th>7</th>\n",
              "      <td>Frau Präsidentin, zur Geschäftsordnung.\\n</td>\n",
              "      <td>Madam President, on a point of order.\\n</td>\n",
              "    </tr>\n",
              "    <tr>\n",
              "      <th>8</th>\n",
              "      <td>Wie Sie sicher aus der Presse und dem Fernsehen wissen, gab es in Sri Lanka mehrere Bombenexplosionen mit zahlreichen Toten.\\n</td>\n",
              "      <td>You will be aware from the press and television that there have been a number of bomb explosions and killings in Sri Lanka.\\n</td>\n",
              "    </tr>\n",
              "    <tr>\n",
              "      <th>9</th>\n",
              "      <td>Zu den Attentatsopfern, die es in jüngster Zeit in Sri Lanka zu beklagen gab, zählt auch Herr Kumar Ponnambalam, der dem Europäischen Parlament erst vor wenigen Monaten einen Besuch abgestattet hatte.\\n</td>\n",
              "      <td>One of the people assassinated very recently in Sri Lanka was Mr Kumar Ponnambalam, who had visited the European Parliament just a few months ago.\\n</td>\n",
              "    </tr>\n",
              "    <tr>\n",
              "      <th>10</th>\n",
              "      <td>Wäre es angemessen, wenn Sie, Frau Präsidentin, der Präsidentin von Sri Lanka in einem Schreiben das Bedauern des Parlaments zum gewaltsamen Tod von Herrn Ponnambalam und anderen Bürgern von Sri Lanka übermitteln und sie auffordern würden, alles in ihrem Kräften stehende zu tun, um nach einer friedlichen Lösung dieser sehr schwierigen Situation zu suchen?\\n</td>\n",
              "      <td>Would it be appropriate for you, Madam President, to write a letter to the Sri Lankan President expressing Parliament's regret at his and the other violent deaths in Sri Lanka and urging her to do everything she possibly can to seek a peaceful reconciliation to a very difficult situation?\\n</td>\n",
              "    </tr>\n",
              "    <tr>\n",
              "      <th>11</th>\n",
              "      <td>Ja, Herr Evans, ich denke, daß eine derartige Initiative durchaus angebracht ist.\\n</td>\n",
              "      <td>Yes, Mr Evans, I feel an initiative of the type you have just suggested would be entirely appropriate.\\n</td>\n",
              "    </tr>\n",
              "    <tr>\n",
              "      <th>12</th>\n",
              "      <td>Wenn das Haus damit einverstanden ist, werde ich dem Vorschlag von Herrn Evans folgen.\\n</td>\n",
              "      <td>If the House agrees, I shall do as Mr Evans has suggested.\\n</td>\n",
              "    </tr>\n",
              "    <tr>\n",
              "      <th>13</th>\n",
              "      <td>Frau Präsidentin, zur Geschäftsordnung.\\n</td>\n",
              "      <td>Madam President, on a point of order.\\n</td>\n",
              "    </tr>\n",
              "    <tr>\n",
              "      <th>14</th>\n",
              "      <td>Könnten Sie mir eine Auskunft zu Artikel 143 im Zusammenhang mit der Unzulässigkeit geben?\\n</td>\n",
              "      <td>I would like your advice about Rule 143 concerning inadmissibility.\\n</td>\n",
              "    </tr>\n",
              "    <tr>\n",
              "      <th>15</th>\n",
              "      <td>Meine Frage betrifft eine Angelegenheit, die am Donnerstag zur Sprache kommen wird und auf die ich dann erneut verweisen werde.\\n</td>\n",
              "      <td>My question relates to something that will come up on Thursday and which I will then raise again.\\n</td>\n",
              "    </tr>\n",
              "    <tr>\n",
              "      <th>16</th>\n",
              "      <td>Das Parlament wird sich am Donnerstag mit dem Cunha-Bericht über mehrjährige Ausrichtungsprogramme befassen, der in Absatz 6 vorschlägt, daß Länder, die ihr Soll zur Flottenverkleinerung nicht erfüllen, jährlich mit einer Art Quotenstrafe belegt werden sollen.\\n</td>\n",
              "      <td>The Cunha report on multiannual guidance programmes comes before Parliament on Thursday and contains a proposal in paragraph 6 that a form of quota penalties should be introduced for countries which fail to meet their fleet reduction targets annually.\\n</td>\n",
              "    </tr>\n",
              "    <tr>\n",
              "      <th>17</th>\n",
              "      <td>Und zwar sollen derartige Strafen trotz des Grundsatzes der relativen Stabilität verhängt werden.\\n</td>\n",
              "      <td>It says that this should be done despite the principle of relative stability.\\n</td>\n",
              "    </tr>\n",
              "    <tr>\n",
              "      <th>18</th>\n",
              "      <td>Ich meine, daß der Grundsatz der relativen Stabilität einen elementaren Rechtsgrundsatz der gemeinsamen Fischereipolitik darstellt und ein Vorschlag, diesen zu unterlaufen, rechtlich unzulässig wäre.\\n</td>\n",
              "      <td>I believe that the principle of relative stability is a fundamental legal principle of the common fisheries policy and a proposal to subvert it would be legally inadmissible.\\n</td>\n",
              "    </tr>\n",
              "    <tr>\n",
              "      <th>19</th>\n",
              "      <td>Ich möchte wissen, ob es möglich ist, einen Einwand gegen ein Dokument zu erheben, bei dem es sich lediglich um einen Bericht und keinen Legislativvorschlag handelt, und ob ich befugt bin, dies am Donnerstag zu tun.\\n</td>\n",
              "      <td>I want to know whether one can raise an objection of that kind to what is merely a report, not a legislative proposal, and whether that is something I can competently do on Thursday.\\n</td>\n",
              "    </tr>\n",
              "  </tbody>\n",
              "</table>\n",
              "</div>\n",
              "    <div class=\"colab-df-buttons\">\n",
              "\n",
              "  <div class=\"colab-df-container\">\n",
              "    <button class=\"colab-df-convert\" onclick=\"convertToInteractive('df-139a5793-b995-48a0-9f3b-c7fcf53ce5ee')\"\n",
              "            title=\"Convert this dataframe to an interactive table.\"\n",
              "            style=\"display:none;\">\n",
              "\n",
              "  <svg xmlns=\"http://www.w3.org/2000/svg\" height=\"24px\" viewBox=\"0 -960 960 960\">\n",
              "    <path d=\"M120-120v-720h720v720H120Zm60-500h600v-160H180v160Zm220 220h160v-160H400v160Zm0 220h160v-160H400v160ZM180-400h160v-160H180v160Zm440 0h160v-160H620v160ZM180-180h160v-160H180v160Zm440 0h160v-160H620v160Z\"/>\n",
              "  </svg>\n",
              "    </button>\n",
              "\n",
              "  <style>\n",
              "    .colab-df-container {\n",
              "      display:flex;\n",
              "      gap: 12px;\n",
              "    }\n",
              "\n",
              "    .colab-df-convert {\n",
              "      background-color: #E8F0FE;\n",
              "      border: none;\n",
              "      border-radius: 50%;\n",
              "      cursor: pointer;\n",
              "      display: none;\n",
              "      fill: #1967D2;\n",
              "      height: 32px;\n",
              "      padding: 0 0 0 0;\n",
              "      width: 32px;\n",
              "    }\n",
              "\n",
              "    .colab-df-convert:hover {\n",
              "      background-color: #E2EBFA;\n",
              "      box-shadow: 0px 1px 2px rgba(60, 64, 67, 0.3), 0px 1px 3px 1px rgba(60, 64, 67, 0.15);\n",
              "      fill: #174EA6;\n",
              "    }\n",
              "\n",
              "    .colab-df-buttons div {\n",
              "      margin-bottom: 4px;\n",
              "    }\n",
              "\n",
              "    [theme=dark] .colab-df-convert {\n",
              "      background-color: #3B4455;\n",
              "      fill: #D2E3FC;\n",
              "    }\n",
              "\n",
              "    [theme=dark] .colab-df-convert:hover {\n",
              "      background-color: #434B5C;\n",
              "      box-shadow: 0px 1px 3px 1px rgba(0, 0, 0, 0.15);\n",
              "      filter: drop-shadow(0px 1px 2px rgba(0, 0, 0, 0.3));\n",
              "      fill: #FFFFFF;\n",
              "    }\n",
              "  </style>\n",
              "\n",
              "    <script>\n",
              "      const buttonEl =\n",
              "        document.querySelector('#df-139a5793-b995-48a0-9f3b-c7fcf53ce5ee button.colab-df-convert');\n",
              "      buttonEl.style.display =\n",
              "        google.colab.kernel.accessAllowed ? 'block' : 'none';\n",
              "\n",
              "      async function convertToInteractive(key) {\n",
              "        const element = document.querySelector('#df-139a5793-b995-48a0-9f3b-c7fcf53ce5ee');\n",
              "        const dataTable =\n",
              "          await google.colab.kernel.invokeFunction('convertToInteractive',\n",
              "                                                    [key], {});\n",
              "        if (!dataTable) return;\n",
              "\n",
              "        const docLinkHtml = 'Like what you see? Visit the ' +\n",
              "          '<a target=\"_blank\" href=https://colab.research.google.com/notebooks/data_table.ipynb>data table notebook</a>'\n",
              "          + ' to learn more about interactive tables.';\n",
              "        element.innerHTML = '';\n",
              "        dataTable['output_type'] = 'display_data';\n",
              "        await google.colab.output.renderOutput(dataTable, element);\n",
              "        const docLink = document.createElement('div');\n",
              "        docLink.innerHTML = docLinkHtml;\n",
              "        element.appendChild(docLink);\n",
              "      }\n",
              "    </script>\n",
              "  </div>\n",
              "\n",
              "\n",
              "<div id=\"df-60b621e1-1d27-43aa-b406-ca9f2e5096c4\">\n",
              "  <button class=\"colab-df-quickchart\" onclick=\"quickchart('df-60b621e1-1d27-43aa-b406-ca9f2e5096c4')\"\n",
              "            title=\"Suggest charts\"\n",
              "            style=\"display:none;\">\n",
              "\n",
              "<svg xmlns=\"http://www.w3.org/2000/svg\" height=\"24px\"viewBox=\"0 0 24 24\"\n",
              "     width=\"24px\">\n",
              "    <g>\n",
              "        <path d=\"M19 3H5c-1.1 0-2 .9-2 2v14c0 1.1.9 2 2 2h14c1.1 0 2-.9 2-2V5c0-1.1-.9-2-2-2zM9 17H7v-7h2v7zm4 0h-2V7h2v10zm4 0h-2v-4h2v4z\"/>\n",
              "    </g>\n",
              "</svg>\n",
              "  </button>\n",
              "\n",
              "<style>\n",
              "  .colab-df-quickchart {\n",
              "      --bg-color: #E8F0FE;\n",
              "      --fill-color: #1967D2;\n",
              "      --hover-bg-color: #E2EBFA;\n",
              "      --hover-fill-color: #174EA6;\n",
              "      --disabled-fill-color: #AAA;\n",
              "      --disabled-bg-color: #DDD;\n",
              "  }\n",
              "\n",
              "  [theme=dark] .colab-df-quickchart {\n",
              "      --bg-color: #3B4455;\n",
              "      --fill-color: #D2E3FC;\n",
              "      --hover-bg-color: #434B5C;\n",
              "      --hover-fill-color: #FFFFFF;\n",
              "      --disabled-bg-color: #3B4455;\n",
              "      --disabled-fill-color: #666;\n",
              "  }\n",
              "\n",
              "  .colab-df-quickchart {\n",
              "    background-color: var(--bg-color);\n",
              "    border: none;\n",
              "    border-radius: 50%;\n",
              "    cursor: pointer;\n",
              "    display: none;\n",
              "    fill: var(--fill-color);\n",
              "    height: 32px;\n",
              "    padding: 0;\n",
              "    width: 32px;\n",
              "  }\n",
              "\n",
              "  .colab-df-quickchart:hover {\n",
              "    background-color: var(--hover-bg-color);\n",
              "    box-shadow: 0 1px 2px rgba(60, 64, 67, 0.3), 0 1px 3px 1px rgba(60, 64, 67, 0.15);\n",
              "    fill: var(--button-hover-fill-color);\n",
              "  }\n",
              "\n",
              "  .colab-df-quickchart-complete:disabled,\n",
              "  .colab-df-quickchart-complete:disabled:hover {\n",
              "    background-color: var(--disabled-bg-color);\n",
              "    fill: var(--disabled-fill-color);\n",
              "    box-shadow: none;\n",
              "  }\n",
              "\n",
              "  .colab-df-spinner {\n",
              "    border: 2px solid var(--fill-color);\n",
              "    border-color: transparent;\n",
              "    border-bottom-color: var(--fill-color);\n",
              "    animation:\n",
              "      spin 1s steps(1) infinite;\n",
              "  }\n",
              "\n",
              "  @keyframes spin {\n",
              "    0% {\n",
              "      border-color: transparent;\n",
              "      border-bottom-color: var(--fill-color);\n",
              "      border-left-color: var(--fill-color);\n",
              "    }\n",
              "    20% {\n",
              "      border-color: transparent;\n",
              "      border-left-color: var(--fill-color);\n",
              "      border-top-color: var(--fill-color);\n",
              "    }\n",
              "    30% {\n",
              "      border-color: transparent;\n",
              "      border-left-color: var(--fill-color);\n",
              "      border-top-color: var(--fill-color);\n",
              "      border-right-color: var(--fill-color);\n",
              "    }\n",
              "    40% {\n",
              "      border-color: transparent;\n",
              "      border-right-color: var(--fill-color);\n",
              "      border-top-color: var(--fill-color);\n",
              "    }\n",
              "    60% {\n",
              "      border-color: transparent;\n",
              "      border-right-color: var(--fill-color);\n",
              "    }\n",
              "    80% {\n",
              "      border-color: transparent;\n",
              "      border-right-color: var(--fill-color);\n",
              "      border-bottom-color: var(--fill-color);\n",
              "    }\n",
              "    90% {\n",
              "      border-color: transparent;\n",
              "      border-bottom-color: var(--fill-color);\n",
              "    }\n",
              "  }\n",
              "</style>\n",
              "\n",
              "  <script>\n",
              "    async function quickchart(key) {\n",
              "      const quickchartButtonEl =\n",
              "        document.querySelector('#' + key + ' button');\n",
              "      quickchartButtonEl.disabled = true;  // To prevent multiple clicks.\n",
              "      quickchartButtonEl.classList.add('colab-df-spinner');\n",
              "      try {\n",
              "        const charts = await google.colab.kernel.invokeFunction(\n",
              "            'suggestCharts', [key], {});\n",
              "      } catch (error) {\n",
              "        console.error('Error during call to suggestCharts:', error);\n",
              "      }\n",
              "      quickchartButtonEl.classList.remove('colab-df-spinner');\n",
              "      quickchartButtonEl.classList.add('colab-df-quickchart-complete');\n",
              "    }\n",
              "    (() => {\n",
              "      let quickchartButtonEl =\n",
              "        document.querySelector('#df-60b621e1-1d27-43aa-b406-ca9f2e5096c4 button');\n",
              "      quickchartButtonEl.style.display =\n",
              "        google.colab.kernel.accessAllowed ? 'block' : 'none';\n",
              "    })();\n",
              "  </script>\n",
              "</div>\n",
              "\n",
              "    </div>\n",
              "  </div>\n"
            ],
            "application/vnd.google.colaboratory.intrinsic+json": {
              "type": "dataframe",
              "variable_name": "df"
            }
          },
          "metadata": {},
          "execution_count": 9
        }
      ]
    },
    {
      "cell_type": "code",
      "source": [
        "# Taking 5000 from each dataset to proceed with machine translation\n",
        "europarl_f = europarl_f.sample(n=5000, random_state=42)\n",
        "commoncrawl_f = commoncrawl_f.sample(n=5000, random_state=42)\n",
        "# Merge the datasets\n",
        "merged_df = pd.concat([europarl_f, commoncrawl_f], ignore_index=True)"
      ],
      "metadata": {
        "id": "D6AsvksHOewV"
      },
      "execution_count": 10,
      "outputs": []
    },
    {
      "cell_type": "code",
      "source": [
        "english_sentences = merged_df[\"English\"].tolist()\n",
        "german_sentences = merged_df[\"German\"].tolist()\n",
        "\n",
        "# Calculate sentence lengths\n",
        "english_lengths = [len(sentence.split()) for sentence in english_sentences]\n",
        "german_lengths = [len(sentence.split()) for sentence in german_sentences]\n",
        "\n",
        "# Create a histogram plot with two subplots\n",
        "plt.figure(figsize=(12, 6))  # Adjust figure size as needed\n",
        "\n",
        "# Side-by-side box plots for English and German lengths\n",
        "plt.subplot(1, 2, 1)\n",
        "plt.boxplot(english_lengths, vert=False, patch_artist=True, labels=['English'])\n",
        "plt.xlabel(\"Sentence Length (Words)\")\n",
        "plt.title(\"Box Plot of English Sentence Lengths\")\n",
        "plt.grid(True)\n",
        "\n",
        "plt.subplot(1, 2, 2)\n",
        "plt.boxplot(german_lengths, vert=False, patch_artist=True, labels=['German'])\n",
        "plt.xlabel(\"Sentence Length (Words)\")\n",
        "plt.title(\"Box Plot of German Sentence Lengths\")\n",
        "plt.grid(True)\n",
        "\n",
        "plt.tight_layout()\n",
        "plt.show()"
      ],
      "metadata": {
        "colab": {
          "base_uri": "https://localhost:8080/",
          "height": 607
        },
        "id": "6t5N8A--OiKt",
        "outputId": "bd1e85e1-71de-46f5-8e4b-45d7e83857f2"
      },
      "execution_count": 11,
      "outputs": [
        {
          "output_type": "display_data",
          "data": {
            "text/plain": [
              "<Figure size 1200x600 with 2 Axes>"
            ],
            "image/png": "[encoded data removed]"
          },
          "metadata": {}
        }
      ]
    },
    {
      "cell_type": "code",
      "source": [
        "def cleanse_dataset(dataset):\n",
        "    dataset = dataset[(dataset['German'].str.strip() != '') & (dataset['English'].str.strip() != '')]\n",
        "    dataset.loc[:, 'German'] = dataset['German'].str.strip()\n",
        "    dataset.loc[:, 'English'] = dataset['English'].str.strip()\n",
        "    dataset = dataset.drop_duplicates()\n",
        "    dataset.loc[:, 'German'] = dataset['German'].str.replace(r'[^a-zA-ZäöüßÄÖÜéèêàâçÇ\\s]', '', regex=True)\n",
        "    dataset.loc[:, 'English'] = dataset['English'].str.replace(r'[^a-zA-Z\\s]', '', regex=True)\n",
        "    dataset.loc[:, 'German'] = dataset['German'].str.lower()\n",
        "    dataset.loc[:, 'English'] = dataset['English'].str.lower()\n",
        "    return dataset"
      ],
      "metadata": {
        "id": "x7YIqJvSOqat"
      },
      "execution_count": 12,
      "outputs": []
    },
    {
      "cell_type": "code",
      "source": [
        "cleanse_df = cleanse_dataset(merged_df)\n",
        "cleanse_df.shape"
      ],
      "metadata": {
        "colab": {
          "base_uri": "https://localhost:8080/"
        },
        "id": "mlC3cePeOuTl",
        "outputId": "40f83bdb-1594-41f1-c3aa-cc05b434065f"
      },
      "execution_count": 13,
      "outputs": [
        {
          "output_type": "execute_result",
          "data": {
            "text/plain": [
              "(9956, 2)"
            ]
          },
          "metadata": {},
          "execution_count": 13
        }
      ]
    },
    {
      "cell_type": "code",
      "source": [
        "def rem_punctuation(text):\n",
        "    translator = str.maketrans('', '', string.punctuation)\n",
        "    return text.translate(translator)"
      ],
      "metadata": {
        "id": "T_HmxdYNOwMd"
      },
      "execution_count": 14,
      "outputs": []
    },
    {
      "cell_type": "code",
      "source": [
        "cleanse_df['German'] = cleanse_df['German'].apply(rem_punctuation)\n",
        "cleanse_df['English'] = cleanse_df['English'].apply(rem_punctuation)"
      ],
      "metadata": {
        "id": "tOCbtcp4OzEN"
      },
      "execution_count": 15,
      "outputs": []
    },
    {
      "cell_type": "code",
      "source": [
        "cleanse_df.head(5)"
      ],
      "metadata": {
        "colab": {
          "base_uri": "https://localhost:8080/",
          "height": 276
        },
        "id": "RzQbjSVmO0lk",
        "outputId": "f9e28d15-4d01-4857-f591-110872458f18"
      },
      "execution_count": 16,
      "outputs": [
        {
          "output_type": "execute_result",
          "data": {
            "text/plain": [
              "                                                                                                                                                                                                                                                                                                                                                   German  \\\n",
              "0                                                                                                                                                                                                                                                                                           falls es legal ist dann brauchen wir keine debatte zur führen   \n",
              "1                                                                                                                                                                                                                                                                                                                  weitere makrofinanzhilfe für georgien    \n",
              "2                                                                                            diese forderung verlief im sande zum einen weil das abkommen im juli  ausläuft und zum anderen weil wir der ansicht waren dass ein so sensibles thema wie die dauer der vorratsspeicherung erforderlichenfalls gegenstand späterer verhandlungen sein könnte   \n",
              "3                                                                                                                                                                             so funktioniert der rechtsstaat und lord bethell kann sicher sein dass das dänische rechtswesen entsprechend den prinzipien funktioniert die wir in dieser union hochhalten   \n",
              "4  wir sind daher durch die weigerung des rates die grundrechtecharta rechtsverbindlich zu machen in eine absurde situation geraten einerseits werden die grundrechte als zwingende konsequenz der anerkennung der würde des menschen betrachtet aber andererseits wird es den menschen verweigert sie tatsächlich als ihr recht geltend machen zu können   \n",
              "\n",
              "                                                                                                                                                                                                                                                                                                                           English  \n",
              "0                                                                                                                                                                                                                                                                                           if it is legal we do not need a debate  \n",
              "1                                                                                                                                                                                                                                                                                   further macrofinancial assistance for georgia   \n",
              "2                                                                              the request came to nothing firstly because the agreement will come to an end in july  and secondly because we have taken the view that a subject as sensitive as the period of data retention could if necessary be a topic for later negotiations  \n",
              "3                                                                                                                                                  that is how the judicial system works and lord bethell can be certain that the danish legal system functions in accordance with all the principles that we uphold in this union  \n",
              "4  the councils refusal to make the charter of fundamental rights binding in law therefore puts us in an absurd situation in which on the one hand fundamental rights are regarded as an inevitable consequence of the recognition of human dignity whilst on the other hand people are denied the chance to exercise their rights  "
            ],
            "text/html": [
              "\n",
              "  <div id=\"df-20234692-f7fb-4838-82ed-fcae6458dad2\" class=\"colab-df-container\">\n",
              "    <div>\n",
              "<style scoped>\n",
              "    .dataframe tbody tr th:only-of-type {\n",
              "        vertical-align: middle;\n",
              "    }\n",
              "\n",
              "    .dataframe tbody tr th {\n",
              "        vertical-align: top;\n",
              "    }\n",
              "\n",
              "    .dataframe thead th {\n",
              "        text-align: right;\n",
              "    }\n",
              "</style>\n",
              "<table border=\"1\" class=\"dataframe\">\n",
              "  <thead>\n",
              "    <tr style=\"text-align: right;\">\n",
              "      <th></th>\n",
              "      <th>German</th>\n",
              "      <th>English</th>\n",
              "    </tr>\n",
              "  </thead>\n",
              "  <tbody>\n",
              "    <tr>\n",
              "      <th>0</th>\n",
              "      <td>falls es legal ist dann brauchen wir keine debatte zur führen</td>\n",
              "      <td>if it is legal we do not need a debate</td>\n",
              "    </tr>\n",
              "    <tr>\n",
              "      <th>1</th>\n",
              "      <td>weitere makrofinanzhilfe für georgien</td>\n",
              "      <td>further macrofinancial assistance for georgia</td>\n",
              "    </tr>\n",
              "    <tr>\n",
              "      <th>2</th>\n",
              "      <td>diese forderung verlief im sande zum einen weil das abkommen im juli  ausläuft und zum anderen weil wir der ansicht waren dass ein so sensibles thema wie die dauer der vorratsspeicherung erforderlichenfalls gegenstand späterer verhandlungen sein könnte</td>\n",
              "      <td>the request came to nothing firstly because the agreement will come to an end in july  and secondly because we have taken the view that a subject as sensitive as the period of data retention could if necessary be a topic for later negotiations</td>\n",
              "    </tr>\n",
              "    <tr>\n",
              "      <th>3</th>\n",
              "      <td>so funktioniert der rechtsstaat und lord bethell kann sicher sein dass das dänische rechtswesen entsprechend den prinzipien funktioniert die wir in dieser union hochhalten</td>\n",
              "      <td>that is how the judicial system works and lord bethell can be certain that the danish legal system functions in accordance with all the principles that we uphold in this union</td>\n",
              "    </tr>\n",
              "    <tr>\n",
              "      <th>4</th>\n",
              "      <td>wir sind daher durch die weigerung des rates die grundrechtecharta rechtsverbindlich zu machen in eine absurde situation geraten einerseits werden die grundrechte als zwingende konsequenz der anerkennung der würde des menschen betrachtet aber andererseits wird es den menschen verweigert sie tatsächlich als ihr recht geltend machen zu können</td>\n",
              "      <td>the councils refusal to make the charter of fundamental rights binding in law therefore puts us in an absurd situation in which on the one hand fundamental rights are regarded as an inevitable consequence of the recognition of human dignity whilst on the other hand people are denied the chance to exercise their rights</td>\n",
              "    </tr>\n",
              "  </tbody>\n",
              "</table>\n",
              "</div>\n",
              "    <div class=\"colab-df-buttons\">\n",
              "\n",
              "  <div class=\"colab-df-container\">\n",
              "    <button class=\"colab-df-convert\" onclick=\"convertToInteractive('df-20234692-f7fb-4838-82ed-fcae6458dad2')\"\n",
              "            title=\"Convert this dataframe to an interactive table.\"\n",
              "            style=\"display:none;\">\n",
              "\n",
              "  <svg xmlns=\"http://www.w3.org/2000/svg\" height=\"24px\" viewBox=\"0 -960 960 960\">\n",
              "    <path d=\"M120-120v-720h720v720H120Zm60-500h600v-160H180v160Zm220 220h160v-160H400v160Zm0 220h160v-160H400v160ZM180-400h160v-160H180v160Zm440 0h160v-160H620v160ZM180-180h160v-160H180v160Zm440 0h160v-160H620v160Z\"/>\n",
              "  </svg>\n",
              "    </button>\n",
              "\n",
              "  <style>\n",
              "    .colab-df-container {\n",
              "      display:flex;\n",
              "      gap: 12px;\n",
              "    }\n",
              "\n",
              "    .colab-df-convert {\n",
              "      background-color: #E8F0FE;\n",
              "      border: none;\n",
              "      border-radius: 50%;\n",
              "      cursor: pointer;\n",
              "      display: none;\n",
              "      fill: #1967D2;\n",
              "      height: 32px;\n",
              "      padding: 0 0 0 0;\n",
              "      width: 32px;\n",
              "    }\n",
              "\n",
              "    .colab-df-convert:hover {\n",
              "      background-color: #E2EBFA;\n",
              "      box-shadow: 0px 1px 2px rgba(60, 64, 67, 0.3), 0px 1px 3px 1px rgba(60, 64, 67, 0.15);\n",
              "      fill: #174EA6;\n",
              "    }\n",
              "\n",
              "    .colab-df-buttons div {\n",
              "      margin-bottom: 4px;\n",
              "    }\n",
              "\n",
              "    [theme=dark] .colab-df-convert {\n",
              "      background-color: #3B4455;\n",
              "      fill: #D2E3FC;\n",
              "    }\n",
              "\n",
              "    [theme=dark] .colab-df-convert:hover {\n",
              "      background-color: #434B5C;\n",
              "      box-shadow: 0px 1px 3px 1px rgba(0, 0, 0, 0.15);\n",
              "      filter: drop-shadow(0px 1px 2px rgba(0, 0, 0, 0.3));\n",
              "      fill: #FFFFFF;\n",
              "    }\n",
              "  </style>\n",
              "\n",
              "    <script>\n",
              "      const buttonEl =\n",
              "        document.querySelector('#df-20234692-f7fb-4838-82ed-fcae6458dad2 button.colab-df-convert');\n",
              "      buttonEl.style.display =\n",
              "        google.colab.kernel.accessAllowed ? 'block' : 'none';\n",
              "\n",
              "      async function convertToInteractive(key) {\n",
              "        const element = document.querySelector('#df-20234692-f7fb-4838-82ed-fcae6458dad2');\n",
              "        const dataTable =\n",
              "          await google.colab.kernel.invokeFunction('convertToInteractive',\n",
              "                                                    [key], {});\n",
              "        if (!dataTable) return;\n",
              "\n",
              "        const docLinkHtml = 'Like what you see? Visit the ' +\n",
              "          '<a target=\"_blank\" href=https://colab.research.google.com/notebooks/data_table.ipynb>data table notebook</a>'\n",
              "          + ' to learn more about interactive tables.';\n",
              "        element.innerHTML = '';\n",
              "        dataTable['output_type'] = 'display_data';\n",
              "        await google.colab.output.renderOutput(dataTable, element);\n",
              "        const docLink = document.createElement('div');\n",
              "        docLink.innerHTML = docLinkHtml;\n",
              "        element.appendChild(docLink);\n",
              "      }\n",
              "    </script>\n",
              "  </div>\n",
              "\n",
              "\n",
              "<div id=\"df-e90b82a7-3de9-45c4-8900-f727e304a06f\">\n",
              "  <button class=\"colab-df-quickchart\" onclick=\"quickchart('df-e90b82a7-3de9-45c4-8900-f727e304a06f')\"\n",
              "            title=\"Suggest charts\"\n",
              "            style=\"display:none;\">\n",
              "\n",
              "<svg xmlns=\"http://www.w3.org/2000/svg\" height=\"24px\"viewBox=\"0 0 24 24\"\n",
              "     width=\"24px\">\n",
              "    <g>\n",
              "        <path d=\"M19 3H5c-1.1 0-2 .9-2 2v14c0 1.1.9 2 2 2h14c1.1 0 2-.9 2-2V5c0-1.1-.9-2-2-2zM9 17H7v-7h2v7zm4 0h-2V7h2v10zm4 0h-2v-4h2v4z\"/>\n",
              "    </g>\n",
              "</svg>\n",
              "  </button>\n",
              "\n",
              "<style>\n",
              "  .colab-df-quickchart {\n",
              "      --bg-color: #E8F0FE;\n",
              "      --fill-color: #1967D2;\n",
              "      --hover-bg-color: #E2EBFA;\n",
              "      --hover-fill-color: #174EA6;\n",
              "      --disabled-fill-color: #AAA;\n",
              "      --disabled-bg-color: #DDD;\n",
              "  }\n",
              "\n",
              "  [theme=dark] .colab-df-quickchart {\n",
              "      --bg-color: #3B4455;\n",
              "      --fill-color: #D2E3FC;\n",
              "      --hover-bg-color: #434B5C;\n",
              "      --hover-fill-color: #FFFFFF;\n",
              "      --disabled-bg-color: #3B4455;\n",
              "      --disabled-fill-color: #666;\n",
              "  }\n",
              "\n",
              "  .colab-df-quickchart {\n",
              "    background-color: var(--bg-color);\n",
              "    border: none;\n",
              "    border-radius: 50%;\n",
              "    cursor: pointer;\n",
              "    display: none;\n",
              "    fill: var(--fill-color);\n",
              "    height: 32px;\n",
              "    padding: 0;\n",
              "    width: 32px;\n",
              "  }\n",
              "\n",
              "  .colab-df-quickchart:hover {\n",
              "    background-color: var(--hover-bg-color);\n",
              "    box-shadow: 0 1px 2px rgba(60, 64, 67, 0.3), 0 1px 3px 1px rgba(60, 64, 67, 0.15);\n",
              "    fill: var(--button-hover-fill-color);\n",
              "  }\n",
              "\n",
              "  .colab-df-quickchart-complete:disabled,\n",
              "  .colab-df-quickchart-complete:disabled:hover {\n",
              "    background-color: var(--disabled-bg-color);\n",
              "    fill: var(--disabled-fill-color);\n",
              "    box-shadow: none;\n",
              "  }\n",
              "\n",
              "  .colab-df-spinner {\n",
              "    border: 2px solid var(--fill-color);\n",
              "    border-color: transparent;\n",
              "    border-bottom-color: var(--fill-color);\n",
              "    animation:\n",
              "      spin 1s steps(1) infinite;\n",
              "  }\n",
              "\n",
              "  @keyframes spin {\n",
              "    0% {\n",
              "      border-color: transparent;\n",
              "      border-bottom-color: var(--fill-color);\n",
              "      border-left-color: var(--fill-color);\n",
              "    }\n",
              "    20% {\n",
              "      border-color: transparent;\n",
              "      border-left-color: var(--fill-color);\n",
              "      border-top-color: var(--fill-color);\n",
              "    }\n",
              "    30% {\n",
              "      border-color: transparent;\n",
              "      border-left-color: var(--fill-color);\n",
              "      border-top-color: var(--fill-color);\n",
              "      border-right-color: var(--fill-color);\n",
              "    }\n",
              "    40% {\n",
              "      border-color: transparent;\n",
              "      border-right-color: var(--fill-color);\n",
              "      border-top-color: var(--fill-color);\n",
              "    }\n",
              "    60% {\n",
              "      border-color: transparent;\n",
              "      border-right-color: var(--fill-color);\n",
              "    }\n",
              "    80% {\n",
              "      border-color: transparent;\n",
              "      border-right-color: var(--fill-color);\n",
              "      border-bottom-color: var(--fill-color);\n",
              "    }\n",
              "    90% {\n",
              "      border-color: transparent;\n",
              "      border-bottom-color: var(--fill-color);\n",
              "    }\n",
              "  }\n",
              "</style>\n",
              "\n",
              "  <script>\n",
              "    async function quickchart(key) {\n",
              "      const quickchartButtonEl =\n",
              "        document.querySelector('#' + key + ' button');\n",
              "      quickchartButtonEl.disabled = true;  // To prevent multiple clicks.\n",
              "      quickchartButtonEl.classList.add('colab-df-spinner');\n",
              "      try {\n",
              "        const charts = await google.colab.kernel.invokeFunction(\n",
              "            'suggestCharts', [key], {});\n",
              "      } catch (error) {\n",
              "        console.error('Error during call to suggestCharts:', error);\n",
              "      }\n",
              "      quickchartButtonEl.classList.remove('colab-df-spinner');\n",
              "      quickchartButtonEl.classList.add('colab-df-quickchart-complete');\n",
              "    }\n",
              "    (() => {\n",
              "      let quickchartButtonEl =\n",
              "        document.querySelector('#df-e90b82a7-3de9-45c4-8900-f727e304a06f button');\n",
              "      quickchartButtonEl.style.display =\n",
              "        google.colab.kernel.accessAllowed ? 'block' : 'none';\n",
              "    })();\n",
              "  </script>\n",
              "</div>\n",
              "\n",
              "    </div>\n",
              "  </div>\n"
            ],
            "application/vnd.google.colaboratory.intrinsic+json": {
              "type": "dataframe",
              "variable_name": "cleanse_df",
              "summary": "{\n  \"name\": \"cleanse_df\",\n  \"rows\": 9956,\n  \"fields\": [\n    {\n      \"column\": \"German\",\n      \"properties\": {\n        \"dtype\": \"string\",\n        \"num_unique_values\": 9932,\n        \"samples\": [\n          \"so beginnt hemingways kurzgeschichte ein gebirgsidyll  die galt\\u00fcr und dem paznaun einen platz in der weltliteratur gab\",\n          \"wohnung dubai dubai marina dubai marina dr  sie haben gesagt\",\n          \"herr pr\\u00e4sident herr kommissar meine damen und herren erlauben sie mir an allererster stelle die beachtenswerte arbeit unseres berichterstatters wolf klinz zu w\\u00fcrdigen dem es gelungen ist eine breite zustimmung innerhalb des ausschusses f\\u00fcr wirtschaft und w\\u00e4hrung zu erhalten und einen vollkommen zufrieden stellenden kompromiss mit der pr\\u00e4sidentschaft zu verhandeln\"\n        ],\n        \"semantic_type\": \"\",\n        \"description\": \"\"\n      }\n    },\n    {\n      \"column\": \"English\",\n      \"properties\": {\n        \"dtype\": \"string\",\n        \"num_unique_values\": 9928,\n        \"samples\": [\n          \"i can only confirm our resolve to release the funds that have been allocated\",\n          \"many of these challenges ahead are outlined in your report\",\n          \"located just a few minutes from t\"\n        ],\n        \"semantic_type\": \"\",\n        \"description\": \"\"\n      }\n    }\n  ]\n}"
            }
          },
          "metadata": {},
          "execution_count": 16
        }
      ]
    },
    {
      "cell_type": "code",
      "source": [
        "from sklearn.model_selection import train_test_split\n",
        "from tensorflow.keras.preprocessing.sequence import pad_sequences\n",
        "from tensorflow.keras.preprocessing.text import Tokenizer\n",
        "from tensorflow.keras.layers import Flatten, Embedding, LSTM, TimeDistributed, Input, SimpleRNN, Bidirectional, Dense, RepeatVector, Concatenate, Attention, Dot, Activation\n",
        "from tensorflow.keras.models import Model, Sequential, load_model, save_model\n",
        "from tensorflow.keras.losses import sparse_categorical_crossentropy\n",
        "from tensorflow.keras.optimizers import Adam\n",
        "from tensorflow.keras.callbacks import EarlyStopping, ModelCheckpoint"
      ],
      "metadata": {
        "id": "4BB4AGRIwims"
      },
      "execution_count": 17,
      "outputs": []
    },
    {
      "cell_type": "code",
      "source": [
        "preprocessed_1_df = cleanse_df\n",
        "train_df, test_df = train_test_split(preprocessed_1_df, test_size=0.2, random_state=42)\n",
        "train_german = train_df['German']\n",
        "train_english = train_df['English']\n",
        "test_german = test_df['German']\n",
        "test_english = test_df['English']\n",
        "tokenizer_german = Tokenizer()\n",
        "tokenizer_english = Tokenizer()\n",
        "tokenizer_german.fit_on_texts(train_german)\n",
        "tokenizer_english.fit_on_texts(train_english)\n",
        "\n",
        "train_german_sequences = tokenizer_german.texts_to_sequences(train_german)\n",
        "train_english_sequences = tokenizer_english.texts_to_sequences(train_english)\n",
        "test_german_sequences = tokenizer_german.texts_to_sequences(test_german)\n",
        "test_english_sequences = tokenizer_english.texts_to_sequences(test_english)"
      ],
      "metadata": {
        "id": "Zz3I56hKO4RE"
      },
      "execution_count": 18,
      "outputs": []
    },
    {
      "cell_type": "code",
      "source": [
        "# Check language length\n",
        "german_vocab = len(tokenizer_german.word_index) + 1\n",
        "english_vocab = len(tokenizer_english.word_index) + 1"
      ],
      "metadata": {
        "id": "Wzj5pif00KFd"
      },
      "execution_count": 19,
      "outputs": []
    },
    {
      "cell_type": "code",
      "source": [
        "max_ger_len = int(len(max(train_german_sequences,key=len)))\n",
        "max_eng_len = int(len(max(train_english_sequences,key=len)))\n",
        "max_len = max(max_ger_len, max_eng_len)\n",
        "\n",
        "train_german_padded = pad_sequences(train_german_sequences, maxlen=max_len, padding='post', truncating='post')\n",
        "train_english_padded = pad_sequences(train_english_sequences, maxlen=max_len, padding='post', truncating='post')\n",
        "test_german_padded = pad_sequences(test_german_sequences, maxlen=max_len, padding='post', truncating='post')\n",
        "test_english_padded = pad_sequences(test_english_sequences, maxlen=max_len, padding='post', truncating='post')\n",
        "\n",
        "train_english_padded_shifted = np.pad(train_english_padded[:, 1:], ((0, 0), (0, 1)), 'constant')\n",
        "test_english_padded_shifted = np.pad(test_english_padded[:, 1:], ((0, 0), (0, 1)), 'constant')"
      ],
      "metadata": {
        "id": "GBe9J2BTO9Bs"
      },
      "execution_count": 20,
      "outputs": []
    },
    {
      "cell_type": "code",
      "source": [
        "tokenizer_path = '/content/drive/MyDrive/capstone/'\n",
        "data_path = '/content/drive/MyDrive/capstone/'\n",
        "\n",
        "with open(tokenizer_path + 'tokenizer_german.pkl', 'wb') as file:\n",
        "    pickle.dump(tokenizer_german, file)\n",
        "with open(tokenizer_path + 'tokenizer_english.pkl', 'wb') as file:\n",
        "    pickle.dump(tokenizer_english, file)\n",
        "\n",
        "# Saving the preprocessed data\n",
        "np.save(data_path + 'train_german_padded.npy', train_german_padded)\n",
        "np.save(data_path + 'train_english_padded_shifted.npy', train_english_padded_shifted)\n",
        "np.save(data_path + 'test_german_padded.npy', test_german_padded)\n",
        "np.save(data_path + 'test_english_padded_shifted.npy', test_english_padded_shifted)\n",
        "\n",
        "print(\"Saved the tokenized data successfully.\")"
      ],
      "metadata": {
        "colab": {
          "base_uri": "https://localhost:8080/"
        },
        "id": "HMXVwf9kPA_E",
        "outputId": "8d628b1a-131e-40d0-cba2-1af72d07e9d7"
      },
      "execution_count": 21,
      "outputs": [
        {
          "output_type": "stream",
          "name": "stdout",
          "text": [
            "Saved the tokenized data successfully.\n"
          ]
        }
      ]
    },
    {
      "cell_type": "markdown",
      "source": [
        "Simple RNN model"
      ],
      "metadata": {
        "id": "ghhqNhNqPKGv"
      }
    },
    {
      "cell_type": "code",
      "source": [
        "# Define the simple RNN model\n",
        "basic_rnn_model = Sequential()\n",
        "basic_rnn_model.add(SimpleRNN(256, input_shape=(max_len, 1), return_sequences=True))\n",
        "basic_rnn_model.add(Dense(english_vocab, activation='softmax'))\n",
        "\n",
        "# Compile the RNN model\n",
        "basic_rnn_model.compile(optimizer= Adam(), loss='sparse_categorical_crossentropy', metrics=['accuracy'])\n",
        "\n",
        "# Printing the model summary\n",
        "basic_rnn_model.summary()"
      ],
      "metadata": {
        "colab": {
          "base_uri": "https://localhost:8080/"
        },
        "id": "9-j7VcQ9PL0M",
        "outputId": "75800dd1-a947-4112-d4fc-450282f13d8f"
      },
      "execution_count": 22,
      "outputs": [
        {
          "output_type": "stream",
          "name": "stdout",
          "text": [
            "Model: \"sequential\"\n",
            "_________________________________________________________________\n",
            " Layer (type)                Output Shape              Param #   \n",
            "=================================================================\n",
            " simple_rnn (SimpleRNN)      (None, 645, 256)          66048     \n",
            "                                                                 \n",
            " dense (Dense)               (None, 645, 19340)        4970380   \n",
            "                                                                 \n",
            "=================================================================\n",
            "Total params: 5036428 (19.21 MB)\n",
            "Trainable params: 5036428 (19.21 MB)\n",
            "Non-trainable params: 0 (0.00 Byte)\n",
            "_________________________________________________________________\n"
          ]
        }
      ]
    },
    {
      "cell_type": "code",
      "source": [
        "rnn_checkpoint_path = '/content/drive/MyDrive/capstone/rnncheckpoint.model.keras'\n",
        "rnn_checkpoint = ModelCheckpoint(\n",
        "    filepath=rnn_checkpoint_path,\n",
        "    save_weights_only=False,\n",
        "    monitor='val_loss',\n",
        "    mode='min',\n",
        "    save_best_only=True,\n",
        "    verbose=1\n",
        ")\n",
        "early_stopping = EarlyStopping(monitor='val_loss', patience=3, verbose=1)"
      ],
      "metadata": {
        "id": "UNmB8Mu-POK0"
      },
      "execution_count": 23,
      "outputs": []
    },
    {
      "cell_type": "code",
      "source": [
        "# Train the model with callbacks\n",
        "history = basic_rnn_model.fit(\n",
        "    train_german_padded,\n",
        "    np.expand_dims(train_english_padded_shifted, -1),\n",
        "    epochs=5,\n",
        "    batch_size=128,\n",
        "    validation_data=(test_german_padded, np.expand_dims(test_english_padded_shifted, -1)),\n",
        "    callbacks=[rnn_checkpoint, early_stopping]\n",
        ")"
      ],
      "metadata": {
        "colab": {
          "base_uri": "https://localhost:8080/"
        },
        "id": "HFyN-dLjPQtc",
        "outputId": "d50aaae1-1aa1-4b86-f53d-e91cddd3b7c0"
      },
      "execution_count": 24,
      "outputs": [
        {
          "output_type": "stream",
          "name": "stdout",
          "text": [
            "Epoch 1/5\n",
            "63/63 [==============================] - ETA: 0s - loss: 2.2371 - accuracy: 0.9331\n",
            "Epoch 1: val_loss improved from inf to 0.27522, saving model to /content/drive/MyDrive/capstone/rnncheckpoint.model.keras\n",
            "63/63 [==============================] - 363s 6s/step - loss: 2.2371 - accuracy: 0.9331 - val_loss: 0.2752 - val_accuracy: 0.9679\n",
            "Epoch 2/5\n",
            "63/63 [==============================] - ETA: 0s - loss: 0.2897 - accuracy: 0.9652\n",
            "Epoch 2: val_loss improved from 0.27522 to 0.26261, saving model to /content/drive/MyDrive/capstone/rnncheckpoint.model.keras\n",
            "63/63 [==============================] - 365s 6s/step - loss: 0.2897 - accuracy: 0.9652 - val_loss: 0.2626 - val_accuracy: 0.9678\n",
            "Epoch 3/5\n",
            "63/63 [==============================] - ETA: 0s - loss: 0.2832 - accuracy: 0.9652\n",
            "Epoch 3: val_loss improved from 0.26261 to 0.25770, saving model to /content/drive/MyDrive/capstone/rnncheckpoint.model.keras\n",
            "63/63 [==============================] - 365s 6s/step - loss: 0.2832 - accuracy: 0.9652 - val_loss: 0.2577 - val_accuracy: 0.9679\n",
            "Epoch 4/5\n",
            "63/63 [==============================] - ETA: 0s - loss: 0.2788 - accuracy: 0.9652\n",
            "Epoch 4: val_loss improved from 0.25770 to 0.25371, saving model to /content/drive/MyDrive/capstone/rnncheckpoint.model.keras\n",
            "63/63 [==============================] - 364s 6s/step - loss: 0.2788 - accuracy: 0.9652 - val_loss: 0.2537 - val_accuracy: 0.9679\n",
            "Epoch 5/5\n",
            "63/63 [==============================] - ETA: 0s - loss: 0.2745 - accuracy: 0.9652\n",
            "Epoch 5: val_loss improved from 0.25371 to 0.24551, saving model to /content/drive/MyDrive/capstone/rnncheckpoint.model.keras\n",
            "63/63 [==============================] - 364s 6s/step - loss: 0.2745 - accuracy: 0.9652 - val_loss: 0.2455 - val_accuracy: 0.9679\n"
          ]
        }
      ]
    },
    {
      "cell_type": "code",
      "source": [
        "# Plot loss values\n",
        "plt.figure(figsize=(12, 4))\n",
        "plt.subplot(1, 2, 1)\n",
        "plt.plot(history.history['loss'])\n",
        "plt.plot(history.history['val_loss'])\n",
        "plt.title('Model Loss')\n",
        "plt.ylabel('Loss')\n",
        "plt.xlabel('Epoch')\n",
        "plt.legend(['Train', 'Validation'], loc='upper left')\n",
        "\n",
        "# Plot accuracy values\n",
        "plt.subplot(1, 2, 2)\n",
        "plt.plot(history.history['accuracy'])\n",
        "plt.plot(history.history['val_accuracy'])\n",
        "plt.title('Model Accuracy')\n",
        "plt.ylabel('Accuracy')\n",
        "plt.xlabel('Epoch')\n",
        "plt.legend(['Train', 'Validation'], loc='upper left')\n",
        "\n",
        "plt.tight_layout()\n",
        "plt.show()"
      ],
      "metadata": {
        "id": "5g9a-GdePS39",
        "colab": {
          "base_uri": "https://localhost:8080/",
          "height": 407
        },
        "outputId": "c88210fc-63e2-4625-865a-8b3922be15d9"
      },
      "execution_count": 25,
      "outputs": [
        {
          "output_type": "display_data",
          "data": {
            "text/plain": [
              "<Figure size 1200x400 with 2 Axes>"
            ],
            "image/png": "[encoded data removed]"
          },
          "metadata": {}
        }
      ]
    },
    {
      "cell_type": "code",
      "source": [
        "basic_rnn_model.save('/content/drive/My Drive/capstone/rnn_model_checkpoint.h5')"
      ],
      "metadata": {
        "id": "my8MUrP0PVZ0",
        "colab": {
          "base_uri": "https://localhost:8080/"
        },
        "outputId": "d64f267f-3f63-4f8d-8d45-12a0a4a18fd3"
      },
      "execution_count": 26,
      "outputs": [
        {
          "output_type": "stream",
          "name": "stderr",
          "text": [
            "/usr/local/lib/python3.10/dist-packages/keras/src/engine/training.py:3103: UserWarning: You are saving your model as an HDF5 file via `model.save()`. This file format is considered legacy. We recommend using instead the native Keras format, e.g. `model.save('my_model.keras')`.\n",
            "  saving_api.save_model(\n"
          ]
        }
      ]
    },
    {
      "cell_type": "code",
      "source": [
        "# Load the weights into the model\n",
        "rnn_checkpoint_path = '/content/drive/My Drive/capstone/rnn_model_checkpoint.h5'\n",
        "best_rnn_model=load_model(rnn_checkpoint_path)"
      ],
      "metadata": {
        "id": "7s4QUhCjPapl"
      },
      "execution_count": 27,
      "outputs": []
    },
    {
      "cell_type": "code",
      "source": [
        "train_loss, train_accuracy = basic_rnn_model.evaluate(train_german_padded, np.expand_dims(train_english_padded_shifted, -1))\n",
        "test_loss, test_accuracy = basic_rnn_model.evaluate(test_german_padded, np.expand_dims(test_english_padded_shifted, -1))\n",
        "\n",
        "print(f\"Validation Loss: {test_loss}, Validation Accuracy: {test_accuracy}\")\n",
        "print(f\"Training Loss: {train_loss}, Training Accuracy: {train_accuracy}\")"
      ],
      "metadata": {
        "id": "NA5OvxS2Pcjd",
        "colab": {
          "base_uri": "https://localhost:8080/"
        },
        "outputId": "6ec8813a-3ca4-4c10-ec21-546899b96ee2"
      },
      "execution_count": 28,
      "outputs": [
        {
          "output_type": "stream",
          "name": "stdout",
          "text": [
            "249/249 [==============================] - 255s 1s/step - loss: 0.2693 - accuracy: 0.9652\n",
            "63/63 [==============================] - 64s 1s/step - loss: 0.2455 - accuracy: 0.9679\n",
            "Validation Loss: 0.24551349878311157, Validation Accuracy: 0.967864453792572\n",
            "Training Loss: 0.269309401512146, Training Accuracy: 0.9651877284049988\n"
          ]
        }
      ]
    },
    {
      "cell_type": "code",
      "source": [
        "accuracy = test_accuracy"
      ],
      "metadata": {
        "id": "tLbgq4z_PeJt"
      },
      "execution_count": 29,
      "outputs": []
    },
    {
      "cell_type": "code",
      "source": [
        "rnn_results_df = pd.DataFrame({'Model': ['RNN'], 'Accuracy': [accuracy * 100]})\n",
        "rnn_results_df"
      ],
      "metadata": {
        "id": "RE5kurczPgOM",
        "colab": {
          "base_uri": "https://localhost:8080/",
          "height": 89
        },
        "outputId": "d74e681d-a3af-4de0-8922-2706d212cdf0"
      },
      "execution_count": 30,
      "outputs": [
        {
          "output_type": "execute_result",
          "data": {
            "text/plain": [
              "  Model   Accuracy\n",
              "0   RNN  96.786445"
            ],
            "text/html": [
              "\n",
              "  <div id=\"df-0e5a877f-283c-4e72-bc4e-d57ca1644014\" class=\"colab-df-container\">\n",
              "    <div>\n",
              "<style scoped>\n",
              "    .dataframe tbody tr th:only-of-type {\n",
              "        vertical-align: middle;\n",
              "    }\n",
              "\n",
              "    .dataframe tbody tr th {\n",
              "        vertical-align: top;\n",
              "    }\n",
              "\n",
              "    .dataframe thead th {\n",
              "        text-align: right;\n",
              "    }\n",
              "</style>\n",
              "<table border=\"1\" class=\"dataframe\">\n",
              "  <thead>\n",
              "    <tr style=\"text-align: right;\">\n",
              "      <th></th>\n",
              "      <th>Model</th>\n",
              "      <th>Accuracy</th>\n",
              "    </tr>\n",
              "  </thead>\n",
              "  <tbody>\n",
              "    <tr>\n",
              "      <th>0</th>\n",
              "      <td>RNN</td>\n",
              "      <td>96.786445</td>\n",
              "    </tr>\n",
              "  </tbody>\n",
              "</table>\n",
              "</div>\n",
              "    <div class=\"colab-df-buttons\">\n",
              "\n",
              "  <div class=\"colab-df-container\">\n",
              "    <button class=\"colab-df-convert\" onclick=\"convertToInteractive('df-0e5a877f-283c-4e72-bc4e-d57ca1644014')\"\n",
              "            title=\"Convert this dataframe to an interactive table.\"\n",
              "            style=\"display:none;\">\n",
              "\n",
              "  <svg xmlns=\"http://www.w3.org/2000/svg\" height=\"24px\" viewBox=\"0 -960 960 960\">\n",
              "    <path d=\"M120-120v-720h720v720H120Zm60-500h600v-160H180v160Zm220 220h160v-160H400v160Zm0 220h160v-160H400v160ZM180-400h160v-160H180v160Zm440 0h160v-160H620v160ZM180-180h160v-160H180v160Zm440 0h160v-160H620v160Z\"/>\n",
              "  </svg>\n",
              "    </button>\n",
              "\n",
              "  <style>\n",
              "    .colab-df-container {\n",
              "      display:flex;\n",
              "      gap: 12px;\n",
              "    }\n",
              "\n",
              "    .colab-df-convert {\n",
              "      background-color: #E8F0FE;\n",
              "      border: none;\n",
              "      border-radius: 50%;\n",
              "      cursor: pointer;\n",
              "      display: none;\n",
              "      fill: #1967D2;\n",
              "      height: 32px;\n",
              "      padding: 0 0 0 0;\n",
              "      width: 32px;\n",
              "    }\n",
              "\n",
              "    .colab-df-convert:hover {\n",
              "      background-color: #E2EBFA;\n",
              "      box-shadow: 0px 1px 2px rgba(60, 64, 67, 0.3), 0px 1px 3px 1px rgba(60, 64, 67, 0.15);\n",
              "      fill: #174EA6;\n",
              "    }\n",
              "\n",
              "    .colab-df-buttons div {\n",
              "      margin-bottom: 4px;\n",
              "    }\n",
              "\n",
              "    [theme=dark] .colab-df-convert {\n",
              "      background-color: #3B4455;\n",
              "      fill: #D2E3FC;\n",
              "    }\n",
              "\n",
              "    [theme=dark] .colab-df-convert:hover {\n",
              "      background-color: #434B5C;\n",
              "      box-shadow: 0px 1px 3px 1px rgba(0, 0, 0, 0.15);\n",
              "      filter: drop-shadow(0px 1px 2px rgba(0, 0, 0, 0.3));\n",
              "      fill: #FFFFFF;\n",
              "    }\n",
              "  </style>\n",
              "\n",
              "    <script>\n",
              "      const buttonEl =\n",
              "        document.querySelector('#df-0e5a877f-283c-4e72-bc4e-d57ca1644014 button.colab-df-convert');\n",
              "      buttonEl.style.display =\n",
              "        google.colab.kernel.accessAllowed ? 'block' : 'none';\n",
              "\n",
              "      async function convertToInteractive(key) {\n",
              "        const element = document.querySelector('#df-0e5a877f-283c-4e72-bc4e-d57ca1644014');\n",
              "        const dataTable =\n",
              "          await google.colab.kernel.invokeFunction('convertToInteractive',\n",
              "                                                    [key], {});\n",
              "        if (!dataTable) return;\n",
              "\n",
              "        const docLinkHtml = 'Like what you see? Visit the ' +\n",
              "          '<a target=\"_blank\" href=https://colab.research.google.com/notebooks/data_table.ipynb>data table notebook</a>'\n",
              "          + ' to learn more about interactive tables.';\n",
              "        element.innerHTML = '';\n",
              "        dataTable['output_type'] = 'display_data';\n",
              "        await google.colab.output.renderOutput(dataTable, element);\n",
              "        const docLink = document.createElement('div');\n",
              "        docLink.innerHTML = docLinkHtml;\n",
              "        element.appendChild(docLink);\n",
              "      }\n",
              "    </script>\n",
              "  </div>\n",
              "\n",
              "\n",
              "  <div id=\"id_8a9b5005-4cdb-4bae-bdad-e2cc24d90fe3\">\n",
              "    <style>\n",
              "      .colab-df-generate {\n",
              "        background-color: #E8F0FE;\n",
              "        border: none;\n",
              "        border-radius: 50%;\n",
              "        cursor: pointer;\n",
              "        display: none;\n",
              "        fill: #1967D2;\n",
              "        height: 32px;\n",
              "        padding: 0 0 0 0;\n",
              "        width: 32px;\n",
              "      }\n",
              "\n",
              "      .colab-df-generate:hover {\n",
              "        background-color: #E2EBFA;\n",
              "        box-shadow: 0px 1px 2px rgba(60, 64, 67, 0.3), 0px 1px 3px 1px rgba(60, 64, 67, 0.15);\n",
              "        fill: #174EA6;\n",
              "      }\n",
              "\n",
              "      [theme=dark] .colab-df-generate {\n",
              "        background-color: #3B4455;\n",
              "        fill: #D2E3FC;\n",
              "      }\n",
              "\n",
              "      [theme=dark] .colab-df-generate:hover {\n",
              "        background-color: #434B5C;\n",
              "        box-shadow: 0px 1px 3px 1px rgba(0, 0, 0, 0.15);\n",
              "        filter: drop-shadow(0px 1px 2px rgba(0, 0, 0, 0.3));\n",
              "        fill: #FFFFFF;\n",
              "      }\n",
              "    </style>\n",
              "    <button class=\"colab-df-generate\" onclick=\"generateWithVariable('rnn_results_df')\"\n",
              "            title=\"Generate code using this dataframe.\"\n",
              "            style=\"display:none;\">\n",
              "\n",
              "  <svg xmlns=\"http://www.w3.org/2000/svg\" height=\"24px\"viewBox=\"0 0 24 24\"\n",
              "       width=\"24px\">\n",
              "    <path d=\"M7,19H8.4L18.45,9,17,7.55,7,17.6ZM5,21V16.75L18.45,3.32a2,2,0,0,1,2.83,0l1.4,1.43a1.91,1.91,0,0,1,.58,1.4,1.91,1.91,0,0,1-.58,1.4L9.25,21ZM18.45,9,17,7.55Zm-12,3A5.31,5.31,0,0,0,4.9,8.1,5.31,5.31,0,0,0,1,6.5,5.31,5.31,0,0,0,4.9,4.9,5.31,5.31,0,0,0,6.5,1,5.31,5.31,0,0,0,8.1,4.9,5.31,5.31,0,0,0,12,6.5,5.46,5.46,0,0,0,6.5,12Z\"/>\n",
              "  </svg>\n",
              "    </button>\n",
              "    <script>\n",
              "      (() => {\n",
              "      const buttonEl =\n",
              "        document.querySelector('#id_8a9b5005-4cdb-4bae-bdad-e2cc24d90fe3 button.colab-df-generate');\n",
              "      buttonEl.style.display =\n",
              "        google.colab.kernel.accessAllowed ? 'block' : 'none';\n",
              "\n",
              "      buttonEl.onclick = () => {\n",
              "        google.colab.notebook.generateWithVariable('rnn_results_df');\n",
              "      }\n",
              "      })();\n",
              "    </script>\n",
              "  </div>\n",
              "\n",
              "    </div>\n",
              "  </div>\n"
            ],
            "application/vnd.google.colaboratory.intrinsic+json": {
              "type": "dataframe",
              "variable_name": "rnn_results_df",
              "summary": "{\n  \"name\": \"rnn_results_df\",\n  \"rows\": 1,\n  \"fields\": [\n    {\n      \"column\": \"Model\",\n      \"properties\": {\n        \"dtype\": \"string\",\n        \"num_unique_values\": 1,\n        \"samples\": [\n          \"RNN\"\n        ],\n        \"semantic_type\": \"\",\n        \"description\": \"\"\n      }\n    },\n    {\n      \"column\": \"Accuracy\",\n      \"properties\": {\n        \"dtype\": \"number\",\n        \"std\": null,\n        \"min\": 96.7864453792572,\n        \"max\": 96.7864453792572,\n        \"num_unique_values\": 1,\n        \"samples\": [\n          96.7864453792572\n        ],\n        \"semantic_type\": \"\",\n        \"description\": \"\"\n      }\n    }\n  ]\n}"
            }
          },
          "metadata": {},
          "execution_count": 30
        }
      ]
    },
    {
      "cell_type": "code",
      "source": [
        "random_indices = random.sample(range(len(test_german_padded)), 10)\n",
        "X_sample = test_german_padded[random_indices]\n",
        "y_sample_actual = test_english_padded_shifted[random_indices]\n",
        "y_sample_pred = basic_rnn_model.predict(X_sample)\n",
        "def decode_sequence(tokenizer, sequence):\n",
        "    reverse_word_map = dict(map(reversed, tokenizer.word_index.items()))\n",
        "    decoded_sentence = ' '.join(reverse_word_map.get(token, '<unk>') for token in sequence if token != 0)\n",
        "    return decoded_sentence\n",
        "sample_actual_decoded = [decode_sequence(tokenizer_english, seq) for seq in y_sample_actual]\n",
        "sample_pred_decoded = [decode_sequence(tokenizer_english, seq.argmax(axis=-1)) for seq in y_sample_pred]\n",
        "for i in range(len(random_indices)):\n",
        "    print(f\"Actual:   {sample_actual_decoded[i]}\")\n",
        "    print(f\"Predicted: {sample_pred_decoded[i]}\\n\")"
      ],
      "metadata": {
        "id": "eIWQq9EFPhqc",
        "colab": {
          "base_uri": "https://localhost:8080/"
        },
        "outputId": "79bd9658-e043-459f-f16a-41fc9de4fddd"
      },
      "execution_count": 44,
      "outputs": [
        {
          "output_type": "stream",
          "name": "stdout",
          "text": [
            "1/1 [==============================] - 0s 151ms/step\n",
            "Actual:   am completely convinced that the opinions widely held among the public and among animal rights organisations have contributed very significantly to our reaching this agreement\n",
            "Predicted: the the the the the the the the the the the the the the the the\n",
            "\n",
            "Actual:   assistance for ukraine\n",
            "Predicted: the the the\n",
            "\n",
            "Actual:   think that ultimately we are all agreed that the outcome of the european council is a success\n",
            "Predicted: the the the the the the the the the the the the the the the the the the the\n",
            "\n",
            "Actual:   please to my message because what i have to tell you tonight can bring healing to humanity and healing to our planet\n",
            "Predicted: the the the the the the the the the the the the the the the the the the the the the the the the the the the the the the\n",
            "\n",
            "Actual:   believe that they deserve the same freedom as that which the european parliament is demanding for or\n",
            "Predicted: the the the the the the the the the the the the the the\n",
            "\n",
            "Actual:   need a common asylum system that gives efficient protection to those in need and we also need to protect conflict\n",
            "Predicted: the the the the the the the the the the the the the the the the the\n",
            "\n",
            "Actual:   future hangs on the way we face this crisis\n",
            "Predicted: the the the the the the the the the the the\n",
            "\n",
            "Actual:   think we also need to take on board that they come with their own culture tradition and languages\n",
            "Predicted: the the the the the the the the the the the the\n",
            "\n",
            "Actual:   we should think about this\n",
            "Predicted: the the the the the\n",
            "\n",
            "Actual:   for mr berlusconi however he has revealed a lot about himself because if ideal leadership is for him what is doing it means it is a model of leadership which him and we can only fold our arms and express regret that such a leader is to be found among the leaders of the countries of the european union\n",
            "Predicted: the the the the the the the the the the the the the the the the the the the the the the the the the the the the the the the the the the the the the the the the the the the the the the the the the the the the the the the\n",
            "\n"
          ]
        }
      ]
    },
    {
      "cell_type": "code",
      "source": [],
      "metadata": {
        "id": "fCP4cQoFPk2f"
      },
      "execution_count": 31,
      "outputs": []
    },
    {
      "cell_type": "markdown",
      "source": [
        "Simple LSTM model"
      ],
      "metadata": {
        "id": "0hZs0WGrPoTU"
      }
    },
    {
      "cell_type": "code",
      "source": [
        "# Define the model\n",
        "basic_lstm_model = Sequential()\n",
        "basic_lstm_model.add(LSTM(256, input_shape=(max_len, 1), return_sequences=True))\n",
        "basic_lstm_model.add(Dense(english_vocab, activation='softmax'))\n",
        "\n",
        "# Compile the model\n",
        "basic_lstm_model.compile(optimizer=Adam(1e-3), loss='sparse_categorical_crossentropy', metrics=['accuracy'])\n",
        "\n",
        "# Print model summary\n",
        "basic_lstm_model.summary()"
      ],
      "metadata": {
        "id": "X1fWcQUyPq2c",
        "colab": {
          "base_uri": "https://localhost:8080/"
        },
        "outputId": "9a8f3dda-6d44-499e-dc70-d46d40b1ef55"
      },
      "execution_count": 32,
      "outputs": [
        {
          "output_type": "stream",
          "name": "stdout",
          "text": [
            "Model: \"sequential_1\"\n",
            "_________________________________________________________________\n",
            " Layer (type)                Output Shape              Param #   \n",
            "=================================================================\n",
            " lstm (LSTM)                 (None, 645, 256)          264192    \n",
            "                                                                 \n",
            " dense_1 (Dense)             (None, 645, 19340)        4970380   \n",
            "                                                                 \n",
            "=================================================================\n",
            "Total params: 5234572 (19.97 MB)\n",
            "Trainable params: 5234572 (19.97 MB)\n",
            "Non-trainable params: 0 (0.00 Byte)\n",
            "_________________________________________________________________\n"
          ]
        }
      ]
    },
    {
      "cell_type": "code",
      "source": [
        "# Define the callbacks\n",
        "lstm_checkpoint_path = '/content/drive/MyDrive/capstone/lstm_model_checkpoint.h5'\n",
        "lstm_checkpoint = ModelCheckpoint(\n",
        "    filepath=lstm_checkpoint_path,\n",
        "    save_weights_only=False,\n",
        "    monitor='val_loss',\n",
        "    mode='min',\n",
        "    save_best_only=True,\n",
        "    verbose=1\n",
        ")"
      ],
      "metadata": {
        "id": "6GojAR9UPscc"
      },
      "execution_count": 33,
      "outputs": []
    },
    {
      "cell_type": "code",
      "source": [
        "early_stopping = EarlyStopping(monitor='val_loss', patience=3, verbose=1)\n",
        "\n",
        "history = basic_lstm_model.fit(\n",
        "    train_german_padded,\n",
        "    np.expand_dims(train_english_padded_shifted, -1),\n",
        "    epochs=5,\n",
        "    batch_size=128,\n",
        "    validation_data=(test_german_padded, np.expand_dims(test_english_padded_shifted, -1)),\n",
        "    callbacks=[lstm_checkpoint, early_stopping]\n",
        ")"
      ],
      "metadata": {
        "id": "qqR4AwEtPunE",
        "colab": {
          "base_uri": "https://localhost:8080/"
        },
        "outputId": "bfdc835e-8d28-46f9-e34c-03e13aa67d75"
      },
      "execution_count": 34,
      "outputs": [
        {
          "output_type": "stream",
          "name": "stdout",
          "text": [
            "Epoch 1/5\n",
            "63/63 [==============================] - ETA: 0s - loss: 2.4954 - accuracy: 0.9628\n",
            "Epoch 1: val_loss improved from inf to 0.25556, saving model to /content/drive/MyDrive/capstone/lstm_model_checkpoint.h5\n",
            "63/63 [==============================] - 456s 7s/step - loss: 2.4954 - accuracy: 0.9628 - val_loss: 0.2556 - val_accuracy: 0.9679\n",
            "Epoch 2/5\n"
          ]
        },
        {
          "output_type": "stream",
          "name": "stderr",
          "text": [
            "/usr/local/lib/python3.10/dist-packages/keras/src/engine/training.py:3103: UserWarning: You are saving your model as an HDF5 file via `model.save()`. This file format is considered legacy. We recommend using instead the native Keras format, e.g. `model.save('my_model.keras')`.\n",
            "  saving_api.save_model(\n"
          ]
        },
        {
          "output_type": "stream",
          "name": "stdout",
          "text": [
            "63/63 [==============================] - ETA: 0s - loss: 0.2718 - accuracy: 0.9653\n",
            "Epoch 2: val_loss improved from 0.25556 to 0.24349, saving model to /content/drive/MyDrive/capstone/lstm_model_checkpoint.h5\n",
            "63/63 [==============================] - 449s 7s/step - loss: 0.2718 - accuracy: 0.9653 - val_loss: 0.2435 - val_accuracy: 0.9679\n",
            "Epoch 3/5\n",
            "63/63 [==============================] - ETA: 0s - loss: 0.2672 - accuracy: 0.9660\n",
            "Epoch 3: val_loss improved from 0.24349 to 0.24104, saving model to /content/drive/MyDrive/capstone/lstm_model_checkpoint.h5\n",
            "63/63 [==============================] - 443s 7s/step - loss: 0.2672 - accuracy: 0.9660 - val_loss: 0.2410 - val_accuracy: 0.9684\n",
            "Epoch 4/5\n",
            "63/63 [==============================] - ETA: 0s - loss: 0.2657 - accuracy: 0.9662\n",
            "Epoch 4: val_loss improved from 0.24104 to 0.24010, saving model to /content/drive/MyDrive/capstone/lstm_model_checkpoint.h5\n",
            "63/63 [==============================] - 446s 7s/step - loss: 0.2657 - accuracy: 0.9662 - val_loss: 0.2401 - val_accuracy: 0.9685\n",
            "Epoch 5/5\n",
            "63/63 [==============================] - ETA: 0s - loss: 0.2648 - accuracy: 0.9662\n",
            "Epoch 5: val_loss improved from 0.24010 to 0.23966, saving model to /content/drive/MyDrive/capstone/lstm_model_checkpoint.h5\n",
            "63/63 [==============================] - 441s 7s/step - loss: 0.2648 - accuracy: 0.9662 - val_loss: 0.2397 - val_accuracy: 0.9685\n"
          ]
        }
      ]
    },
    {
      "cell_type": "code",
      "source": [
        "# Plot training & validation loss values\n",
        "plt.figure(figsize=(12, 4))\n",
        "plt.subplot(1, 2, 1)\n",
        "plt.plot(history.history['loss'])\n",
        "plt.plot(history.history['val_loss'])\n",
        "plt.title('Model Loss')\n",
        "plt.ylabel('Loss')\n",
        "plt.xlabel('Epoch')\n",
        "plt.legend(['Train', 'Validation'], loc='upper left')\n",
        "\n",
        "# Plot training & validation accuracy values\n",
        "plt.subplot(1, 2, 2)\n",
        "plt.plot(history.history['accuracy'])\n",
        "plt.plot(history.history['val_accuracy'])\n",
        "plt.title('Model Accuracy')\n",
        "plt.ylabel('Accuracy')\n",
        "plt.xlabel('Epoch')\n",
        "plt.legend(['Train', 'Validation'], loc='upper left')\n",
        "\n",
        "plt.tight_layout()\n",
        "plt.show()"
      ],
      "metadata": {
        "id": "4HAzcdRGPwud",
        "colab": {
          "base_uri": "https://localhost:8080/",
          "height": 407
        },
        "outputId": "46cff23c-f071-470d-a705-4b0dd4b56b94"
      },
      "execution_count": 35,
      "outputs": [
        {
          "output_type": "display_data",
          "data": {
            "text/plain": [
              "<Figure size 1200x400 with 2 Axes>"
            ],
            "image/png": "[encoded data removed]"
          },
          "metadata": {}
        }
      ]
    },
    {
      "cell_type": "code",
      "source": [
        "best_lstm_model = load_model(lstm_checkpoint_path)\n",
        "best_lstm_model.load_weights(lstm_checkpoint_path)"
      ],
      "metadata": {
        "id": "0FYVqalOPy4E"
      },
      "execution_count": 36,
      "outputs": []
    },
    {
      "cell_type": "code",
      "source": [
        "test_loss, test_accuracy = basic_lstm_model.evaluate(test_german_padded, np.expand_dims(test_english_padded_shifted, -1))"
      ],
      "metadata": {
        "id": "tt6zs4buP028",
        "colab": {
          "base_uri": "https://localhost:8080/"
        },
        "outputId": "1205e9b2-8b17-4e32-ad00-95c9fc551208"
      },
      "execution_count": 37,
      "outputs": [
        {
          "output_type": "stream",
          "name": "stdout",
          "text": [
            "63/63 [==============================] - 79s 1s/step - loss: 0.2397 - accuracy: 0.9685\n"
          ]
        }
      ]
    },
    {
      "cell_type": "code",
      "source": [
        "print(f\"Validation Loss: {test_loss}, Validation Accuracy: {test_accuracy}\")"
      ],
      "metadata": {
        "id": "6sSeKDspP2tc",
        "colab": {
          "base_uri": "https://localhost:8080/"
        },
        "outputId": "a5575cc2-3ac4-4361-f19c-24c55bf0336a"
      },
      "execution_count": 38,
      "outputs": [
        {
          "output_type": "stream",
          "name": "stdout",
          "text": [
            "Validation Loss: 0.23965634405612946, Validation Accuracy: 0.9684567451477051\n"
          ]
        }
      ]
    },
    {
      "cell_type": "code",
      "source": [
        "accuracy = test_accuracy"
      ],
      "metadata": {
        "id": "6QGBPntIP4Uk"
      },
      "execution_count": 39,
      "outputs": []
    },
    {
      "cell_type": "code",
      "source": [
        "lstm_results_df = pd.DataFrame({'Model': ['LSTM'], 'Accuracy': [accuracy * 100]})\n",
        "lstm_results_df"
      ],
      "metadata": {
        "id": "H_xSktZTP8o0",
        "colab": {
          "base_uri": "https://localhost:8080/",
          "height": 89
        },
        "outputId": "5b3e1829-21fb-4ab5-904f-4126f933e943"
      },
      "execution_count": 40,
      "outputs": [
        {
          "output_type": "execute_result",
          "data": {
            "text/plain": [
              "  Model   Accuracy\n",
              "0  LSTM  96.845675"
            ],
            "text/html": [
              "\n",
              "  <div id=\"df-3279db58-5e6d-44f5-abab-efc40d06e19d\" class=\"colab-df-container\">\n",
              "    <div>\n",
              "<style scoped>\n",
              "    .dataframe tbody tr th:only-of-type {\n",
              "        vertical-align: middle;\n",
              "    }\n",
              "\n",
              "    .dataframe tbody tr th {\n",
              "        vertical-align: top;\n",
              "    }\n",
              "\n",
              "    .dataframe thead th {\n",
              "        text-align: right;\n",
              "    }\n",
              "</style>\n",
              "<table border=\"1\" class=\"dataframe\">\n",
              "  <thead>\n",
              "    <tr style=\"text-align: right;\">\n",
              "      <th></th>\n",
              "      <th>Model</th>\n",
              "      <th>Accuracy</th>\n",
              "    </tr>\n",
              "  </thead>\n",
              "  <tbody>\n",
              "    <tr>\n",
              "      <th>0</th>\n",
              "      <td>LSTM</td>\n",
              "      <td>96.845675</td>\n",
              "    </tr>\n",
              "  </tbody>\n",
              "</table>\n",
              "</div>\n",
              "    <div class=\"colab-df-buttons\">\n",
              "\n",
              "  <div class=\"colab-df-container\">\n",
              "    <button class=\"colab-df-convert\" onclick=\"convertToInteractive('df-3279db58-5e6d-44f5-abab-efc40d06e19d')\"\n",
              "            title=\"Convert this dataframe to an interactive table.\"\n",
              "            style=\"display:none;\">\n",
              "\n",
              "  <svg xmlns=\"http://www.w3.org/2000/svg\" height=\"24px\" viewBox=\"0 -960 960 960\">\n",
              "    <path d=\"M120-120v-720h720v720H120Zm60-500h600v-160H180v160Zm220 220h160v-160H400v160Zm0 220h160v-160H400v160ZM180-400h160v-160H180v160Zm440 0h160v-160H620v160ZM180-180h160v-160H180v160Zm440 0h160v-160H620v160Z\"/>\n",
              "  </svg>\n",
              "    </button>\n",
              "\n",
              "  <style>\n",
              "    .colab-df-container {\n",
              "      display:flex;\n",
              "      gap: 12px;\n",
              "    }\n",
              "\n",
              "    .colab-df-convert {\n",
              "      background-color: #E8F0FE;\n",
              "      border: none;\n",
              "      border-radius: 50%;\n",
              "      cursor: pointer;\n",
              "      display: none;\n",
              "      fill: #1967D2;\n",
              "      height: 32px;\n",
              "      padding: 0 0 0 0;\n",
              "      width: 32px;\n",
              "    }\n",
              "\n",
              "    .colab-df-convert:hover {\n",
              "      background-color: #E2EBFA;\n",
              "      box-shadow: 0px 1px 2px rgba(60, 64, 67, 0.3), 0px 1px 3px 1px rgba(60, 64, 67, 0.15);\n",
              "      fill: #174EA6;\n",
              "    }\n",
              "\n",
              "    .colab-df-buttons div {\n",
              "      margin-bottom: 4px;\n",
              "    }\n",
              "\n",
              "    [theme=dark] .colab-df-convert {\n",
              "      background-color: #3B4455;\n",
              "      fill: #D2E3FC;\n",
              "    }\n",
              "\n",
              "    [theme=dark] .colab-df-convert:hover {\n",
              "      background-color: #434B5C;\n",
              "      box-shadow: 0px 1px 3px 1px rgba(0, 0, 0, 0.15);\n",
              "      filter: drop-shadow(0px 1px 2px rgba(0, 0, 0, 0.3));\n",
              "      fill: #FFFFFF;\n",
              "    }\n",
              "  </style>\n",
              "\n",
              "    <script>\n",
              "      const buttonEl =\n",
              "        document.querySelector('#df-3279db58-5e6d-44f5-abab-efc40d06e19d button.colab-df-convert');\n",
              "      buttonEl.style.display =\n",
              "        google.colab.kernel.accessAllowed ? 'block' : 'none';\n",
              "\n",
              "      async function convertToInteractive(key) {\n",
              "        const element = document.querySelector('#df-3279db58-5e6d-44f5-abab-efc40d06e19d');\n",
              "        const dataTable =\n",
              "          await google.colab.kernel.invokeFunction('convertToInteractive',\n",
              "                                                    [key], {});\n",
              "        if (!dataTable) return;\n",
              "\n",
              "        const docLinkHtml = 'Like what you see? Visit the ' +\n",
              "          '<a target=\"_blank\" href=https://colab.research.google.com/notebooks/data_table.ipynb>data table notebook</a>'\n",
              "          + ' to learn more about interactive tables.';\n",
              "        element.innerHTML = '';\n",
              "        dataTable['output_type'] = 'display_data';\n",
              "        await google.colab.output.renderOutput(dataTable, element);\n",
              "        const docLink = document.createElement('div');\n",
              "        docLink.innerHTML = docLinkHtml;\n",
              "        element.appendChild(docLink);\n",
              "      }\n",
              "    </script>\n",
              "  </div>\n",
              "\n",
              "\n",
              "  <div id=\"id_b662139f-430c-47ac-808e-4f529c6fa139\">\n",
              "    <style>\n",
              "      .colab-df-generate {\n",
              "        background-color: #E8F0FE;\n",
              "        border: none;\n",
              "        border-radius: 50%;\n",
              "        cursor: pointer;\n",
              "        display: none;\n",
              "        fill: #1967D2;\n",
              "        height: 32px;\n",
              "        padding: 0 0 0 0;\n",
              "        width: 32px;\n",
              "      }\n",
              "\n",
              "      .colab-df-generate:hover {\n",
              "        background-color: #E2EBFA;\n",
              "        box-shadow: 0px 1px 2px rgba(60, 64, 67, 0.3), 0px 1px 3px 1px rgba(60, 64, 67, 0.15);\n",
              "        fill: #174EA6;\n",
              "      }\n",
              "\n",
              "      [theme=dark] .colab-df-generate {\n",
              "        background-color: #3B4455;\n",
              "        fill: #D2E3FC;\n",
              "      }\n",
              "\n",
              "      [theme=dark] .colab-df-generate:hover {\n",
              "        background-color: #434B5C;\n",
              "        box-shadow: 0px 1px 3px 1px rgba(0, 0, 0, 0.15);\n",
              "        filter: drop-shadow(0px 1px 2px rgba(0, 0, 0, 0.3));\n",
              "        fill: #FFFFFF;\n",
              "      }\n",
              "    </style>\n",
              "    <button class=\"colab-df-generate\" onclick=\"generateWithVariable('lstm_results_df')\"\n",
              "            title=\"Generate code using this dataframe.\"\n",
              "            style=\"display:none;\">\n",
              "\n",
              "  <svg xmlns=\"http://www.w3.org/2000/svg\" height=\"24px\"viewBox=\"0 0 24 24\"\n",
              "       width=\"24px\">\n",
              "    <path d=\"M7,19H8.4L18.45,9,17,7.55,7,17.6ZM5,21V16.75L18.45,3.32a2,2,0,0,1,2.83,0l1.4,1.43a1.91,1.91,0,0,1,.58,1.4,1.91,1.91,0,0,1-.58,1.4L9.25,21ZM18.45,9,17,7.55Zm-12,3A5.31,5.31,0,0,0,4.9,8.1,5.31,5.31,0,0,0,1,6.5,5.31,5.31,0,0,0,4.9,4.9,5.31,5.31,0,0,0,6.5,1,5.31,5.31,0,0,0,8.1,4.9,5.31,5.31,0,0,0,12,6.5,5.46,5.46,0,0,0,6.5,12Z\"/>\n",
              "  </svg>\n",
              "    </button>\n",
              "    <script>\n",
              "      (() => {\n",
              "      const buttonEl =\n",
              "        document.querySelector('#id_b662139f-430c-47ac-808e-4f529c6fa139 button.colab-df-generate');\n",
              "      buttonEl.style.display =\n",
              "        google.colab.kernel.accessAllowed ? 'block' : 'none';\n",
              "\n",
              "      buttonEl.onclick = () => {\n",
              "        google.colab.notebook.generateWithVariable('lstm_results_df');\n",
              "      }\n",
              "      })();\n",
              "    </script>\n",
              "  </div>\n",
              "\n",
              "    </div>\n",
              "  </div>\n"
            ],
            "application/vnd.google.colaboratory.intrinsic+json": {
              "type": "dataframe",
              "variable_name": "lstm_results_df",
              "summary": "{\n  \"name\": \"lstm_results_df\",\n  \"rows\": 1,\n  \"fields\": [\n    {\n      \"column\": \"Model\",\n      \"properties\": {\n        \"dtype\": \"string\",\n        \"num_unique_values\": 1,\n        \"samples\": [\n          \"LSTM\"\n        ],\n        \"semantic_type\": \"\",\n        \"description\": \"\"\n      }\n    },\n    {\n      \"column\": \"Accuracy\",\n      \"properties\": {\n        \"dtype\": \"number\",\n        \"std\": null,\n        \"min\": 96.84567451477051,\n        \"max\": 96.84567451477051,\n        \"num_unique_values\": 1,\n        \"samples\": [\n          96.84567451477051\n        ],\n        \"semantic_type\": \"\",\n        \"description\": \"\"\n      }\n    }\n  ]\n}"
            }
          },
          "metadata": {},
          "execution_count": 40
        }
      ]
    },
    {
      "cell_type": "code",
      "source": [
        "random_indices = random.sample(range(len(test_german_padded)), 10)\n",
        "X_sample = test_german_padded[random_indices]\n",
        "y_sample_actual = test_english_padded_shifted[random_indices]\n",
        "y_sample_pred = basic_lstm_model.predict(X_sample)\n",
        "\n",
        "def decode_sequence(tokenizer, sequence):\n",
        "    reverse_word_map = dict(map(reversed, tokenizer.word_index.items()))\n",
        "    decoded_sentence = ' '.join(reverse_word_map.get(token, '<unk>') for token in sequence if token != 0)\n",
        "    return decoded_sentence\n",
        "sample_actual_decoded = [decode_sequence(tokenizer_english, seq) for seq in y_sample_actual]\n",
        "sample_pred_decoded = [decode_sequence(tokenizer_english, seq.argmax(axis=-1)) for seq in y_sample_pred]\n",
        "\n",
        "for i in range(len(random_indices)):\n",
        "    print(f\"Actual English:   {sample_actual_decoded[i]}\")\n",
        "    print(f\"Predicted English: {sample_pred_decoded[i]}\\n\")"
      ],
      "metadata": {
        "id": "zxJq3AA4P-K0",
        "colab": {
          "base_uri": "https://localhost:8080/"
        },
        "outputId": "6a40e52a-c5af-43b1-f5e5-afd3177a0b8b"
      },
      "execution_count": 42,
      "outputs": [
        {
          "output_type": "stream",
          "name": "stdout",
          "text": [
            "1/1 [==============================] - 1s 578ms/step\n",
            "Actual English:   legitimacy in other words a legal basis produced by including sport in the treaty and secondly an adequate budget for funding the most important aspects of europes approach to sport\n",
            "Predicted English: the the the the the the the the the the the\n",
            "\n",
            "Actual English:   exquisite greens and a stunning scenery provide the perfect environment for successful putting and\n",
            "Predicted English: the\n",
            "\n",
            "Actual English:   it should the impact of the plan it is presenting in agenda which will in the end make it more difficult to grant aid and will no doubt have the effect of eliminating structural funds measures for belgian objective and regions\n",
            "Predicted English: the the the the\n",
            "\n",
            "Actual English:   thirty four years of experience in blade\n",
            "Predicted English: the the the the\n",
            "\n",
            "Actual English:   the presence of thirdcountry workers must be evaluated with at least two considerations in mind\n",
            "Predicted English: is the the the the the the the\n",
            "\n",
            "Actual English:   a relationship between the religious and the manuscript tradition was established moreover the started writing in their and other texts about the nature and the manner of singing\n",
            "Predicted English: is the the the the the the\n",
            "\n",
            "Actual English:   must be careful to protect the freedom justice human rights and political pluralism that that are the of our union\n",
            "Predicted English: is the the the the the the\n",
            "\n",
            "Actual English:   minimum price for starch are made questionable by measures in the sector with which it\n",
            "Predicted English: the the the\n",
            "\n",
            "Actual English:   room was situated at the front and as there was some kind of disco we had some trouble sleeping\n",
            "Predicted English: is the the the the the the the the the the\n",
            "\n",
            "Actual English:   environment is by traffic world wide including that of the public aviation sector\n",
            "Predicted English: is the the the the\n",
            "\n"
          ]
        }
      ]
    },
    {
      "cell_type": "code",
      "source": [
        "# Combine RNN and LSTM results\n",
        "combined_results_df = pd.concat([rnn_results_df, lstm_results_df], ignore_index=True)\n",
        "combined_results_df"
      ],
      "metadata": {
        "id": "5M70ltjiQAlV",
        "colab": {
          "base_uri": "https://localhost:8080/",
          "height": 125
        },
        "outputId": "70d2dd9f-80ea-4b27-cd0e-dd55bc9cefb0"
      },
      "execution_count": 43,
      "outputs": [
        {
          "output_type": "execute_result",
          "data": {
            "text/plain": [
              "  Model   Accuracy\n",
              "0   RNN  96.786445\n",
              "1  LSTM  96.845675"
            ],
            "text/html": [
              "\n",
              "  <div id=\"df-cd67eb63-c94c-48ca-af5d-ec7b554d610d\" class=\"colab-df-container\">\n",
              "    <div>\n",
              "<style scoped>\n",
              "    .dataframe tbody tr th:only-of-type {\n",
              "        vertical-align: middle;\n",
              "    }\n",
              "\n",
              "    .dataframe tbody tr th {\n",
              "        vertical-align: top;\n",
              "    }\n",
              "\n",
              "    .dataframe thead th {\n",
              "        text-align: right;\n",
              "    }\n",
              "</style>\n",
              "<table border=\"1\" class=\"dataframe\">\n",
              "  <thead>\n",
              "    <tr style=\"text-align: right;\">\n",
              "      <th></th>\n",
              "      <th>Model</th>\n",
              "      <th>Accuracy</th>\n",
              "    </tr>\n",
              "  </thead>\n",
              "  <tbody>\n",
              "    <tr>\n",
              "      <th>0</th>\n",
              "      <td>RNN</td>\n",
              "      <td>96.786445</td>\n",
              "    </tr>\n",
              "    <tr>\n",
              "      <th>1</th>\n",
              "      <td>LSTM</td>\n",
              "      <td>96.845675</td>\n",
              "    </tr>\n",
              "  </tbody>\n",
              "</table>\n",
              "</div>\n",
              "    <div class=\"colab-df-buttons\">\n",
              "\n",
              "  <div class=\"colab-df-container\">\n",
              "    <button class=\"colab-df-convert\" onclick=\"convertToInteractive('df-cd67eb63-c94c-48ca-af5d-ec7b554d610d')\"\n",
              "            title=\"Convert this dataframe to an interactive table.\"\n",
              "            style=\"display:none;\">\n",
              "\n",
              "  <svg xmlns=\"http://www.w3.org/2000/svg\" height=\"24px\" viewBox=\"0 -960 960 960\">\n",
              "    <path d=\"M120-120v-720h720v720H120Zm60-500h600v-160H180v160Zm220 220h160v-160H400v160Zm0 220h160v-160H400v160ZM180-400h160v-160H180v160Zm440 0h160v-160H620v160ZM180-180h160v-160H180v160Zm440 0h160v-160H620v160Z\"/>\n",
              "  </svg>\n",
              "    </button>\n",
              "\n",
              "  <style>\n",
              "    .colab-df-container {\n",
              "      display:flex;\n",
              "      gap: 12px;\n",
              "    }\n",
              "\n",
              "    .colab-df-convert {\n",
              "      background-color: #E8F0FE;\n",
              "      border: none;\n",
              "      border-radius: 50%;\n",
              "      cursor: pointer;\n",
              "      display: none;\n",
              "      fill: #1967D2;\n",
              "      height: 32px;\n",
              "      padding: 0 0 0 0;\n",
              "      width: 32px;\n",
              "    }\n",
              "\n",
              "    .colab-df-convert:hover {\n",
              "      background-color: #E2EBFA;\n",
              "      box-shadow: 0px 1px 2px rgba(60, 64, 67, 0.3), 0px 1px 3px 1px rgba(60, 64, 67, 0.15);\n",
              "      fill: #174EA6;\n",
              "    }\n",
              "\n",
              "    .colab-df-buttons div {\n",
              "      margin-bottom: 4px;\n",
              "    }\n",
              "\n",
              "    [theme=dark] .colab-df-convert {\n",
              "      background-color: #3B4455;\n",
              "      fill: #D2E3FC;\n",
              "    }\n",
              "\n",
              "    [theme=dark] .colab-df-convert:hover {\n",
              "      background-color: #434B5C;\n",
              "      box-shadow: 0px 1px 3px 1px rgba(0, 0, 0, 0.15);\n",
              "      filter: drop-shadow(0px 1px 2px rgba(0, 0, 0, 0.3));\n",
              "      fill: #FFFFFF;\n",
              "    }\n",
              "  </style>\n",
              "\n",
              "    <script>\n",
              "      const buttonEl =\n",
              "        document.querySelector('#df-cd67eb63-c94c-48ca-af5d-ec7b554d610d button.colab-df-convert');\n",
              "      buttonEl.style.display =\n",
              "        google.colab.kernel.accessAllowed ? 'block' : 'none';\n",
              "\n",
              "      async function convertToInteractive(key) {\n",
              "        const element = document.querySelector('#df-cd67eb63-c94c-48ca-af5d-ec7b554d610d');\n",
              "        const dataTable =\n",
              "          await google.colab.kernel.invokeFunction('convertToInteractive',\n",
              "                                                    [key], {});\n",
              "        if (!dataTable) return;\n",
              "\n",
              "        const docLinkHtml = 'Like what you see? Visit the ' +\n",
              "          '<a target=\"_blank\" href=https://colab.research.google.com/notebooks/data_table.ipynb>data table notebook</a>'\n",
              "          + ' to learn more about interactive tables.';\n",
              "        element.innerHTML = '';\n",
              "        dataTable['output_type'] = 'display_data';\n",
              "        await google.colab.output.renderOutput(dataTable, element);\n",
              "        const docLink = document.createElement('div');\n",
              "        docLink.innerHTML = docLinkHtml;\n",
              "        element.appendChild(docLink);\n",
              "      }\n",
              "    </script>\n",
              "  </div>\n",
              "\n",
              "\n",
              "<div id=\"df-3a92cb29-989a-45fc-a997-0386c8146d01\">\n",
              "  <button class=\"colab-df-quickchart\" onclick=\"quickchart('df-3a92cb29-989a-45fc-a997-0386c8146d01')\"\n",
              "            title=\"Suggest charts\"\n",
              "            style=\"display:none;\">\n",
              "\n",
              "<svg xmlns=\"http://www.w3.org/2000/svg\" height=\"24px\"viewBox=\"0 0 24 24\"\n",
              "     width=\"24px\">\n",
              "    <g>\n",
              "        <path d=\"M19 3H5c-1.1 0-2 .9-2 2v14c0 1.1.9 2 2 2h14c1.1 0 2-.9 2-2V5c0-1.1-.9-2-2-2zM9 17H7v-7h2v7zm4 0h-2V7h2v10zm4 0h-2v-4h2v4z\"/>\n",
              "    </g>\n",
              "</svg>\n",
              "  </button>\n",
              "\n",
              "<style>\n",
              "  .colab-df-quickchart {\n",
              "      --bg-color: #E8F0FE;\n",
              "      --fill-color: #1967D2;\n",
              "      --hover-bg-color: #E2EBFA;\n",
              "      --hover-fill-color: #174EA6;\n",
              "      --disabled-fill-color: #AAA;\n",
              "      --disabled-bg-color: #DDD;\n",
              "  }\n",
              "\n",
              "  [theme=dark] .colab-df-quickchart {\n",
              "      --bg-color: #3B4455;\n",
              "      --fill-color: #D2E3FC;\n",
              "      --hover-bg-color: #434B5C;\n",
              "      --hover-fill-color: #FFFFFF;\n",
              "      --disabled-bg-color: #3B4455;\n",
              "      --disabled-fill-color: #666;\n",
              "  }\n",
              "\n",
              "  .colab-df-quickchart {\n",
              "    background-color: var(--bg-color);\n",
              "    border: none;\n",
              "    border-radius: 50%;\n",
              "    cursor: pointer;\n",
              "    display: none;\n",
              "    fill: var(--fill-color);\n",
              "    height: 32px;\n",
              "    padding: 0;\n",
              "    width: 32px;\n",
              "  }\n",
              "\n",
              "  .colab-df-quickchart:hover {\n",
              "    background-color: var(--hover-bg-color);\n",
              "    box-shadow: 0 1px 2px rgba(60, 64, 67, 0.3), 0 1px 3px 1px rgba(60, 64, 67, 0.15);\n",
              "    fill: var(--button-hover-fill-color);\n",
              "  }\n",
              "\n",
              "  .colab-df-quickchart-complete:disabled,\n",
              "  .colab-df-quickchart-complete:disabled:hover {\n",
              "    background-color: var(--disabled-bg-color);\n",
              "    fill: var(--disabled-fill-color);\n",
              "    box-shadow: none;\n",
              "  }\n",
              "\n",
              "  .colab-df-spinner {\n",
              "    border: 2px solid var(--fill-color);\n",
              "    border-color: transparent;\n",
              "    border-bottom-color: var(--fill-color);\n",
              "    animation:\n",
              "      spin 1s steps(1) infinite;\n",
              "  }\n",
              "\n",
              "  @keyframes spin {\n",
              "    0% {\n",
              "      border-color: transparent;\n",
              "      border-bottom-color: var(--fill-color);\n",
              "      border-left-color: var(--fill-color);\n",
              "    }\n",
              "    20% {\n",
              "      border-color: transparent;\n",
              "      border-left-color: var(--fill-color);\n",
              "      border-top-color: var(--fill-color);\n",
              "    }\n",
              "    30% {\n",
              "      border-color: transparent;\n",
              "      border-left-color: var(--fill-color);\n",
              "      border-top-color: var(--fill-color);\n",
              "      border-right-color: var(--fill-color);\n",
              "    }\n",
              "    40% {\n",
              "      border-color: transparent;\n",
              "      border-right-color: var(--fill-color);\n",
              "      border-top-color: var(--fill-color);\n",
              "    }\n",
              "    60% {\n",
              "      border-color: transparent;\n",
              "      border-right-color: var(--fill-color);\n",
              "    }\n",
              "    80% {\n",
              "      border-color: transparent;\n",
              "      border-right-color: var(--fill-color);\n",
              "      border-bottom-color: var(--fill-color);\n",
              "    }\n",
              "    90% {\n",
              "      border-color: transparent;\n",
              "      border-bottom-color: var(--fill-color);\n",
              "    }\n",
              "  }\n",
              "</style>\n",
              "\n",
              "  <script>\n",
              "    async function quickchart(key) {\n",
              "      const quickchartButtonEl =\n",
              "        document.querySelector('#' + key + ' button');\n",
              "      quickchartButtonEl.disabled = true;  // To prevent multiple clicks.\n",
              "      quickchartButtonEl.classList.add('colab-df-spinner');\n",
              "      try {\n",
              "        const charts = await google.colab.kernel.invokeFunction(\n",
              "            'suggestCharts', [key], {});\n",
              "      } catch (error) {\n",
              "        console.error('Error during call to suggestCharts:', error);\n",
              "      }\n",
              "      quickchartButtonEl.classList.remove('colab-df-spinner');\n",
              "      quickchartButtonEl.classList.add('colab-df-quickchart-complete');\n",
              "    }\n",
              "    (() => {\n",
              "      let quickchartButtonEl =\n",
              "        document.querySelector('#df-3a92cb29-989a-45fc-a997-0386c8146d01 button');\n",
              "      quickchartButtonEl.style.display =\n",
              "        google.colab.kernel.accessAllowed ? 'block' : 'none';\n",
              "    })();\n",
              "  </script>\n",
              "</div>\n",
              "\n",
              "  <div id=\"id_8d388e23-e2d6-4be8-9432-b8ae8118d3d2\">\n",
              "    <style>\n",
              "      .colab-df-generate {\n",
              "        background-color: #E8F0FE;\n",
              "        border: none;\n",
              "        border-radius: 50%;\n",
              "        cursor: pointer;\n",
              "        display: none;\n",
              "        fill: #1967D2;\n",
              "        height: 32px;\n",
              "        padding: 0 0 0 0;\n",
              "        width: 32px;\n",
              "      }\n",
              "\n",
              "      .colab-df-generate:hover {\n",
              "        background-color: #E2EBFA;\n",
              "        box-shadow: 0px 1px 2px rgba(60, 64, 67, 0.3), 0px 1px 3px 1px rgba(60, 64, 67, 0.15);\n",
              "        fill: #174EA6;\n",
              "      }\n",
              "\n",
              "      [theme=dark] .colab-df-generate {\n",
              "        background-color: #3B4455;\n",
              "        fill: #D2E3FC;\n",
              "      }\n",
              "\n",
              "      [theme=dark] .colab-df-generate:hover {\n",
              "        background-color: #434B5C;\n",
              "        box-shadow: 0px 1px 3px 1px rgba(0, 0, 0, 0.15);\n",
              "        filter: drop-shadow(0px 1px 2px rgba(0, 0, 0, 0.3));\n",
              "        fill: #FFFFFF;\n",
              "      }\n",
              "    </style>\n",
              "    <button class=\"colab-df-generate\" onclick=\"generateWithVariable('combined_results_df')\"\n",
              "            title=\"Generate code using this dataframe.\"\n",
              "            style=\"display:none;\">\n",
              "\n",
              "  <svg xmlns=\"http://www.w3.org/2000/svg\" height=\"24px\"viewBox=\"0 0 24 24\"\n",
              "       width=\"24px\">\n",
              "    <path d=\"M7,19H8.4L18.45,9,17,7.55,7,17.6ZM5,21V16.75L18.45,3.32a2,2,0,0,1,2.83,0l1.4,1.43a1.91,1.91,0,0,1,.58,1.4,1.91,1.91,0,0,1-.58,1.4L9.25,21ZM18.45,9,17,7.55Zm-12,3A5.31,5.31,0,0,0,4.9,8.1,5.31,5.31,0,0,0,1,6.5,5.31,5.31,0,0,0,4.9,4.9,5.31,5.31,0,0,0,6.5,1,5.31,5.31,0,0,0,8.1,4.9,5.31,5.31,0,0,0,12,6.5,5.46,5.46,0,0,0,6.5,12Z\"/>\n",
              "  </svg>\n",
              "    </button>\n",
              "    <script>\n",
              "      (() => {\n",
              "      const buttonEl =\n",
              "        document.querySelector('#id_8d388e23-e2d6-4be8-9432-b8ae8118d3d2 button.colab-df-generate');\n",
              "      buttonEl.style.display =\n",
              "        google.colab.kernel.accessAllowed ? 'block' : 'none';\n",
              "\n",
              "      buttonEl.onclick = () => {\n",
              "        google.colab.notebook.generateWithVariable('combined_results_df');\n",
              "      }\n",
              "      })();\n",
              "    </script>\n",
              "  </div>\n",
              "\n",
              "    </div>\n",
              "  </div>\n"
            ],
            "application/vnd.google.colaboratory.intrinsic+json": {
              "type": "dataframe",
              "variable_name": "combined_results_df",
              "summary": "{\n  \"name\": \"combined_results_df\",\n  \"rows\": 2,\n  \"fields\": [\n    {\n      \"column\": \"Model\",\n      \"properties\": {\n        \"dtype\": \"string\",\n        \"num_unique_values\": 2,\n        \"samples\": [\n          \"LSTM\",\n          \"RNN\"\n        ],\n        \"semantic_type\": \"\",\n        \"description\": \"\"\n      }\n    },\n    {\n      \"column\": \"Accuracy\",\n      \"properties\": {\n        \"dtype\": \"number\",\n        \"std\": 0.0418813233652754,\n        \"min\": 96.7864453792572,\n        \"max\": 96.84567451477051,\n        \"num_unique_values\": 2,\n        \"samples\": [\n          96.84567451477051,\n          96.7864453792572\n        ],\n        \"semantic_type\": \"\",\n        \"description\": \"\"\n      }\n    }\n  ]\n}"
            }
          },
          "metadata": {},
          "execution_count": 43
        }
      ]
    },
    {
      "cell_type": "code",
      "source": [],
      "metadata": {
        "id": "IwIM-g8BQDjk"
      },
      "execution_count": null,
      "outputs": []
    }
  ]
}