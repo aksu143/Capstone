{
  "cells": [
    {
      "cell_type": "code",
      "source": [
        "from google.colab import drive\n",
        "drive.mount('/content/drive')"
      ],
      "metadata": {
        "id": "Z8fZw9DNWnb7",
        "outputId": "3a3fc72a-1f6c-48f2-f30c-e208ced6b503",
        "colab": {
          "base_uri": "https://localhost:8080/"
        }
      },
      "id": "Z8fZw9DNWnb7",
      "execution_count": 9,
      "outputs": [
        {
          "output_type": "stream",
          "name": "stdout",
          "text": [
            "Drive already mounted at /content/drive; to attempt to forcibly remount, call drive.mount(\"/content/drive\", force_remount=True).\n"
          ]
        }
      ]
    },
    {
      "cell_type": "code",
      "source": [
        "import pandas as pd\n",
        "import numpy as np\n",
        "import matplotlib.pyplot as plt\n",
        "import seaborn as sns\n",
        "from google.colab import files\n",
        "import io\n",
        "import os"
      ],
      "metadata": {
        "id": "MlQUdK_Sgi57"
      },
      "id": "MlQUdK_Sgi57",
      "execution_count": 10,
      "outputs": []
    },
    {
      "cell_type": "code",
      "source": [
        "from tensorflow.keras.utils import plot_model\n",
        "\n",
        "import tensorflow as tf\n",
        "import tensorflow.keras as keras\n",
        "from tensorflow.keras import models\n",
        "from tensorflow.keras import layers\n",
        "from tensorflow.keras import optimizers\n",
        "from tensorflow.keras import losses\n",
        "from tensorflow.keras import metrics\n",
        "from keras.models import load_model\n",
        "\n",
        "from tensorflow.keras.preprocessing.text import Tokenizer\n",
        "from tensorflow.keras.preprocessing.sequence import pad_sequences\n",
        "from tensorflow.keras.layers import Dense, LSTM, Input, Embedding, Activation, RepeatVector, Dropout, BatchNormalization, Flatten, Bidirectional, TimeDistributed, SimpleRNN\n",
        "from tensorflow.keras.optimizers import Adam\n",
        "from tensorflow.keras.losses import sparse_categorical_crossentropy\n",
        "from tensorflow.keras.models import Model, Sequential\n",
        "from tensorflow.keras.initializers import Constant\n",
        "from tensorflow.keras.callbacks import ModelCheckpoint, ReduceLROnPlateau\n",
        "\n",
        "import nltk\n",
        "from nltk.translate.bleu_score import sentence_bleu, SmoothingFunction\n",
        "from nltk.stem.wordnet import WordNetLemmatizer\n",
        "from nltk.stem import PorterStemmer\n",
        "from nltk.corpus import stopwords\n",
        "from nltk.tokenize import RegexpTokenizer\n",
        "\n",
        "pd.set_option('display.max_colwidth', 200)\n",
        "\n",
        "import random\n",
        "random.seed(0)\n",
        "import re\n",
        "import string\n",
        "import warnings\n",
        "warnings.filterwarnings(\"ignore\")\n",
        "from numpy import array, argmax, random, take\n",
        "\n",
        "nltk.download('stopwords',quiet=True)\n",
        "nltk.download('wordnet', quiet=True)\n",
        "\n",
        "from sklearn.model_selection import train_test_split\n",
        "from sklearn.preprocessing import LabelBinarizer\n",
        "from sklearn.feature_extraction.text import CountVectorizer\n",
        "from sklearn.feature_extraction.text import TfidfVectorizer\n",
        "from sklearn.manifold import TSNE\n",
        "from sklearn.metrics.pairwise import cosine_similarity"
      ],
      "metadata": {
        "id": "pyv8Mp3ngk5q"
      },
      "id": "pyv8Mp3ngk5q",
      "execution_count": 11,
      "outputs": []
    },
    {
      "cell_type": "code",
      "source": [
        "newscommentary_en_dataset = open('/content/drive/MyDrive/Colab Notebooks/news-commentary-v9_en.txt', encoding='utf-8')\n",
        "newscommentary_de_dataset = open('/content/drive/MyDrive/Colab Notebooks/news-commentary-v9_de.txt', encoding='utf-8')"
      ],
      "metadata": {
        "id": "Wxe4A0umu86q"
      },
      "id": "Wxe4A0umu86q",
      "execution_count": 12,
      "outputs": []
    },
    {
      "cell_type": "code",
      "source": [
        "newscommentary_en = newscommentary_en_dataset.readlines()\n",
        "newscommentary_de = newscommentary_de_dataset.readlines()"
      ],
      "metadata": {
        "id": "SWivco6AvhCk"
      },
      "id": "SWivco6AvhCk",
      "execution_count": 13,
      "outputs": []
    },
    {
      "cell_type": "code",
      "source": [
        "newscommentary_en_df = pd.DataFrame(newscommentary_en, columns=['English'])\n",
        "newscommentary_de_df = pd.DataFrame(newscommentary_de, columns = ['German'])"
      ],
      "metadata": {
        "id": "psP-OCumvpO5"
      },
      "id": "psP-OCumvpO5",
      "execution_count": 14,
      "outputs": []
    },
    {
      "cell_type": "code",
      "source": [
        "combined_df = pd.concat([newscommentary_de_df, newscommentary_en_df], axis=1)"
      ],
      "metadata": {
        "id": "l6RfGL-Qv54v"
      },
      "id": "l6RfGL-Qv54v",
      "execution_count": 15,
      "outputs": []
    },
    {
      "cell_type": "code",
      "source": [
        "combined_df.to_csv(r'/content/drive/MyDrive/combined_dataset.csv', index=False)"
      ],
      "metadata": {
        "id": "JrhQoiA4wC42"
      },
      "id": "JrhQoiA4wC42",
      "execution_count": 16,
      "outputs": []
    },
    {
      "cell_type": "code",
      "execution_count": 17,
      "id": "02b3ffa0",
      "metadata": {
        "id": "02b3ffa0"
      },
      "outputs": [],
      "source": [
        "combined_dataset = pd.read_csv('/content/drive/MyDrive/combined_dataset.csv')"
      ]
    },
    {
      "cell_type": "code",
      "source": [
        "combined_dataset.info()"
      ],
      "metadata": {
        "colab": {
          "base_uri": "https://localhost:8080/"
        },
        "id": "QaD345tBBD8d",
        "outputId": "a5260d6c-2c20-4a7f-b0ac-1f053d0f5dbc"
      },
      "id": "QaD345tBBD8d",
      "execution_count": 18,
      "outputs": [
        {
          "output_type": "stream",
          "name": "stdout",
          "text": [
            "<class 'pandas.core.frame.DataFrame'>\n",
            "RangeIndex: 201995 entries, 0 to 201994\n",
            "Data columns (total 2 columns):\n",
            " #   Column   Non-Null Count   Dtype \n",
            "---  ------   --------------   ----- \n",
            " 0   German   201854 non-null  object\n",
            " 1   English  201995 non-null  object\n",
            "dtypes: object(2)\n",
            "memory usage: 3.1+ MB\n"
          ]
        }
      ]
    },
    {
      "cell_type": "code",
      "source": [
        "# Observing the shape of merged dataframes\n",
        "\n",
        "combined_dataset.shape"
      ],
      "metadata": {
        "id": "4f3mGZbgb_Dt",
        "colab": {
          "base_uri": "https://localhost:8080/"
        },
        "outputId": "acc90735-2f67-4d08-e534-b79423ddc0d0"
      },
      "id": "4f3mGZbgb_Dt",
      "execution_count": 19,
      "outputs": [
        {
          "output_type": "execute_result",
          "data": {
            "text/plain": [
              "(201995, 2)"
            ]
          },
          "metadata": {},
          "execution_count": 19
        }
      ]
    },
    {
      "cell_type": "code",
      "source": [
        "# Observing the top 5 entries of merged dataframe\n",
        "\n",
        "combined_dataset.head()"
      ],
      "metadata": {
        "colab": {
          "base_uri": "https://localhost:8080/",
          "height": 276
        },
        "id": "ifgoqoxeB8Dz",
        "outputId": "08aa3e24-4c22-4caf-9a46-3d630aaadb07"
      },
      "id": "ifgoqoxeB8Dz",
      "execution_count": 20,
      "outputs": [
        {
          "output_type": "execute_result",
          "data": {
            "text/plain": [
              "                                                                                                                                                                                                    German  \\\n",
              "0                                                                                                                                                                         Steigt Gold auf 10.000 Dollar?\\n   \n",
              "1                                                                                                      SAN FRANCISCO – Es war noch nie leicht, ein rationales Gespräch über den Wert von Gold zu führen.\\n   \n",
              "2                                                                  In letzter Zeit allerdings ist dies schwieriger denn je, ist doch der Goldpreis im letzten Jahrzehnt um über 300 Prozent angestiegen.\\n   \n",
              "3  Erst letzten Dezember verfassten meine Kollegen Martin Feldstein und Nouriel Roubini Kommentare, in denen sie mutig die vorherrschende optimistische Marktstimmung hinterfragten und sehr überlegt a...   \n",
              "4                                                                                                                                                                      Und es kam, wie es kommen musste.\\n   \n",
              "\n",
              "                                                                                                                                                                             English  \n",
              "0                                                                                                                                                                    $10,000 Gold?\\n  \n",
              "1                                                                                  SAN FRANCISCO – It has never been easy to have a rational conversation about the value of gold.\\n  \n",
              "2                                                                                         Lately, with gold prices up more than 300% over the last decade, it is harder than ever.\\n  \n",
              "3  Just last December, fellow economists Martin Feldstein and Nouriel Roubini each penned op-eds bravely questioning bullish market sentiment, sensibly pointing out gold’s risks.\\n  \n",
              "4                                                                                                                                                            Wouldn’t you know it?\\n  "
            ],
            "text/html": [
              "\n",
              "  <div id=\"df-81dd39f2-7041-4f00-ad3e-c0be15b05056\" class=\"colab-df-container\">\n",
              "    <div>\n",
              "<style scoped>\n",
              "    .dataframe tbody tr th:only-of-type {\n",
              "        vertical-align: middle;\n",
              "    }\n",
              "\n",
              "    .dataframe tbody tr th {\n",
              "        vertical-align: top;\n",
              "    }\n",
              "\n",
              "    .dataframe thead th {\n",
              "        text-align: right;\n",
              "    }\n",
              "</style>\n",
              "<table border=\"1\" class=\"dataframe\">\n",
              "  <thead>\n",
              "    <tr style=\"text-align: right;\">\n",
              "      <th></th>\n",
              "      <th>German</th>\n",
              "      <th>English</th>\n",
              "    </tr>\n",
              "  </thead>\n",
              "  <tbody>\n",
              "    <tr>\n",
              "      <th>0</th>\n",
              "      <td>Steigt Gold auf 10.000 Dollar?\\n</td>\n",
              "      <td>$10,000 Gold?\\n</td>\n",
              "    </tr>\n",
              "    <tr>\n",
              "      <th>1</th>\n",
              "      <td>SAN FRANCISCO – Es war noch nie leicht, ein rationales Gespräch über den Wert von Gold zu führen.\\n</td>\n",
              "      <td>SAN FRANCISCO – It has never been easy to have a rational conversation about the value of gold.\\n</td>\n",
              "    </tr>\n",
              "    <tr>\n",
              "      <th>2</th>\n",
              "      <td>In letzter Zeit allerdings ist dies schwieriger denn je, ist doch der Goldpreis im letzten Jahrzehnt um über 300 Prozent angestiegen.\\n</td>\n",
              "      <td>Lately, with gold prices up more than 300% over the last decade, it is harder than ever.\\n</td>\n",
              "    </tr>\n",
              "    <tr>\n",
              "      <th>3</th>\n",
              "      <td>Erst letzten Dezember verfassten meine Kollegen Martin Feldstein und Nouriel Roubini Kommentare, in denen sie mutig die vorherrschende optimistische Marktstimmung hinterfragten und sehr überlegt a...</td>\n",
              "      <td>Just last December, fellow economists Martin Feldstein and Nouriel Roubini each penned op-eds bravely questioning bullish market sentiment, sensibly pointing out gold’s risks.\\n</td>\n",
              "    </tr>\n",
              "    <tr>\n",
              "      <th>4</th>\n",
              "      <td>Und es kam, wie es kommen musste.\\n</td>\n",
              "      <td>Wouldn’t you know it?\\n</td>\n",
              "    </tr>\n",
              "  </tbody>\n",
              "</table>\n",
              "</div>\n",
              "    <div class=\"colab-df-buttons\">\n",
              "\n",
              "  <div class=\"colab-df-container\">\n",
              "    <button class=\"colab-df-convert\" onclick=\"convertToInteractive('df-81dd39f2-7041-4f00-ad3e-c0be15b05056')\"\n",
              "            title=\"Convert this dataframe to an interactive table.\"\n",
              "            style=\"display:none;\">\n",
              "\n",
              "  <svg xmlns=\"http://www.w3.org/2000/svg\" height=\"24px\" viewBox=\"0 -960 960 960\">\n",
              "    <path d=\"M120-120v-720h720v720H120Zm60-500h600v-160H180v160Zm220 220h160v-160H400v160Zm0 220h160v-160H400v160ZM180-400h160v-160H180v160Zm440 0h160v-160H620v160ZM180-180h160v-160H180v160Zm440 0h160v-160H620v160Z\"/>\n",
              "  </svg>\n",
              "    </button>\n",
              "\n",
              "  <style>\n",
              "    .colab-df-container {\n",
              "      display:flex;\n",
              "      gap: 12px;\n",
              "    }\n",
              "\n",
              "    .colab-df-convert {\n",
              "      background-color: #E8F0FE;\n",
              "      border: none;\n",
              "      border-radius: 50%;\n",
              "      cursor: pointer;\n",
              "      display: none;\n",
              "      fill: #1967D2;\n",
              "      height: 32px;\n",
              "      padding: 0 0 0 0;\n",
              "      width: 32px;\n",
              "    }\n",
              "\n",
              "    .colab-df-convert:hover {\n",
              "      background-color: #E2EBFA;\n",
              "      box-shadow: 0px 1px 2px rgba(60, 64, 67, 0.3), 0px 1px 3px 1px rgba(60, 64, 67, 0.15);\n",
              "      fill: #174EA6;\n",
              "    }\n",
              "\n",
              "    .colab-df-buttons div {\n",
              "      margin-bottom: 4px;\n",
              "    }\n",
              "\n",
              "    [theme=dark] .colab-df-convert {\n",
              "      background-color: #3B4455;\n",
              "      fill: #D2E3FC;\n",
              "    }\n",
              "\n",
              "    [theme=dark] .colab-df-convert:hover {\n",
              "      background-color: #434B5C;\n",
              "      box-shadow: 0px 1px 3px 1px rgba(0, 0, 0, 0.15);\n",
              "      filter: drop-shadow(0px 1px 2px rgba(0, 0, 0, 0.3));\n",
              "      fill: #FFFFFF;\n",
              "    }\n",
              "  </style>\n",
              "\n",
              "    <script>\n",
              "      const buttonEl =\n",
              "        document.querySelector('#df-81dd39f2-7041-4f00-ad3e-c0be15b05056 button.colab-df-convert');\n",
              "      buttonEl.style.display =\n",
              "        google.colab.kernel.accessAllowed ? 'block' : 'none';\n",
              "\n",
              "      async function convertToInteractive(key) {\n",
              "        const element = document.querySelector('#df-81dd39f2-7041-4f00-ad3e-c0be15b05056');\n",
              "        const dataTable =\n",
              "          await google.colab.kernel.invokeFunction('convertToInteractive',\n",
              "                                                    [key], {});\n",
              "        if (!dataTable) return;\n",
              "\n",
              "        const docLinkHtml = 'Like what you see? Visit the ' +\n",
              "          '<a target=\"_blank\" href=https://colab.research.google.com/notebooks/data_table.ipynb>data table notebook</a>'\n",
              "          + ' to learn more about interactive tables.';\n",
              "        element.innerHTML = '';\n",
              "        dataTable['output_type'] = 'display_data';\n",
              "        await google.colab.output.renderOutput(dataTable, element);\n",
              "        const docLink = document.createElement('div');\n",
              "        docLink.innerHTML = docLinkHtml;\n",
              "        element.appendChild(docLink);\n",
              "      }\n",
              "    </script>\n",
              "  </div>\n",
              "\n",
              "\n",
              "<div id=\"df-9b727f7f-c532-4e5d-8664-42621e09ea2c\">\n",
              "  <button class=\"colab-df-quickchart\" onclick=\"quickchart('df-9b727f7f-c532-4e5d-8664-42621e09ea2c')\"\n",
              "            title=\"Suggest charts\"\n",
              "            style=\"display:none;\">\n",
              "\n",
              "<svg xmlns=\"http://www.w3.org/2000/svg\" height=\"24px\"viewBox=\"0 0 24 24\"\n",
              "     width=\"24px\">\n",
              "    <g>\n",
              "        <path d=\"M19 3H5c-1.1 0-2 .9-2 2v14c0 1.1.9 2 2 2h14c1.1 0 2-.9 2-2V5c0-1.1-.9-2-2-2zM9 17H7v-7h2v7zm4 0h-2V7h2v10zm4 0h-2v-4h2v4z\"/>\n",
              "    </g>\n",
              "</svg>\n",
              "  </button>\n",
              "\n",
              "<style>\n",
              "  .colab-df-quickchart {\n",
              "      --bg-color: #E8F0FE;\n",
              "      --fill-color: #1967D2;\n",
              "      --hover-bg-color: #E2EBFA;\n",
              "      --hover-fill-color: #174EA6;\n",
              "      --disabled-fill-color: #AAA;\n",
              "      --disabled-bg-color: #DDD;\n",
              "  }\n",
              "\n",
              "  [theme=dark] .colab-df-quickchart {\n",
              "      --bg-color: #3B4455;\n",
              "      --fill-color: #D2E3FC;\n",
              "      --hover-bg-color: #434B5C;\n",
              "      --hover-fill-color: #FFFFFF;\n",
              "      --disabled-bg-color: #3B4455;\n",
              "      --disabled-fill-color: #666;\n",
              "  }\n",
              "\n",
              "  .colab-df-quickchart {\n",
              "    background-color: var(--bg-color);\n",
              "    border: none;\n",
              "    border-radius: 50%;\n",
              "    cursor: pointer;\n",
              "    display: none;\n",
              "    fill: var(--fill-color);\n",
              "    height: 32px;\n",
              "    padding: 0;\n",
              "    width: 32px;\n",
              "  }\n",
              "\n",
              "  .colab-df-quickchart:hover {\n",
              "    background-color: var(--hover-bg-color);\n",
              "    box-shadow: 0 1px 2px rgba(60, 64, 67, 0.3), 0 1px 3px 1px rgba(60, 64, 67, 0.15);\n",
              "    fill: var(--button-hover-fill-color);\n",
              "  }\n",
              "\n",
              "  .colab-df-quickchart-complete:disabled,\n",
              "  .colab-df-quickchart-complete:disabled:hover {\n",
              "    background-color: var(--disabled-bg-color);\n",
              "    fill: var(--disabled-fill-color);\n",
              "    box-shadow: none;\n",
              "  }\n",
              "\n",
              "  .colab-df-spinner {\n",
              "    border: 2px solid var(--fill-color);\n",
              "    border-color: transparent;\n",
              "    border-bottom-color: var(--fill-color);\n",
              "    animation:\n",
              "      spin 1s steps(1) infinite;\n",
              "  }\n",
              "\n",
              "  @keyframes spin {\n",
              "    0% {\n",
              "      border-color: transparent;\n",
              "      border-bottom-color: var(--fill-color);\n",
              "      border-left-color: var(--fill-color);\n",
              "    }\n",
              "    20% {\n",
              "      border-color: transparent;\n",
              "      border-left-color: var(--fill-color);\n",
              "      border-top-color: var(--fill-color);\n",
              "    }\n",
              "    30% {\n",
              "      border-color: transparent;\n",
              "      border-left-color: var(--fill-color);\n",
              "      border-top-color: var(--fill-color);\n",
              "      border-right-color: var(--fill-color);\n",
              "    }\n",
              "    40% {\n",
              "      border-color: transparent;\n",
              "      border-right-color: var(--fill-color);\n",
              "      border-top-color: var(--fill-color);\n",
              "    }\n",
              "    60% {\n",
              "      border-color: transparent;\n",
              "      border-right-color: var(--fill-color);\n",
              "    }\n",
              "    80% {\n",
              "      border-color: transparent;\n",
              "      border-right-color: var(--fill-color);\n",
              "      border-bottom-color: var(--fill-color);\n",
              "    }\n",
              "    90% {\n",
              "      border-color: transparent;\n",
              "      border-bottom-color: var(--fill-color);\n",
              "    }\n",
              "  }\n",
              "</style>\n",
              "\n",
              "  <script>\n",
              "    async function quickchart(key) {\n",
              "      const quickchartButtonEl =\n",
              "        document.querySelector('#' + key + ' button');\n",
              "      quickchartButtonEl.disabled = true;  // To prevent multiple clicks.\n",
              "      quickchartButtonEl.classList.add('colab-df-spinner');\n",
              "      try {\n",
              "        const charts = await google.colab.kernel.invokeFunction(\n",
              "            'suggestCharts', [key], {});\n",
              "      } catch (error) {\n",
              "        console.error('Error during call to suggestCharts:', error);\n",
              "      }\n",
              "      quickchartButtonEl.classList.remove('colab-df-spinner');\n",
              "      quickchartButtonEl.classList.add('colab-df-quickchart-complete');\n",
              "    }\n",
              "    (() => {\n",
              "      let quickchartButtonEl =\n",
              "        document.querySelector('#df-9b727f7f-c532-4e5d-8664-42621e09ea2c button');\n",
              "      quickchartButtonEl.style.display =\n",
              "        google.colab.kernel.accessAllowed ? 'block' : 'none';\n",
              "    })();\n",
              "  </script>\n",
              "</div>\n",
              "\n",
              "    </div>\n",
              "  </div>\n"
            ],
            "application/vnd.google.colaboratory.intrinsic+json": {
              "type": "dataframe",
              "variable_name": "combined_dataset"
            }
          },
          "metadata": {},
          "execution_count": 20
        }
      ]
    },
    {
      "cell_type": "code",
      "source": [
        "# Dropping the null values from the dataframe\n",
        "\n",
        "combined_dataset.dropna()"
      ],
      "metadata": {
        "colab": {
          "base_uri": "https://localhost:8080/",
          "height": 701
        },
        "id": "KKSrfSvjB9jj",
        "outputId": "fde4253c-faf6-411d-f37f-a0a75359efc5"
      },
      "id": "KKSrfSvjB9jj",
      "execution_count": 21,
      "outputs": [
        {
          "output_type": "execute_result",
          "data": {
            "text/plain": [
              "                                                                                                                                                                                                         German  \\\n",
              "0                                                                                                                                                                              Steigt Gold auf 10.000 Dollar?\\n   \n",
              "1                                                                                                           SAN FRANCISCO – Es war noch nie leicht, ein rationales Gespräch über den Wert von Gold zu führen.\\n   \n",
              "2                                                                       In letzter Zeit allerdings ist dies schwieriger denn je, ist doch der Goldpreis im letzten Jahrzehnt um über 300 Prozent angestiegen.\\n   \n",
              "3       Erst letzten Dezember verfassten meine Kollegen Martin Feldstein und Nouriel Roubini Kommentare, in denen sie mutig die vorherrschende optimistische Marktstimmung hinterfragten und sehr überlegt a...   \n",
              "4                                                                                                                                                                           Und es kam, wie es kommen musste.\\n   \n",
              "...                                                                                                                                                                                                         ...   \n",
              "201849                                                                                                                               Das bleibt eine der größten Errungenschaften in der jüngeren Geschichte.\\n   \n",
              "201850                            Gleichzeitig scheint sich Zumas revolutionäre Generation mit der Führung Südafrikas in der nun seit 15 Jahren dauernden Ära nach der Apartheid noch immer unwohl zu fühlen.\\n   \n",
              "201851  In einer Region, wo die älteren Menschen sehr verehrt werden, muss Zumas Bindung an landestypische Traditionen eine gleichwertige Offenheit gegenüber den Bedürfnissen der Jugend des Landes gegenüb...   \n",
              "201852                                                                            Drei von zehn Südafrikanern sind jünger als 15 und das bedeutet, dass sie nicht einen Tag unter der Apartheid gelebt haben.\\n   \n",
              "201853  Irgendwie muss Zuma einen Weg finden, einerseits das Engagement seiner Generation hinsichtlich ethnischer Gerechtigkeit und nationaler Befreiung zu würdigen und andererseits den Massen, die täglic...   \n",
              "\n",
              "                                                                                                                                                                                                        English  \n",
              "0                                                                                                                                                                                               $10,000 Gold?\\n  \n",
              "1                                                                                                             SAN FRANCISCO – It has never been easy to have a rational conversation about the value of gold.\\n  \n",
              "2                                                                                                                    Lately, with gold prices up more than 300% over the last decade, it is harder than ever.\\n  \n",
              "3                             Just last December, fellow economists Martin Feldstein and Nouriel Roubini each penned op-eds bravely questioning bullish market sentiment, sensibly pointing out gold’s risks.\\n  \n",
              "4                                                                                                                                                                                       Wouldn’t you know it?\\n  \n",
              "...                                                                                                                                                                                                         ...  \n",
              "201849                                                                                                                                                                         It didn’t have to be this way.\\n  \n",
              "201850                                                                                                                                          This past year has seen one missed opportunity after another.\\n  \n",
              "201851  South African president Thabo Mbeki convened negotiations with Zimbabwe’s political groups; but they have been so unfruitful that opposition leaders recently all but accused Mbeki of lying to the ...  \n",
              "201852                                 Some African leaders – notably Ghana’s president, John Kufuor, and outgoing African Union head Alpha Konare – have tried to cajole Mugabe towards reform, to no avail.\\n  \n",
              "201853                     Perhaps more significantly, the international community’s failure to address Zimbabwe seriously shows, once again, that it lacks the political will to prevent foreseeable crises.\\n  \n",
              "\n",
              "[201854 rows x 2 columns]"
            ],
            "text/html": [
              "\n",
              "  <div id=\"df-b74e334e-d7f7-4101-9d7a-3438f53894f3\" class=\"colab-df-container\">\n",
              "    <div>\n",
              "<style scoped>\n",
              "    .dataframe tbody tr th:only-of-type {\n",
              "        vertical-align: middle;\n",
              "    }\n",
              "\n",
              "    .dataframe tbody tr th {\n",
              "        vertical-align: top;\n",
              "    }\n",
              "\n",
              "    .dataframe thead th {\n",
              "        text-align: right;\n",
              "    }\n",
              "</style>\n",
              "<table border=\"1\" class=\"dataframe\">\n",
              "  <thead>\n",
              "    <tr style=\"text-align: right;\">\n",
              "      <th></th>\n",
              "      <th>German</th>\n",
              "      <th>English</th>\n",
              "    </tr>\n",
              "  </thead>\n",
              "  <tbody>\n",
              "    <tr>\n",
              "      <th>0</th>\n",
              "      <td>Steigt Gold auf 10.000 Dollar?\\n</td>\n",
              "      <td>$10,000 Gold?\\n</td>\n",
              "    </tr>\n",
              "    <tr>\n",
              "      <th>1</th>\n",
              "      <td>SAN FRANCISCO – Es war noch nie leicht, ein rationales Gespräch über den Wert von Gold zu führen.\\n</td>\n",
              "      <td>SAN FRANCISCO – It has never been easy to have a rational conversation about the value of gold.\\n</td>\n",
              "    </tr>\n",
              "    <tr>\n",
              "      <th>2</th>\n",
              "      <td>In letzter Zeit allerdings ist dies schwieriger denn je, ist doch der Goldpreis im letzten Jahrzehnt um über 300 Prozent angestiegen.\\n</td>\n",
              "      <td>Lately, with gold prices up more than 300% over the last decade, it is harder than ever.\\n</td>\n",
              "    </tr>\n",
              "    <tr>\n",
              "      <th>3</th>\n",
              "      <td>Erst letzten Dezember verfassten meine Kollegen Martin Feldstein und Nouriel Roubini Kommentare, in denen sie mutig die vorherrschende optimistische Marktstimmung hinterfragten und sehr überlegt a...</td>\n",
              "      <td>Just last December, fellow economists Martin Feldstein and Nouriel Roubini each penned op-eds bravely questioning bullish market sentiment, sensibly pointing out gold’s risks.\\n</td>\n",
              "    </tr>\n",
              "    <tr>\n",
              "      <th>4</th>\n",
              "      <td>Und es kam, wie es kommen musste.\\n</td>\n",
              "      <td>Wouldn’t you know it?\\n</td>\n",
              "    </tr>\n",
              "    <tr>\n",
              "      <th>...</th>\n",
              "      <td>...</td>\n",
              "      <td>...</td>\n",
              "    </tr>\n",
              "    <tr>\n",
              "      <th>201849</th>\n",
              "      <td>Das bleibt eine der größten Errungenschaften in der jüngeren Geschichte.\\n</td>\n",
              "      <td>It didn’t have to be this way.\\n</td>\n",
              "    </tr>\n",
              "    <tr>\n",
              "      <th>201850</th>\n",
              "      <td>Gleichzeitig scheint sich Zumas revolutionäre Generation mit der Führung Südafrikas in der nun seit 15 Jahren dauernden Ära nach der Apartheid noch immer unwohl zu fühlen.\\n</td>\n",
              "      <td>This past year has seen one missed opportunity after another.\\n</td>\n",
              "    </tr>\n",
              "    <tr>\n",
              "      <th>201851</th>\n",
              "      <td>In einer Region, wo die älteren Menschen sehr verehrt werden, muss Zumas Bindung an landestypische Traditionen eine gleichwertige Offenheit gegenüber den Bedürfnissen der Jugend des Landes gegenüb...</td>\n",
              "      <td>South African president Thabo Mbeki convened negotiations with Zimbabwe’s political groups; but they have been so unfruitful that opposition leaders recently all but accused Mbeki of lying to the ...</td>\n",
              "    </tr>\n",
              "    <tr>\n",
              "      <th>201852</th>\n",
              "      <td>Drei von zehn Südafrikanern sind jünger als 15 und das bedeutet, dass sie nicht einen Tag unter der Apartheid gelebt haben.\\n</td>\n",
              "      <td>Some African leaders – notably Ghana’s president, John Kufuor, and outgoing African Union head Alpha Konare – have tried to cajole Mugabe towards reform, to no avail.\\n</td>\n",
              "    </tr>\n",
              "    <tr>\n",
              "      <th>201853</th>\n",
              "      <td>Irgendwie muss Zuma einen Weg finden, einerseits das Engagement seiner Generation hinsichtlich ethnischer Gerechtigkeit und nationaler Befreiung zu würdigen und andererseits den Massen, die täglic...</td>\n",
              "      <td>Perhaps more significantly, the international community’s failure to address Zimbabwe seriously shows, once again, that it lacks the political will to prevent foreseeable crises.\\n</td>\n",
              "    </tr>\n",
              "  </tbody>\n",
              "</table>\n",
              "<p>201854 rows × 2 columns</p>\n",
              "</div>\n",
              "    <div class=\"colab-df-buttons\">\n",
              "\n",
              "  <div class=\"colab-df-container\">\n",
              "    <button class=\"colab-df-convert\" onclick=\"convertToInteractive('df-b74e334e-d7f7-4101-9d7a-3438f53894f3')\"\n",
              "            title=\"Convert this dataframe to an interactive table.\"\n",
              "            style=\"display:none;\">\n",
              "\n",
              "  <svg xmlns=\"http://www.w3.org/2000/svg\" height=\"24px\" viewBox=\"0 -960 960 960\">\n",
              "    <path d=\"M120-120v-720h720v720H120Zm60-500h600v-160H180v160Zm220 220h160v-160H400v160Zm0 220h160v-160H400v160ZM180-400h160v-160H180v160Zm440 0h160v-160H620v160ZM180-180h160v-160H180v160Zm440 0h160v-160H620v160Z\"/>\n",
              "  </svg>\n",
              "    </button>\n",
              "\n",
              "  <style>\n",
              "    .colab-df-container {\n",
              "      display:flex;\n",
              "      gap: 12px;\n",
              "    }\n",
              "\n",
              "    .colab-df-convert {\n",
              "      background-color: #E8F0FE;\n",
              "      border: none;\n",
              "      border-radius: 50%;\n",
              "      cursor: pointer;\n",
              "      display: none;\n",
              "      fill: #1967D2;\n",
              "      height: 32px;\n",
              "      padding: 0 0 0 0;\n",
              "      width: 32px;\n",
              "    }\n",
              "\n",
              "    .colab-df-convert:hover {\n",
              "      background-color: #E2EBFA;\n",
              "      box-shadow: 0px 1px 2px rgba(60, 64, 67, 0.3), 0px 1px 3px 1px rgba(60, 64, 67, 0.15);\n",
              "      fill: #174EA6;\n",
              "    }\n",
              "\n",
              "    .colab-df-buttons div {\n",
              "      margin-bottom: 4px;\n",
              "    }\n",
              "\n",
              "    [theme=dark] .colab-df-convert {\n",
              "      background-color: #3B4455;\n",
              "      fill: #D2E3FC;\n",
              "    }\n",
              "\n",
              "    [theme=dark] .colab-df-convert:hover {\n",
              "      background-color: #434B5C;\n",
              "      box-shadow: 0px 1px 3px 1px rgba(0, 0, 0, 0.15);\n",
              "      filter: drop-shadow(0px 1px 2px rgba(0, 0, 0, 0.3));\n",
              "      fill: #FFFFFF;\n",
              "    }\n",
              "  </style>\n",
              "\n",
              "    <script>\n",
              "      const buttonEl =\n",
              "        document.querySelector('#df-b74e334e-d7f7-4101-9d7a-3438f53894f3 button.colab-df-convert');\n",
              "      buttonEl.style.display =\n",
              "        google.colab.kernel.accessAllowed ? 'block' : 'none';\n",
              "\n",
              "      async function convertToInteractive(key) {\n",
              "        const element = document.querySelector('#df-b74e334e-d7f7-4101-9d7a-3438f53894f3');\n",
              "        const dataTable =\n",
              "          await google.colab.kernel.invokeFunction('convertToInteractive',\n",
              "                                                    [key], {});\n",
              "        if (!dataTable) return;\n",
              "\n",
              "        const docLinkHtml = 'Like what you see? Visit the ' +\n",
              "          '<a target=\"_blank\" href=https://colab.research.google.com/notebooks/data_table.ipynb>data table notebook</a>'\n",
              "          + ' to learn more about interactive tables.';\n",
              "        element.innerHTML = '';\n",
              "        dataTable['output_type'] = 'display_data';\n",
              "        await google.colab.output.renderOutput(dataTable, element);\n",
              "        const docLink = document.createElement('div');\n",
              "        docLink.innerHTML = docLinkHtml;\n",
              "        element.appendChild(docLink);\n",
              "      }\n",
              "    </script>\n",
              "  </div>\n",
              "\n",
              "\n",
              "<div id=\"df-bc5d30b7-e0b2-4681-9e52-e32f96ddc134\">\n",
              "  <button class=\"colab-df-quickchart\" onclick=\"quickchart('df-bc5d30b7-e0b2-4681-9e52-e32f96ddc134')\"\n",
              "            title=\"Suggest charts\"\n",
              "            style=\"display:none;\">\n",
              "\n",
              "<svg xmlns=\"http://www.w3.org/2000/svg\" height=\"24px\"viewBox=\"0 0 24 24\"\n",
              "     width=\"24px\">\n",
              "    <g>\n",
              "        <path d=\"M19 3H5c-1.1 0-2 .9-2 2v14c0 1.1.9 2 2 2h14c1.1 0 2-.9 2-2V5c0-1.1-.9-2-2-2zM9 17H7v-7h2v7zm4 0h-2V7h2v10zm4 0h-2v-4h2v4z\"/>\n",
              "    </g>\n",
              "</svg>\n",
              "  </button>\n",
              "\n",
              "<style>\n",
              "  .colab-df-quickchart {\n",
              "      --bg-color: #E8F0FE;\n",
              "      --fill-color: #1967D2;\n",
              "      --hover-bg-color: #E2EBFA;\n",
              "      --hover-fill-color: #174EA6;\n",
              "      --disabled-fill-color: #AAA;\n",
              "      --disabled-bg-color: #DDD;\n",
              "  }\n",
              "\n",
              "  [theme=dark] .colab-df-quickchart {\n",
              "      --bg-color: #3B4455;\n",
              "      --fill-color: #D2E3FC;\n",
              "      --hover-bg-color: #434B5C;\n",
              "      --hover-fill-color: #FFFFFF;\n",
              "      --disabled-bg-color: #3B4455;\n",
              "      --disabled-fill-color: #666;\n",
              "  }\n",
              "\n",
              "  .colab-df-quickchart {\n",
              "    background-color: var(--bg-color);\n",
              "    border: none;\n",
              "    border-radius: 50%;\n",
              "    cursor: pointer;\n",
              "    display: none;\n",
              "    fill: var(--fill-color);\n",
              "    height: 32px;\n",
              "    padding: 0;\n",
              "    width: 32px;\n",
              "  }\n",
              "\n",
              "  .colab-df-quickchart:hover {\n",
              "    background-color: var(--hover-bg-color);\n",
              "    box-shadow: 0 1px 2px rgba(60, 64, 67, 0.3), 0 1px 3px 1px rgba(60, 64, 67, 0.15);\n",
              "    fill: var(--button-hover-fill-color);\n",
              "  }\n",
              "\n",
              "  .colab-df-quickchart-complete:disabled,\n",
              "  .colab-df-quickchart-complete:disabled:hover {\n",
              "    background-color: var(--disabled-bg-color);\n",
              "    fill: var(--disabled-fill-color);\n",
              "    box-shadow: none;\n",
              "  }\n",
              "\n",
              "  .colab-df-spinner {\n",
              "    border: 2px solid var(--fill-color);\n",
              "    border-color: transparent;\n",
              "    border-bottom-color: var(--fill-color);\n",
              "    animation:\n",
              "      spin 1s steps(1) infinite;\n",
              "  }\n",
              "\n",
              "  @keyframes spin {\n",
              "    0% {\n",
              "      border-color: transparent;\n",
              "      border-bottom-color: var(--fill-color);\n",
              "      border-left-color: var(--fill-color);\n",
              "    }\n",
              "    20% {\n",
              "      border-color: transparent;\n",
              "      border-left-color: var(--fill-color);\n",
              "      border-top-color: var(--fill-color);\n",
              "    }\n",
              "    30% {\n",
              "      border-color: transparent;\n",
              "      border-left-color: var(--fill-color);\n",
              "      border-top-color: var(--fill-color);\n",
              "      border-right-color: var(--fill-color);\n",
              "    }\n",
              "    40% {\n",
              "      border-color: transparent;\n",
              "      border-right-color: var(--fill-color);\n",
              "      border-top-color: var(--fill-color);\n",
              "    }\n",
              "    60% {\n",
              "      border-color: transparent;\n",
              "      border-right-color: var(--fill-color);\n",
              "    }\n",
              "    80% {\n",
              "      border-color: transparent;\n",
              "      border-right-color: var(--fill-color);\n",
              "      border-bottom-color: var(--fill-color);\n",
              "    }\n",
              "    90% {\n",
              "      border-color: transparent;\n",
              "      border-bottom-color: var(--fill-color);\n",
              "    }\n",
              "  }\n",
              "</style>\n",
              "\n",
              "  <script>\n",
              "    async function quickchart(key) {\n",
              "      const quickchartButtonEl =\n",
              "        document.querySelector('#' + key + ' button');\n",
              "      quickchartButtonEl.disabled = true;  // To prevent multiple clicks.\n",
              "      quickchartButtonEl.classList.add('colab-df-spinner');\n",
              "      try {\n",
              "        const charts = await google.colab.kernel.invokeFunction(\n",
              "            'suggestCharts', [key], {});\n",
              "      } catch (error) {\n",
              "        console.error('Error during call to suggestCharts:', error);\n",
              "      }\n",
              "      quickchartButtonEl.classList.remove('colab-df-spinner');\n",
              "      quickchartButtonEl.classList.add('colab-df-quickchart-complete');\n",
              "    }\n",
              "    (() => {\n",
              "      let quickchartButtonEl =\n",
              "        document.querySelector('#df-bc5d30b7-e0b2-4681-9e52-e32f96ddc134 button');\n",
              "      quickchartButtonEl.style.display =\n",
              "        google.colab.kernel.accessAllowed ? 'block' : 'none';\n",
              "    })();\n",
              "  </script>\n",
              "</div>\n",
              "\n",
              "    </div>\n",
              "  </div>\n"
            ],
            "application/vnd.google.colaboratory.intrinsic+json": {
              "type": "dataframe"
            }
          },
          "metadata": {},
          "execution_count": 21
        }
      ]
    },
    {
      "cell_type": "code",
      "source": [
        "# Dropping the duplicates from the dataframe\n",
        "\n",
        "combined_dataset = combined_dataset.drop_duplicates()"
      ],
      "metadata": {
        "id": "gIonLznSCB_b"
      },
      "id": "gIonLznSCB_b",
      "execution_count": 22,
      "outputs": []
    },
    {
      "cell_type": "code",
      "source": [
        "# Observing shape of the dataframe after dropping null values and duplicates\n",
        "\n",
        "combined_dataset.shape"
      ],
      "metadata": {
        "colab": {
          "base_uri": "https://localhost:8080/"
        },
        "id": "AYK2k3CbCEy7",
        "outputId": "f89204e8-f45a-4186-919f-29e7d039df4e"
      },
      "id": "AYK2k3CbCEy7",
      "execution_count": 23,
      "outputs": [
        {
          "output_type": "execute_result",
          "data": {
            "text/plain": [
              "(201936, 2)"
            ]
          },
          "metadata": {},
          "execution_count": 23
        }
      ]
    },
    {
      "cell_type": "code",
      "source": [
        "# Randomly sample 5% of dataframe\n",
        "\n",
        "combined_dataset_sample = combined_dataset.sample(frac = 0.005)"
      ],
      "metadata": {
        "id": "eEq49cq-CGlj"
      },
      "id": "eEq49cq-CGlj",
      "execution_count": 24,
      "outputs": []
    },
    {
      "cell_type": "code",
      "source": [
        "# Observing the shape of sampled dataframe\n",
        "\n",
        "combined_dataset_sample.shape"
      ],
      "metadata": {
        "colab": {
          "base_uri": "https://localhost:8080/"
        },
        "id": "szyTR_ebCIjs",
        "outputId": "2942ca28-0fac-4c1d-ef16-234163139de9"
      },
      "id": "szyTR_ebCIjs",
      "execution_count": 25,
      "outputs": [
        {
          "output_type": "execute_result",
          "data": {
            "text/plain": [
              "(1010, 2)"
            ]
          },
          "metadata": {},
          "execution_count": 25
        }
      ]
    },
    {
      "cell_type": "code",
      "source": [
        "# Adding columns in the dataframe which shows the length of each English and German sentence\n",
        "\n",
        "combined_dataset_sample['eng_length'] = combined_dataset_sample['English'].str.len()\n",
        "\n",
        "combined_dataset_sample['ger_length'] = combined_dataset_sample['German'].str.len()"
      ],
      "metadata": {
        "id": "ZDEppm7VCMak"
      },
      "id": "ZDEppm7VCMak",
      "execution_count": 27,
      "outputs": []
    },
    {
      "cell_type": "code",
      "source": [
        "# Observing the information of sampled dataframe\n",
        "\n",
        "combined_dataset_sample.info()"
      ],
      "metadata": {
        "colab": {
          "base_uri": "https://localhost:8080/"
        },
        "id": "L8P3EGJtCNxs",
        "outputId": "ce58b577-5e29-40f4-d7f1-65934b69b411"
      },
      "id": "L8P3EGJtCNxs",
      "execution_count": 28,
      "outputs": [
        {
          "output_type": "stream",
          "name": "stdout",
          "text": [
            "<class 'pandas.core.frame.DataFrame'>\n",
            "Index: 1010 entries, 66640 to 168471\n",
            "Data columns (total 4 columns):\n",
            " #   Column      Non-Null Count  Dtype \n",
            "---  ------      --------------  ----- \n",
            " 0   German      1010 non-null   object\n",
            " 1   English     1010 non-null   object\n",
            " 2   eng_length  1010 non-null   int64 \n",
            " 3   ger_length  1010 non-null   int64 \n",
            "dtypes: int64(2), object(2)\n",
            "memory usage: 39.5+ KB\n"
          ]
        }
      ]
    },
    {
      "cell_type": "code",
      "source": [
        "combined_dataset_sample = combined_dataset_sample.drop(columns=['eng_length','ger_length'])"
      ],
      "metadata": {
        "id": "oYLdCso9zhxO"
      },
      "id": "oYLdCso9zhxO",
      "execution_count": 76,
      "outputs": []
    },
    {
      "cell_type": "code",
      "source": [
        "combined_dataset_sample.info()"
      ],
      "metadata": {
        "colab": {
          "base_uri": "https://localhost:8080/"
        },
        "id": "DVU69Tgyz7PE",
        "outputId": "516fd237-ab6d-499b-ed4c-6ff97ffb2943"
      },
      "id": "DVU69Tgyz7PE",
      "execution_count": 77,
      "outputs": [
        {
          "output_type": "stream",
          "name": "stdout",
          "text": [
            "<class 'pandas.core.frame.DataFrame'>\n",
            "Index: 51 entries, 159077 to 35254\n",
            "Data columns (total 2 columns):\n",
            " #   Column   Non-Null Count  Dtype \n",
            "---  ------   --------------  ----- \n",
            " 0   German   51 non-null     object\n",
            " 1   English  51 non-null     object\n",
            "dtypes: object(2)\n",
            "memory usage: 1.2+ KB\n"
          ]
        }
      ]
    },
    {
      "cell_type": "code",
      "source": [
        "# Observing top 5 entries of the sampled dataframe\n",
        "\n",
        "combined_dataset_sample.head(5)"
      ],
      "metadata": {
        "colab": {
          "base_uri": "https://localhost:8080/",
          "height": 293
        },
        "id": "jj7dYEiHCPUj",
        "outputId": "a6b5f697-fa4a-45bb-f8b0-5fb5f1431542"
      },
      "id": "jj7dYEiHCPUj",
      "execution_count": 78,
      "outputs": [
        {
          "output_type": "execute_result",
          "data": {
            "text/plain": [
              "                                                                                                                                                                                                         German  \\\n",
              "159077                                                        START_ investoren müssen auf die effektivität von heimischen rechtsinstitutionen zählen können, nicht nur auf die paragraphen im gesetzbuch. _END   \n",
              "99928                                                                                                                                        START_ tatsächlich endet mit ihm die gaullistische tradition. _END   \n",
              "123566  START_ es schaudert einem bei dem gedanken an ein parlament, dessen oberstes aufnahmekriterium für abgeordnete die zugehörigkeit zu einer gruppe ist, die durch affirmative action gefördert werden ...   \n",
              "199925                                                                      START_ außerdem befürchtet man, dass islamisten die türkei eines tages in einen fundamentalistischen staat verwandeln könnten. _END   \n",
              "141309       START_ rom reagierte auf diese entwicklung mit der reduktion des gold und silbergehalts der münzen die antike form der monetisierung, was im römischen reich zu anhaltender inflation führte. _END   \n",
              "\n",
              "                                English  \n",
              "159077  The Limits of Energy Innovation  \n",
              "99928       Populism Without the People  \n",
              "123566         So, what should be done?  \n",
              "199925       Will Success Spoil Brazil?  \n",
              "141309    Their proposal went unheeded.  "
            ],
            "text/html": [
              "\n",
              "  <div id=\"df-20fd4a95-7cc7-45a9-ab82-4c60fb0d9ff1\" class=\"colab-df-container\">\n",
              "    <div>\n",
              "<style scoped>\n",
              "    .dataframe tbody tr th:only-of-type {\n",
              "        vertical-align: middle;\n",
              "    }\n",
              "\n",
              "    .dataframe tbody tr th {\n",
              "        vertical-align: top;\n",
              "    }\n",
              "\n",
              "    .dataframe thead th {\n",
              "        text-align: right;\n",
              "    }\n",
              "</style>\n",
              "<table border=\"1\" class=\"dataframe\">\n",
              "  <thead>\n",
              "    <tr style=\"text-align: right;\">\n",
              "      <th></th>\n",
              "      <th>German</th>\n",
              "      <th>English</th>\n",
              "    </tr>\n",
              "  </thead>\n",
              "  <tbody>\n",
              "    <tr>\n",
              "      <th>159077</th>\n",
              "      <td>START_ investoren müssen auf die effektivität von heimischen rechtsinstitutionen zählen können, nicht nur auf die paragraphen im gesetzbuch. _END</td>\n",
              "      <td>The Limits of Energy Innovation</td>\n",
              "    </tr>\n",
              "    <tr>\n",
              "      <th>99928</th>\n",
              "      <td>START_ tatsächlich endet mit ihm die gaullistische tradition. _END</td>\n",
              "      <td>Populism Without the People</td>\n",
              "    </tr>\n",
              "    <tr>\n",
              "      <th>123566</th>\n",
              "      <td>START_ es schaudert einem bei dem gedanken an ein parlament, dessen oberstes aufnahmekriterium für abgeordnete die zugehörigkeit zu einer gruppe ist, die durch affirmative action gefördert werden ...</td>\n",
              "      <td>So, what should be done?</td>\n",
              "    </tr>\n",
              "    <tr>\n",
              "      <th>199925</th>\n",
              "      <td>START_ außerdem befürchtet man, dass islamisten die türkei eines tages in einen fundamentalistischen staat verwandeln könnten. _END</td>\n",
              "      <td>Will Success Spoil Brazil?</td>\n",
              "    </tr>\n",
              "    <tr>\n",
              "      <th>141309</th>\n",
              "      <td>START_ rom reagierte auf diese entwicklung mit der reduktion des gold und silbergehalts der münzen die antike form der monetisierung, was im römischen reich zu anhaltender inflation führte. _END</td>\n",
              "      <td>Their proposal went unheeded.</td>\n",
              "    </tr>\n",
              "  </tbody>\n",
              "</table>\n",
              "</div>\n",
              "    <div class=\"colab-df-buttons\">\n",
              "\n",
              "  <div class=\"colab-df-container\">\n",
              "    <button class=\"colab-df-convert\" onclick=\"convertToInteractive('df-20fd4a95-7cc7-45a9-ab82-4c60fb0d9ff1')\"\n",
              "            title=\"Convert this dataframe to an interactive table.\"\n",
              "            style=\"display:none;\">\n",
              "\n",
              "  <svg xmlns=\"http://www.w3.org/2000/svg\" height=\"24px\" viewBox=\"0 -960 960 960\">\n",
              "    <path d=\"M120-120v-720h720v720H120Zm60-500h600v-160H180v160Zm220 220h160v-160H400v160Zm0 220h160v-160H400v160ZM180-400h160v-160H180v160Zm440 0h160v-160H620v160ZM180-180h160v-160H180v160Zm440 0h160v-160H620v160Z\"/>\n",
              "  </svg>\n",
              "    </button>\n",
              "\n",
              "  <style>\n",
              "    .colab-df-container {\n",
              "      display:flex;\n",
              "      gap: 12px;\n",
              "    }\n",
              "\n",
              "    .colab-df-convert {\n",
              "      background-color: #E8F0FE;\n",
              "      border: none;\n",
              "      border-radius: 50%;\n",
              "      cursor: pointer;\n",
              "      display: none;\n",
              "      fill: #1967D2;\n",
              "      height: 32px;\n",
              "      padding: 0 0 0 0;\n",
              "      width: 32px;\n",
              "    }\n",
              "\n",
              "    .colab-df-convert:hover {\n",
              "      background-color: #E2EBFA;\n",
              "      box-shadow: 0px 1px 2px rgba(60, 64, 67, 0.3), 0px 1px 3px 1px rgba(60, 64, 67, 0.15);\n",
              "      fill: #174EA6;\n",
              "    }\n",
              "\n",
              "    .colab-df-buttons div {\n",
              "      margin-bottom: 4px;\n",
              "    }\n",
              "\n",
              "    [theme=dark] .colab-df-convert {\n",
              "      background-color: #3B4455;\n",
              "      fill: #D2E3FC;\n",
              "    }\n",
              "\n",
              "    [theme=dark] .colab-df-convert:hover {\n",
              "      background-color: #434B5C;\n",
              "      box-shadow: 0px 1px 3px 1px rgba(0, 0, 0, 0.15);\n",
              "      filter: drop-shadow(0px 1px 2px rgba(0, 0, 0, 0.3));\n",
              "      fill: #FFFFFF;\n",
              "    }\n",
              "  </style>\n",
              "\n",
              "    <script>\n",
              "      const buttonEl =\n",
              "        document.querySelector('#df-20fd4a95-7cc7-45a9-ab82-4c60fb0d9ff1 button.colab-df-convert');\n",
              "      buttonEl.style.display =\n",
              "        google.colab.kernel.accessAllowed ? 'block' : 'none';\n",
              "\n",
              "      async function convertToInteractive(key) {\n",
              "        const element = document.querySelector('#df-20fd4a95-7cc7-45a9-ab82-4c60fb0d9ff1');\n",
              "        const dataTable =\n",
              "          await google.colab.kernel.invokeFunction('convertToInteractive',\n",
              "                                                    [key], {});\n",
              "        if (!dataTable) return;\n",
              "\n",
              "        const docLinkHtml = 'Like what you see? Visit the ' +\n",
              "          '<a target=\"_blank\" href=https://colab.research.google.com/notebooks/data_table.ipynb>data table notebook</a>'\n",
              "          + ' to learn more about interactive tables.';\n",
              "        element.innerHTML = '';\n",
              "        dataTable['output_type'] = 'display_data';\n",
              "        await google.colab.output.renderOutput(dataTable, element);\n",
              "        const docLink = document.createElement('div');\n",
              "        docLink.innerHTML = docLinkHtml;\n",
              "        element.appendChild(docLink);\n",
              "      }\n",
              "    </script>\n",
              "  </div>\n",
              "\n",
              "\n",
              "<div id=\"df-fa74aa4e-f0a4-4667-96d7-f6264ea38746\">\n",
              "  <button class=\"colab-df-quickchart\" onclick=\"quickchart('df-fa74aa4e-f0a4-4667-96d7-f6264ea38746')\"\n",
              "            title=\"Suggest charts\"\n",
              "            style=\"display:none;\">\n",
              "\n",
              "<svg xmlns=\"http://www.w3.org/2000/svg\" height=\"24px\"viewBox=\"0 0 24 24\"\n",
              "     width=\"24px\">\n",
              "    <g>\n",
              "        <path d=\"M19 3H5c-1.1 0-2 .9-2 2v14c0 1.1.9 2 2 2h14c1.1 0 2-.9 2-2V5c0-1.1-.9-2-2-2zM9 17H7v-7h2v7zm4 0h-2V7h2v10zm4 0h-2v-4h2v4z\"/>\n",
              "    </g>\n",
              "</svg>\n",
              "  </button>\n",
              "\n",
              "<style>\n",
              "  .colab-df-quickchart {\n",
              "      --bg-color: #E8F0FE;\n",
              "      --fill-color: #1967D2;\n",
              "      --hover-bg-color: #E2EBFA;\n",
              "      --hover-fill-color: #174EA6;\n",
              "      --disabled-fill-color: #AAA;\n",
              "      --disabled-bg-color: #DDD;\n",
              "  }\n",
              "\n",
              "  [theme=dark] .colab-df-quickchart {\n",
              "      --bg-color: #3B4455;\n",
              "      --fill-color: #D2E3FC;\n",
              "      --hover-bg-color: #434B5C;\n",
              "      --hover-fill-color: #FFFFFF;\n",
              "      --disabled-bg-color: #3B4455;\n",
              "      --disabled-fill-color: #666;\n",
              "  }\n",
              "\n",
              "  .colab-df-quickchart {\n",
              "    background-color: var(--bg-color);\n",
              "    border: none;\n",
              "    border-radius: 50%;\n",
              "    cursor: pointer;\n",
              "    display: none;\n",
              "    fill: var(--fill-color);\n",
              "    height: 32px;\n",
              "    padding: 0;\n",
              "    width: 32px;\n",
              "  }\n",
              "\n",
              "  .colab-df-quickchart:hover {\n",
              "    background-color: var(--hover-bg-color);\n",
              "    box-shadow: 0 1px 2px rgba(60, 64, 67, 0.3), 0 1px 3px 1px rgba(60, 64, 67, 0.15);\n",
              "    fill: var(--button-hover-fill-color);\n",
              "  }\n",
              "\n",
              "  .colab-df-quickchart-complete:disabled,\n",
              "  .colab-df-quickchart-complete:disabled:hover {\n",
              "    background-color: var(--disabled-bg-color);\n",
              "    fill: var(--disabled-fill-color);\n",
              "    box-shadow: none;\n",
              "  }\n",
              "\n",
              "  .colab-df-spinner {\n",
              "    border: 2px solid var(--fill-color);\n",
              "    border-color: transparent;\n",
              "    border-bottom-color: var(--fill-color);\n",
              "    animation:\n",
              "      spin 1s steps(1) infinite;\n",
              "  }\n",
              "\n",
              "  @keyframes spin {\n",
              "    0% {\n",
              "      border-color: transparent;\n",
              "      border-bottom-color: var(--fill-color);\n",
              "      border-left-color: var(--fill-color);\n",
              "    }\n",
              "    20% {\n",
              "      border-color: transparent;\n",
              "      border-left-color: var(--fill-color);\n",
              "      border-top-color: var(--fill-color);\n",
              "    }\n",
              "    30% {\n",
              "      border-color: transparent;\n",
              "      border-left-color: var(--fill-color);\n",
              "      border-top-color: var(--fill-color);\n",
              "      border-right-color: var(--fill-color);\n",
              "    }\n",
              "    40% {\n",
              "      border-color: transparent;\n",
              "      border-right-color: var(--fill-color);\n",
              "      border-top-color: var(--fill-color);\n",
              "    }\n",
              "    60% {\n",
              "      border-color: transparent;\n",
              "      border-right-color: var(--fill-color);\n",
              "    }\n",
              "    80% {\n",
              "      border-color: transparent;\n",
              "      border-right-color: var(--fill-color);\n",
              "      border-bottom-color: var(--fill-color);\n",
              "    }\n",
              "    90% {\n",
              "      border-color: transparent;\n",
              "      border-bottom-color: var(--fill-color);\n",
              "    }\n",
              "  }\n",
              "</style>\n",
              "\n",
              "  <script>\n",
              "    async function quickchart(key) {\n",
              "      const quickchartButtonEl =\n",
              "        document.querySelector('#' + key + ' button');\n",
              "      quickchartButtonEl.disabled = true;  // To prevent multiple clicks.\n",
              "      quickchartButtonEl.classList.add('colab-df-spinner');\n",
              "      try {\n",
              "        const charts = await google.colab.kernel.invokeFunction(\n",
              "            'suggestCharts', [key], {});\n",
              "      } catch (error) {\n",
              "        console.error('Error during call to suggestCharts:', error);\n",
              "      }\n",
              "      quickchartButtonEl.classList.remove('colab-df-spinner');\n",
              "      quickchartButtonEl.classList.add('colab-df-quickchart-complete');\n",
              "    }\n",
              "    (() => {\n",
              "      let quickchartButtonEl =\n",
              "        document.querySelector('#df-fa74aa4e-f0a4-4667-96d7-f6264ea38746 button');\n",
              "      quickchartButtonEl.style.display =\n",
              "        google.colab.kernel.accessAllowed ? 'block' : 'none';\n",
              "    })();\n",
              "  </script>\n",
              "</div>\n",
              "\n",
              "    </div>\n",
              "  </div>\n"
            ],
            "application/vnd.google.colaboratory.intrinsic+json": {
              "type": "dataframe",
              "variable_name": "combined_dataset_sample",
              "summary": "{\n  \"name\": \"combined_dataset_sample\",\n  \"rows\": 51,\n  \"fields\": [\n    {\n      \"column\": \"German\",\n      \"properties\": {\n        \"dtype\": \"string\",\n        \"num_unique_values\": 51,\n        \"samples\": [\n          \"START_ er konnte deutlich die sich abzeichnende industrielle revolution des zwanzigsten jahrhunderts erkennen, als einige gro\\u00dfe unternehmen technische innovation ankurbelten und elektrizit\\u00e4t, chemie, verkehr, kommunikation und computer zu entscheidenden bestandteilen ihres alltags machten. _END\",\n          \"START_ man kann sich keine naturwissenschaft vorstellen, in der die orthodoxe meinung zwischen zwei polen pendelt. _END\",\n          \"START_ ebenso ging man administrativ gegen einige religi\\u00f6se institutionen vor , die sich unbefugt e \\u00fcbergriffe auf die \\u00f6ffentlichkeit geleistet hatten  etwas , das seit beginn der offiziellen unterst\\u00fctzung religi\\u00f6ser parteien in den siebziger jahren , als ihre kader im kampf gegen die sowjets ben\\u00f6tigt wurden , praktisch nie vorgekommen war . _END\"\n        ],\n        \"semantic_type\": \"\",\n        \"description\": \"\"\n      }\n    },\n    {\n      \"column\": \"English\",\n      \"properties\": {\n        \"dtype\": \"string\",\n        \"num_unique_values\": 51,\n        \"samples\": [\n          \"in\",\n          \"Farewell to the Neo-Classical Revolution\",\n          \"Pakistan\\u2019s Next Fight\"\n        ],\n        \"semantic_type\": \"\",\n        \"description\": \"\"\n      }\n    }\n  ]\n}"
            }
          },
          "metadata": {},
          "execution_count": 78
        }
      ]
    },
    {
      "cell_type": "code",
      "source": [
        "def clean_sentence(sentence):\n",
        "    sentence = sentence.lower()  #Convert to lowercase\n",
        "    sentence = re.sub(r'\\s+', ' ', sentence)  # Remove new line character\n",
        "    sentence = sentence.strip()  # Remove leading and trailing white spaces\n",
        "    sentence = re.sub(r'\\s+', ' ', sentence)  # Replace multiple spaces with a single space\n",
        "    sentence = re.sub(r'[^\\w\\s.,!?\\'\"]', '', sentence)  # Remove special characters except common punctuation\n",
        "    sentence = 'START_ '+ sentence + ' _END'\n",
        "    return sentence"
      ],
      "metadata": {
        "id": "3bvgPbXxCROz"
      },
      "id": "3bvgPbXxCROz",
      "execution_count": 79,
      "outputs": []
    },
    {
      "cell_type": "code",
      "source": [
        "# Calling process_data function on the sampled dataframe\n",
        "\n",
        "combined_dataset_sample['German'] = combined_dataset_sample['German'].astype(str).apply(clean_sentence)"
      ],
      "metadata": {
        "id": "8X7waDCHC__k"
      },
      "id": "8X7waDCHC__k",
      "execution_count": 80,
      "outputs": []
    },
    {
      "cell_type": "code",
      "source": [
        "combined_dataset_sample['English'] = combined_dataset_sample['English'].astype(str).apply(clean_sentence)"
      ],
      "metadata": {
        "id": "bmsnfBLHEEqj"
      },
      "id": "bmsnfBLHEEqj",
      "execution_count": 81,
      "outputs": []
    },
    {
      "cell_type": "code",
      "source": [
        "# Observing top 5 entries of the processed dataframe\n",
        "\n",
        "combined_dataset_sample.head(5)"
      ],
      "metadata": {
        "colab": {
          "base_uri": "https://localhost:8080/",
          "height": 310
        },
        "id": "DRgVzxqbDCT7",
        "outputId": "62341eaf-3c8b-4cac-a60c-575466a0d0bf"
      },
      "id": "DRgVzxqbDCT7",
      "execution_count": 82,
      "outputs": [
        {
          "output_type": "execute_result",
          "data": {
            "text/plain": [
              "                                                                                                                                                                                                         German  \\\n",
              "159077                                            START_ start_ investoren müssen auf die effektivität von heimischen rechtsinstitutionen zählen können, nicht nur auf die paragraphen im gesetzbuch. _end _END   \n",
              "99928                                                                                                                            START_ start_ tatsächlich endet mit ihm die gaullistische tradition. _end _END   \n",
              "123566  START_ start_ es schaudert einem bei dem gedanken an ein parlament, dessen oberstes aufnahmekriterium für abgeordnete die zugehörigkeit zu einer gruppe ist, die durch affirmative action gefördert ...   \n",
              "199925                                                          START_ start_ außerdem befürchtet man, dass islamisten die türkei eines tages in einen fundamentalistischen staat verwandeln könnten. _end _END   \n",
              "141309  START_ start_ rom reagierte auf diese entwicklung mit der reduktion des gold und silbergehalts der münzen die antike form der monetisierung, was im römischen reich zu anhaltender inflation führte....   \n",
              "\n",
              "                                            English  \n",
              "159077  START_ the limits of energy innovation _END  \n",
              "99928       START_ populism without the people _END  \n",
              "123566         START_ so, what should be done? _END  \n",
              "199925       START_ will success spoil brazil? _END  \n",
              "141309    START_ their proposal went unheeded. _END  "
            ],
            "text/html": [
              "\n",
              "  <div id=\"df-c72368bb-55ba-4634-9d89-ad0c66d36a21\" class=\"colab-df-container\">\n",
              "    <div>\n",
              "<style scoped>\n",
              "    .dataframe tbody tr th:only-of-type {\n",
              "        vertical-align: middle;\n",
              "    }\n",
              "\n",
              "    .dataframe tbody tr th {\n",
              "        vertical-align: top;\n",
              "    }\n",
              "\n",
              "    .dataframe thead th {\n",
              "        text-align: right;\n",
              "    }\n",
              "</style>\n",
              "<table border=\"1\" class=\"dataframe\">\n",
              "  <thead>\n",
              "    <tr style=\"text-align: right;\">\n",
              "      <th></th>\n",
              "      <th>German</th>\n",
              "      <th>English</th>\n",
              "    </tr>\n",
              "  </thead>\n",
              "  <tbody>\n",
              "    <tr>\n",
              "      <th>159077</th>\n",
              "      <td>START_ start_ investoren müssen auf die effektivität von heimischen rechtsinstitutionen zählen können, nicht nur auf die paragraphen im gesetzbuch. _end _END</td>\n",
              "      <td>START_ the limits of energy innovation _END</td>\n",
              "    </tr>\n",
              "    <tr>\n",
              "      <th>99928</th>\n",
              "      <td>START_ start_ tatsächlich endet mit ihm die gaullistische tradition. _end _END</td>\n",
              "      <td>START_ populism without the people _END</td>\n",
              "    </tr>\n",
              "    <tr>\n",
              "      <th>123566</th>\n",
              "      <td>START_ start_ es schaudert einem bei dem gedanken an ein parlament, dessen oberstes aufnahmekriterium für abgeordnete die zugehörigkeit zu einer gruppe ist, die durch affirmative action gefördert ...</td>\n",
              "      <td>START_ so, what should be done? _END</td>\n",
              "    </tr>\n",
              "    <tr>\n",
              "      <th>199925</th>\n",
              "      <td>START_ start_ außerdem befürchtet man, dass islamisten die türkei eines tages in einen fundamentalistischen staat verwandeln könnten. _end _END</td>\n",
              "      <td>START_ will success spoil brazil? _END</td>\n",
              "    </tr>\n",
              "    <tr>\n",
              "      <th>141309</th>\n",
              "      <td>START_ start_ rom reagierte auf diese entwicklung mit der reduktion des gold und silbergehalts der münzen die antike form der monetisierung, was im römischen reich zu anhaltender inflation führte....</td>\n",
              "      <td>START_ their proposal went unheeded. _END</td>\n",
              "    </tr>\n",
              "  </tbody>\n",
              "</table>\n",
              "</div>\n",
              "    <div class=\"colab-df-buttons\">\n",
              "\n",
              "  <div class=\"colab-df-container\">\n",
              "    <button class=\"colab-df-convert\" onclick=\"convertToInteractive('df-c72368bb-55ba-4634-9d89-ad0c66d36a21')\"\n",
              "            title=\"Convert this dataframe to an interactive table.\"\n",
              "            style=\"display:none;\">\n",
              "\n",
              "  <svg xmlns=\"http://www.w3.org/2000/svg\" height=\"24px\" viewBox=\"0 -960 960 960\">\n",
              "    <path d=\"M120-120v-720h720v720H120Zm60-500h600v-160H180v160Zm220 220h160v-160H400v160Zm0 220h160v-160H400v160ZM180-400h160v-160H180v160Zm440 0h160v-160H620v160ZM180-180h160v-160H180v160Zm440 0h160v-160H620v160Z\"/>\n",
              "  </svg>\n",
              "    </button>\n",
              "\n",
              "  <style>\n",
              "    .colab-df-container {\n",
              "      display:flex;\n",
              "      gap: 12px;\n",
              "    }\n",
              "\n",
              "    .colab-df-convert {\n",
              "      background-color: #E8F0FE;\n",
              "      border: none;\n",
              "      border-radius: 50%;\n",
              "      cursor: pointer;\n",
              "      display: none;\n",
              "      fill: #1967D2;\n",
              "      height: 32px;\n",
              "      padding: 0 0 0 0;\n",
              "      width: 32px;\n",
              "    }\n",
              "\n",
              "    .colab-df-convert:hover {\n",
              "      background-color: #E2EBFA;\n",
              "      box-shadow: 0px 1px 2px rgba(60, 64, 67, 0.3), 0px 1px 3px 1px rgba(60, 64, 67, 0.15);\n",
              "      fill: #174EA6;\n",
              "    }\n",
              "\n",
              "    .colab-df-buttons div {\n",
              "      margin-bottom: 4px;\n",
              "    }\n",
              "\n",
              "    [theme=dark] .colab-df-convert {\n",
              "      background-color: #3B4455;\n",
              "      fill: #D2E3FC;\n",
              "    }\n",
              "\n",
              "    [theme=dark] .colab-df-convert:hover {\n",
              "      background-color: #434B5C;\n",
              "      box-shadow: 0px 1px 3px 1px rgba(0, 0, 0, 0.15);\n",
              "      filter: drop-shadow(0px 1px 2px rgba(0, 0, 0, 0.3));\n",
              "      fill: #FFFFFF;\n",
              "    }\n",
              "  </style>\n",
              "\n",
              "    <script>\n",
              "      const buttonEl =\n",
              "        document.querySelector('#df-c72368bb-55ba-4634-9d89-ad0c66d36a21 button.colab-df-convert');\n",
              "      buttonEl.style.display =\n",
              "        google.colab.kernel.accessAllowed ? 'block' : 'none';\n",
              "\n",
              "      async function convertToInteractive(key) {\n",
              "        const element = document.querySelector('#df-c72368bb-55ba-4634-9d89-ad0c66d36a21');\n",
              "        const dataTable =\n",
              "          await google.colab.kernel.invokeFunction('convertToInteractive',\n",
              "                                                    [key], {});\n",
              "        if (!dataTable) return;\n",
              "\n",
              "        const docLinkHtml = 'Like what you see? Visit the ' +\n",
              "          '<a target=\"_blank\" href=https://colab.research.google.com/notebooks/data_table.ipynb>data table notebook</a>'\n",
              "          + ' to learn more about interactive tables.';\n",
              "        element.innerHTML = '';\n",
              "        dataTable['output_type'] = 'display_data';\n",
              "        await google.colab.output.renderOutput(dataTable, element);\n",
              "        const docLink = document.createElement('div');\n",
              "        docLink.innerHTML = docLinkHtml;\n",
              "        element.appendChild(docLink);\n",
              "      }\n",
              "    </script>\n",
              "  </div>\n",
              "\n",
              "\n",
              "<div id=\"df-c23bf43e-1f24-4287-844b-7e1b7aee943b\">\n",
              "  <button class=\"colab-df-quickchart\" onclick=\"quickchart('df-c23bf43e-1f24-4287-844b-7e1b7aee943b')\"\n",
              "            title=\"Suggest charts\"\n",
              "            style=\"display:none;\">\n",
              "\n",
              "<svg xmlns=\"http://www.w3.org/2000/svg\" height=\"24px\"viewBox=\"0 0 24 24\"\n",
              "     width=\"24px\">\n",
              "    <g>\n",
              "        <path d=\"M19 3H5c-1.1 0-2 .9-2 2v14c0 1.1.9 2 2 2h14c1.1 0 2-.9 2-2V5c0-1.1-.9-2-2-2zM9 17H7v-7h2v7zm4 0h-2V7h2v10zm4 0h-2v-4h2v4z\"/>\n",
              "    </g>\n",
              "</svg>\n",
              "  </button>\n",
              "\n",
              "<style>\n",
              "  .colab-df-quickchart {\n",
              "      --bg-color: #E8F0FE;\n",
              "      --fill-color: #1967D2;\n",
              "      --hover-bg-color: #E2EBFA;\n",
              "      --hover-fill-color: #174EA6;\n",
              "      --disabled-fill-color: #AAA;\n",
              "      --disabled-bg-color: #DDD;\n",
              "  }\n",
              "\n",
              "  [theme=dark] .colab-df-quickchart {\n",
              "      --bg-color: #3B4455;\n",
              "      --fill-color: #D2E3FC;\n",
              "      --hover-bg-color: #434B5C;\n",
              "      --hover-fill-color: #FFFFFF;\n",
              "      --disabled-bg-color: #3B4455;\n",
              "      --disabled-fill-color: #666;\n",
              "  }\n",
              "\n",
              "  .colab-df-quickchart {\n",
              "    background-color: var(--bg-color);\n",
              "    border: none;\n",
              "    border-radius: 50%;\n",
              "    cursor: pointer;\n",
              "    display: none;\n",
              "    fill: var(--fill-color);\n",
              "    height: 32px;\n",
              "    padding: 0;\n",
              "    width: 32px;\n",
              "  }\n",
              "\n",
              "  .colab-df-quickchart:hover {\n",
              "    background-color: var(--hover-bg-color);\n",
              "    box-shadow: 0 1px 2px rgba(60, 64, 67, 0.3), 0 1px 3px 1px rgba(60, 64, 67, 0.15);\n",
              "    fill: var(--button-hover-fill-color);\n",
              "  }\n",
              "\n",
              "  .colab-df-quickchart-complete:disabled,\n",
              "  .colab-df-quickchart-complete:disabled:hover {\n",
              "    background-color: var(--disabled-bg-color);\n",
              "    fill: var(--disabled-fill-color);\n",
              "    box-shadow: none;\n",
              "  }\n",
              "\n",
              "  .colab-df-spinner {\n",
              "    border: 2px solid var(--fill-color);\n",
              "    border-color: transparent;\n",
              "    border-bottom-color: var(--fill-color);\n",
              "    animation:\n",
              "      spin 1s steps(1) infinite;\n",
              "  }\n",
              "\n",
              "  @keyframes spin {\n",
              "    0% {\n",
              "      border-color: transparent;\n",
              "      border-bottom-color: var(--fill-color);\n",
              "      border-left-color: var(--fill-color);\n",
              "    }\n",
              "    20% {\n",
              "      border-color: transparent;\n",
              "      border-left-color: var(--fill-color);\n",
              "      border-top-color: var(--fill-color);\n",
              "    }\n",
              "    30% {\n",
              "      border-color: transparent;\n",
              "      border-left-color: var(--fill-color);\n",
              "      border-top-color: var(--fill-color);\n",
              "      border-right-color: var(--fill-color);\n",
              "    }\n",
              "    40% {\n",
              "      border-color: transparent;\n",
              "      border-right-color: var(--fill-color);\n",
              "      border-top-color: var(--fill-color);\n",
              "    }\n",
              "    60% {\n",
              "      border-color: transparent;\n",
              "      border-right-color: var(--fill-color);\n",
              "    }\n",
              "    80% {\n",
              "      border-color: transparent;\n",
              "      border-right-color: var(--fill-color);\n",
              "      border-bottom-color: var(--fill-color);\n",
              "    }\n",
              "    90% {\n",
              "      border-color: transparent;\n",
              "      border-bottom-color: var(--fill-color);\n",
              "    }\n",
              "  }\n",
              "</style>\n",
              "\n",
              "  <script>\n",
              "    async function quickchart(key) {\n",
              "      const quickchartButtonEl =\n",
              "        document.querySelector('#' + key + ' button');\n",
              "      quickchartButtonEl.disabled = true;  // To prevent multiple clicks.\n",
              "      quickchartButtonEl.classList.add('colab-df-spinner');\n",
              "      try {\n",
              "        const charts = await google.colab.kernel.invokeFunction(\n",
              "            'suggestCharts', [key], {});\n",
              "      } catch (error) {\n",
              "        console.error('Error during call to suggestCharts:', error);\n",
              "      }\n",
              "      quickchartButtonEl.classList.remove('colab-df-spinner');\n",
              "      quickchartButtonEl.classList.add('colab-df-quickchart-complete');\n",
              "    }\n",
              "    (() => {\n",
              "      let quickchartButtonEl =\n",
              "        document.querySelector('#df-c23bf43e-1f24-4287-844b-7e1b7aee943b button');\n",
              "      quickchartButtonEl.style.display =\n",
              "        google.colab.kernel.accessAllowed ? 'block' : 'none';\n",
              "    })();\n",
              "  </script>\n",
              "</div>\n",
              "\n",
              "    </div>\n",
              "  </div>\n"
            ],
            "application/vnd.google.colaboratory.intrinsic+json": {
              "type": "dataframe",
              "variable_name": "combined_dataset_sample",
              "summary": "{\n  \"name\": \"combined_dataset_sample\",\n  \"rows\": 51,\n  \"fields\": [\n    {\n      \"column\": \"German\",\n      \"properties\": {\n        \"dtype\": \"string\",\n        \"num_unique_values\": 51,\n        \"samples\": [\n          \"START_ start_ er konnte deutlich die sich abzeichnende industrielle revolution des zwanzigsten jahrhunderts erkennen, als einige gro\\u00dfe unternehmen technische innovation ankurbelten und elektrizit\\u00e4t, chemie, verkehr, kommunikation und computer zu entscheidenden bestandteilen ihres alltags machten. _end _END\",\n          \"START_ start_ man kann sich keine naturwissenschaft vorstellen, in der die orthodoxe meinung zwischen zwei polen pendelt. _end _END\",\n          \"START_ start_ ebenso ging man administrativ gegen einige religi\\u00f6se institutionen vor , die sich unbefugt e \\u00fcbergriffe auf die \\u00f6ffentlichkeit geleistet hatten etwas , das seit beginn der offiziellen unterst\\u00fctzung religi\\u00f6ser parteien in den siebziger jahren , als ihre kader im kampf gegen die sowjets ben\\u00f6tigt wurden , praktisch nie vorgekommen war . _end _END\"\n        ],\n        \"semantic_type\": \"\",\n        \"description\": \"\"\n      }\n    },\n    {\n      \"column\": \"English\",\n      \"properties\": {\n        \"dtype\": \"string\",\n        \"num_unique_values\": 51,\n        \"samples\": [\n          \"START_ in _END\",\n          \"START_ farewell to the neoclassical revolution _END\",\n          \"START_ pakistans next fight _END\"\n        ],\n        \"semantic_type\": \"\",\n        \"description\": \"\"\n      }\n    }\n  ]\n}"
            }
          },
          "metadata": {},
          "execution_count": 82
        }
      ]
    },
    {
      "cell_type": "markdown",
      "source": [
        "Pre Processing - Dataset suitable to be used for AIML model learning"
      ],
      "metadata": {
        "id": "fv68MbJ3HpV8"
      },
      "id": "fv68MbJ3HpV8"
    },
    {
      "cell_type": "code",
      "source": [
        "# Function to generate word tokens\n",
        "from tensorflow.keras.preprocessing.text import Tokenizer\n",
        "\n",
        "def tokenize(sentences):\n",
        "    # Create tokenizer\n",
        "    text_tokenizer = Tokenizer()\n",
        "\n",
        "    # Fit texts\n",
        "    text_tokenizer.fit_on_texts(sentences)\n",
        "    return text_tokenizer.texts_to_sequences(sentences), text_tokenizer"
      ],
      "metadata": {
        "id": "grWEsF3CDDyL"
      },
      "id": "grWEsF3CDDyL",
      "execution_count": 83,
      "outputs": []
    },
    {
      "cell_type": "code",
      "source": [
        "# Generate word index\n",
        "\n",
        "eng_tokenized, eng_tokenizer = tokenize(combined_dataset_sample['English'])\n",
        "ger_tokenized, ger_tokenizer = tokenize(combined_dataset_sample['German'])\n",
        "\n",
        "eng_word_index = eng_tokenizer.word_index\n",
        "ger_word_index = ger_tokenizer.word_index"
      ],
      "metadata": {
        "id": "1KbmMC1xIm4q"
      },
      "id": "1KbmMC1xIm4q",
      "execution_count": 84,
      "outputs": []
    },
    {
      "cell_type": "code",
      "source": [
        "# Finding the vocabulary size with number of unique tokens\n",
        "\n",
        "english_vocab = len(eng_tokenizer.word_index) + 1\n",
        "german_vocab = len(ger_tokenizer.word_index) + 1\n",
        "\n",
        "print(\"English vocabulary is of {} unique words\".format(english_vocab))\n",
        "print(\"german vocabulary is of {} unique words\".format(german_vocab))"
      ],
      "metadata": {
        "colab": {
          "base_uri": "https://localhost:8080/"
        },
        "id": "Kfwe2rgjIsWa",
        "outputId": "4bf3ec24-8255-41a0-b27a-9c0dd567b1e4"
      },
      "id": "Kfwe2rgjIsWa",
      "execution_count": 85,
      "outputs": [
        {
          "output_type": "stream",
          "name": "stdout",
          "text": [
            "English vocabulary is of 165 unique words\n",
            "german vocabulary is of 644 unique words\n"
          ]
        }
      ]
    },
    {
      "cell_type": "code",
      "source": [
        "# Define the parameters\n",
        "\n",
        "maxlen_eng = int(len(max(eng_tokenized, key=len)))\n",
        "maxlen_ger = int(len(max(ger_tokenized, key=len)))\n",
        "\n",
        "print(\"Maximum Length of English tokens is {}\".format(maxlen_eng))\n",
        "print(\"Maximum Length of German tokens is {}\".format(maxlen_ger))"
      ],
      "metadata": {
        "colab": {
          "base_uri": "https://localhost:8080/"
        },
        "id": "jZvNWRWpIyRh",
        "outputId": "b221f198-719d-4ded-8b35-5d84c37475d0"
      },
      "id": "jZvNWRWpIyRh",
      "execution_count": 86,
      "outputs": [
        {
          "output_type": "stream",
          "name": "stdout",
          "text": [
            "Maximum Length of English tokens is 7\n",
            "Maximum Length of German tokens is 71\n"
          ]
        }
      ]
    },
    {
      "cell_type": "code",
      "source": [
        "# Generate token sequence\n",
        "from tensorflow.keras.preprocessing.sequence import pad_sequences\n",
        "eng_pad_sentence = pad_sequences(eng_tokenized, maxlen_eng, padding = \"post\")\n",
        "ger_pad_sentence = pad_sequences(ger_tokenized, maxlen_ger, padding = \"post\")\n",
        "\n",
        "print('Number of English Samples are {}:', len(eng_pad_sentence))\n",
        "print('Number of German Samples are {}:', len(ger_pad_sentence))"
      ],
      "metadata": {
        "colab": {
          "base_uri": "https://localhost:8080/"
        },
        "id": "FgYSJNRgI4wJ",
        "outputId": "f16d2de5-38f7-4303-8a54-8cfb17ca29f5"
      },
      "id": "FgYSJNRgI4wJ",
      "execution_count": 87,
      "outputs": [
        {
          "output_type": "stream",
          "name": "stdout",
          "text": [
            "Number of English Samples are {}: 51\n",
            "Number of German Samples are {}: 51\n"
          ]
        }
      ]
    },
    {
      "cell_type": "markdown",
      "source": [
        "Model Design"
      ],
      "metadata": {
        "id": "xMHNEijxJIg6"
      },
      "id": "xMHNEijxJIg6"
    },
    {
      "cell_type": "code",
      "source": [
        "from sklearn.model_selection import train_test_split\n",
        "\n",
        "X_train, X_test, Y_train, Y_test = train_test_split(eng_pad_sentence,ger_pad_sentence,test_size=0.25,shuffle=True,random_state=101)\n",
        "\n",
        "print(X_train.shape)\n",
        "print(X_test.shape)\n",
        "print(Y_train.shape)\n",
        "print(Y_test.shape)"
      ],
      "metadata": {
        "colab": {
          "base_uri": "https://localhost:8080/"
        },
        "id": "ZResiCM6JK2q",
        "outputId": "6d9c2f02-f228-4967-a4f0-550ac09e9673"
      },
      "id": "ZResiCM6JK2q",
      "execution_count": 88,
      "outputs": [
        {
          "output_type": "stream",
          "name": "stdout",
          "text": [
            "(38, 7)\n",
            "(13, 7)\n",
            "(38, 71)\n",
            "(13, 71)\n"
          ]
        }
      ]
    },
    {
      "cell_type": "code",
      "source": [
        "combined_dataset_sample = combined_dataset_sample[combined_dataset_sample.English.str.count('\\s+').lt(6)]\n",
        "\n",
        "combined_dataset_sample = combined_dataset_sample.astype(str).applymap(lambda x: str(x.replace('\\n','')))\n",
        "\n",
        "combined_dataset_sample['German'] = combined_dataset_sample['German'].str.strip()\n",
        "\n",
        "combined_dataset_sample['English'] = combined_dataset_sample['English'].str.strip()\n",
        "\n",
        "combined_dataset_sample = combined_dataset_sample.replace('', np.nan)\n",
        "\n",
        "combined_dataset_sample = combined_dataset_sample.dropna()"
      ],
      "metadata": {
        "id": "18HuFU99vot6"
      },
      "id": "18HuFU99vot6",
      "execution_count": 89,
      "outputs": []
    },
    {
      "cell_type": "code",
      "source": [
        "combined_dataset_sample.count('index')"
      ],
      "metadata": {
        "id": "DD360HKYrb-x",
        "outputId": "8c3474a7-1243-41b3-ee20-5271bd2dc465",
        "colab": {
          "base_uri": "https://localhost:8080/",
          "height": 147
        }
      },
      "id": "DD360HKYrb-x",
      "execution_count": 90,
      "outputs": [
        {
          "output_type": "execute_result",
          "data": {
            "text/plain": [
              "German     30\n",
              "English    30\n",
              "dtype: int64"
            ],
            "text/html": [
              "<div>\n",
              "<style scoped>\n",
              "    .dataframe tbody tr th:only-of-type {\n",
              "        vertical-align: middle;\n",
              "    }\n",
              "\n",
              "    .dataframe tbody tr th {\n",
              "        vertical-align: top;\n",
              "    }\n",
              "\n",
              "    .dataframe thead th {\n",
              "        text-align: right;\n",
              "    }\n",
              "</style>\n",
              "<table border=\"1\" class=\"dataframe\">\n",
              "  <thead>\n",
              "    <tr style=\"text-align: right;\">\n",
              "      <th></th>\n",
              "      <th>0</th>\n",
              "    </tr>\n",
              "  </thead>\n",
              "  <tbody>\n",
              "    <tr>\n",
              "      <th>German</th>\n",
              "      <td>30</td>\n",
              "    </tr>\n",
              "    <tr>\n",
              "      <th>English</th>\n",
              "      <td>30</td>\n",
              "    </tr>\n",
              "  </tbody>\n",
              "</table>\n",
              "</div><br><label><b>dtype:</b> int64</label>"
            ]
          },
          "metadata": {},
          "execution_count": 90
        }
      ]
    },
    {
      "cell_type": "code",
      "source": [
        "combined_dataset_sample.head(10)"
      ],
      "metadata": {
        "id": "sHMtn1J-hcF5",
        "outputId": "ad35bfdd-6c91-4172-e324-0172017626cd",
        "colab": {
          "base_uri": "https://localhost:8080/",
          "height": 797
        }
      },
      "id": "sHMtn1J-hcF5",
      "execution_count": 91,
      "outputs": [
        {
          "output_type": "execute_result",
          "data": {
            "text/plain": [
              "                                                                                                                                                                                                         German  \\\n",
              "99928                                                                                                                            START_ start_ tatsächlich endet mit ihm die gaullistische tradition. _end _END   \n",
              "199925                                                          START_ start_ außerdem befürchtet man, dass islamisten die türkei eines tages in einen fundamentalistischen staat verwandeln könnten. _end _END   \n",
              "141309  START_ start_ rom reagierte auf diese entwicklung mit der reduktion des gold und silbergehalts der münzen die antike form der monetisierung, was im römischen reich zu anhaltender inflation führte....   \n",
              "71450                                                                                                           START_ start_ amerika muss nun ernsthaft in sich gehen und sein gewissen überprüfen . _end _END   \n",
              "86174   START_ start_ die beinahe gewissheit, dass das repräsentantenhaus und möglicherweise auch der senat in republikanischen händen wären, bedeutet, dass sich der amerikanische kongress auf jeden versu...   \n",
              "85539                                                           START_ start_ im prinzip könne es sein, so heißt es in den klageschriften, dass ein einzelnes land die lasten allein übernehmen muss. _end _END   \n",
              "185547  START_ start_ der türkische premier recep tayyip erdogan hat die regionale situation begutachtet und einen verwegenen plan verfasst, um sowohl den regionalen einfluss der türkei als auch seine eig...   \n",
              "189733  START_ start_ während des zweiten weltkriegs war das vergewaltigungsverbot für soldaten im völkerrecht durchaus fest verankert, aber bei den kriegsverbrecherprozessen in nürnberg und tokio kamen n...   \n",
              "27628                 START_ start_ außerdem bezeichneten die 27 staats und regierungschefs der eu die entscheidung des kremls über die anerkennung der beiden abtrünnigen regionen als inakzeptabel. _end _END   \n",
              "103346                                                                                          START_ start_ als folge dessen wird sich der anteil dieser regionen an der weltwirtschaft vergrößern. _end _END   \n",
              "\n",
              "                                                                                                                        English  \n",
              "99928                                                                                   START_ populism without the people _END  \n",
              "199925                                                                                   START_ will success spoil brazil? _END  \n",
              "141309                                                                                START_ their proposal went unheeded. _END  \n",
              "71450   START_ 因此决策者应该加倍努力通过支持可持续包容性经济增长减少贫困他们应高承诺推进可靠的农业管理维系运转良好的市场并增加农业投资与此同时这些紧迫目标也不能妨碍产量这一焦点问题在近几十年中产量增加带来了四分之三的粮食总产增长 _END  \n",
              "86174                                                                                                      START_ century. _END  \n",
              "85539                                                                         START_ judging bushu0027s military tribunals _END  \n",
              "185547                                                                            START_ typically, hardly anyone noticed. _END  \n",
              "189733                                                                                      START_ war and the environment _END  \n",
              "27628                                                                                             START_ iraq comes first. _END  \n",
              "103346                                                                                         START_ old and aging europe _END  "
            ],
            "text/html": [
              "\n",
              "  <div id=\"df-55a2d54e-883c-46e1-a739-3a2b330b2444\" class=\"colab-df-container\">\n",
              "    <div>\n",
              "<style scoped>\n",
              "    .dataframe tbody tr th:only-of-type {\n",
              "        vertical-align: middle;\n",
              "    }\n",
              "\n",
              "    .dataframe tbody tr th {\n",
              "        vertical-align: top;\n",
              "    }\n",
              "\n",
              "    .dataframe thead th {\n",
              "        text-align: right;\n",
              "    }\n",
              "</style>\n",
              "<table border=\"1\" class=\"dataframe\">\n",
              "  <thead>\n",
              "    <tr style=\"text-align: right;\">\n",
              "      <th></th>\n",
              "      <th>German</th>\n",
              "      <th>English</th>\n",
              "    </tr>\n",
              "  </thead>\n",
              "  <tbody>\n",
              "    <tr>\n",
              "      <th>99928</th>\n",
              "      <td>START_ start_ tatsächlich endet mit ihm die gaullistische tradition. _end _END</td>\n",
              "      <td>START_ populism without the people _END</td>\n",
              "    </tr>\n",
              "    <tr>\n",
              "      <th>199925</th>\n",
              "      <td>START_ start_ außerdem befürchtet man, dass islamisten die türkei eines tages in einen fundamentalistischen staat verwandeln könnten. _end _END</td>\n",
              "      <td>START_ will success spoil brazil? _END</td>\n",
              "    </tr>\n",
              "    <tr>\n",
              "      <th>141309</th>\n",
              "      <td>START_ start_ rom reagierte auf diese entwicklung mit der reduktion des gold und silbergehalts der münzen die antike form der monetisierung, was im römischen reich zu anhaltender inflation führte....</td>\n",
              "      <td>START_ their proposal went unheeded. _END</td>\n",
              "    </tr>\n",
              "    <tr>\n",
              "      <th>71450</th>\n",
              "      <td>START_ start_ amerika muss nun ernsthaft in sich gehen und sein gewissen überprüfen . _end _END</td>\n",
              "      <td>START_ 因此决策者应该加倍努力通过支持可持续包容性经济增长减少贫困他们应高承诺推进可靠的农业管理维系运转良好的市场并增加农业投资与此同时这些紧迫目标也不能妨碍产量这一焦点问题在近几十年中产量增加带来了四分之三的粮食总产增长 _END</td>\n",
              "    </tr>\n",
              "    <tr>\n",
              "      <th>86174</th>\n",
              "      <td>START_ start_ die beinahe gewissheit, dass das repräsentantenhaus und möglicherweise auch der senat in republikanischen händen wären, bedeutet, dass sich der amerikanische kongress auf jeden versu...</td>\n",
              "      <td>START_ century. _END</td>\n",
              "    </tr>\n",
              "    <tr>\n",
              "      <th>85539</th>\n",
              "      <td>START_ start_ im prinzip könne es sein, so heißt es in den klageschriften, dass ein einzelnes land die lasten allein übernehmen muss. _end _END</td>\n",
              "      <td>START_ judging bushu0027s military tribunals _END</td>\n",
              "    </tr>\n",
              "    <tr>\n",
              "      <th>185547</th>\n",
              "      <td>START_ start_ der türkische premier recep tayyip erdogan hat die regionale situation begutachtet und einen verwegenen plan verfasst, um sowohl den regionalen einfluss der türkei als auch seine eig...</td>\n",
              "      <td>START_ typically, hardly anyone noticed. _END</td>\n",
              "    </tr>\n",
              "    <tr>\n",
              "      <th>189733</th>\n",
              "      <td>START_ start_ während des zweiten weltkriegs war das vergewaltigungsverbot für soldaten im völkerrecht durchaus fest verankert, aber bei den kriegsverbrecherprozessen in nürnberg und tokio kamen n...</td>\n",
              "      <td>START_ war and the environment _END</td>\n",
              "    </tr>\n",
              "    <tr>\n",
              "      <th>27628</th>\n",
              "      <td>START_ start_ außerdem bezeichneten die 27 staats und regierungschefs der eu die entscheidung des kremls über die anerkennung der beiden abtrünnigen regionen als inakzeptabel. _end _END</td>\n",
              "      <td>START_ iraq comes first. _END</td>\n",
              "    </tr>\n",
              "    <tr>\n",
              "      <th>103346</th>\n",
              "      <td>START_ start_ als folge dessen wird sich der anteil dieser regionen an der weltwirtschaft vergrößern. _end _END</td>\n",
              "      <td>START_ old and aging europe _END</td>\n",
              "    </tr>\n",
              "  </tbody>\n",
              "</table>\n",
              "</div>\n",
              "    <div class=\"colab-df-buttons\">\n",
              "\n",
              "  <div class=\"colab-df-container\">\n",
              "    <button class=\"colab-df-convert\" onclick=\"convertToInteractive('df-55a2d54e-883c-46e1-a739-3a2b330b2444')\"\n",
              "            title=\"Convert this dataframe to an interactive table.\"\n",
              "            style=\"display:none;\">\n",
              "\n",
              "  <svg xmlns=\"http://www.w3.org/2000/svg\" height=\"24px\" viewBox=\"0 -960 960 960\">\n",
              "    <path d=\"M120-120v-720h720v720H120Zm60-500h600v-160H180v160Zm220 220h160v-160H400v160Zm0 220h160v-160H400v160ZM180-400h160v-160H180v160Zm440 0h160v-160H620v160ZM180-180h160v-160H180v160Zm440 0h160v-160H620v160Z\"/>\n",
              "  </svg>\n",
              "    </button>\n",
              "\n",
              "  <style>\n",
              "    .colab-df-container {\n",
              "      display:flex;\n",
              "      gap: 12px;\n",
              "    }\n",
              "\n",
              "    .colab-df-convert {\n",
              "      background-color: #E8F0FE;\n",
              "      border: none;\n",
              "      border-radius: 50%;\n",
              "      cursor: pointer;\n",
              "      display: none;\n",
              "      fill: #1967D2;\n",
              "      height: 32px;\n",
              "      padding: 0 0 0 0;\n",
              "      width: 32px;\n",
              "    }\n",
              "\n",
              "    .colab-df-convert:hover {\n",
              "      background-color: #E2EBFA;\n",
              "      box-shadow: 0px 1px 2px rgba(60, 64, 67, 0.3), 0px 1px 3px 1px rgba(60, 64, 67, 0.15);\n",
              "      fill: #174EA6;\n",
              "    }\n",
              "\n",
              "    .colab-df-buttons div {\n",
              "      margin-bottom: 4px;\n",
              "    }\n",
              "\n",
              "    [theme=dark] .colab-df-convert {\n",
              "      background-color: #3B4455;\n",
              "      fill: #D2E3FC;\n",
              "    }\n",
              "\n",
              "    [theme=dark] .colab-df-convert:hover {\n",
              "      background-color: #434B5C;\n",
              "      box-shadow: 0px 1px 3px 1px rgba(0, 0, 0, 0.15);\n",
              "      filter: drop-shadow(0px 1px 2px rgba(0, 0, 0, 0.3));\n",
              "      fill: #FFFFFF;\n",
              "    }\n",
              "  </style>\n",
              "\n",
              "    <script>\n",
              "      const buttonEl =\n",
              "        document.querySelector('#df-55a2d54e-883c-46e1-a739-3a2b330b2444 button.colab-df-convert');\n",
              "      buttonEl.style.display =\n",
              "        google.colab.kernel.accessAllowed ? 'block' : 'none';\n",
              "\n",
              "      async function convertToInteractive(key) {\n",
              "        const element = document.querySelector('#df-55a2d54e-883c-46e1-a739-3a2b330b2444');\n",
              "        const dataTable =\n",
              "          await google.colab.kernel.invokeFunction('convertToInteractive',\n",
              "                                                    [key], {});\n",
              "        if (!dataTable) return;\n",
              "\n",
              "        const docLinkHtml = 'Like what you see? Visit the ' +\n",
              "          '<a target=\"_blank\" href=https://colab.research.google.com/notebooks/data_table.ipynb>data table notebook</a>'\n",
              "          + ' to learn more about interactive tables.';\n",
              "        element.innerHTML = '';\n",
              "        dataTable['output_type'] = 'display_data';\n",
              "        await google.colab.output.renderOutput(dataTable, element);\n",
              "        const docLink = document.createElement('div');\n",
              "        docLink.innerHTML = docLinkHtml;\n",
              "        element.appendChild(docLink);\n",
              "      }\n",
              "    </script>\n",
              "  </div>\n",
              "\n",
              "\n",
              "<div id=\"df-0d8a2752-90fc-41b3-9ed0-49e4fd3a639a\">\n",
              "  <button class=\"colab-df-quickchart\" onclick=\"quickchart('df-0d8a2752-90fc-41b3-9ed0-49e4fd3a639a')\"\n",
              "            title=\"Suggest charts\"\n",
              "            style=\"display:none;\">\n",
              "\n",
              "<svg xmlns=\"http://www.w3.org/2000/svg\" height=\"24px\"viewBox=\"0 0 24 24\"\n",
              "     width=\"24px\">\n",
              "    <g>\n",
              "        <path d=\"M19 3H5c-1.1 0-2 .9-2 2v14c0 1.1.9 2 2 2h14c1.1 0 2-.9 2-2V5c0-1.1-.9-2-2-2zM9 17H7v-7h2v7zm4 0h-2V7h2v10zm4 0h-2v-4h2v4z\"/>\n",
              "    </g>\n",
              "</svg>\n",
              "  </button>\n",
              "\n",
              "<style>\n",
              "  .colab-df-quickchart {\n",
              "      --bg-color: #E8F0FE;\n",
              "      --fill-color: #1967D2;\n",
              "      --hover-bg-color: #E2EBFA;\n",
              "      --hover-fill-color: #174EA6;\n",
              "      --disabled-fill-color: #AAA;\n",
              "      --disabled-bg-color: #DDD;\n",
              "  }\n",
              "\n",
              "  [theme=dark] .colab-df-quickchart {\n",
              "      --bg-color: #3B4455;\n",
              "      --fill-color: #D2E3FC;\n",
              "      --hover-bg-color: #434B5C;\n",
              "      --hover-fill-color: #FFFFFF;\n",
              "      --disabled-bg-color: #3B4455;\n",
              "      --disabled-fill-color: #666;\n",
              "  }\n",
              "\n",
              "  .colab-df-quickchart {\n",
              "    background-color: var(--bg-color);\n",
              "    border: none;\n",
              "    border-radius: 50%;\n",
              "    cursor: pointer;\n",
              "    display: none;\n",
              "    fill: var(--fill-color);\n",
              "    height: 32px;\n",
              "    padding: 0;\n",
              "    width: 32px;\n",
              "  }\n",
              "\n",
              "  .colab-df-quickchart:hover {\n",
              "    background-color: var(--hover-bg-color);\n",
              "    box-shadow: 0 1px 2px rgba(60, 64, 67, 0.3), 0 1px 3px 1px rgba(60, 64, 67, 0.15);\n",
              "    fill: var(--button-hover-fill-color);\n",
              "  }\n",
              "\n",
              "  .colab-df-quickchart-complete:disabled,\n",
              "  .colab-df-quickchart-complete:disabled:hover {\n",
              "    background-color: var(--disabled-bg-color);\n",
              "    fill: var(--disabled-fill-color);\n",
              "    box-shadow: none;\n",
              "  }\n",
              "\n",
              "  .colab-df-spinner {\n",
              "    border: 2px solid var(--fill-color);\n",
              "    border-color: transparent;\n",
              "    border-bottom-color: var(--fill-color);\n",
              "    animation:\n",
              "      spin 1s steps(1) infinite;\n",
              "  }\n",
              "\n",
              "  @keyframes spin {\n",
              "    0% {\n",
              "      border-color: transparent;\n",
              "      border-bottom-color: var(--fill-color);\n",
              "      border-left-color: var(--fill-color);\n",
              "    }\n",
              "    20% {\n",
              "      border-color: transparent;\n",
              "      border-left-color: var(--fill-color);\n",
              "      border-top-color: var(--fill-color);\n",
              "    }\n",
              "    30% {\n",
              "      border-color: transparent;\n",
              "      border-left-color: var(--fill-color);\n",
              "      border-top-color: var(--fill-color);\n",
              "      border-right-color: var(--fill-color);\n",
              "    }\n",
              "    40% {\n",
              "      border-color: transparent;\n",
              "      border-right-color: var(--fill-color);\n",
              "      border-top-color: var(--fill-color);\n",
              "    }\n",
              "    60% {\n",
              "      border-color: transparent;\n",
              "      border-right-color: var(--fill-color);\n",
              "    }\n",
              "    80% {\n",
              "      border-color: transparent;\n",
              "      border-right-color: var(--fill-color);\n",
              "      border-bottom-color: var(--fill-color);\n",
              "    }\n",
              "    90% {\n",
              "      border-color: transparent;\n",
              "      border-bottom-color: var(--fill-color);\n",
              "    }\n",
              "  }\n",
              "</style>\n",
              "\n",
              "  <script>\n",
              "    async function quickchart(key) {\n",
              "      const quickchartButtonEl =\n",
              "        document.querySelector('#' + key + ' button');\n",
              "      quickchartButtonEl.disabled = true;  // To prevent multiple clicks.\n",
              "      quickchartButtonEl.classList.add('colab-df-spinner');\n",
              "      try {\n",
              "        const charts = await google.colab.kernel.invokeFunction(\n",
              "            'suggestCharts', [key], {});\n",
              "      } catch (error) {\n",
              "        console.error('Error during call to suggestCharts:', error);\n",
              "      }\n",
              "      quickchartButtonEl.classList.remove('colab-df-spinner');\n",
              "      quickchartButtonEl.classList.add('colab-df-quickchart-complete');\n",
              "    }\n",
              "    (() => {\n",
              "      let quickchartButtonEl =\n",
              "        document.querySelector('#df-0d8a2752-90fc-41b3-9ed0-49e4fd3a639a button');\n",
              "      quickchartButtonEl.style.display =\n",
              "        google.colab.kernel.accessAllowed ? 'block' : 'none';\n",
              "    })();\n",
              "  </script>\n",
              "</div>\n",
              "\n",
              "    </div>\n",
              "  </div>\n"
            ],
            "application/vnd.google.colaboratory.intrinsic+json": {
              "type": "dataframe",
              "variable_name": "combined_dataset_sample",
              "summary": "{\n  \"name\": \"combined_dataset_sample\",\n  \"rows\": 30,\n  \"fields\": [\n    {\n      \"column\": \"German\",\n      \"properties\": {\n        \"dtype\": \"string\",\n        \"num_unique_values\": 30,\n        \"samples\": [\n          \"START_ start_ es ist damit zu rechnen, dass die geleistete arbeitszeit im dritten quartal weiterhin sinken wird. _end _END\",\n          \"START_ start_ in einer meldung von agence france presse hie\\u00df es k\\u00fcrzlich, ahtisaaris bemerkenswerteste leistung war die aufsicht \\u00fcber den ausgleich zwischen der indonesischen regierung und der bewegung freies aceh im jahre 2005, der ein ende des drei jahrzehnte andauernden konfliktes, bei dem rund 15.000 menschen ihr leben verloren, herbeif\\u00fchrte. doch f\\u00fcr das politische wunder von aceh h\\u00e4tten das indonesische volk und seine f\\u00fchrung den friedensnobelpreis erhalten sollen. _end _END\",\n          \"START_ start_ er konnte deutlich die sich abzeichnende industrielle revolution des zwanzigsten jahrhunderts erkennen, als einige gro\\u00dfe unternehmen technische innovation ankurbelten und elektrizit\\u00e4t, chemie, verkehr, kommunikation und computer zu entscheidenden bestandteilen ihres alltags machten. _end _END\"\n        ],\n        \"semantic_type\": \"\",\n        \"description\": \"\"\n      }\n    },\n    {\n      \"column\": \"English\",\n      \"properties\": {\n        \"dtype\": \"string\",\n        \"num_unique_values\": 30,\n        \"samples\": [\n          \"START_ poverty did not vanish. _END\",\n          \"START_ no war, no famine _END\",\n          \"START_ in _END\"\n        ],\n        \"semantic_type\": \"\",\n        \"description\": \"\"\n      }\n    }\n  ]\n}"
            }
          },
          "metadata": {},
          "execution_count": 91
        }
      ]
    },
    {
      "cell_type": "code",
      "source": [
        "np.savetxt('/content/drive/MyDrive/Colab Notebooks/combined_english_german.txt', combined_dataset_sample.to_numpy(), delimiter='\\t', fmt='%s')"
      ],
      "metadata": {
        "id": "7sO5JQgoig7I"
      },
      "id": "7sO5JQgoig7I",
      "execution_count": 92,
      "outputs": []
    },
    {
      "cell_type": "code",
      "source": [
        "def load_doc(filename):\n",
        "\n",
        "    # open the file as read only\n",
        "    file = open(filename, mode='rt', encoding='utf-8')\n",
        "\n",
        "    # read all text\n",
        "    text = file.read()\n",
        "\n",
        "    # close the file\n",
        "    file.close()\n",
        "\n",
        "    return text"
      ],
      "metadata": {
        "id": "vWphVdNyistb"
      },
      "id": "vWphVdNyistb",
      "execution_count": 93,
      "outputs": []
    },
    {
      "cell_type": "code",
      "source": [
        "def to_pairs(doc):\n",
        "    lines = doc.strip().split('\\n')\n",
        "    pairs = [line.split('\\t') for line in  lines]\n",
        "    return pairs"
      ],
      "metadata": {
        "id": "NsYzrMf0iwN_"
      },
      "id": "NsYzrMf0iwN_",
      "execution_count": 94,
      "outputs": []
    },
    {
      "cell_type": "code",
      "source": [
        "from unicodedata import normalize\n",
        "\n",
        "# Function to clean a list of lines\n",
        "\n",
        "def clean_pairs(lines):\n",
        "    cleaned = list()\n",
        "\n",
        "    # prepare regex for char filtering\n",
        "    re_print = re.compile('[^%s]' % re.escape(string.printable))\n",
        "\n",
        "    # prepare translation table for removing punctuation\n",
        "    table = str.maketrans('', '', string.punctuation)\n",
        "\n",
        "    for pair in lines:\n",
        "        clean_pair = list()\n",
        "        for line in pair:\n",
        "            # normalize unicode characters\n",
        "            line = normalize('NFD', line).encode('ascii', 'ignore')\n",
        "            line = line.decode('UTF-8')\n",
        "\n",
        "            # tokenize on white space\n",
        "            line = line.split()\n",
        "\n",
        "            # convert to lowercase\n",
        "            line = [word.lower() for word in line]\n",
        "\n",
        "            # remove punctuation from each token\n",
        "            line = [word.translate(table) for word in line]\n",
        "\n",
        "            # remove non-printable chars form each token\n",
        "            line = [re_print.sub('', w) for w in line]\n",
        "\n",
        "            # remove tokens with numbers in them\n",
        "            line = [word for word in line if word.isalpha()]\n",
        "\n",
        "            # store as string\n",
        "            clean_pair.append(' '.join(line))\n",
        "        cleaned.append(clean_pair)\n",
        "    return array(cleaned)"
      ],
      "metadata": {
        "id": "Zx-GpIFEiywl"
      },
      "id": "Zx-GpIFEiywl",
      "execution_count": 95,
      "outputs": []
    },
    {
      "cell_type": "code",
      "source": [
        "from pickle import load,dump\n",
        "def save_clean_data(sentences, filename):\n",
        "    dump(sentences, open(filename, 'wb'))\n",
        "    print('Saved: %s' % filename)"
      ],
      "metadata": {
        "id": "7dSDUCzEi8k6"
      },
      "id": "7dSDUCzEi8k6",
      "execution_count": 96,
      "outputs": []
    },
    {
      "cell_type": "code",
      "source": [
        "filename = '/content/drive/MyDrive/Colab Notebooks/combined_english_german.txt'\n",
        "\n",
        "doc = load_doc(filename)\n",
        "\n",
        "# Calling to_pair function to split dat into english-german pairs\n",
        "pairs = to_pairs(doc)\n",
        "\n",
        "# Calling clean_pair function to clean the sentences\n",
        "clean_pairs = clean_pairs(pairs)\n",
        "\n",
        "# Calling save_clean_data function to save clean pairs into file\n",
        "save_clean_data(clean_pairs, '/content/drive/MyDrive/Colab Notebooks/german-english1.pkl')"
      ],
      "metadata": {
        "id": "j554yHUIjAUB",
        "outputId": "a2e3aa7f-41e4-40ee-b77e-da4ea9b37235",
        "colab": {
          "base_uri": "https://localhost:8080/"
        }
      },
      "id": "j554yHUIjAUB",
      "execution_count": 97,
      "outputs": [
        {
          "output_type": "stream",
          "name": "stdout",
          "text": [
            "Saved: /content/drive/MyDrive/Colab Notebooks/german-english1.pkl\n"
          ]
        }
      ]
    },
    {
      "cell_type": "code",
      "source": [
        "def load_clean_sentences(filename):\n",
        "    return load(open(filename, 'rb'))"
      ],
      "metadata": {
        "id": "_RRN0I0LjNMv"
      },
      "id": "_RRN0I0LjNMv",
      "execution_count": 98,
      "outputs": []
    },
    {
      "cell_type": "code",
      "source": [
        "print(clean_pairs.size)"
      ],
      "metadata": {
        "id": "vmOBsx7HjO2d",
        "outputId": "e75e4bed-e0b8-4044-99c4-3163a86254d3",
        "colab": {
          "base_uri": "https://localhost:8080/"
        }
      },
      "id": "vmOBsx7HjO2d",
      "execution_count": 99,
      "outputs": [
        {
          "output_type": "stream",
          "name": "stdout",
          "text": [
            "60\n"
          ]
        }
      ]
    },
    {
      "cell_type": "code",
      "source": [
        "from numpy.random import shuffle\n",
        "\n",
        "# Loading clean dataset\n",
        "raw_dataset = load_clean_sentences('/content/drive/MyDrive/Colab Notebooks/german-english1.pkl')\n",
        "\n",
        "# Reducing dataset size\n",
        "n_sentences = clean_pairs.size\n",
        "dataset = raw_dataset[:n_sentences, :]\n",
        "\n",
        "# Randomly shuffling the dataset\n",
        "shuffle(dataset)\n",
        "\n",
        "# Generating train and test datasets\n",
        "train, test = train_test_split(dataset, test_size=0.25, random_state=1)\n",
        "\n",
        "# Saving clean, train, test dataset into pickle file\n",
        "save_clean_data(dataset, '/content/drive/MyDrive/Colab Notebooks/english-german-both1.pkl')\n",
        "save_clean_data(train, '/content/drive/MyDrive/Colab Notebooks/english-german-train1.pkl')\n",
        "save_clean_data(test, '/content/drive/MyDrive/Colab Notebooks/english-german-test1.pkl')"
      ],
      "metadata": {
        "id": "Sb5Y1pXTjTir",
        "outputId": "900b53dd-d372-44c9-cd09-32a7eb6d6c34",
        "colab": {
          "base_uri": "https://localhost:8080/"
        }
      },
      "id": "Sb5Y1pXTjTir",
      "execution_count": 100,
      "outputs": [
        {
          "output_type": "stream",
          "name": "stdout",
          "text": [
            "Saved: /content/drive/MyDrive/Colab Notebooks/english-german-both1.pkl\n",
            "Saved: /content/drive/MyDrive/Colab Notebooks/english-german-train1.pkl\n",
            "Saved: /content/drive/MyDrive/Colab Notebooks/english-german-test1.pkl\n"
          ]
        }
      ]
    },
    {
      "cell_type": "code",
      "source": [
        "def create_tokenizer(lines):\n",
        "    tokenizer = Tokenizer()\n",
        "    tokenizer.fit_on_texts(lines)\n",
        "    return tokenizer"
      ],
      "metadata": {
        "id": "mVlv1MaQjTls"
      },
      "id": "mVlv1MaQjTls",
      "execution_count": 101,
      "outputs": []
    },
    {
      "cell_type": "code",
      "source": [
        "def max_length(lines):\n",
        "    return max(len(line.split()) for line in lines)"
      ],
      "metadata": {
        "id": "OqNv8UjEjoHA"
      },
      "id": "OqNv8UjEjoHA",
      "execution_count": 102,
      "outputs": []
    },
    {
      "cell_type": "code",
      "source": [
        "def encode_sequences(tokenizer, length, lines):\n",
        "    X = tokenizer.texts_to_sequences(lines)\n",
        "\n",
        "    # padding sequences with 0 values\n",
        "    X = pad_sequences(X, maxlen=length, padding='post')\n",
        "\n",
        "    return X"
      ],
      "metadata": {
        "id": "IIGxQI0Bjqhg"
      },
      "id": "IIGxQI0Bjqhg",
      "execution_count": 103,
      "outputs": []
    },
    {
      "cell_type": "code",
      "source": [
        "from keras.utils import to_categorical\n",
        "\n",
        "# Function to convert vectors into binary matrix\n",
        "\n",
        "def encode_output(sequences, vocab_size):\n",
        "    ylist = list()\n",
        "    for sequence in sequences:\n",
        "        encoded = to_categorical(sequence, num_classes=vocab_size)\n",
        "        ylist.append(encoded)\n",
        "    y = array(ylist)\n",
        "    y = y.reshape(sequences.shape[0], sequences.shape[1], vocab_size)\n",
        "    return y"
      ],
      "metadata": {
        "id": "2AlmDRXIjtfh"
      },
      "id": "2AlmDRXIjtfh",
      "execution_count": 104,
      "outputs": []
    },
    {
      "cell_type": "code",
      "source": [
        "dataset = load_clean_sentences('/content/drive/MyDrive/Colab Notebooks/english-german-both1.pkl')\n",
        "train = load_clean_sentences('/content/drive/MyDrive/Colab Notebooks/english-german-train1.pkl')\n",
        "test = load_clean_sentences('/content/drive/MyDrive/Colab Notebooks/english-german-test1.pkl')"
      ],
      "metadata": {
        "id": "DMlZ5qRDj06i"
      },
      "id": "DMlZ5qRDj06i",
      "execution_count": 105,
      "outputs": []
    },
    {
      "cell_type": "code",
      "source": [
        "eng_tokenizer_rnn = create_tokenizer(dataset[:, 0])\n",
        "eng_vocab_size = len(eng_tokenizer_rnn.word_index) + 1\n",
        "eng_length_rnn = max_length(dataset[:, 0])\n",
        "print('English Vocabulary Size: %d' % eng_vocab_size)\n",
        "print('English Max Length: %d' % (eng_length_rnn))\n",
        "\n",
        "# Preparing German tokenizer\n",
        "\n",
        "ger_tokenizer_rnn = create_tokenizer(dataset[:, 1])\n",
        "ger_vocab_size = len(ger_tokenizer_rnn.word_index) + 1\n",
        "ger_length_rnn = max_length(dataset[:, 1])\n",
        "print('German Vocabulary Size: %d' % ger_vocab_size)\n",
        "print('German Max Length: %d' % (ger_length_rnn))"
      ],
      "metadata": {
        "id": "BwShIxUJkE2h",
        "outputId": "2796e5b5-357b-46c6-ffe1-738b1b175724",
        "colab": {
          "base_uri": "https://localhost:8080/"
        }
      },
      "id": "BwShIxUJkE2h",
      "execution_count": 106,
      "outputs": [
        {
          "output_type": "stream",
          "name": "stdout",
          "text": [
            "English Vocabulary Size: 415\n",
            "English Max Length: 68\n",
            "German Vocabulary Size: 87\n",
            "German Max Length: 6\n"
          ]
        }
      ]
    },
    {
      "cell_type": "code",
      "source": [
        "# prepare training data\n",
        "trainX = encode_sequences(ger_tokenizer_rnn, ger_length_rnn, train[:, 1])\n",
        "trainY = encode_sequences(eng_tokenizer_rnn, eng_length_rnn, train[:, 0])\n",
        "trainY = encode_output(trainY, eng_vocab_size)\n",
        "\n",
        "# prepare validation data\n",
        "testX = encode_sequences(ger_tokenizer_rnn, ger_length_rnn, test[:, 1])\n",
        "testY = encode_sequences(eng_tokenizer_rnn, eng_length_rnn, test[:, 0])\n",
        "testY = encode_output(testY, eng_vocab_size)"
      ],
      "metadata": {
        "id": "KqsNBJZZkIHC"
      },
      "id": "KqsNBJZZkIHC",
      "execution_count": 107,
      "outputs": []
    },
    {
      "cell_type": "code",
      "source": [
        "def define_simple_model(src_vocab, tar_vocab, src_timesteps, tar_timesteps, n_units):\n",
        "    model = Sequential()\n",
        "    model.add(Embedding(src_vocab, n_units, input_length=src_timesteps, mask_zero=True))\n",
        "    model.add(SimpleRNN(n_units))\n",
        "    model.add(RepeatVector(tar_timesteps))\n",
        "    model.add(SimpleRNN(n_units, return_sequences=True))\n",
        "    model.add(TimeDistributed(Dense(tar_vocab, activation='softmax')))\n",
        "    return model"
      ],
      "metadata": {
        "id": "qhdmvZlZkJZk"
      },
      "id": "qhdmvZlZkJZk",
      "execution_count": 108,
      "outputs": []
    },
    {
      "cell_type": "code",
      "source": [
        "model_translate_RNN = define_simple_model(ger_vocab_size, eng_vocab_size, ger_length_rnn, eng_length_rnn, 256)"
      ],
      "metadata": {
        "id": "U2ggl0ExkL24"
      },
      "id": "U2ggl0ExkL24",
      "execution_count": 109,
      "outputs": []
    },
    {
      "cell_type": "code",
      "source": [
        "model_translate_RNN.compile(optimizer='adam', loss='categorical_crossentropy', metrics=['accuracy'])"
      ],
      "metadata": {
        "id": "rBOn9XPskOmT"
      },
      "id": "rBOn9XPskOmT",
      "execution_count": 110,
      "outputs": []
    },
    {
      "cell_type": "code",
      "source": [
        "model_translate_RNN.build(input_shape=(2))"
      ],
      "metadata": {
        "id": "dl4Nd6C7kZvO"
      },
      "id": "dl4Nd6C7kZvO",
      "execution_count": 111,
      "outputs": []
    },
    {
      "cell_type": "code",
      "source": [
        "print(model_translate_RNN.summary())\n",
        "\n",
        "plot_model(model_translate_RNN, to_file='model.png', show_shapes=True)"
      ],
      "metadata": {
        "id": "qA2Hd4WQkTAM",
        "outputId": "69fc04c8-e49b-4ba5-99d2-3eb86647f804",
        "colab": {
          "base_uri": "https://localhost:8080/",
          "height": 1000
        }
      },
      "id": "qA2Hd4WQkTAM",
      "execution_count": 112,
      "outputs": [
        {
          "output_type": "display_data",
          "data": {
            "text/plain": [
              "\u001b[1mModel: \"sequential_1\"\u001b[0m\n"
            ],
            "text/html": [
              "<pre style=\"white-space:pre;overflow-x:auto;line-height:normal;font-family:Menlo,'DejaVu Sans Mono',consolas,'Courier New',monospace\"><span style=\"font-weight: bold\">Model: \"sequential_1\"</span>\n",
              "</pre>\n"
            ]
          },
          "metadata": {}
        },
        {
          "output_type": "display_data",
          "data": {
            "text/plain": [
              "┏━━━━━━━━━━━━━━━━━━━━━━━━━━━━━━━━━━━━━━┳━━━━━━━━━━━━━━━━━━━━━━━━━━━━━┳━━━━━━━━━━━━━━━━━┓\n",
              "┃\u001b[1m \u001b[0m\u001b[1mLayer (type)                        \u001b[0m\u001b[1m \u001b[0m┃\u001b[1m \u001b[0m\u001b[1mOutput Shape               \u001b[0m\u001b[1m \u001b[0m┃\u001b[1m \u001b[0m\u001b[1m        Param #\u001b[0m\u001b[1m \u001b[0m┃\n",
              "┡━━━━━━━━━━━━━━━━━━━━━━━━━━━━━━━━━━━━━━╇━━━━━━━━━━━━━━━━━━━━━━━━━━━━━╇━━━━━━━━━━━━━━━━━┩\n",
              "│ embedding_1 (\u001b[38;5;33mEmbedding\u001b[0m)              │ ?                           │     \u001b[38;5;34m0\u001b[0m (unbuilt) │\n",
              "├──────────────────────────────────────┼─────────────────────────────┼─────────────────┤\n",
              "│ simple_rnn_2 (\u001b[38;5;33mSimpleRNN\u001b[0m)             │ ?                           │     \u001b[38;5;34m0\u001b[0m (unbuilt) │\n",
              "├──────────────────────────────────────┼─────────────────────────────┼─────────────────┤\n",
              "│ repeat_vector_1 (\u001b[38;5;33mRepeatVector\u001b[0m)       │ ?                           │     \u001b[38;5;34m0\u001b[0m (unbuilt) │\n",
              "├──────────────────────────────────────┼─────────────────────────────┼─────────────────┤\n",
              "│ simple_rnn_3 (\u001b[38;5;33mSimpleRNN\u001b[0m)             │ ?                           │     \u001b[38;5;34m0\u001b[0m (unbuilt) │\n",
              "├──────────────────────────────────────┼─────────────────────────────┼─────────────────┤\n",
              "│ time_distributed_1 (\u001b[38;5;33mTimeDistributed\u001b[0m) │ ?                           │     \u001b[38;5;34m0\u001b[0m (unbuilt) │\n",
              "└──────────────────────────────────────┴─────────────────────────────┴─────────────────┘\n"
            ],
            "text/html": [
              "<pre style=\"white-space:pre;overflow-x:auto;line-height:normal;font-family:Menlo,'DejaVu Sans Mono',consolas,'Courier New',monospace\">┏━━━━━━━━━━━━━━━━━━━━━━━━━━━━━━━━━━━━━━┳━━━━━━━━━━━━━━━━━━━━━━━━━━━━━┳━━━━━━━━━━━━━━━━━┓\n",
              "┃<span style=\"font-weight: bold\"> Layer (type)                         </span>┃<span style=\"font-weight: bold\"> Output Shape                </span>┃<span style=\"font-weight: bold\">         Param # </span>┃\n",
              "┡━━━━━━━━━━━━━━━━━━━━━━━━━━━━━━━━━━━━━━╇━━━━━━━━━━━━━━━━━━━━━━━━━━━━━╇━━━━━━━━━━━━━━━━━┩\n",
              "│ embedding_1 (<span style=\"color: #0087ff; text-decoration-color: #0087ff\">Embedding</span>)              │ ?                           │     <span style=\"color: #00af00; text-decoration-color: #00af00\">0</span> (unbuilt) │\n",
              "├──────────────────────────────────────┼─────────────────────────────┼─────────────────┤\n",
              "│ simple_rnn_2 (<span style=\"color: #0087ff; text-decoration-color: #0087ff\">SimpleRNN</span>)             │ ?                           │     <span style=\"color: #00af00; text-decoration-color: #00af00\">0</span> (unbuilt) │\n",
              "├──────────────────────────────────────┼─────────────────────────────┼─────────────────┤\n",
              "│ repeat_vector_1 (<span style=\"color: #0087ff; text-decoration-color: #0087ff\">RepeatVector</span>)       │ ?                           │     <span style=\"color: #00af00; text-decoration-color: #00af00\">0</span> (unbuilt) │\n",
              "├──────────────────────────────────────┼─────────────────────────────┼─────────────────┤\n",
              "│ simple_rnn_3 (<span style=\"color: #0087ff; text-decoration-color: #0087ff\">SimpleRNN</span>)             │ ?                           │     <span style=\"color: #00af00; text-decoration-color: #00af00\">0</span> (unbuilt) │\n",
              "├──────────────────────────────────────┼─────────────────────────────┼─────────────────┤\n",
              "│ time_distributed_1 (<span style=\"color: #0087ff; text-decoration-color: #0087ff\">TimeDistributed</span>) │ ?                           │     <span style=\"color: #00af00; text-decoration-color: #00af00\">0</span> (unbuilt) │\n",
              "└──────────────────────────────────────┴─────────────────────────────┴─────────────────┘\n",
              "</pre>\n"
            ]
          },
          "metadata": {}
        },
        {
          "output_type": "display_data",
          "data": {
            "text/plain": [
              "\u001b[1m Total params: \u001b[0m\u001b[38;5;34m0\u001b[0m (0.00 B)\n"
            ],
            "text/html": [
              "<pre style=\"white-space:pre;overflow-x:auto;line-height:normal;font-family:Menlo,'DejaVu Sans Mono',consolas,'Courier New',monospace\"><span style=\"font-weight: bold\"> Total params: </span><span style=\"color: #00af00; text-decoration-color: #00af00\">0</span> (0.00 B)\n",
              "</pre>\n"
            ]
          },
          "metadata": {}
        },
        {
          "output_type": "display_data",
          "data": {
            "text/plain": [
              "\u001b[1m Trainable params: \u001b[0m\u001b[38;5;34m0\u001b[0m (0.00 B)\n"
            ],
            "text/html": [
              "<pre style=\"white-space:pre;overflow-x:auto;line-height:normal;font-family:Menlo,'DejaVu Sans Mono',consolas,'Courier New',monospace\"><span style=\"font-weight: bold\"> Trainable params: </span><span style=\"color: #00af00; text-decoration-color: #00af00\">0</span> (0.00 B)\n",
              "</pre>\n"
            ]
          },
          "metadata": {}
        },
        {
          "output_type": "display_data",
          "data": {
            "text/plain": [
              "\u001b[1m Non-trainable params: \u001b[0m\u001b[38;5;34m0\u001b[0m (0.00 B)\n"
            ],
            "text/html": [
              "<pre style=\"white-space:pre;overflow-x:auto;line-height:normal;font-family:Menlo,'DejaVu Sans Mono',consolas,'Courier New',monospace\"><span style=\"font-weight: bold\"> Non-trainable params: </span><span style=\"color: #00af00; text-decoration-color: #00af00\">0</span> (0.00 B)\n",
              "</pre>\n"
            ]
          },
          "metadata": {}
        },
        {
          "output_type": "stream",
          "name": "stdout",
          "text": [
            "None\n"
          ]
        },
        {
          "output_type": "execute_result",
          "data": {
            "image/png": "[encoded data removed]",
            "text/plain": [
              "<IPython.core.display.Image object>"
            ]
          },
          "metadata": {},
          "execution_count": 112
        }
      ]
    },
    {
      "cell_type": "code",
      "source": [
        "# Creating the callbacks\n",
        "\n",
        "from tensorflow.keras.callbacks import EarlyStopping, ReduceLROnPlateau, ModelCheckpoint\n",
        "\n",
        "es = EarlyStopping(monitor='val_accuracy',mode='max',verbose=1,patience=40)\n",
        "rl = ReduceLROnPlateau(monitor='val_accuracy',mode='max',verbose=1,patience=5,factor=0.1,min_lr=0.001)\n",
        "mc = ModelCheckpoint('checkpoint/model.keras',monitor='val_accuracy',verbose=1,mode='max',save_best_only=True)"
      ],
      "metadata": {
        "id": "QnoZs20Kkh_8"
      },
      "id": "QnoZs20Kkh_8",
      "execution_count": 113,
      "outputs": []
    },
    {
      "cell_type": "code",
      "source": [
        "filename = 'model.h5'\n",
        "\n",
        "history_1 = model_translate_RNN.fit(trainX, trainY, epochs=30, batch_size=64, validation_split = 0.3, callbacks=[es,rl,mc])"
      ],
      "metadata": {
        "id": "uMoVI_KRkjqo",
        "outputId": "449fc79b-28a4-4a7a-a76b-ea221f4c43ac",
        "colab": {
          "base_uri": "https://localhost:8080/"
        }
      },
      "id": "uMoVI_KRkjqo",
      "execution_count": 114,
      "outputs": [
        {
          "output_type": "stream",
          "name": "stdout",
          "text": [
            "Epoch 1/30\n",
            "\u001b[1m1/1\u001b[0m \u001b[32m━━━━━━━━━━━━━━━━━━━━\u001b[0m\u001b[37m\u001b[0m \u001b[1m0s\u001b[0m 7s/step - accuracy: 0.0020 - loss: 5.9980\n",
            "Epoch 1: val_accuracy improved from -inf to 0.70588, saving model to checkpoint/model.keras\n",
            "\u001b[1m1/1\u001b[0m \u001b[32m━━━━━━━━━━━━━━━━━━━━\u001b[0m\u001b[37m\u001b[0m \u001b[1m9s\u001b[0m 9s/step - accuracy: 0.0020 - loss: 5.9980 - val_accuracy: 0.7059 - val_loss: 5.3824 - learning_rate: 0.0010\n",
            "Epoch 2/30\n",
            "\u001b[1m1/1\u001b[0m \u001b[32m━━━━━━━━━━━━━━━━━━━━\u001b[0m\u001b[37m\u001b[0m \u001b[1m0s\u001b[0m 806ms/step - accuracy: 0.6167 - loss: 5.4315\n",
            "Epoch 2: val_accuracy improved from 0.70588 to 0.72689, saving model to checkpoint/model.keras\n",
            "\u001b[1m1/1\u001b[0m \u001b[32m━━━━━━━━━━━━━━━━━━━━\u001b[0m\u001b[37m\u001b[0m \u001b[1m1s\u001b[0m 981ms/step - accuracy: 0.6167 - loss: 5.4315 - val_accuracy: 0.7269 - val_loss: 4.3835 - learning_rate: 0.0010\n",
            "Epoch 3/30\n",
            "\u001b[1m1/1\u001b[0m \u001b[32m━━━━━━━━━━━━━━━━━━━━\u001b[0m\u001b[37m\u001b[0m \u001b[1m0s\u001b[0m 438ms/step - accuracy: 0.6225 - loss: 4.5531\n",
            "Epoch 3: val_accuracy did not improve from 0.72689\n",
            "\u001b[1m1/1\u001b[0m \u001b[32m━━━━━━━━━━━━━━━━━━━━\u001b[0m\u001b[37m\u001b[0m \u001b[1m1s\u001b[0m 535ms/step - accuracy: 0.6225 - loss: 4.5531 - val_accuracy: 0.7269 - val_loss: 3.4944 - learning_rate: 0.0010\n",
            "Epoch 4/30\n",
            "\u001b[1m1/1\u001b[0m \u001b[32m━━━━━━━━━━━━━━━━━━━━\u001b[0m\u001b[37m\u001b[0m \u001b[1m0s\u001b[0m 271ms/step - accuracy: 0.6225 - loss: 3.8106\n",
            "Epoch 4: val_accuracy did not improve from 0.72689\n",
            "\u001b[1m1/1\u001b[0m \u001b[32m━━━━━━━━━━━━━━━━━━━━\u001b[0m\u001b[37m\u001b[0m \u001b[1m0s\u001b[0m 363ms/step - accuracy: 0.6225 - loss: 3.8106 - val_accuracy: 0.7269 - val_loss: 2.7413 - learning_rate: 0.0010\n",
            "Epoch 5/30\n",
            "\u001b[1m1/1\u001b[0m \u001b[32m━━━━━━━━━━━━━━━━━━━━\u001b[0m\u001b[37m\u001b[0m \u001b[1m0s\u001b[0m 544ms/step - accuracy: 0.6225 - loss: 3.2078\n",
            "Epoch 5: val_accuracy did not improve from 0.72689\n",
            "\u001b[1m1/1\u001b[0m \u001b[32m━━━━━━━━━━━━━━━━━━━━\u001b[0m\u001b[37m\u001b[0m \u001b[1m1s\u001b[0m 647ms/step - accuracy: 0.6225 - loss: 3.2078 - val_accuracy: 0.7269 - val_loss: 2.2674 - learning_rate: 0.0010\n",
            "Epoch 6/30\n",
            "\u001b[1m1/1\u001b[0m \u001b[32m━━━━━━━━━━━━━━━━━━━━\u001b[0m\u001b[37m\u001b[0m \u001b[1m0s\u001b[0m 151ms/step - accuracy: 0.6225 - loss: 2.8742\n",
            "Epoch 6: val_accuracy did not improve from 0.72689\n",
            "\u001b[1m1/1\u001b[0m \u001b[32m━━━━━━━━━━━━━━━━━━━━\u001b[0m\u001b[37m\u001b[0m \u001b[1m0s\u001b[0m 201ms/step - accuracy: 0.6225 - loss: 2.8742 - val_accuracy: 0.7269 - val_loss: 2.1269 - learning_rate: 0.0010\n",
            "Epoch 7/30\n",
            "\u001b[1m1/1\u001b[0m \u001b[32m━━━━━━━━━━━━━━━━━━━━\u001b[0m\u001b[37m\u001b[0m \u001b[1m0s\u001b[0m 154ms/step - accuracy: 0.6225 - loss: 2.8268\n",
            "Epoch 7: val_accuracy did not improve from 0.72689\n",
            "\u001b[1m1/1\u001b[0m \u001b[32m━━━━━━━━━━━━━━━━━━━━\u001b[0m\u001b[37m\u001b[0m \u001b[1m0s\u001b[0m 210ms/step - accuracy: 0.6225 - loss: 2.8268 - val_accuracy: 0.7269 - val_loss: 2.1345 - learning_rate: 0.0010\n",
            "Epoch 8/30\n",
            "\u001b[1m1/1\u001b[0m \u001b[32m━━━━━━━━━━━━━━━━━━━━\u001b[0m\u001b[37m\u001b[0m \u001b[1m0s\u001b[0m 154ms/step - accuracy: 0.6225 - loss: 2.8681\n",
            "Epoch 8: val_accuracy did not improve from 0.72689\n",
            "\u001b[1m1/1\u001b[0m \u001b[32m━━━━━━━━━━━━━━━━━━━━\u001b[0m\u001b[37m\u001b[0m \u001b[1m0s\u001b[0m 205ms/step - accuracy: 0.6225 - loss: 2.8681 - val_accuracy: 0.7269 - val_loss: 2.1446 - learning_rate: 0.0010\n",
            "Epoch 9/30\n",
            "\u001b[1m1/1\u001b[0m \u001b[32m━━━━━━━━━━━━━━━━━━━━\u001b[0m\u001b[37m\u001b[0m \u001b[1m0s\u001b[0m 261ms/step - accuracy: 0.6225 - loss: 2.8663\n",
            "Epoch 9: val_accuracy did not improve from 0.72689\n",
            "\u001b[1m1/1\u001b[0m \u001b[32m━━━━━━━━━━━━━━━━━━━━\u001b[0m\u001b[37m\u001b[0m \u001b[1m0s\u001b[0m 316ms/step - accuracy: 0.6225 - loss: 2.8663 - val_accuracy: 0.7269 - val_loss: 2.1265 - learning_rate: 0.0010\n",
            "Epoch 10/30\n",
            "\u001b[1m1/1\u001b[0m \u001b[32m━━━━━━━━━━━━━━━━━━━━\u001b[0m\u001b[37m\u001b[0m \u001b[1m0s\u001b[0m 165ms/step - accuracy: 0.6225 - loss: 2.8037\n",
            "Epoch 10: val_accuracy did not improve from 0.72689\n",
            "\u001b[1m1/1\u001b[0m \u001b[32m━━━━━━━━━━━━━━━━━━━━\u001b[0m\u001b[37m\u001b[0m \u001b[1m0s\u001b[0m 215ms/step - accuracy: 0.6225 - loss: 2.8037 - val_accuracy: 0.7269 - val_loss: 2.0957 - learning_rate: 0.0010\n",
            "Epoch 11/30\n",
            "\u001b[1m1/1\u001b[0m \u001b[32m━━━━━━━━━━━━━━━━━━━━\u001b[0m\u001b[37m\u001b[0m \u001b[1m0s\u001b[0m 148ms/step - accuracy: 0.6225 - loss: 2.7048\n",
            "Epoch 11: val_accuracy did not improve from 0.72689\n",
            "\u001b[1m1/1\u001b[0m \u001b[32m━━━━━━━━━━━━━━━━━━━━\u001b[0m\u001b[37m\u001b[0m \u001b[1m0s\u001b[0m 200ms/step - accuracy: 0.6225 - loss: 2.7048 - val_accuracy: 0.7269 - val_loss: 2.0882 - learning_rate: 0.0010\n",
            "Epoch 12/30\n",
            "\u001b[1m1/1\u001b[0m \u001b[32m━━━━━━━━━━━━━━━━━━━━\u001b[0m\u001b[37m\u001b[0m \u001b[1m0s\u001b[0m 153ms/step - accuracy: 0.6225 - loss: 2.6150\n",
            "Epoch 12: val_accuracy did not improve from 0.72689\n",
            "\u001b[1m1/1\u001b[0m \u001b[32m━━━━━━━━━━━━━━━━━━━━\u001b[0m\u001b[37m\u001b[0m \u001b[1m0s\u001b[0m 202ms/step - accuracy: 0.6225 - loss: 2.6150 - val_accuracy: 0.7269 - val_loss: 2.1340 - learning_rate: 0.0010\n",
            "Epoch 13/30\n",
            "\u001b[1m1/1\u001b[0m \u001b[32m━━━━━━━━━━━━━━━━━━━━\u001b[0m\u001b[37m\u001b[0m \u001b[1m0s\u001b[0m 153ms/step - accuracy: 0.6225 - loss: 2.5780\n",
            "Epoch 13: val_accuracy did not improve from 0.72689\n",
            "\u001b[1m1/1\u001b[0m \u001b[32m━━━━━━━━━━━━━━━━━━━━\u001b[0m\u001b[37m\u001b[0m \u001b[1m0s\u001b[0m 204ms/step - accuracy: 0.6225 - loss: 2.5780 - val_accuracy: 0.7269 - val_loss: 2.2087 - learning_rate: 0.0010\n",
            "Epoch 14/30\n",
            "\u001b[1m1/1\u001b[0m \u001b[32m━━━━━━━━━━━━━━━━━━━━\u001b[0m\u001b[37m\u001b[0m \u001b[1m0s\u001b[0m 212ms/step - accuracy: 0.6225 - loss: 2.5841\n",
            "Epoch 14: val_accuracy improved from 0.72689 to 0.73950, saving model to checkpoint/model.keras\n",
            "\u001b[1m1/1\u001b[0m \u001b[32m━━━━━━━━━━━━━━━━━━━━\u001b[0m\u001b[37m\u001b[0m \u001b[1m0s\u001b[0m 319ms/step - accuracy: 0.6225 - loss: 2.5841 - val_accuracy: 0.7395 - val_loss: 2.2560 - learning_rate: 0.0010\n",
            "Epoch 15/30\n",
            "\u001b[1m1/1\u001b[0m \u001b[32m━━━━━━━━━━━━━━━━━━━━\u001b[0m\u001b[37m\u001b[0m \u001b[1m0s\u001b[0m 154ms/step - accuracy: 0.6333 - loss: 2.5857\n",
            "Epoch 15: val_accuracy improved from 0.73950 to 0.74160, saving model to checkpoint/model.keras\n",
            "\u001b[1m1/1\u001b[0m \u001b[32m━━━━━━━━━━━━━━━━━━━━\u001b[0m\u001b[37m\u001b[0m \u001b[1m0s\u001b[0m 257ms/step - accuracy: 0.6333 - loss: 2.5857 - val_accuracy: 0.7416 - val_loss: 2.2569 - learning_rate: 0.0010\n",
            "Epoch 16/30\n",
            "\u001b[1m1/1\u001b[0m \u001b[32m━━━━━━━━━━━━━━━━━━━━\u001b[0m\u001b[37m\u001b[0m \u001b[1m0s\u001b[0m 154ms/step - accuracy: 0.6363 - loss: 2.5618\n",
            "Epoch 16: val_accuracy did not improve from 0.74160\n",
            "\u001b[1m1/1\u001b[0m \u001b[32m━━━━━━━━━━━━━━━━━━━━\u001b[0m\u001b[37m\u001b[0m \u001b[1m0s\u001b[0m 205ms/step - accuracy: 0.6363 - loss: 2.5618 - val_accuracy: 0.7416 - val_loss: 2.2308 - learning_rate: 0.0010\n",
            "Epoch 17/30\n",
            "\u001b[1m1/1\u001b[0m \u001b[32m━━━━━━━━━━━━━━━━━━━━\u001b[0m\u001b[37m\u001b[0m \u001b[1m0s\u001b[0m 253ms/step - accuracy: 0.6363 - loss: 2.5246\n",
            "Epoch 17: val_accuracy did not improve from 0.74160\n",
            "\u001b[1m1/1\u001b[0m \u001b[32m━━━━━━━━━━━━━━━━━━━━\u001b[0m\u001b[37m\u001b[0m \u001b[1m0s\u001b[0m 311ms/step - accuracy: 0.6363 - loss: 2.5246 - val_accuracy: 0.7416 - val_loss: 2.2029 - learning_rate: 0.0010\n",
            "Epoch 18/30\n",
            "\u001b[1m1/1\u001b[0m \u001b[32m━━━━━━━━━━━━━━━━━━━━\u001b[0m\u001b[37m\u001b[0m \u001b[1m0s\u001b[0m 157ms/step - accuracy: 0.6373 - loss: 2.4924\n",
            "Epoch 18: val_accuracy did not improve from 0.74160\n",
            "\u001b[1m1/1\u001b[0m \u001b[32m━━━━━━━━━━━━━━━━━━━━\u001b[0m\u001b[37m\u001b[0m \u001b[1m0s\u001b[0m 208ms/step - accuracy: 0.6373 - loss: 2.4924 - val_accuracy: 0.7416 - val_loss: 2.1863 - learning_rate: 0.0010\n",
            "Epoch 19/30\n",
            "\u001b[1m1/1\u001b[0m \u001b[32m━━━━━━━━━━━━━━━━━━━━\u001b[0m\u001b[37m\u001b[0m \u001b[1m0s\u001b[0m 154ms/step - accuracy: 0.6373 - loss: 2.4732\n",
            "Epoch 19: val_accuracy did not improve from 0.74160\n",
            "\u001b[1m1/1\u001b[0m \u001b[32m━━━━━━━━━━━━━━━━━━━━\u001b[0m\u001b[37m\u001b[0m \u001b[1m0s\u001b[0m 203ms/step - accuracy: 0.6373 - loss: 2.4732 - val_accuracy: 0.7416 - val_loss: 2.1819 - learning_rate: 0.0010\n",
            "Epoch 20/30\n",
            "\u001b[1m1/1\u001b[0m \u001b[32m━━━━━━━━━━━━━━━━━━━━\u001b[0m\u001b[37m\u001b[0m \u001b[1m0s\u001b[0m 151ms/step - accuracy: 0.6373 - loss: 2.4649\n",
            "Epoch 20: val_accuracy did not improve from 0.74160\n",
            "\u001b[1m1/1\u001b[0m \u001b[32m━━━━━━━━━━━━━━━━━━━━\u001b[0m\u001b[37m\u001b[0m \u001b[1m0s\u001b[0m 203ms/step - accuracy: 0.6373 - loss: 2.4649 - val_accuracy: 0.7416 - val_loss: 2.1865 - learning_rate: 0.0010\n",
            "Epoch 21/30\n",
            "\u001b[1m1/1\u001b[0m \u001b[32m━━━━━━━━━━━━━━━━━━━━\u001b[0m\u001b[37m\u001b[0m \u001b[1m0s\u001b[0m 239ms/step - accuracy: 0.6373 - loss: 2.4614\n",
            "Epoch 21: val_accuracy did not improve from 0.74160\n",
            "\u001b[1m1/1\u001b[0m \u001b[32m━━━━━━━━━━━━━━━━━━━━\u001b[0m\u001b[37m\u001b[0m \u001b[1m0s\u001b[0m 302ms/step - accuracy: 0.6373 - loss: 2.4614 - val_accuracy: 0.7416 - val_loss: 2.1961 - learning_rate: 0.0010\n",
            "Epoch 22/30\n",
            "\u001b[1m1/1\u001b[0m \u001b[32m━━━━━━━━━━━━━━━━━━━━\u001b[0m\u001b[37m\u001b[0m \u001b[1m0s\u001b[0m 165ms/step - accuracy: 0.6373 - loss: 2.4577\n",
            "Epoch 22: val_accuracy did not improve from 0.74160\n",
            "\u001b[1m1/1\u001b[0m \u001b[32m━━━━━━━━━━━━━━━━━━━━\u001b[0m\u001b[37m\u001b[0m \u001b[1m0s\u001b[0m 232ms/step - accuracy: 0.6373 - loss: 2.4577 - val_accuracy: 0.7416 - val_loss: 2.2081 - learning_rate: 0.0010\n",
            "Epoch 23/30\n",
            "\u001b[1m1/1\u001b[0m \u001b[32m━━━━━━━━━━━━━━━━━━━━\u001b[0m\u001b[37m\u001b[0m \u001b[1m0s\u001b[0m 150ms/step - accuracy: 0.6373 - loss: 2.4512\n",
            "Epoch 23: val_accuracy improved from 0.74160 to 0.75000, saving model to checkpoint/model.keras\n",
            "\u001b[1m1/1\u001b[0m \u001b[32m━━━━━━━━━━━━━━━━━━━━\u001b[0m\u001b[37m\u001b[0m \u001b[1m0s\u001b[0m 270ms/step - accuracy: 0.6373 - loss: 2.4512 - val_accuracy: 0.7500 - val_loss: 2.2214 - learning_rate: 0.0010\n",
            "Epoch 24/30\n",
            "\u001b[1m1/1\u001b[0m \u001b[32m━━━━━━━━━━━━━━━━━━━━\u001b[0m\u001b[37m\u001b[0m \u001b[1m0s\u001b[0m 176ms/step - accuracy: 0.6392 - loss: 2.4417\n",
            "Epoch 24: val_accuracy improved from 0.75000 to 0.75420, saving model to checkpoint/model.keras\n",
            "\u001b[1m1/1\u001b[0m \u001b[32m━━━━━━━━━━━━━━━━━━━━\u001b[0m\u001b[37m\u001b[0m \u001b[1m0s\u001b[0m 280ms/step - accuracy: 0.6392 - loss: 2.4417 - val_accuracy: 0.7542 - val_loss: 2.2359 - learning_rate: 0.0010\n",
            "Epoch 25/30\n",
            "\u001b[1m1/1\u001b[0m \u001b[32m━━━━━━━━━━━━━━━━━━━━\u001b[0m\u001b[37m\u001b[0m \u001b[1m0s\u001b[0m 163ms/step - accuracy: 0.6490 - loss: 2.4309\n",
            "Epoch 25: val_accuracy improved from 0.75420 to 0.75630, saving model to checkpoint/model.keras\n",
            "\u001b[1m1/1\u001b[0m \u001b[32m━━━━━━━━━━━━━━━━━━━━\u001b[0m\u001b[37m\u001b[0m \u001b[1m0s\u001b[0m 280ms/step - accuracy: 0.6490 - loss: 2.4309 - val_accuracy: 0.7563 - val_loss: 2.2517 - learning_rate: 0.0010\n",
            "Epoch 26/30\n",
            "\u001b[1m1/1\u001b[0m \u001b[32m━━━━━━━━━━━━━━━━━━━━\u001b[0m\u001b[37m\u001b[0m \u001b[1m0s\u001b[0m 183ms/step - accuracy: 0.6510 - loss: 2.4207\n",
            "Epoch 26: val_accuracy did not improve from 0.75630\n",
            "\u001b[1m1/1\u001b[0m \u001b[32m━━━━━━━━━━━━━━━━━━━━\u001b[0m\u001b[37m\u001b[0m \u001b[1m0s\u001b[0m 233ms/step - accuracy: 0.6510 - loss: 2.4207 - val_accuracy: 0.7563 - val_loss: 2.2675 - learning_rate: 0.0010\n",
            "Epoch 27/30\n",
            "\u001b[1m1/1\u001b[0m \u001b[32m━━━━━━━━━━━━━━━━━━━━\u001b[0m\u001b[37m\u001b[0m \u001b[1m0s\u001b[0m 240ms/step - accuracy: 0.6510 - loss: 2.4116\n",
            "Epoch 27: val_accuracy did not improve from 0.75630\n",
            "\u001b[1m1/1\u001b[0m \u001b[32m━━━━━━━━━━━━━━━━━━━━\u001b[0m\u001b[37m\u001b[0m \u001b[1m0s\u001b[0m 292ms/step - accuracy: 0.6510 - loss: 2.4116 - val_accuracy: 0.7563 - val_loss: 2.2801 - learning_rate: 0.0010\n",
            "Epoch 28/30\n",
            "\u001b[1m1/1\u001b[0m \u001b[32m━━━━━━━━━━━━━━━━━━━━\u001b[0m\u001b[37m\u001b[0m \u001b[1m0s\u001b[0m 148ms/step - accuracy: 0.6510 - loss: 2.4021\n",
            "Epoch 28: val_accuracy did not improve from 0.75630\n",
            "\u001b[1m1/1\u001b[0m \u001b[32m━━━━━━━━━━━━━━━━━━━━\u001b[0m\u001b[37m\u001b[0m \u001b[1m0s\u001b[0m 200ms/step - accuracy: 0.6510 - loss: 2.4021 - val_accuracy: 0.7563 - val_loss: 2.2871 - learning_rate: 0.0010\n",
            "Epoch 29/30\n",
            "\u001b[1m1/1\u001b[0m \u001b[32m━━━━━━━━━━━━━━━━━━━━\u001b[0m\u001b[37m\u001b[0m \u001b[1m0s\u001b[0m 173ms/step - accuracy: 0.6510 - loss: 2.3905\n",
            "Epoch 29: val_accuracy did not improve from 0.75630\n",
            "\u001b[1m1/1\u001b[0m \u001b[32m━━━━━━━━━━━━━━━━━━━━\u001b[0m\u001b[37m\u001b[0m \u001b[1m0s\u001b[0m 226ms/step - accuracy: 0.6510 - loss: 2.3905 - val_accuracy: 0.7563 - val_loss: 2.2895 - learning_rate: 0.0010\n",
            "Epoch 30/30\n",
            "\u001b[1m1/1\u001b[0m \u001b[32m━━━━━━━━━━━━━━━━━━━━\u001b[0m\u001b[37m\u001b[0m \u001b[1m0s\u001b[0m 156ms/step - accuracy: 0.6510 - loss: 2.3780\n",
            "Epoch 30: val_accuracy did not improve from 0.75630\n",
            "\u001b[1m1/1\u001b[0m \u001b[32m━━━━━━━━━━━━━━━━━━━━\u001b[0m\u001b[37m\u001b[0m \u001b[1m0s\u001b[0m 220ms/step - accuracy: 0.6510 - loss: 2.3780 - val_accuracy: 0.7563 - val_loss: 2.2895 - learning_rate: 0.0010\n"
          ]
        }
      ]
    },
    {
      "cell_type": "code",
      "source": [
        "plt.figure(figsize=(10,5))\n",
        "plt.plot(history_1.history['loss'],'r',label='train loss')\n",
        "plt.plot(history_1.history['val_loss'],'b',label='test loss')\n",
        "plt.xlabel('No. of Epochs')\n",
        "plt.ylabel('Loss')\n",
        "plt.title('Loss Graph')\n",
        "plt.legend();"
      ],
      "metadata": {
        "id": "1NRz4QNeksKm",
        "outputId": "21cc82f6-345b-4f06-a9a6-7ca872687702",
        "colab": {
          "base_uri": "https://localhost:8080/",
          "height": 487
        }
      },
      "id": "1NRz4QNeksKm",
      "execution_count": 115,
      "outputs": [
        {
          "output_type": "display_data",
          "data": {
            "text/plain": [
              "<Figure size 1000x500 with 1 Axes>"
            ],
            "image/png": "[encoded data removed]"
          },
          "metadata": {}
        }
      ]
    },
    {
      "cell_type": "code",
      "source": [
        "plt.figure(figsize=(10,5))\n",
        "plt.plot(history_1.history['accuracy'],'r',label='train accuracy')\n",
        "plt.plot(history_1.history['val_accuracy'],'b',label='test accuracy')\n",
        "plt.xlabel('No. of Epochs')\n",
        "plt.ylabel('Accuracy')\n",
        "plt.title('Accuracy Graph')\n",
        "plt.legend();"
      ],
      "metadata": {
        "id": "8hUSsOEtkvI8",
        "outputId": "f4016a39-b62a-455a-b9d9-c4b04bc5944f",
        "colab": {
          "base_uri": "https://localhost:8080/",
          "height": 487
        }
      },
      "id": "8hUSsOEtkvI8",
      "execution_count": 116,
      "outputs": [
        {
          "output_type": "display_data",
          "data": {
            "text/plain": [
              "<Figure size 1000x500 with 1 Axes>"
            ],
            "image/png": "[encoded data removed]"
          },
          "metadata": {}
        }
      ]
    },
    {
      "cell_type": "code",
      "source": [
        "results_translate_rnn_test = model_translate_RNN.evaluate(testX, testY)"
      ],
      "metadata": {
        "colab": {
          "base_uri": "https://localhost:8080/"
        },
        "id": "mS4Jw-mhx9P8",
        "outputId": "ff4985a3-c70a-4659-e4cd-30187ea15e4b"
      },
      "id": "mS4Jw-mhx9P8",
      "execution_count": 117,
      "outputs": [
        {
          "output_type": "stream",
          "name": "stdout",
          "text": [
            "\u001b[1m1/1\u001b[0m \u001b[32m━━━━━━━━━━━━━━━━━━━━\u001b[0m\u001b[37m\u001b[0m \u001b[1m0s\u001b[0m 78ms/step - accuracy: 0.5919 - loss: 3.8015\n"
          ]
        }
      ]
    },
    {
      "cell_type": "code",
      "source": [
        "results_translate_rnn_train = model_translate_RNN.evaluate(trainX, trainY)"
      ],
      "metadata": {
        "colab": {
          "base_uri": "https://localhost:8080/"
        },
        "id": "QnjNDivEyCA2",
        "outputId": "88c6d79d-aee1-43b8-afcb-6d6b3928ec10"
      },
      "id": "QnjNDivEyCA2",
      "execution_count": 118,
      "outputs": [
        {
          "output_type": "stream",
          "name": "stdout",
          "text": [
            "\u001b[1m1/1\u001b[0m \u001b[32m━━━━━━━━━━━━━━━━━━━━\u001b[0m\u001b[37m\u001b[0m \u001b[1m0s\u001b[0m 63ms/step - accuracy: 0.6845 - loss: 2.3420\n"
          ]
        }
      ]
    },
    {
      "cell_type": "code",
      "source": [
        "def word_for_id(integer, tokenizer):\n",
        "    for word, index in tokenizer.word_index.items():\n",
        "        if index == integer:\n",
        "            return word\n",
        "    return None"
      ],
      "metadata": {
        "id": "I1rSW903yHSp"
      },
      "id": "I1rSW903yHSp",
      "execution_count": 119,
      "outputs": []
    },
    {
      "cell_type": "code",
      "source": [
        "def predict_sequence(model, tokenizer, source):\n",
        "    prediction = model.predict(source, verbose=0)[0]\n",
        "    integers = [argmax(vector) for vector in prediction]\n",
        "    target = list()\n",
        "    for i in integers:\n",
        "        word = word_for_id(i, tokenizer)\n",
        "        if word is None:\n",
        "            break\n",
        "        target.append(word)\n",
        "    return ' '.join(target)"
      ],
      "metadata": {
        "id": "kq6oYLFMyKva"
      },
      "id": "kq6oYLFMyKva",
      "execution_count": 120,
      "outputs": []
    },
    {
      "cell_type": "code",
      "source": [
        "from nltk.translate.bleu_score import corpus_bleu\n",
        "\n",
        "# Function to evaluate model performance using BLEU score\n",
        "def evaluate_model(model, tokenizer, sources, raw_dataset):\n",
        "    actual, predicted = list(), list()\n",
        "    for i, source in enumerate(sources):\n",
        "\n",
        "        # Translating encoded source text\n",
        "        source = source.reshape((1, source.shape[0]))\n",
        "        translation = predict_sequence(model, eng_tokenizer_rnn, source)\n",
        "        raw_target, raw_src = raw_dataset[i]\n",
        "        if i < 10:\n",
        "            print(\"The German sentence is:\", raw_src)\n",
        "            print(\"The English sentence is:\", raw_target)\n",
        "            print(\"The predicted sentence is:\", translation)\n",
        "            print(\"*\"*50)\n",
        "        actual.append([raw_target.split()])\n",
        "        predicted.append(translation.split())\n",
        "\n",
        "    # Calculating BLEU score\n",
        "    print('BLEU-1: %f' % corpus_bleu(actual, predicted, weights=(1.0, 0, 0, 0)))\n",
        "    print('BLEU-2: %f' % corpus_bleu(actual, predicted, weights=(0.5, 0.5, 0, 0)))\n",
        "    print('BLEU-3: %f' % corpus_bleu(actual, predicted, weights=(0.3, 0.3, 0.3, 0)))\n",
        "    print('BLEU-4: %f' % corpus_bleu(actual, predicted, weights=(0.25, 0.25, 0.25, 0.25)))"
      ],
      "metadata": {
        "id": "XMiakFsTyPp3"
      },
      "id": "XMiakFsTyPp3",
      "execution_count": 121,
      "outputs": []
    },
    {
      "cell_type": "code",
      "source": [
        "print('Prediction of training sentences:')\n",
        "evaluate_model(model_translate_RNN, eng_tokenizer_rnn, trainX, train)"
      ],
      "metadata": {
        "colab": {
          "base_uri": "https://localhost:8080/"
        },
        "id": "C0nScE2syUj-",
        "outputId": "1c047470-eb75-4b49-d75d-ce4e6be67bbf"
      },
      "id": "C0nScE2syUj-",
      "execution_count": 122,
      "outputs": [
        {
          "output_type": "stream",
          "name": "stdout",
          "text": [
            "Prediction of training sentences:\n",
            "The German sentence is: start end\n",
            "The English sentence is: start start amerika muss nun ernsthaft in sich gehen und sein gewissen uberprufen end end\n",
            "The predicted sentence is: start\n",
            "**************************************************\n",
            "The German sentence is: start a metaphor for obama end\n",
            "The English sentence is: start start im jahr trat er zuruck um als angela merkels kandidat fur das weitgehend reprasentative amt des deutschen bundesprasidenten zu kandidieren bis zu seinem abrupten rucktritt zeichnete er sich durch kapriziose amtsfuhrung aus end end\n",
            "The predicted sentence is: start start\n",
            "**************************************************\n",
            "The German sentence is: start poverty did not vanish end\n",
            "The English sentence is: start start es ist damit zu rechnen dass die geleistete arbeitszeit im dritten quartal weiterhin sinken wird end end\n",
            "The predicted sentence is: start start\n",
            "**************************************************\n",
            "The German sentence is: start old and aging europe end\n",
            "The English sentence is: start start als folge dessen wird sich der anteil dieser regionen an der weltwirtschaft vergroern end end\n",
            "The predicted sentence is: start start\n",
            "**************************************************\n",
            "The German sentence is: start in end\n",
            "The English sentence is: start start er konnte deutlich die sich abzeichnende industrielle revolution des zwanzigsten jahrhunderts erkennen als einige groe unternehmen technische innovation ankurbelten und elektrizitat chemie verkehr kommunikation und computer zu entscheidenden bestandteilen ihres alltags machten end end\n",
            "The predicted sentence is: start start\n",
            "**************************************************\n",
            "The German sentence is: start optimistic doha liberalization end\n",
            "The English sentence is: start start optimistisches dohaziel liberalisierung end end\n",
            "The predicted sentence is: start start\n",
            "**************************************************\n",
            "The German sentence is: start today none capture end\n",
            "The English sentence is: start start stockholm es bestehen kaum zweifel dass das peinliche spektakel des prozesses gegen die fruhere ukrainische ministerprasidentin julia timoschenko und ihre jungste verhaftung wegen missachtung des gerichts im laufenden verfahren ihrem land schweren schaden zufugt end end\n",
            "The predicted sentence is: start start\n",
            "**************************************************\n",
            "The German sentence is: start century end\n",
            "The English sentence is: start start die beinahe gewissheit dass das reprasentantenhaus und moglicherweise auch der senat in republikanischen handen waren bedeutet dass sich der amerikanische kongress auf jeden versuch kerrys sturzen wurde bushs krieg zu verraten end end\n",
            "The predicted sentence is: start start\n",
            "**************************************************\n",
            "The German sentence is: start a return to reason end\n",
            "The English sentence is: start start ruckkehr zur vernunft end end\n",
            "The predicted sentence is: start start\n",
            "**************************************************\n",
            "The German sentence is: start pakistans next fight end\n",
            "The English sentence is: start start ebenso ging man administrativ gegen einige religiose institutionen vor die sich unbefugt e ubergriffe auf die offentlichkeit geleistet hatten etwas das seit beginn der offiziellen unterstutzung religioser parteien in den siebziger jahren als ihre kader im kampf gegen die sowjets benotigt wurden praktisch nie vorgekommen war end end\n",
            "The predicted sentence is: start start\n",
            "**************************************************\n",
            "BLEU-1: 0.000017\n",
            "BLEU-2: 0.000017\n",
            "BLEU-3: 0.000000\n",
            "BLEU-4: 0.000000\n"
          ]
        }
      ]
    }
  ],
  "metadata": {
    "kernelspec": {
      "display_name": "Python 3 (ipykernel)",
      "language": "python",
      "name": "python3"
    },
    "language_info": {
      "codemirror_mode": {
        "name": "ipython",
        "version": 3
      },
      "file_extension": ".py",
      "mimetype": "text/x-python",
      "name": "python",
      "nbconvert_exporter": "python",
      "pygments_lexer": "ipython3",
      "version": "3.11.4"
    },
    "colab": {
      "provenance": []
    }
  },
  "nbformat": 4,
  "nbformat_minor": 5
}