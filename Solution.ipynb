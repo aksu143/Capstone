{
 "cells": [
  {
   "cell_type": "code",
   "execution_count": 43,
   "id": "c193b327",
   "metadata": {},
   "outputs": [],
   "source": [
    "import pandas as pd\n",
    "import re"
   ]
  },
  {
   "cell_type": "code",
   "execution_count": 44,
   "id": "e51f17df",
   "metadata": {},
   "outputs": [],
   "source": [
    "german_file = r'training-parallel-nc-v9\\training\\news-commentary-v9.de-en.de'\n",
    "english_file = r'training-parallel-nc-v9\\training\\news-commentary-v9.de-en.en'\n",
    "\n",
    "with open(german_file, 'r', encoding='utf-8') as f:\n",
    "    german_sentences = f.readlines()\n",
    "\n",
    "with open(english_file, 'r', encoding='utf-8') as f:\n",
    "    english_sentences = f.readlines()"
   ]
  },
  {
   "cell_type": "code",
   "execution_count": 45,
   "id": "af46f524",
   "metadata": {},
   "outputs": [],
   "source": [
    "df_german = pd.DataFrame(german_sentences, columns=['German'])\n",
    "df_english = pd.DataFrame(english_sentences, columns=['English'])"
   ]
  },
  {
   "cell_type": "code",
   "execution_count": 46,
   "id": "4f39a04b",
   "metadata": {},
   "outputs": [
    {
     "data": {
      "text/plain": [
       "<bound method DataFrame.info of                                                    German\n",
       "0                        Steigt Gold auf 10.000 Dollar?\\n\n",
       "1       SAN FRANCISCO – Es war noch nie leicht, ein ra...\n",
       "2       In letzter Zeit allerdings ist dies schwierige...\n",
       "3       Erst letzten Dezember verfassten meine Kollege...\n",
       "4                     Und es kam, wie es kommen musste.\\n\n",
       "...                                                   ...\n",
       "201849  Das bleibt eine der größten Errungenschaften i...\n",
       "201850  Gleichzeitig scheint sich Zumas revolutionäre ...\n",
       "201851  In einer Region, wo die älteren Menschen sehr ...\n",
       "201852  Drei von zehn Südafrikanern sind jünger als 15...\n",
       "201853  Irgendwie muss Zuma einen Weg finden, einersei...\n",
       "\n",
       "[201854 rows x 1 columns]>"
      ]
     },
     "execution_count": 46,
     "metadata": {},
     "output_type": "execute_result"
    }
   ],
   "source": [
    "df_german.info"
   ]
  },
  {
   "cell_type": "code",
   "execution_count": 47,
   "id": "ed55a2c0",
   "metadata": {},
   "outputs": [
    {
     "data": {
      "text/plain": [
       "<bound method DataFrame.info of                                                   English\n",
       "0                                         $10,000 Gold?\\n\n",
       "1       SAN FRANCISCO – It has never been easy to have...\n",
       "2       Lately, with gold prices up more than 300% ove...\n",
       "3       Just last December, fellow economists Martin F...\n",
       "4                                 Wouldn’t you know it?\\n\n",
       "...                                                   ...\n",
       "201990  Their achievement remains one of the greatest ...\n",
       "201991  At the same time, Zuma’s revolutionary generat...\n",
       "201992  In a region that reveres the elderly, Zuma’s a...\n",
       "201993  Three in ten South Africans are younger than 1...\n",
       "201994  Somehow Zuma must find a way to honor his own ...\n",
       "\n",
       "[201995 rows x 1 columns]>"
      ]
     },
     "execution_count": 47,
     "metadata": {},
     "output_type": "execute_result"
    }
   ],
   "source": [
    "df_english.info"
   ]
  },
  {
   "cell_type": "code",
   "execution_count": 48,
   "id": "cdd33dc2",
   "metadata": {},
   "outputs": [],
   "source": [
    "combined_df = pd.concat([df_german, df_english], axis=1)"
   ]
  },
  {
   "cell_type": "code",
   "execution_count": 49,
   "id": "fdcfaf6e",
   "metadata": {},
   "outputs": [],
   "source": [
    "combined_df = combined_df.drop_duplicates().reset_index(drop=True)"
   ]
  },
  {
   "cell_type": "code",
   "execution_count": 51,
   "id": "a9144645",
   "metadata": {},
   "outputs": [
    {
     "data": {
      "text/plain": [
       "<bound method DataFrame.info of                                                    German  \\\n",
       "0                        Steigt Gold auf 10.000 Dollar?\\n   \n",
       "1       SAN FRANCISCO – Es war noch nie leicht, ein ra...   \n",
       "2       In letzter Zeit allerdings ist dies schwierige...   \n",
       "3       Erst letzten Dezember verfassten meine Kollege...   \n",
       "4                     Und es kam, wie es kommen musste.\\n   \n",
       "...                                                   ...   \n",
       "201931                                                NaN   \n",
       "201932                                                NaN   \n",
       "201933                                                NaN   \n",
       "201934                                                NaN   \n",
       "201935                                                NaN   \n",
       "\n",
       "                                                  English  \n",
       "0                                         $10,000 Gold?\\n  \n",
       "1       SAN FRANCISCO – It has never been easy to have...  \n",
       "2       Lately, with gold prices up more than 300% ove...  \n",
       "3       Just last December, fellow economists Martin F...  \n",
       "4                                 Wouldn’t you know it?\\n  \n",
       "...                                                   ...  \n",
       "201931  Their achievement remains one of the greatest ...  \n",
       "201932  At the same time, Zuma’s revolutionary generat...  \n",
       "201933  In a region that reveres the elderly, Zuma’s a...  \n",
       "201934  Three in ten South Africans are younger than 1...  \n",
       "201935  Somehow Zuma must find a way to honor his own ...  \n",
       "\n",
       "[201936 rows x 2 columns]>"
      ]
     },
     "execution_count": 51,
     "metadata": {},
     "output_type": "execute_result"
    }
   ],
   "source": [
    "combined_df.info"
   ]
  },
  {
   "cell_type": "code",
   "execution_count": 52,
   "id": "d641e65a",
   "metadata": {},
   "outputs": [
    {
     "data": {
      "text/plain": [
       "<bound method NDFrame.describe of                                                    German  \\\n",
       "0                        Steigt Gold auf 10.000 Dollar?\\n   \n",
       "1       SAN FRANCISCO – Es war noch nie leicht, ein ra...   \n",
       "2       In letzter Zeit allerdings ist dies schwierige...   \n",
       "3       Erst letzten Dezember verfassten meine Kollege...   \n",
       "4                     Und es kam, wie es kommen musste.\\n   \n",
       "...                                                   ...   \n",
       "201931                                                NaN   \n",
       "201932                                                NaN   \n",
       "201933                                                NaN   \n",
       "201934                                                NaN   \n",
       "201935                                                NaN   \n",
       "\n",
       "                                                  English  \n",
       "0                                         $10,000 Gold?\\n  \n",
       "1       SAN FRANCISCO – It has never been easy to have...  \n",
       "2       Lately, with gold prices up more than 300% ove...  \n",
       "3       Just last December, fellow economists Martin F...  \n",
       "4                                 Wouldn’t you know it?\\n  \n",
       "...                                                   ...  \n",
       "201931  Their achievement remains one of the greatest ...  \n",
       "201932  At the same time, Zuma’s revolutionary generat...  \n",
       "201933  In a region that reveres the elderly, Zuma’s a...  \n",
       "201934  Three in ten South Africans are younger than 1...  \n",
       "201935  Somehow Zuma must find a way to honor his own ...  \n",
       "\n",
       "[201936 rows x 2 columns]>"
      ]
     },
     "execution_count": 52,
     "metadata": {},
     "output_type": "execute_result"
    }
   ],
   "source": [
    "combined_df.describe"
   ]
  },
  {
   "cell_type": "code",
   "execution_count": 53,
   "id": "9642d9e7",
   "metadata": {},
   "outputs": [],
   "source": [
    "combined_df.to_csv(r'C:\\Users\\Lenovo\\Desktop\\CapstoneProject\\Capstone\\combined_dataset.csv', index=False)"
   ]
  },
  {
   "cell_type": "code",
   "execution_count": 54,
   "id": "eb1eeb5a",
   "metadata": {},
   "outputs": [],
   "source": [
    "combined_df['German'] = combined_df['German'].fillna('')\n",
    "combined_df['English'] = combined_df['English'].fillna('')"
   ]
  },
  {
   "cell_type": "code",
   "execution_count": 55,
   "id": "fb1981f6",
   "metadata": {},
   "outputs": [
    {
     "data": {
      "text/plain": [
       "<bound method DataFrame.info of                                                    German  \\\n",
       "0                        Steigt Gold auf 10.000 Dollar?\\n   \n",
       "1       SAN FRANCISCO – Es war noch nie leicht, ein ra...   \n",
       "2       In letzter Zeit allerdings ist dies schwierige...   \n",
       "3       Erst letzten Dezember verfassten meine Kollege...   \n",
       "4                     Und es kam, wie es kommen musste.\\n   \n",
       "...                                                   ...   \n",
       "201931                                                      \n",
       "201932                                                      \n",
       "201933                                                      \n",
       "201934                                                      \n",
       "201935                                                      \n",
       "\n",
       "                                                  English  \n",
       "0                                         $10,000 Gold?\\n  \n",
       "1       SAN FRANCISCO – It has never been easy to have...  \n",
       "2       Lately, with gold prices up more than 300% ove...  \n",
       "3       Just last December, fellow economists Martin F...  \n",
       "4                                 Wouldn’t you know it?\\n  \n",
       "...                                                   ...  \n",
       "201931  Their achievement remains one of the greatest ...  \n",
       "201932  At the same time, Zuma’s revolutionary generat...  \n",
       "201933  In a region that reveres the elderly, Zuma’s a...  \n",
       "201934  Three in ten South Africans are younger than 1...  \n",
       "201935  Somehow Zuma must find a way to honor his own ...  \n",
       "\n",
       "[201936 rows x 2 columns]>"
      ]
     },
     "execution_count": 55,
     "metadata": {},
     "output_type": "execute_result"
    }
   ],
   "source": [
    "combined_df.info"
   ]
  },
  {
   "cell_type": "code",
   "execution_count": 56,
   "id": "208799a2",
   "metadata": {},
   "outputs": [],
   "source": [
    "def clean_sentence(sentence):\n",
    "    sentence = sentence.strip()  # Remove leading and trailing white spaces\n",
    "    sentence = re.sub(r'\\s+', ' ', sentence)  # Replace multiple spaces with a single space\n",
    "    sentence = re.sub(r'[^\\w\\s.,!?\\'\"]', '', sentence)  # Remove special characters except common punctuation\n",
    "    return sentence"
   ]
  },
  {
   "cell_type": "code",
   "execution_count": 57,
   "id": "3d7baf83",
   "metadata": {},
   "outputs": [],
   "source": [
    "combined_df['German'] = combined_df['German'].apply(clean_sentence)\n",
    "combined_df['English'] = combined_df['English'].apply(clean_sentence)"
   ]
  },
  {
   "cell_type": "code",
   "execution_count": 58,
   "id": "5797996a",
   "metadata": {},
   "outputs": [
    {
     "data": {
      "text/plain": [
       "0                            Steigt Gold auf 10.000 Dollar?\n",
       "1         SAN FRANCISCO  Es war noch nie leicht, ein rat...\n",
       "2         In letzter Zeit allerdings ist dies schwierige...\n",
       "3         Erst letzten Dezember verfassten meine Kollege...\n",
       "4                         Und es kam, wie es kommen musste.\n",
       "                                ...                        \n",
       "201931                                                     \n",
       "201932                                                     \n",
       "201933                                                     \n",
       "201934                                                     \n",
       "201935                                                     \n",
       "Name: German, Length: 201936, dtype: object"
      ]
     },
     "execution_count": 58,
     "metadata": {},
     "output_type": "execute_result"
    }
   ],
   "source": [
    "combined_df['German']"
   ]
  },
  {
   "cell_type": "code",
   "execution_count": 59,
   "id": "f53515f6",
   "metadata": {},
   "outputs": [
    {
     "data": {
      "text/plain": [
       "0                                              10,000 Gold?\n",
       "1         SAN FRANCISCO  It has never been easy to have ...\n",
       "2         Lately, with gold prices up more than 300 over...\n",
       "3         Just last December, fellow economists Martin F...\n",
       "4                                      Wouldnt you know it?\n",
       "                                ...                        \n",
       "201931    Their achievement remains one of the greatest ...\n",
       "201932    At the same time, Zumas revolutionary generati...\n",
       "201933    In a region that reveres the elderly, Zumas at...\n",
       "201934    Three in ten South Africans are younger than 1...\n",
       "201935    Somehow Zuma must find a way to honor his own ...\n",
       "Name: English, Length: 201936, dtype: object"
      ]
     },
     "execution_count": 59,
     "metadata": {},
     "output_type": "execute_result"
    }
   ],
   "source": [
    "combined_df['English']"
   ]
  },
  {
   "cell_type": "markdown",
   "id": "6616ff42",
   "metadata": {},
   "source": [
    "### this line removes the row that are empty"
   ]
  },
  {
   "cell_type": "code",
   "execution_count": 60,
   "id": "f5e26e29",
   "metadata": {},
   "outputs": [],
   "source": [
    "combined_df = combined_df[(combined_df['German'].str.strip() != '') & (combined_df['English'].str.strip() != '')]"
   ]
  },
  {
   "cell_type": "markdown",
   "id": "36b0cae5",
   "metadata": {},
   "source": [
    "### Remove duplicates"
   ]
  },
  {
   "cell_type": "code",
   "execution_count": 61,
   "id": "bd5f03a0",
   "metadata": {},
   "outputs": [],
   "source": [
    "combined_df = combined_df.drop_duplicates(subset=['German', 'English']).reset_index(drop=True)"
   ]
  },
  {
   "cell_type": "markdown",
   "id": "cbbbd711",
   "metadata": {},
   "source": [
    "### Ensure sentence alignment"
   ]
  },
  {
   "cell_type": "code",
   "execution_count": 62,
   "id": "bfbb3a2d",
   "metadata": {},
   "outputs": [],
   "source": [
    "assert len(combined_df['German']) == len(combined_df['English']), \"Mismatch in the number of German and English sentences.\""
   ]
  },
  {
   "cell_type": "code",
   "execution_count": 63,
   "id": "3968f227",
   "metadata": {},
   "outputs": [],
   "source": [
    "combined_df['German'] = combined_df['German'].str.lower()\n",
    "combined_df['English'] = combined_df['English'].str.lower()"
   ]
  },
  {
   "cell_type": "code",
   "execution_count": 64,
   "id": "14e7e728",
   "metadata": {},
   "outputs": [],
   "source": [
    "max_length = 200"
   ]
  },
  {
   "cell_type": "code",
   "execution_count": 65,
   "id": "edfb7397",
   "metadata": {},
   "outputs": [],
   "source": [
    "def word_count(sentence):\n",
    "    return len(sentence.split())"
   ]
  },
  {
   "cell_type": "code",
   "execution_count": 66,
   "id": "7f139769",
   "metadata": {},
   "outputs": [],
   "source": [
    "combined_df = combined_df[combined_df['German'].apply(word_count) <= max_length]\n",
    "combined_df = combined_df[combined_df['English'].apply(word_count) <= max_length]"
   ]
  },
  {
   "cell_type": "code",
   "execution_count": 68,
   "id": "befd474a",
   "metadata": {},
   "outputs": [],
   "source": [
    "combined_df.to_csv(r'C:\\Users\\Lenovo\\Desktop\\CapstoneProject\\Capstone\\cleaned_dataset.csv', index=False)"
   ]
  },
  {
   "cell_type": "code",
   "execution_count": null,
   "id": "02b3ffa0",
   "metadata": {},
   "outputs": [],
   "source": []
  }
 ],
 "metadata": {
  "kernelspec": {
   "display_name": "Python 3 (ipykernel)",
   "language": "python",
   "name": "python3"
  },
  "language_info": {
   "codemirror_mode": {
    "name": "ipython",
    "version": 3
   },
   "file_extension": ".py",
   "mimetype": "text/x-python",
   "name": "python",
   "nbconvert_exporter": "python",
   "pygments_lexer": "ipython3",
   "version": "3.11.4"
  }
 },
 "nbformat": 4,
 "nbformat_minor": 5
}
