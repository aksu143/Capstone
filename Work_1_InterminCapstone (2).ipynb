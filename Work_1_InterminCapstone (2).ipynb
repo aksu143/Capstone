{
  "nbformat": 4,
  "nbformat_minor": 0,
  "metadata": {
    "colab": {
      "provenance": [],
      "gpuType": "V28"
    },
    "kernelspec": {
      "name": "python3",
      "display_name": "Python 3"
    },
    "language_info": {
      "name": "python"
    },
    "accelerator": "TPU"
  },
  "cells": [
    {
      "cell_type": "code",
      "execution_count": 1,
      "metadata": {
        "colab": {
          "base_uri": "https://localhost:8080/"
        },
        "id": "G4oTXykVCRsK",
        "outputId": "ad26e7df-03c9-4321-e1da-3bcb78a47dd2"
      },
      "outputs": [
        {
          "output_type": "stream",
          "name": "stdout",
          "text": [
            "Drive already mounted at /content/drive; to attempt to forcibly remount, call drive.mount(\"/content/drive\", force_remount=True).\n"
          ]
        }
      ],
      "source": [
        "from google.colab import drive\n",
        "drive.mount('/content/drive')"
      ]
    },
    {
      "cell_type": "code",
      "source": [
        "import re\n",
        "import string\n",
        "import pickle\n",
        "import random\n",
        "import tarfile\n",
        "import os\n",
        "import gc\n",
        "import numpy as np\n",
        "import pandas as pd\n",
        "import seaborn as sns\n",
        "import matplotlib.pyplot as plt"
      ],
      "metadata": {
        "id": "m9hyeBD6CZ-6"
      },
      "execution_count": 2,
      "outputs": []
    },
    {
      "cell_type": "code",
      "source": [
        "trainingmodule_dir = '/content/drive/MyDrive/capstone/'\n",
        "\n",
        "europarlv7_de = os.path.join(trainingmodule_dir, 'europarl-v7.de-en.de')\n",
        "europarlv7_en = os.path.join(trainingmodule_dir, 'europarl-v7.de-en.en')\n",
        "commoncrawlv1_de = os.path.join(trainingmodule_dir, 'commoncrawl.de-en.de')\n",
        "commoncrawlv1_en = os.path.join(trainingmodule_dir, 'commoncrawl.de-en.en')"
      ],
      "metadata": {
        "id": "Z-bZbg-VNxFW"
      },
      "execution_count": 3,
      "outputs": []
    },
    {
      "cell_type": "code",
      "source": [
        "def load_dataset(de_path, en_path):\n",
        "    # Load parallel sentences from two text files and create a DataFrame.\n",
        "    with open(de_path, 'r', encoding='utf-8') as de_file, open(en_path, 'r', encoding='utf-8') as en_file:\n",
        "        de_sentences = de_file.readlines()\n",
        "        en_sentences = en_file.readlines()\n",
        "\n",
        "    # Check if lengths match\n",
        "    if len(de_sentences) != len(en_sentences):\n",
        "        print(f\"Length mismatch: {de_path} ({len(de_sentences)}) and {en_path} ({len(en_sentences)})\")\n",
        "        # Truncate to the shorter length\n",
        "        min_length = min(len(de_sentences), len(en_sentences))\n",
        "        de_sentences = de_sentences[:min_length]\n",
        "        en_sentences = en_sentences[:min_length]\n",
        "\n",
        "    return pd.DataFrame({'German': de_sentences, 'English': en_sentences})\n",
        "\n",
        "# Load datasets\n",
        "europarl_f = load_dataset(europarlv7_de, europarlv7_en)\n",
        "commoncrawl_f = load_dataset(commoncrawlv1_de, commoncrawlv1_en)"
      ],
      "metadata": {
        "id": "AktpSCi3N64m"
      },
      "execution_count": 4,
      "outputs": []
    },
    {
      "cell_type": "code",
      "source": [
        "#Print the shape of each dataset\n",
        "print(\"Shape of Europarl German dataset :\",europarl_f.shape)"
      ],
      "metadata": {
        "colab": {
          "base_uri": "https://localhost:8080/"
        },
        "id": "3Oon0-rEOGUO",
        "outputId": "6064dcfe-7e69-4f03-9330-82bcff159585"
      },
      "execution_count": 5,
      "outputs": [
        {
          "output_type": "stream",
          "name": "stdout",
          "text": [
            "Shape of Europarl German dataset : (1920209, 2)\n"
          ]
        }
      ]
    },
    {
      "cell_type": "code",
      "source": [
        "print(\"Shape of CommonCarl German dataset :\",commoncrawl_f.shape)"
      ],
      "metadata": {
        "colab": {
          "base_uri": "https://localhost:8080/"
        },
        "id": "nTR64N00OONe",
        "outputId": "80f51973-5dc2-4991-f009-a1e49ba214ca"
      },
      "execution_count": 6,
      "outputs": [
        {
          "output_type": "stream",
          "name": "stdout",
          "text": [
            "Shape of CommonCarl German dataset : (2399123, 2)\n"
          ]
        }
      ]
    },
    {
      "cell_type": "code",
      "source": [
        "# Merge the datasets\n",
        "df = pd.concat([europarl_f, commoncrawl_f], ignore_index=True)\n",
        "\n",
        "# Display the number of sentences\n",
        "print(f\"Total number of sentences in the dataset: {len(df)}\")"
      ],
      "metadata": {
        "colab": {
          "base_uri": "https://localhost:8080/"
        },
        "id": "t0BoyjJ9OOzN",
        "outputId": "e3458735-b67b-4b63-f894-f2faaa1e6d56"
      },
      "execution_count": 7,
      "outputs": [
        {
          "output_type": "stream",
          "name": "stdout",
          "text": [
            "Total number of sentences in the dataset: 4319332\n"
          ]
        }
      ]
    },
    {
      "cell_type": "code",
      "source": [
        "# Display entire dataframe\n",
        "pd.set_option('display.max_colwidth', None)  # Display full contents of each column without truncation\n",
        "pd.set_option('display.max_rows', None)      # Display all rows"
      ],
      "metadata": {
        "id": "W0VnSL8POZW1"
      },
      "execution_count": 8,
      "outputs": []
    },
    {
      "cell_type": "code",
      "source": [
        "df.head(20)"
      ],
      "metadata": {
        "colab": {
          "base_uri": "https://localhost:8080/",
          "height": 868
        },
        "id": "MD15fxLgObEV",
        "outputId": "6e646128-6cb3-4ec7-f088-f981cbd02857"
      },
      "execution_count": 9,
      "outputs": [
        {
          "output_type": "execute_result",
          "data": {
            "text/plain": [
              "                                                                                                                                                                                                                                                                                                                                                                     German  \\\n",
              "0                                                                                                                                                                                                                                                                                                                                      Wiederaufnahme der Sitzungsperiode\\n   \n",
              "1                                                                                                                                              Ich erkläre die am Freitag, dem 17. Dezember unterbrochene Sitzungsperiode des Europäischen Parlaments für wiederaufgenommen, wünsche Ihnen nochmals alles Gute zum Jahreswechsel und hoffe, daß Sie schöne Ferien hatten.\\n   \n",
              "2                                                                                                                                                                               Wie Sie feststellen konnten, ist der gefürchtete \"Millenium-Bug \" nicht eingetreten. Doch sind Bürger einiger unserer Mitgliedstaaten Opfer von schrecklichen Naturkatastrophen geworden.\\n   \n",
              "3                                                                                                                                                                                                                                                          Im Parlament besteht der Wunsch nach einer Aussprache im Verlauf dieser Sitzungsperiode in den nächsten Tagen.\\n   \n",
              "4                                                                                                                                               Heute möchte ich Sie bitten - das ist auch der Wunsch einiger Kolleginnen und Kollegen -, allen Opfern der Stürme, insbesondere in den verschiedenen Ländern der Europäischen Union, in einer Schweigeminute zu gedenken.\\n   \n",
              "5                                                                                                                                                                                                                                                                                                                 Ich bitte Sie, sich zu einer Schweigeminute zu erheben.\\n   \n",
              "6                                                                                                                                                                                                                                                                                                                    (Das Parlament erhebt sich zu einer Schweigeminute.)\\n   \n",
              "7                                                                                                                                                                                                                                                                                                                                 Frau Präsidentin, zur Geschäftsordnung.\\n   \n",
              "8                                                                                                                                                                                                                                            Wie Sie sicher aus der Presse und dem Fernsehen wissen, gab es in Sri Lanka mehrere Bombenexplosionen mit zahlreichen Toten.\\n   \n",
              "9                                                                                                                                                                Zu den Attentatsopfern, die es in jüngster Zeit in Sri Lanka zu beklagen gab, zählt auch Herr Kumar Ponnambalam, der dem Europäischen Parlament erst vor wenigen Monaten einen Besuch abgestattet hatte.\\n   \n",
              "10  Wäre es angemessen, wenn Sie, Frau Präsidentin, der Präsidentin von Sri Lanka in einem Schreiben das Bedauern des Parlaments zum gewaltsamen Tod von Herrn Ponnambalam und anderen Bürgern von Sri Lanka übermitteln und sie auffordern würden, alles in ihrem Kräften stehende zu tun, um nach einer friedlichen Lösung dieser sehr schwierigen Situation zu suchen?\\n   \n",
              "11                                                                                                                                                                                                                                                                                      Ja, Herr Evans, ich denke, daß eine derartige Initiative durchaus angebracht ist.\\n   \n",
              "12                                                                                                                                                                                                                                                                                 Wenn das Haus damit einverstanden ist, werde ich dem Vorschlag von Herrn Evans folgen.\\n   \n",
              "13                                                                                                                                                                                                                                                                                                                                Frau Präsidentin, zur Geschäftsordnung.\\n   \n",
              "14                                                                                                                                                                                                                                                                             Könnten Sie mir eine Auskunft zu Artikel 143 im Zusammenhang mit der Unzulässigkeit geben?\\n   \n",
              "15                                                                                                                                                                                                                                        Meine Frage betrifft eine Angelegenheit, die am Donnerstag zur Sprache kommen wird und auf die ich dann erneut verweisen werde.\\n   \n",
              "16                                                                                                   Das Parlament wird sich am Donnerstag mit dem Cunha-Bericht über mehrjährige Ausrichtungsprogramme befassen, der in Absatz 6 vorschlägt, daß Länder, die ihr Soll zur Flottenverkleinerung nicht erfüllen, jährlich mit einer Art Quotenstrafe belegt werden sollen.\\n   \n",
              "17                                                                                                                                                                                                                                                                      Und zwar sollen derartige Strafen trotz des Grundsatzes der relativen Stabilität verhängt werden.\\n   \n",
              "18                                                                                                                                                                Ich meine, daß der Grundsatz der relativen Stabilität einen elementaren Rechtsgrundsatz der gemeinsamen Fischereipolitik darstellt und ein Vorschlag, diesen zu unterlaufen, rechtlich unzulässig wäre.\\n   \n",
              "19                                                                                                                                                Ich möchte wissen, ob es möglich ist, einen Einwand gegen ein Dokument zu erheben, bei dem es sich lediglich um einen Bericht und keinen Legislativvorschlag handelt, und ob ich befugt bin, dies am Donnerstag zu tun.\\n   \n",
              "\n",
              "                                                                                                                                                                                                                                                                                                English  \n",
              "0                                                                                                                                                                                                                                                                           Resumption of the session\\n  \n",
              "1                                                                                     I declare resumed the session of the European Parliament adjourned on Friday 17 December 1999, and I would like once again to wish you a happy new year in the hope that you enjoyed a pleasant festive period.\\n  \n",
              "2                                                                                                     Although, as you will have seen, the dreaded 'millennium bug' failed to materialise, still the people in a number of countries suffered a series of natural disasters that truly were dreadful.\\n  \n",
              "3                                                                                                                                                                                           You have requested a debate on this subject in the course of the next few days, during this part-session.\\n  \n",
              "4                                                            In the meantime, I should like to observe a minute' s silence, as a number of Members have requested, on behalf of all the victims concerned, particularly those of the terrible storms, in the various countries of the European Union.\\n  \n",
              "5                                                                                                                                                                                                                                                      Please rise, then, for this minute' s silence.\\n  \n",
              "6                                                                                                                                                                                                                                                   (The House rose and observed a minute' s silence)\\n  \n",
              "7                                                                                                                                                                                                                                                               Madam President, on a point of order.\\n  \n",
              "8                                                                                                                                                                         You will be aware from the press and television that there have been a number of bomb explosions and killings in Sri Lanka.\\n  \n",
              "9                                                                                                                                                  One of the people assassinated very recently in Sri Lanka was Mr Kumar Ponnambalam, who had visited the European Parliament just a few months ago.\\n  \n",
              "10  Would it be appropriate for you, Madam President, to write a letter to the Sri Lankan President expressing Parliament's regret at his and the other violent deaths in Sri Lanka and urging her to do everything she possibly can to seek a peaceful reconciliation to a very difficult situation?\\n  \n",
              "11                                                                                                                                                                                             Yes, Mr Evans, I feel an initiative of the type you have just suggested would be entirely appropriate.\\n  \n",
              "12                                                                                                                                                                                                                                         If the House agrees, I shall do as Mr Evans has suggested.\\n  \n",
              "13                                                                                                                                                                                                                                                              Madam President, on a point of order.\\n  \n",
              "14                                                                                                                                                                                                                                I would like your advice about Rule 143 concerning inadmissibility.\\n  \n",
              "15                                                                                                                                                                                                  My question relates to something that will come up on Thursday and which I will then raise again.\\n  \n",
              "16                                        The Cunha report on multiannual guidance programmes comes before Parliament on Thursday and contains a proposal in paragraph 6 that a form of quota penalties should be introduced for countries which fail to meet their fleet reduction targets annually.\\n  \n",
              "17                                                                                                                                                                                                                      It says that this should be done despite the principle of relative stability.\\n  \n",
              "18                                                                                                                     I believe that the principle of relative stability is a fundamental legal principle of the common fisheries policy and a proposal to subvert it would be legally inadmissible.\\n  \n",
              "19                                                                                                             I want to know whether one can raise an objection of that kind to what is merely a report, not a legislative proposal, and whether that is something I can competently do on Thursday.\\n  "
            ],
            "text/html": [
              "\n",
              "  <div id=\"df-27004409-4ad3-4af4-ae25-4a4b111653eb\" class=\"colab-df-container\">\n",
              "    <div>\n",
              "<style scoped>\n",
              "    .dataframe tbody tr th:only-of-type {\n",
              "        vertical-align: middle;\n",
              "    }\n",
              "\n",
              "    .dataframe tbody tr th {\n",
              "        vertical-align: top;\n",
              "    }\n",
              "\n",
              "    .dataframe thead th {\n",
              "        text-align: right;\n",
              "    }\n",
              "</style>\n",
              "<table border=\"1\" class=\"dataframe\">\n",
              "  <thead>\n",
              "    <tr style=\"text-align: right;\">\n",
              "      <th></th>\n",
              "      <th>German</th>\n",
              "      <th>English</th>\n",
              "    </tr>\n",
              "  </thead>\n",
              "  <tbody>\n",
              "    <tr>\n",
              "      <th>0</th>\n",
              "      <td>Wiederaufnahme der Sitzungsperiode\\n</td>\n",
              "      <td>Resumption of the session\\n</td>\n",
              "    </tr>\n",
              "    <tr>\n",
              "      <th>1</th>\n",
              "      <td>Ich erkläre die am Freitag, dem 17. Dezember unterbrochene Sitzungsperiode des Europäischen Parlaments für wiederaufgenommen, wünsche Ihnen nochmals alles Gute zum Jahreswechsel und hoffe, daß Sie schöne Ferien hatten.\\n</td>\n",
              "      <td>I declare resumed the session of the European Parliament adjourned on Friday 17 December 1999, and I would like once again to wish you a happy new year in the hope that you enjoyed a pleasant festive period.\\n</td>\n",
              "    </tr>\n",
              "    <tr>\n",
              "      <th>2</th>\n",
              "      <td>Wie Sie feststellen konnten, ist der gefürchtete \"Millenium-Bug \" nicht eingetreten. Doch sind Bürger einiger unserer Mitgliedstaaten Opfer von schrecklichen Naturkatastrophen geworden.\\n</td>\n",
              "      <td>Although, as you will have seen, the dreaded 'millennium bug' failed to materialise, still the people in a number of countries suffered a series of natural disasters that truly were dreadful.\\n</td>\n",
              "    </tr>\n",
              "    <tr>\n",
              "      <th>3</th>\n",
              "      <td>Im Parlament besteht der Wunsch nach einer Aussprache im Verlauf dieser Sitzungsperiode in den nächsten Tagen.\\n</td>\n",
              "      <td>You have requested a debate on this subject in the course of the next few days, during this part-session.\\n</td>\n",
              "    </tr>\n",
              "    <tr>\n",
              "      <th>4</th>\n",
              "      <td>Heute möchte ich Sie bitten - das ist auch der Wunsch einiger Kolleginnen und Kollegen -, allen Opfern der Stürme, insbesondere in den verschiedenen Ländern der Europäischen Union, in einer Schweigeminute zu gedenken.\\n</td>\n",
              "      <td>In the meantime, I should like to observe a minute' s silence, as a number of Members have requested, on behalf of all the victims concerned, particularly those of the terrible storms, in the various countries of the European Union.\\n</td>\n",
              "    </tr>\n",
              "    <tr>\n",
              "      <th>5</th>\n",
              "      <td>Ich bitte Sie, sich zu einer Schweigeminute zu erheben.\\n</td>\n",
              "      <td>Please rise, then, for this minute' s silence.\\n</td>\n",
              "    </tr>\n",
              "    <tr>\n",
              "      <th>6</th>\n",
              "      <td>(Das Parlament erhebt sich zu einer Schweigeminute.)\\n</td>\n",
              "      <td>(The House rose and observed a minute' s silence)\\n</td>\n",
              "    </tr>\n",
              "    <tr>\n",
              "      <th>7</th>\n",
              "      <td>Frau Präsidentin, zur Geschäftsordnung.\\n</td>\n",
              "      <td>Madam President, on a point of order.\\n</td>\n",
              "    </tr>\n",
              "    <tr>\n",
              "      <th>8</th>\n",
              "      <td>Wie Sie sicher aus der Presse und dem Fernsehen wissen, gab es in Sri Lanka mehrere Bombenexplosionen mit zahlreichen Toten.\\n</td>\n",
              "      <td>You will be aware from the press and television that there have been a number of bomb explosions and killings in Sri Lanka.\\n</td>\n",
              "    </tr>\n",
              "    <tr>\n",
              "      <th>9</th>\n",
              "      <td>Zu den Attentatsopfern, die es in jüngster Zeit in Sri Lanka zu beklagen gab, zählt auch Herr Kumar Ponnambalam, der dem Europäischen Parlament erst vor wenigen Monaten einen Besuch abgestattet hatte.\\n</td>\n",
              "      <td>One of the people assassinated very recently in Sri Lanka was Mr Kumar Ponnambalam, who had visited the European Parliament just a few months ago.\\n</td>\n",
              "    </tr>\n",
              "    <tr>\n",
              "      <th>10</th>\n",
              "      <td>Wäre es angemessen, wenn Sie, Frau Präsidentin, der Präsidentin von Sri Lanka in einem Schreiben das Bedauern des Parlaments zum gewaltsamen Tod von Herrn Ponnambalam und anderen Bürgern von Sri Lanka übermitteln und sie auffordern würden, alles in ihrem Kräften stehende zu tun, um nach einer friedlichen Lösung dieser sehr schwierigen Situation zu suchen?\\n</td>\n",
              "      <td>Would it be appropriate for you, Madam President, to write a letter to the Sri Lankan President expressing Parliament's regret at his and the other violent deaths in Sri Lanka and urging her to do everything she possibly can to seek a peaceful reconciliation to a very difficult situation?\\n</td>\n",
              "    </tr>\n",
              "    <tr>\n",
              "      <th>11</th>\n",
              "      <td>Ja, Herr Evans, ich denke, daß eine derartige Initiative durchaus angebracht ist.\\n</td>\n",
              "      <td>Yes, Mr Evans, I feel an initiative of the type you have just suggested would be entirely appropriate.\\n</td>\n",
              "    </tr>\n",
              "    <tr>\n",
              "      <th>12</th>\n",
              "      <td>Wenn das Haus damit einverstanden ist, werde ich dem Vorschlag von Herrn Evans folgen.\\n</td>\n",
              "      <td>If the House agrees, I shall do as Mr Evans has suggested.\\n</td>\n",
              "    </tr>\n",
              "    <tr>\n",
              "      <th>13</th>\n",
              "      <td>Frau Präsidentin, zur Geschäftsordnung.\\n</td>\n",
              "      <td>Madam President, on a point of order.\\n</td>\n",
              "    </tr>\n",
              "    <tr>\n",
              "      <th>14</th>\n",
              "      <td>Könnten Sie mir eine Auskunft zu Artikel 143 im Zusammenhang mit der Unzulässigkeit geben?\\n</td>\n",
              "      <td>I would like your advice about Rule 143 concerning inadmissibility.\\n</td>\n",
              "    </tr>\n",
              "    <tr>\n",
              "      <th>15</th>\n",
              "      <td>Meine Frage betrifft eine Angelegenheit, die am Donnerstag zur Sprache kommen wird und auf die ich dann erneut verweisen werde.\\n</td>\n",
              "      <td>My question relates to something that will come up on Thursday and which I will then raise again.\\n</td>\n",
              "    </tr>\n",
              "    <tr>\n",
              "      <th>16</th>\n",
              "      <td>Das Parlament wird sich am Donnerstag mit dem Cunha-Bericht über mehrjährige Ausrichtungsprogramme befassen, der in Absatz 6 vorschlägt, daß Länder, die ihr Soll zur Flottenverkleinerung nicht erfüllen, jährlich mit einer Art Quotenstrafe belegt werden sollen.\\n</td>\n",
              "      <td>The Cunha report on multiannual guidance programmes comes before Parliament on Thursday and contains a proposal in paragraph 6 that a form of quota penalties should be introduced for countries which fail to meet their fleet reduction targets annually.\\n</td>\n",
              "    </tr>\n",
              "    <tr>\n",
              "      <th>17</th>\n",
              "      <td>Und zwar sollen derartige Strafen trotz des Grundsatzes der relativen Stabilität verhängt werden.\\n</td>\n",
              "      <td>It says that this should be done despite the principle of relative stability.\\n</td>\n",
              "    </tr>\n",
              "    <tr>\n",
              "      <th>18</th>\n",
              "      <td>Ich meine, daß der Grundsatz der relativen Stabilität einen elementaren Rechtsgrundsatz der gemeinsamen Fischereipolitik darstellt und ein Vorschlag, diesen zu unterlaufen, rechtlich unzulässig wäre.\\n</td>\n",
              "      <td>I believe that the principle of relative stability is a fundamental legal principle of the common fisheries policy and a proposal to subvert it would be legally inadmissible.\\n</td>\n",
              "    </tr>\n",
              "    <tr>\n",
              "      <th>19</th>\n",
              "      <td>Ich möchte wissen, ob es möglich ist, einen Einwand gegen ein Dokument zu erheben, bei dem es sich lediglich um einen Bericht und keinen Legislativvorschlag handelt, und ob ich befugt bin, dies am Donnerstag zu tun.\\n</td>\n",
              "      <td>I want to know whether one can raise an objection of that kind to what is merely a report, not a legislative proposal, and whether that is something I can competently do on Thursday.\\n</td>\n",
              "    </tr>\n",
              "  </tbody>\n",
              "</table>\n",
              "</div>\n",
              "    <div class=\"colab-df-buttons\">\n",
              "\n",
              "  <div class=\"colab-df-container\">\n",
              "    <button class=\"colab-df-convert\" onclick=\"convertToInteractive('df-27004409-4ad3-4af4-ae25-4a4b111653eb')\"\n",
              "            title=\"Convert this dataframe to an interactive table.\"\n",
              "            style=\"display:none;\">\n",
              "\n",
              "  <svg xmlns=\"http://www.w3.org/2000/svg\" height=\"24px\" viewBox=\"0 -960 960 960\">\n",
              "    <path d=\"M120-120v-720h720v720H120Zm60-500h600v-160H180v160Zm220 220h160v-160H400v160Zm0 220h160v-160H400v160ZM180-400h160v-160H180v160Zm440 0h160v-160H620v160ZM180-180h160v-160H180v160Zm440 0h160v-160H620v160Z\"/>\n",
              "  </svg>\n",
              "    </button>\n",
              "\n",
              "  <style>\n",
              "    .colab-df-container {\n",
              "      display:flex;\n",
              "      gap: 12px;\n",
              "    }\n",
              "\n",
              "    .colab-df-convert {\n",
              "      background-color: #E8F0FE;\n",
              "      border: none;\n",
              "      border-radius: 50%;\n",
              "      cursor: pointer;\n",
              "      display: none;\n",
              "      fill: #1967D2;\n",
              "      height: 32px;\n",
              "      padding: 0 0 0 0;\n",
              "      width: 32px;\n",
              "    }\n",
              "\n",
              "    .colab-df-convert:hover {\n",
              "      background-color: #E2EBFA;\n",
              "      box-shadow: 0px 1px 2px rgba(60, 64, 67, 0.3), 0px 1px 3px 1px rgba(60, 64, 67, 0.15);\n",
              "      fill: #174EA6;\n",
              "    }\n",
              "\n",
              "    .colab-df-buttons div {\n",
              "      margin-bottom: 4px;\n",
              "    }\n",
              "\n",
              "    [theme=dark] .colab-df-convert {\n",
              "      background-color: #3B4455;\n",
              "      fill: #D2E3FC;\n",
              "    }\n",
              "\n",
              "    [theme=dark] .colab-df-convert:hover {\n",
              "      background-color: #434B5C;\n",
              "      box-shadow: 0px 1px 3px 1px rgba(0, 0, 0, 0.15);\n",
              "      filter: drop-shadow(0px 1px 2px rgba(0, 0, 0, 0.3));\n",
              "      fill: #FFFFFF;\n",
              "    }\n",
              "  </style>\n",
              "\n",
              "    <script>\n",
              "      const buttonEl =\n",
              "        document.querySelector('#df-27004409-4ad3-4af4-ae25-4a4b111653eb button.colab-df-convert');\n",
              "      buttonEl.style.display =\n",
              "        google.colab.kernel.accessAllowed ? 'block' : 'none';\n",
              "\n",
              "      async function convertToInteractive(key) {\n",
              "        const element = document.querySelector('#df-27004409-4ad3-4af4-ae25-4a4b111653eb');\n",
              "        const dataTable =\n",
              "          await google.colab.kernel.invokeFunction('convertToInteractive',\n",
              "                                                    [key], {});\n",
              "        if (!dataTable) return;\n",
              "\n",
              "        const docLinkHtml = 'Like what you see? Visit the ' +\n",
              "          '<a target=\"_blank\" href=https://colab.research.google.com/notebooks/data_table.ipynb>data table notebook</a>'\n",
              "          + ' to learn more about interactive tables.';\n",
              "        element.innerHTML = '';\n",
              "        dataTable['output_type'] = 'display_data';\n",
              "        await google.colab.output.renderOutput(dataTable, element);\n",
              "        const docLink = document.createElement('div');\n",
              "        docLink.innerHTML = docLinkHtml;\n",
              "        element.appendChild(docLink);\n",
              "      }\n",
              "    </script>\n",
              "  </div>\n",
              "\n",
              "\n",
              "<div id=\"df-475ea5dc-b015-4669-8963-b5a3caf627fd\">\n",
              "  <button class=\"colab-df-quickchart\" onclick=\"quickchart('df-475ea5dc-b015-4669-8963-b5a3caf627fd')\"\n",
              "            title=\"Suggest charts\"\n",
              "            style=\"display:none;\">\n",
              "\n",
              "<svg xmlns=\"http://www.w3.org/2000/svg\" height=\"24px\"viewBox=\"0 0 24 24\"\n",
              "     width=\"24px\">\n",
              "    <g>\n",
              "        <path d=\"M19 3H5c-1.1 0-2 .9-2 2v14c0 1.1.9 2 2 2h14c1.1 0 2-.9 2-2V5c0-1.1-.9-2-2-2zM9 17H7v-7h2v7zm4 0h-2V7h2v10zm4 0h-2v-4h2v4z\"/>\n",
              "    </g>\n",
              "</svg>\n",
              "  </button>\n",
              "\n",
              "<style>\n",
              "  .colab-df-quickchart {\n",
              "      --bg-color: #E8F0FE;\n",
              "      --fill-color: #1967D2;\n",
              "      --hover-bg-color: #E2EBFA;\n",
              "      --hover-fill-color: #174EA6;\n",
              "      --disabled-fill-color: #AAA;\n",
              "      --disabled-bg-color: #DDD;\n",
              "  }\n",
              "\n",
              "  [theme=dark] .colab-df-quickchart {\n",
              "      --bg-color: #3B4455;\n",
              "      --fill-color: #D2E3FC;\n",
              "      --hover-bg-color: #434B5C;\n",
              "      --hover-fill-color: #FFFFFF;\n",
              "      --disabled-bg-color: #3B4455;\n",
              "      --disabled-fill-color: #666;\n",
              "  }\n",
              "\n",
              "  .colab-df-quickchart {\n",
              "    background-color: var(--bg-color);\n",
              "    border: none;\n",
              "    border-radius: 50%;\n",
              "    cursor: pointer;\n",
              "    display: none;\n",
              "    fill: var(--fill-color);\n",
              "    height: 32px;\n",
              "    padding: 0;\n",
              "    width: 32px;\n",
              "  }\n",
              "\n",
              "  .colab-df-quickchart:hover {\n",
              "    background-color: var(--hover-bg-color);\n",
              "    box-shadow: 0 1px 2px rgba(60, 64, 67, 0.3), 0 1px 3px 1px rgba(60, 64, 67, 0.15);\n",
              "    fill: var(--button-hover-fill-color);\n",
              "  }\n",
              "\n",
              "  .colab-df-quickchart-complete:disabled,\n",
              "  .colab-df-quickchart-complete:disabled:hover {\n",
              "    background-color: var(--disabled-bg-color);\n",
              "    fill: var(--disabled-fill-color);\n",
              "    box-shadow: none;\n",
              "  }\n",
              "\n",
              "  .colab-df-spinner {\n",
              "    border: 2px solid var(--fill-color);\n",
              "    border-color: transparent;\n",
              "    border-bottom-color: var(--fill-color);\n",
              "    animation:\n",
              "      spin 1s steps(1) infinite;\n",
              "  }\n",
              "\n",
              "  @keyframes spin {\n",
              "    0% {\n",
              "      border-color: transparent;\n",
              "      border-bottom-color: var(--fill-color);\n",
              "      border-left-color: var(--fill-color);\n",
              "    }\n",
              "    20% {\n",
              "      border-color: transparent;\n",
              "      border-left-color: var(--fill-color);\n",
              "      border-top-color: var(--fill-color);\n",
              "    }\n",
              "    30% {\n",
              "      border-color: transparent;\n",
              "      border-left-color: var(--fill-color);\n",
              "      border-top-color: var(--fill-color);\n",
              "      border-right-color: var(--fill-color);\n",
              "    }\n",
              "    40% {\n",
              "      border-color: transparent;\n",
              "      border-right-color: var(--fill-color);\n",
              "      border-top-color: var(--fill-color);\n",
              "    }\n",
              "    60% {\n",
              "      border-color: transparent;\n",
              "      border-right-color: var(--fill-color);\n",
              "    }\n",
              "    80% {\n",
              "      border-color: transparent;\n",
              "      border-right-color: var(--fill-color);\n",
              "      border-bottom-color: var(--fill-color);\n",
              "    }\n",
              "    90% {\n",
              "      border-color: transparent;\n",
              "      border-bottom-color: var(--fill-color);\n",
              "    }\n",
              "  }\n",
              "</style>\n",
              "\n",
              "  <script>\n",
              "    async function quickchart(key) {\n",
              "      const quickchartButtonEl =\n",
              "        document.querySelector('#' + key + ' button');\n",
              "      quickchartButtonEl.disabled = true;  // To prevent multiple clicks.\n",
              "      quickchartButtonEl.classList.add('colab-df-spinner');\n",
              "      try {\n",
              "        const charts = await google.colab.kernel.invokeFunction(\n",
              "            'suggestCharts', [key], {});\n",
              "      } catch (error) {\n",
              "        console.error('Error during call to suggestCharts:', error);\n",
              "      }\n",
              "      quickchartButtonEl.classList.remove('colab-df-spinner');\n",
              "      quickchartButtonEl.classList.add('colab-df-quickchart-complete');\n",
              "    }\n",
              "    (() => {\n",
              "      let quickchartButtonEl =\n",
              "        document.querySelector('#df-475ea5dc-b015-4669-8963-b5a3caf627fd button');\n",
              "      quickchartButtonEl.style.display =\n",
              "        google.colab.kernel.accessAllowed ? 'block' : 'none';\n",
              "    })();\n",
              "  </script>\n",
              "</div>\n",
              "\n",
              "    </div>\n",
              "  </div>\n"
            ],
            "application/vnd.google.colaboratory.intrinsic+json": {
              "type": "dataframe",
              "variable_name": "df"
            }
          },
          "metadata": {},
          "execution_count": 9
        }
      ]
    },
    {
      "cell_type": "code",
      "source": [
        "# Taking 5000 from each dataset to proceed with machine translation\n",
        "europarl_f = europarl_f.sample(n=5000, random_state=42)\n",
        "commoncrawl_f = commoncrawl_f.sample(n=5000, random_state=42)\n",
        "# Merge the datasets\n",
        "merged_df = pd.concat([europarl_f, commoncrawl_f], ignore_index=True)"
      ],
      "metadata": {
        "id": "D6AsvksHOewV"
      },
      "execution_count": 10,
      "outputs": []
    },
    {
      "cell_type": "code",
      "source": [
        "english_sentences = merged_df[\"English\"].tolist()\n",
        "german_sentences = merged_df[\"German\"].tolist()\n",
        "\n",
        "# Calculate sentence lengths\n",
        "english_lengths = [len(sentence.split()) for sentence in english_sentences]\n",
        "german_lengths = [len(sentence.split()) for sentence in german_sentences]\n",
        "\n",
        "# Create a histogram plot with two subplots\n",
        "plt.figure(figsize=(12, 6))  # Adjust figure size as needed\n",
        "\n",
        "# Side-by-side box plots for English and German lengths\n",
        "plt.subplot(1, 2, 1)\n",
        "plt.boxplot(english_lengths, vert=False, patch_artist=True, labels=['English'])\n",
        "plt.xlabel(\"Sentence Length (Words)\")\n",
        "plt.title(\"Box Plot of English Sentence Lengths\")\n",
        "plt.grid(True)\n",
        "\n",
        "plt.subplot(1, 2, 2)\n",
        "plt.boxplot(german_lengths, vert=False, patch_artist=True, labels=['German'])\n",
        "plt.xlabel(\"Sentence Length (Words)\")\n",
        "plt.title(\"Box Plot of German Sentence Lengths\")\n",
        "plt.grid(True)\n",
        "\n",
        "plt.tight_layout()\n",
        "plt.show()"
      ],
      "metadata": {
        "colab": {
          "base_uri": "https://localhost:8080/",
          "height": 607
        },
        "id": "6t5N8A--OiKt",
        "outputId": "d289246f-951f-4a3b-9e5b-159fdf15beca"
      },
      "execution_count": 11,
      "outputs": [
        {
          "output_type": "display_data",
          "data": {
            "text/plain": [
              "<Figure size 1200x600 with 2 Axes>"
            ],
            "image/png": "[encoded data removed]"
          },
          "metadata": {}
        }
      ]
    },
    {
      "cell_type": "code",
      "source": [
        "def cleanse_dataset(dataset):\n",
        "    dataset = dataset[(dataset['German'].str.strip() != '') & (dataset['English'].str.strip() != '')]\n",
        "    dataset.loc[:, 'German'] = dataset['German'].str.strip()\n",
        "    dataset.loc[:, 'English'] = dataset['English'].str.strip()\n",
        "    dataset = dataset.drop_duplicates()\n",
        "    dataset.loc[:, 'German'] = dataset['German'].str.replace(r'[^a-zA-ZäöüßÄÖÜéèêàâçÇ\\s]', '', regex=True)\n",
        "    dataset.loc[:, 'English'] = dataset['English'].str.replace(r'[^a-zA-Z\\s]', '', regex=True)\n",
        "    dataset.loc[:, 'German'] = dataset['German'].str.lower()\n",
        "    dataset.loc[:, 'English'] = dataset['English'].str.lower()\n",
        "    return dataset"
      ],
      "metadata": {
        "id": "x7YIqJvSOqat"
      },
      "execution_count": 12,
      "outputs": []
    },
    {
      "cell_type": "code",
      "source": [
        "cleanse_df = cleanse_dataset(merged_df)\n",
        "cleanse_df.shape"
      ],
      "metadata": {
        "colab": {
          "base_uri": "https://localhost:8080/"
        },
        "id": "mlC3cePeOuTl",
        "outputId": "da9dd3a6-4ffe-4eb8-94ca-77abe7949860"
      },
      "execution_count": 13,
      "outputs": [
        {
          "output_type": "execute_result",
          "data": {
            "text/plain": [
              "(9956, 2)"
            ]
          },
          "metadata": {},
          "execution_count": 13
        }
      ]
    },
    {
      "cell_type": "code",
      "source": [
        "def rem_punctuation(text):\n",
        "    translator = str.maketrans('', '', string.punctuation)\n",
        "    return text.translate(translator)"
      ],
      "metadata": {
        "id": "T_HmxdYNOwMd"
      },
      "execution_count": 14,
      "outputs": []
    },
    {
      "cell_type": "code",
      "source": [
        "cleanse_df['German'] = cleanse_df['German'].apply(rem_punctuation)\n",
        "cleanse_df['English'] = cleanse_df['English'].apply(rem_punctuation)"
      ],
      "metadata": {
        "id": "tOCbtcp4OzEN"
      },
      "execution_count": 15,
      "outputs": []
    },
    {
      "cell_type": "code",
      "source": [
        "cleanse_df.head(5)"
      ],
      "metadata": {
        "colab": {
          "base_uri": "https://localhost:8080/",
          "height": 276
        },
        "id": "RzQbjSVmO0lk",
        "outputId": "16ef76c7-b07d-41b3-870f-c400082132e6"
      },
      "execution_count": 16,
      "outputs": [
        {
          "output_type": "execute_result",
          "data": {
            "text/plain": [
              "                                                                                                                                                                                                                                                                                                                                                   German  \\\n",
              "0                                                                                                                                                                                                                                                                                           falls es legal ist dann brauchen wir keine debatte zur führen   \n",
              "1                                                                                                                                                                                                                                                                                                                  weitere makrofinanzhilfe für georgien    \n",
              "2                                                                                            diese forderung verlief im sande zum einen weil das abkommen im juli  ausläuft und zum anderen weil wir der ansicht waren dass ein so sensibles thema wie die dauer der vorratsspeicherung erforderlichenfalls gegenstand späterer verhandlungen sein könnte   \n",
              "3                                                                                                                                                                             so funktioniert der rechtsstaat und lord bethell kann sicher sein dass das dänische rechtswesen entsprechend den prinzipien funktioniert die wir in dieser union hochhalten   \n",
              "4  wir sind daher durch die weigerung des rates die grundrechtecharta rechtsverbindlich zu machen in eine absurde situation geraten einerseits werden die grundrechte als zwingende konsequenz der anerkennung der würde des menschen betrachtet aber andererseits wird es den menschen verweigert sie tatsächlich als ihr recht geltend machen zu können   \n",
              "\n",
              "                                                                                                                                                                                                                                                                                                                           English  \n",
              "0                                                                                                                                                                                                                                                                                           if it is legal we do not need a debate  \n",
              "1                                                                                                                                                                                                                                                                                   further macrofinancial assistance for georgia   \n",
              "2                                                                              the request came to nothing firstly because the agreement will come to an end in july  and secondly because we have taken the view that a subject as sensitive as the period of data retention could if necessary be a topic for later negotiations  \n",
              "3                                                                                                                                                  that is how the judicial system works and lord bethell can be certain that the danish legal system functions in accordance with all the principles that we uphold in this union  \n",
              "4  the councils refusal to make the charter of fundamental rights binding in law therefore puts us in an absurd situation in which on the one hand fundamental rights are regarded as an inevitable consequence of the recognition of human dignity whilst on the other hand people are denied the chance to exercise their rights  "
            ],
            "text/html": [
              "\n",
              "  <div id=\"df-f792861e-b9d6-4fdd-8936-cdcad2f4c67d\" class=\"colab-df-container\">\n",
              "    <div>\n",
              "<style scoped>\n",
              "    .dataframe tbody tr th:only-of-type {\n",
              "        vertical-align: middle;\n",
              "    }\n",
              "\n",
              "    .dataframe tbody tr th {\n",
              "        vertical-align: top;\n",
              "    }\n",
              "\n",
              "    .dataframe thead th {\n",
              "        text-align: right;\n",
              "    }\n",
              "</style>\n",
              "<table border=\"1\" class=\"dataframe\">\n",
              "  <thead>\n",
              "    <tr style=\"text-align: right;\">\n",
              "      <th></th>\n",
              "      <th>German</th>\n",
              "      <th>English</th>\n",
              "    </tr>\n",
              "  </thead>\n",
              "  <tbody>\n",
              "    <tr>\n",
              "      <th>0</th>\n",
              "      <td>falls es legal ist dann brauchen wir keine debatte zur führen</td>\n",
              "      <td>if it is legal we do not need a debate</td>\n",
              "    </tr>\n",
              "    <tr>\n",
              "      <th>1</th>\n",
              "      <td>weitere makrofinanzhilfe für georgien</td>\n",
              "      <td>further macrofinancial assistance for georgia</td>\n",
              "    </tr>\n",
              "    <tr>\n",
              "      <th>2</th>\n",
              "      <td>diese forderung verlief im sande zum einen weil das abkommen im juli  ausläuft und zum anderen weil wir der ansicht waren dass ein so sensibles thema wie die dauer der vorratsspeicherung erforderlichenfalls gegenstand späterer verhandlungen sein könnte</td>\n",
              "      <td>the request came to nothing firstly because the agreement will come to an end in july  and secondly because we have taken the view that a subject as sensitive as the period of data retention could if necessary be a topic for later negotiations</td>\n",
              "    </tr>\n",
              "    <tr>\n",
              "      <th>3</th>\n",
              "      <td>so funktioniert der rechtsstaat und lord bethell kann sicher sein dass das dänische rechtswesen entsprechend den prinzipien funktioniert die wir in dieser union hochhalten</td>\n",
              "      <td>that is how the judicial system works and lord bethell can be certain that the danish legal system functions in accordance with all the principles that we uphold in this union</td>\n",
              "    </tr>\n",
              "    <tr>\n",
              "      <th>4</th>\n",
              "      <td>wir sind daher durch die weigerung des rates die grundrechtecharta rechtsverbindlich zu machen in eine absurde situation geraten einerseits werden die grundrechte als zwingende konsequenz der anerkennung der würde des menschen betrachtet aber andererseits wird es den menschen verweigert sie tatsächlich als ihr recht geltend machen zu können</td>\n",
              "      <td>the councils refusal to make the charter of fundamental rights binding in law therefore puts us in an absurd situation in which on the one hand fundamental rights are regarded as an inevitable consequence of the recognition of human dignity whilst on the other hand people are denied the chance to exercise their rights</td>\n",
              "    </tr>\n",
              "  </tbody>\n",
              "</table>\n",
              "</div>\n",
              "    <div class=\"colab-df-buttons\">\n",
              "\n",
              "  <div class=\"colab-df-container\">\n",
              "    <button class=\"colab-df-convert\" onclick=\"convertToInteractive('df-f792861e-b9d6-4fdd-8936-cdcad2f4c67d')\"\n",
              "            title=\"Convert this dataframe to an interactive table.\"\n",
              "            style=\"display:none;\">\n",
              "\n",
              "  <svg xmlns=\"http://www.w3.org/2000/svg\" height=\"24px\" viewBox=\"0 -960 960 960\">\n",
              "    <path d=\"M120-120v-720h720v720H120Zm60-500h600v-160H180v160Zm220 220h160v-160H400v160Zm0 220h160v-160H400v160ZM180-400h160v-160H180v160Zm440 0h160v-160H620v160ZM180-180h160v-160H180v160Zm440 0h160v-160H620v160Z\"/>\n",
              "  </svg>\n",
              "    </button>\n",
              "\n",
              "  <style>\n",
              "    .colab-df-container {\n",
              "      display:flex;\n",
              "      gap: 12px;\n",
              "    }\n",
              "\n",
              "    .colab-df-convert {\n",
              "      background-color: #E8F0FE;\n",
              "      border: none;\n",
              "      border-radius: 50%;\n",
              "      cursor: pointer;\n",
              "      display: none;\n",
              "      fill: #1967D2;\n",
              "      height: 32px;\n",
              "      padding: 0 0 0 0;\n",
              "      width: 32px;\n",
              "    }\n",
              "\n",
              "    .colab-df-convert:hover {\n",
              "      background-color: #E2EBFA;\n",
              "      box-shadow: 0px 1px 2px rgba(60, 64, 67, 0.3), 0px 1px 3px 1px rgba(60, 64, 67, 0.15);\n",
              "      fill: #174EA6;\n",
              "    }\n",
              "\n",
              "    .colab-df-buttons div {\n",
              "      margin-bottom: 4px;\n",
              "    }\n",
              "\n",
              "    [theme=dark] .colab-df-convert {\n",
              "      background-color: #3B4455;\n",
              "      fill: #D2E3FC;\n",
              "    }\n",
              "\n",
              "    [theme=dark] .colab-df-convert:hover {\n",
              "      background-color: #434B5C;\n",
              "      box-shadow: 0px 1px 3px 1px rgba(0, 0, 0, 0.15);\n",
              "      filter: drop-shadow(0px 1px 2px rgba(0, 0, 0, 0.3));\n",
              "      fill: #FFFFFF;\n",
              "    }\n",
              "  </style>\n",
              "\n",
              "    <script>\n",
              "      const buttonEl =\n",
              "        document.querySelector('#df-f792861e-b9d6-4fdd-8936-cdcad2f4c67d button.colab-df-convert');\n",
              "      buttonEl.style.display =\n",
              "        google.colab.kernel.accessAllowed ? 'block' : 'none';\n",
              "\n",
              "      async function convertToInteractive(key) {\n",
              "        const element = document.querySelector('#df-f792861e-b9d6-4fdd-8936-cdcad2f4c67d');\n",
              "        const dataTable =\n",
              "          await google.colab.kernel.invokeFunction('convertToInteractive',\n",
              "                                                    [key], {});\n",
              "        if (!dataTable) return;\n",
              "\n",
              "        const docLinkHtml = 'Like what you see? Visit the ' +\n",
              "          '<a target=\"_blank\" href=https://colab.research.google.com/notebooks/data_table.ipynb>data table notebook</a>'\n",
              "          + ' to learn more about interactive tables.';\n",
              "        element.innerHTML = '';\n",
              "        dataTable['output_type'] = 'display_data';\n",
              "        await google.colab.output.renderOutput(dataTable, element);\n",
              "        const docLink = document.createElement('div');\n",
              "        docLink.innerHTML = docLinkHtml;\n",
              "        element.appendChild(docLink);\n",
              "      }\n",
              "    </script>\n",
              "  </div>\n",
              "\n",
              "\n",
              "<div id=\"df-4964208e-c3ca-4ab6-9253-d55c4c85a42f\">\n",
              "  <button class=\"colab-df-quickchart\" onclick=\"quickchart('df-4964208e-c3ca-4ab6-9253-d55c4c85a42f')\"\n",
              "            title=\"Suggest charts\"\n",
              "            style=\"display:none;\">\n",
              "\n",
              "<svg xmlns=\"http://www.w3.org/2000/svg\" height=\"24px\"viewBox=\"0 0 24 24\"\n",
              "     width=\"24px\">\n",
              "    <g>\n",
              "        <path d=\"M19 3H5c-1.1 0-2 .9-2 2v14c0 1.1.9 2 2 2h14c1.1 0 2-.9 2-2V5c0-1.1-.9-2-2-2zM9 17H7v-7h2v7zm4 0h-2V7h2v10zm4 0h-2v-4h2v4z\"/>\n",
              "    </g>\n",
              "</svg>\n",
              "  </button>\n",
              "\n",
              "<style>\n",
              "  .colab-df-quickchart {\n",
              "      --bg-color: #E8F0FE;\n",
              "      --fill-color: #1967D2;\n",
              "      --hover-bg-color: #E2EBFA;\n",
              "      --hover-fill-color: #174EA6;\n",
              "      --disabled-fill-color: #AAA;\n",
              "      --disabled-bg-color: #DDD;\n",
              "  }\n",
              "\n",
              "  [theme=dark] .colab-df-quickchart {\n",
              "      --bg-color: #3B4455;\n",
              "      --fill-color: #D2E3FC;\n",
              "      --hover-bg-color: #434B5C;\n",
              "      --hover-fill-color: #FFFFFF;\n",
              "      --disabled-bg-color: #3B4455;\n",
              "      --disabled-fill-color: #666;\n",
              "  }\n",
              "\n",
              "  .colab-df-quickchart {\n",
              "    background-color: var(--bg-color);\n",
              "    border: none;\n",
              "    border-radius: 50%;\n",
              "    cursor: pointer;\n",
              "    display: none;\n",
              "    fill: var(--fill-color);\n",
              "    height: 32px;\n",
              "    padding: 0;\n",
              "    width: 32px;\n",
              "  }\n",
              "\n",
              "  .colab-df-quickchart:hover {\n",
              "    background-color: var(--hover-bg-color);\n",
              "    box-shadow: 0 1px 2px rgba(60, 64, 67, 0.3), 0 1px 3px 1px rgba(60, 64, 67, 0.15);\n",
              "    fill: var(--button-hover-fill-color);\n",
              "  }\n",
              "\n",
              "  .colab-df-quickchart-complete:disabled,\n",
              "  .colab-df-quickchart-complete:disabled:hover {\n",
              "    background-color: var(--disabled-bg-color);\n",
              "    fill: var(--disabled-fill-color);\n",
              "    box-shadow: none;\n",
              "  }\n",
              "\n",
              "  .colab-df-spinner {\n",
              "    border: 2px solid var(--fill-color);\n",
              "    border-color: transparent;\n",
              "    border-bottom-color: var(--fill-color);\n",
              "    animation:\n",
              "      spin 1s steps(1) infinite;\n",
              "  }\n",
              "\n",
              "  @keyframes spin {\n",
              "    0% {\n",
              "      border-color: transparent;\n",
              "      border-bottom-color: var(--fill-color);\n",
              "      border-left-color: var(--fill-color);\n",
              "    }\n",
              "    20% {\n",
              "      border-color: transparent;\n",
              "      border-left-color: var(--fill-color);\n",
              "      border-top-color: var(--fill-color);\n",
              "    }\n",
              "    30% {\n",
              "      border-color: transparent;\n",
              "      border-left-color: var(--fill-color);\n",
              "      border-top-color: var(--fill-color);\n",
              "      border-right-color: var(--fill-color);\n",
              "    }\n",
              "    40% {\n",
              "      border-color: transparent;\n",
              "      border-right-color: var(--fill-color);\n",
              "      border-top-color: var(--fill-color);\n",
              "    }\n",
              "    60% {\n",
              "      border-color: transparent;\n",
              "      border-right-color: var(--fill-color);\n",
              "    }\n",
              "    80% {\n",
              "      border-color: transparent;\n",
              "      border-right-color: var(--fill-color);\n",
              "      border-bottom-color: var(--fill-color);\n",
              "    }\n",
              "    90% {\n",
              "      border-color: transparent;\n",
              "      border-bottom-color: var(--fill-color);\n",
              "    }\n",
              "  }\n",
              "</style>\n",
              "\n",
              "  <script>\n",
              "    async function quickchart(key) {\n",
              "      const quickchartButtonEl =\n",
              "        document.querySelector('#' + key + ' button');\n",
              "      quickchartButtonEl.disabled = true;  // To prevent multiple clicks.\n",
              "      quickchartButtonEl.classList.add('colab-df-spinner');\n",
              "      try {\n",
              "        const charts = await google.colab.kernel.invokeFunction(\n",
              "            'suggestCharts', [key], {});\n",
              "      } catch (error) {\n",
              "        console.error('Error during call to suggestCharts:', error);\n",
              "      }\n",
              "      quickchartButtonEl.classList.remove('colab-df-spinner');\n",
              "      quickchartButtonEl.classList.add('colab-df-quickchart-complete');\n",
              "    }\n",
              "    (() => {\n",
              "      let quickchartButtonEl =\n",
              "        document.querySelector('#df-4964208e-c3ca-4ab6-9253-d55c4c85a42f button');\n",
              "      quickchartButtonEl.style.display =\n",
              "        google.colab.kernel.accessAllowed ? 'block' : 'none';\n",
              "    })();\n",
              "  </script>\n",
              "</div>\n",
              "\n",
              "    </div>\n",
              "  </div>\n"
            ],
            "application/vnd.google.colaboratory.intrinsic+json": {
              "type": "dataframe",
              "variable_name": "cleanse_df",
              "summary": "{\n  \"name\": \"cleanse_df\",\n  \"rows\": 9956,\n  \"fields\": [\n    {\n      \"column\": \"German\",\n      \"properties\": {\n        \"dtype\": \"string\",\n        \"num_unique_values\": 9932,\n        \"samples\": [\n          \"so beginnt hemingways kurzgeschichte ein gebirgsidyll  die galt\\u00fcr und dem paznaun einen platz in der weltliteratur gab\",\n          \"wohnung dubai dubai marina dubai marina dr  sie haben gesagt\",\n          \"herr pr\\u00e4sident herr kommissar meine damen und herren erlauben sie mir an allererster stelle die beachtenswerte arbeit unseres berichterstatters wolf klinz zu w\\u00fcrdigen dem es gelungen ist eine breite zustimmung innerhalb des ausschusses f\\u00fcr wirtschaft und w\\u00e4hrung zu erhalten und einen vollkommen zufrieden stellenden kompromiss mit der pr\\u00e4sidentschaft zu verhandeln\"\n        ],\n        \"semantic_type\": \"\",\n        \"description\": \"\"\n      }\n    },\n    {\n      \"column\": \"English\",\n      \"properties\": {\n        \"dtype\": \"string\",\n        \"num_unique_values\": 9928,\n        \"samples\": [\n          \"i can only confirm our resolve to release the funds that have been allocated\",\n          \"many of these challenges ahead are outlined in your report\",\n          \"located just a few minutes from t\"\n        ],\n        \"semantic_type\": \"\",\n        \"description\": \"\"\n      }\n    }\n  ]\n}"
            }
          },
          "metadata": {},
          "execution_count": 16
        }
      ]
    },
    {
      "cell_type": "code",
      "source": [
        "from sklearn.model_selection import train_test_split\n",
        "from tensorflow.keras.preprocessing.sequence import pad_sequences\n",
        "from tensorflow.keras.preprocessing.text import Tokenizer\n",
        "from tensorflow.keras.layers import Flatten, Embedding, LSTM, TimeDistributed, Input, SimpleRNN, Bidirectional, Dense, RepeatVector, Concatenate, Attention, Dot, Activation\n",
        "from tensorflow.keras.models import Model, Sequential, load_model, save_model\n",
        "from tensorflow.keras.losses import sparse_categorical_crossentropy\n",
        "from tensorflow.keras.optimizers import Adam\n",
        "from tensorflow.keras.callbacks import EarlyStopping, ModelCheckpoint"
      ],
      "metadata": {
        "id": "4BB4AGRIwims"
      },
      "execution_count": 17,
      "outputs": []
    },
    {
      "cell_type": "code",
      "source": [
        "preprocessed_1_df = cleanse_df\n",
        "train_df, test_df = train_test_split(preprocessed_1_df, test_size=0.2, random_state=42)\n",
        "train_german = train_df['German']\n",
        "train_english = train_df['English']\n",
        "test_german = test_df['German']\n",
        "test_english = test_df['English']\n",
        "tokenizer_german = Tokenizer()\n",
        "tokenizer_english = Tokenizer()\n",
        "tokenizer_german.fit_on_texts(train_german)\n",
        "tokenizer_english.fit_on_texts(train_english)\n",
        "\n",
        "train_german_sequences = tokenizer_german.texts_to_sequences(train_german)\n",
        "train_english_sequences = tokenizer_english.texts_to_sequences(train_english)\n",
        "test_german_sequences = tokenizer_german.texts_to_sequences(test_german)\n",
        "test_english_sequences = tokenizer_english.texts_to_sequences(test_english)"
      ],
      "metadata": {
        "id": "Zz3I56hKO4RE"
      },
      "execution_count": 18,
      "outputs": []
    },
    {
      "cell_type": "code",
      "source": [
        "# Check language length\n",
        "german_vocab = len(tokenizer_german.word_index) + 1\n",
        "english_vocab = len(tokenizer_english.word_index) + 1"
      ],
      "metadata": {
        "id": "Wzj5pif00KFd"
      },
      "execution_count": 19,
      "outputs": []
    },
    {
      "cell_type": "code",
      "source": [
        "max_ger_len = int(len(max(train_german_sequences,key=len)))\n",
        "max_eng_len = int(len(max(train_english_sequences,key=len)))\n",
        "max_len = max(max_ger_len, max_eng_len)\n",
        "\n",
        "train_german_padded = pad_sequences(train_german_sequences, maxlen=max_len, padding='post', truncating='post')\n",
        "train_english_padded = pad_sequences(train_english_sequences, maxlen=max_len, padding='post', truncating='post')\n",
        "test_german_padded = pad_sequences(test_german_sequences, maxlen=max_len, padding='post', truncating='post')\n",
        "test_english_padded = pad_sequences(test_english_sequences, maxlen=max_len, padding='post', truncating='post')\n",
        "\n",
        "train_english_padded_shifted = np.pad(train_english_padded[:, 1:], ((0, 0), (0, 1)), 'constant')\n",
        "test_english_padded_shifted = np.pad(test_english_padded[:, 1:], ((0, 0), (0, 1)), 'constant')"
      ],
      "metadata": {
        "id": "GBe9J2BTO9Bs"
      },
      "execution_count": 20,
      "outputs": []
    },
    {
      "cell_type": "code",
      "source": [
        "tokenizer_path = '/content/drive/MyDrive/capstone/'\n",
        "data_path = '/content/drive/MyDrive/capstone/'\n",
        "\n",
        "with open(tokenizer_path + 'tokenizer_german.pkl', 'wb') as file:\n",
        "    pickle.dump(tokenizer_german, file)\n",
        "with open(tokenizer_path + 'tokenizer_english.pkl', 'wb') as file:\n",
        "    pickle.dump(tokenizer_english, file)\n",
        "\n",
        "# Saving the preprocessed data\n",
        "np.save(data_path + 'train_german_padded.npy', train_german_padded)\n",
        "np.save(data_path + 'train_english_padded_shifted.npy', train_english_padded_shifted)\n",
        "np.save(data_path + 'test_german_padded.npy', test_german_padded)\n",
        "np.save(data_path + 'test_english_padded_shifted.npy', test_english_padded_shifted)\n",
        "\n",
        "print(\"Saved the tokenized data successfully.\")"
      ],
      "metadata": {
        "colab": {
          "base_uri": "https://localhost:8080/"
        },
        "id": "HMXVwf9kPA_E",
        "outputId": "67e7688f-a8af-400a-e035-2bf9f9d0f731"
      },
      "execution_count": 21,
      "outputs": [
        {
          "output_type": "stream",
          "name": "stdout",
          "text": [
            "Saved the tokenized data successfully.\n"
          ]
        }
      ]
    },
    {
      "cell_type": "markdown",
      "source": [
        "Simple RNN model"
      ],
      "metadata": {
        "id": "ghhqNhNqPKGv"
      }
    },
    {
      "cell_type": "code",
      "source": [
        "# Define the simple RNN model\n",
        "basic_rnn_model = Sequential()\n",
        "basic_rnn_model.add(SimpleRNN(256, input_shape=(max_len, 1), return_sequences=True))\n",
        "basic_rnn_model.add(Dense(english_vocab, activation='softmax'))\n",
        "\n",
        "# Compile the RNN model\n",
        "basic_rnn_model.compile(optimizer= Adam(), loss='sparse_categorical_crossentropy', metrics=['accuracy'])\n",
        "\n",
        "# Printing the model summary\n",
        "basic_rnn_model.summary()"
      ],
      "metadata": {
        "colab": {
          "base_uri": "https://localhost:8080/",
          "height": 259
        },
        "id": "9-j7VcQ9PL0M",
        "outputId": "d3405642-1060-48da-f6b1-e12bab75879a"
      },
      "execution_count": 22,
      "outputs": [
        {
          "output_type": "stream",
          "name": "stderr",
          "text": [
            "/usr/local/lib/python3.10/dist-packages/keras/src/layers/rnn/rnn.py:204: UserWarning: Do not pass an `input_shape`/`input_dim` argument to a layer. When using Sequential models, prefer using an `Input(shape)` object as the first layer in the model instead.\n",
            "  super().__init__(**kwargs)\n"
          ]
        },
        {
          "output_type": "display_data",
          "data": {
            "text/plain": [
              "\u001b[1mModel: \"sequential\"\u001b[0m\n"
            ],
            "text/html": [
              "<pre style=\"white-space:pre;overflow-x:auto;line-height:normal;font-family:Menlo,'DejaVu Sans Mono',consolas,'Courier New',monospace\"><span style=\"font-weight: bold\">Model: \"sequential\"</span>\n",
              "</pre>\n"
            ]
          },
          "metadata": {}
        },
        {
          "output_type": "display_data",
          "data": {
            "text/plain": [
              "┏━━━━━━━━━━━━━━━━━━━━━━━━━━━━━━━━━━━━━━┳━━━━━━━━━━━━━━━━━━━━━━━━━━━━━┳━━━━━━━━━━━━━━━━━┓\n",
              "┃\u001b[1m \u001b[0m\u001b[1mLayer (type)                        \u001b[0m\u001b[1m \u001b[0m┃\u001b[1m \u001b[0m\u001b[1mOutput Shape               \u001b[0m\u001b[1m \u001b[0m┃\u001b[1m \u001b[0m\u001b[1m        Param #\u001b[0m\u001b[1m \u001b[0m┃\n",
              "┡━━━━━━━━━━━━━━━━━━━━━━━━━━━━━━━━━━━━━━╇━━━━━━━━━━━━━━━━━━━━━━━━━━━━━╇━━━━━━━━━━━━━━━━━┩\n",
              "│ simple_rnn (\u001b[38;5;33mSimpleRNN\u001b[0m)               │ (\u001b[38;5;45mNone\u001b[0m, \u001b[38;5;34m645\u001b[0m, \u001b[38;5;34m256\u001b[0m)            │          \u001b[38;5;34m66,048\u001b[0m │\n",
              "├──────────────────────────────────────┼─────────────────────────────┼─────────────────┤\n",
              "│ dense (\u001b[38;5;33mDense\u001b[0m)                        │ (\u001b[38;5;45mNone\u001b[0m, \u001b[38;5;34m645\u001b[0m, \u001b[38;5;34m19340\u001b[0m)          │       \u001b[38;5;34m4,970,380\u001b[0m │\n",
              "└──────────────────────────────────────┴─────────────────────────────┴─────────────────┘\n"
            ],
            "text/html": [
              "<pre style=\"white-space:pre;overflow-x:auto;line-height:normal;font-family:Menlo,'DejaVu Sans Mono',consolas,'Courier New',monospace\">┏━━━━━━━━━━━━━━━━━━━━━━━━━━━━━━━━━━━━━━┳━━━━━━━━━━━━━━━━━━━━━━━━━━━━━┳━━━━━━━━━━━━━━━━━┓\n",
              "┃<span style=\"font-weight: bold\"> Layer (type)                         </span>┃<span style=\"font-weight: bold\"> Output Shape                </span>┃<span style=\"font-weight: bold\">         Param # </span>┃\n",
              "┡━━━━━━━━━━━━━━━━━━━━━━━━━━━━━━━━━━━━━━╇━━━━━━━━━━━━━━━━━━━━━━━━━━━━━╇━━━━━━━━━━━━━━━━━┩\n",
              "│ simple_rnn (<span style=\"color: #0087ff; text-decoration-color: #0087ff\">SimpleRNN</span>)               │ (<span style=\"color: #00d7ff; text-decoration-color: #00d7ff\">None</span>, <span style=\"color: #00af00; text-decoration-color: #00af00\">645</span>, <span style=\"color: #00af00; text-decoration-color: #00af00\">256</span>)            │          <span style=\"color: #00af00; text-decoration-color: #00af00\">66,048</span> │\n",
              "├──────────────────────────────────────┼─────────────────────────────┼─────────────────┤\n",
              "│ dense (<span style=\"color: #0087ff; text-decoration-color: #0087ff\">Dense</span>)                        │ (<span style=\"color: #00d7ff; text-decoration-color: #00d7ff\">None</span>, <span style=\"color: #00af00; text-decoration-color: #00af00\">645</span>, <span style=\"color: #00af00; text-decoration-color: #00af00\">19340</span>)          │       <span style=\"color: #00af00; text-decoration-color: #00af00\">4,970,380</span> │\n",
              "└──────────────────────────────────────┴─────────────────────────────┴─────────────────┘\n",
              "</pre>\n"
            ]
          },
          "metadata": {}
        },
        {
          "output_type": "display_data",
          "data": {
            "text/plain": [
              "\u001b[1m Total params: \u001b[0m\u001b[38;5;34m5,036,428\u001b[0m (19.21 MB)\n"
            ],
            "text/html": [
              "<pre style=\"white-space:pre;overflow-x:auto;line-height:normal;font-family:Menlo,'DejaVu Sans Mono',consolas,'Courier New',monospace\"><span style=\"font-weight: bold\"> Total params: </span><span style=\"color: #00af00; text-decoration-color: #00af00\">5,036,428</span> (19.21 MB)\n",
              "</pre>\n"
            ]
          },
          "metadata": {}
        },
        {
          "output_type": "display_data",
          "data": {
            "text/plain": [
              "\u001b[1m Trainable params: \u001b[0m\u001b[38;5;34m5,036,428\u001b[0m (19.21 MB)\n"
            ],
            "text/html": [
              "<pre style=\"white-space:pre;overflow-x:auto;line-height:normal;font-family:Menlo,'DejaVu Sans Mono',consolas,'Courier New',monospace\"><span style=\"font-weight: bold\"> Trainable params: </span><span style=\"color: #00af00; text-decoration-color: #00af00\">5,036,428</span> (19.21 MB)\n",
              "</pre>\n"
            ]
          },
          "metadata": {}
        },
        {
          "output_type": "display_data",
          "data": {
            "text/plain": [
              "\u001b[1m Non-trainable params: \u001b[0m\u001b[38;5;34m0\u001b[0m (0.00 B)\n"
            ],
            "text/html": [
              "<pre style=\"white-space:pre;overflow-x:auto;line-height:normal;font-family:Menlo,'DejaVu Sans Mono',consolas,'Courier New',monospace\"><span style=\"font-weight: bold\"> Non-trainable params: </span><span style=\"color: #00af00; text-decoration-color: #00af00\">0</span> (0.00 B)\n",
              "</pre>\n"
            ]
          },
          "metadata": {}
        }
      ]
    },
    {
      "cell_type": "code",
      "source": [
        "rnn_checkpoint_path = '/content/drive/MyDrive/capstone/rnncheckpoint.model.keras'\n",
        "rnn_checkpoint = ModelCheckpoint(\n",
        "    filepath=rnn_checkpoint_path,\n",
        "    save_weights_only=False,\n",
        "    monitor='val_loss',\n",
        "    mode='min',\n",
        "    save_best_only=True,\n",
        "    verbose=1\n",
        ")\n",
        "early_stopping = EarlyStopping(monitor='val_loss', patience=3, verbose=1)"
      ],
      "metadata": {
        "id": "UNmB8Mu-POK0"
      },
      "execution_count": 23,
      "outputs": []
    },
    {
      "cell_type": "code",
      "source": [
        "# Train the model with callbacks\n",
        "history = basic_rnn_model.fit(\n",
        "    train_german_padded,\n",
        "    np.expand_dims(train_english_padded_shifted, -1),\n",
        "    epochs=5,\n",
        "    batch_size=128,\n",
        "    validation_data=(test_german_padded, np.expand_dims(test_english_padded_shifted, -1)),\n",
        "    callbacks=[rnn_checkpoint, early_stopping]\n",
        ")"
      ],
      "metadata": {
        "colab": {
          "base_uri": "https://localhost:8080/"
        },
        "id": "HFyN-dLjPQtc",
        "outputId": "ceb0a58c-ef4d-4fa7-9cf0-0240593a4dd2"
      },
      "execution_count": null,
      "outputs": [
        {
          "output_type": "stream",
          "name": "stdout",
          "text": [
            "Epoch 1/5\n"
          ]
        }
      ]
    },
    {
      "cell_type": "code",
      "source": [
        "# Plot loss values\n",
        "plt.figure(figsize=(12, 4))\n",
        "plt.subplot(1, 2, 1)\n",
        "plt.plot(history.history['loss'])\n",
        "plt.plot(history.history['val_loss'])\n",
        "plt.title('Model Loss')\n",
        "plt.ylabel('Loss')\n",
        "plt.xlabel('Epoch')\n",
        "plt.legend(['Train', 'Validation'], loc='upper left')\n",
        "\n",
        "# Plot accuracy values\n",
        "plt.subplot(1, 2, 2)\n",
        "plt.plot(history.history['accuracy'])\n",
        "plt.plot(history.history['val_accuracy'])\n",
        "plt.title('Model Accuracy')\n",
        "plt.ylabel('Accuracy')\n",
        "plt.xlabel('Epoch')\n",
        "plt.legend(['Train', 'Validation'], loc='upper left')\n",
        "\n",
        "plt.tight_layout()\n",
        "plt.show()"
      ],
      "metadata": {
        "id": "5g9a-GdePS39"
      },
      "execution_count": null,
      "outputs": []
    },
    {
      "cell_type": "code",
      "source": [
        "basic_rnn_model.save('/content/drive/My Drive/capstone/rnn_model_checkpoint.h5')"
      ],
      "metadata": {
        "id": "my8MUrP0PVZ0"
      },
      "execution_count": null,
      "outputs": []
    },
    {
      "cell_type": "code",
      "source": [
        "# Load the weights into the model\n",
        "rnn_checkpoint_path = '/content/drive/My Drive/capstone/rnn_model_checkpoint.h5'\n",
        "best_rnn_model=load_model(rnn_checkpoint_path)"
      ],
      "metadata": {
        "id": "7s4QUhCjPapl"
      },
      "execution_count": null,
      "outputs": []
    },
    {
      "cell_type": "code",
      "source": [
        "train_loss, train_accuracy = basic_rnn_model.evaluate(train_german_padded, np.expand_dims(train_english_padded_shifted, -1))\n",
        "test_loss, test_accuracy = basic_rnn_model.evaluate(test_german_padded, np.expand_dims(test_english_padded_shifted, -1))\n",
        "\n",
        "print(f\"Validation Loss: {test_loss}, Validation Accuracy: {test_accuracy}\")\n",
        "print(f\"Training Loss: {train_loss}, Training Accuracy: {train_accuracy}\")"
      ],
      "metadata": {
        "id": "NA5OvxS2Pcjd"
      },
      "execution_count": null,
      "outputs": []
    },
    {
      "cell_type": "code",
      "source": [
        "accuracy = test_accuracy"
      ],
      "metadata": {
        "id": "tLbgq4z_PeJt"
      },
      "execution_count": null,
      "outputs": []
    },
    {
      "cell_type": "code",
      "source": [
        "rnn_results_df = pd.DataFrame({'Model': ['RNN'], 'Accuracy': [accuracy * 100]})\n",
        "rnn_results_df"
      ],
      "metadata": {
        "id": "RE5kurczPgOM"
      },
      "execution_count": null,
      "outputs": []
    },
    {
      "cell_type": "code",
      "source": [
        "random_indices = random.sample(range(len(test_german_padded)), 10)\n",
        "X_sample = test_german_padded[random_indices]\n",
        "y_sample_actual = test_english_padded_shifted[random_indices]\n",
        "y_sample_pred = basic_rnn_model.predict(X_sample)\n",
        "def decode_sequence(tokenizer, sequence):\n",
        "    reverse_word_map = dict(map(reversed, tokenizer.word_index.items()))\n",
        "    decoded_sentence = ' '.join(reverse_word_map.get(token, '<unk>') for token in sequence if token != 0)\n",
        "    return decoded_sentence\n",
        "sample_actual_decoded = [decode_sequence(tokenizer_english, seq) for seq in y_sample_actual]\n",
        "sample_pred_decoded = [decode_sequence(tokenizer_english, seq.argmax(axis=-1)) for seq in y_sample_pred]\n",
        "for i in range(len(random_indices)):\n",
        "    print(f\"German {X_sample[i]}:\")\n",
        "    print(f\"Actual:   {sample_actual_decoded[i]}\")\n",
        "    print(f\"Predicted: {sample_pred_decoded[i]}\\n\")"
      ],
      "metadata": {
        "id": "eIWQq9EFPhqc"
      },
      "execution_count": null,
      "outputs": []
    },
    {
      "cell_type": "code",
      "source": [],
      "metadata": {
        "id": "fCP4cQoFPk2f"
      },
      "execution_count": null,
      "outputs": []
    },
    {
      "cell_type": "markdown",
      "source": [
        "Simple LSTM model"
      ],
      "metadata": {
        "id": "0hZs0WGrPoTU"
      }
    },
    {
      "cell_type": "code",
      "source": [
        "# Define the model\n",
        "basic_lstm_model = Sequential()\n",
        "basic_lstm_model.add(LSTM(256, input_shape=(max_len, 1), return_sequences=True))\n",
        "basic_lstm_model.add(Dense(english_vocab, activation='softmax'))\n",
        "\n",
        "# Compile the model\n",
        "basic_lstm_model.compile(optimizer=Adam(1e-3), loss='sparse_categorical_crossentropy', metrics=['accuracy'])\n",
        "\n",
        "# Print model summary\n",
        "basic_lstm_model.summary()"
      ],
      "metadata": {
        "id": "X1fWcQUyPq2c"
      },
      "execution_count": null,
      "outputs": []
    },
    {
      "cell_type": "code",
      "source": [
        "# Define the callbacks\n",
        "lstm_checkpoint_path = '/content/drive/MyDrive/capstone/lstm_model_checkpoint.h5'\n",
        "lstm_checkpoint = ModelCheckpoint(\n",
        "    filepath=lstm_checkpoint_path,\n",
        "    save_weights_only=False,\n",
        "    monitor='val_loss',\n",
        "    mode='min',\n",
        "    save_best_only=True,\n",
        "    verbose=1\n",
        ")"
      ],
      "metadata": {
        "id": "6GojAR9UPscc"
      },
      "execution_count": null,
      "outputs": []
    },
    {
      "cell_type": "code",
      "source": [
        "early_stopping = EarlyStopping(monitor='val_loss', patience=3, verbose=1)\n",
        "\n",
        "history = basic_lstm_model.fit(\n",
        "    train_german_padded,\n",
        "    np.expand_dims(train_english_padded_shifted, -1),\n",
        "    epochs=5,\n",
        "    batch_size=128,\n",
        "    validation_data=(test_german_padded, np.expand_dims(test_english_padded_shifted, -1)),\n",
        "    callbacks=[lstm_checkpoint, early_stopping]\n",
        ")"
      ],
      "metadata": {
        "id": "qqR4AwEtPunE"
      },
      "execution_count": null,
      "outputs": []
    },
    {
      "cell_type": "code",
      "source": [
        "# Plot training & validation loss values\n",
        "plt.figure(figsize=(12, 4))\n",
        "plt.subplot(1, 2, 1)\n",
        "plt.plot(history.history['loss'])\n",
        "plt.plot(history.history['val_loss'])\n",
        "plt.title('Model Loss')\n",
        "plt.ylabel('Loss')\n",
        "plt.xlabel('Epoch')\n",
        "plt.legend(['Train', 'Validation'], loc='upper left')\n",
        "\n",
        "# Plot training & validation accuracy values\n",
        "plt.subplot(1, 2, 2)\n",
        "plt.plot(history.history['accuracy'])\n",
        "plt.plot(history.history['val_accuracy'])\n",
        "plt.title('Model Accuracy')\n",
        "plt.ylabel('Accuracy')\n",
        "plt.xlabel('Epoch')\n",
        "plt.legend(['Train', 'Validation'], loc='upper left')\n",
        "\n",
        "plt.tight_layout()\n",
        "plt.show()"
      ],
      "metadata": {
        "id": "4HAzcdRGPwud"
      },
      "execution_count": null,
      "outputs": []
    },
    {
      "cell_type": "code",
      "source": [
        "best_lstm_model = load_model(lstm_checkpoint_path)\n",
        "best_lstm_model.load_weights(lstm_checkpoint_path)"
      ],
      "metadata": {
        "id": "0FYVqalOPy4E"
      },
      "execution_count": null,
      "outputs": []
    },
    {
      "cell_type": "code",
      "source": [
        "test_loss, test_accuracy = basic_lstm_model.evaluate(test_german_padded, np.expand_dims(test_english_padded_shifted, -1))"
      ],
      "metadata": {
        "id": "tt6zs4buP028"
      },
      "execution_count": null,
      "outputs": []
    },
    {
      "cell_type": "code",
      "source": [
        "print(f\"Validation Loss: {test_loss}, Validation Accuracy: {test_accuracy}\")"
      ],
      "metadata": {
        "id": "6sSeKDspP2tc"
      },
      "execution_count": null,
      "outputs": []
    },
    {
      "cell_type": "code",
      "source": [
        "accuracy = test_accuracy"
      ],
      "metadata": {
        "id": "6QGBPntIP4Uk"
      },
      "execution_count": null,
      "outputs": []
    },
    {
      "cell_type": "code",
      "source": [
        "lstm_results_df = pd.DataFrame({'Model': ['LSTM'], 'Accuracy': [accuracy * 100]})\n",
        "lstm_results_df"
      ],
      "metadata": {
        "id": "H_xSktZTP8o0"
      },
      "execution_count": null,
      "outputs": []
    },
    {
      "cell_type": "code",
      "source": [
        "random_indices = random.sample(range(len(test_german_padded)), 10)\n",
        "X_sample = test_german_padded[random_indices]\n",
        "y_sample_actual = test_english_padded_shifted[random_indices]\n",
        "y_sample_pred = simple_lstm_model.predict(X_sample)\n",
        "\n",
        "def decode_sequence(tokenizer, sequence):\n",
        "    reverse_word_map = dict(map(reversed, tokenizer.word_index.items()))\n",
        "    decoded_sentence = ' '.join(reverse_word_map.get(token, '<unk>') for token in sequence if token != 0)\n",
        "    return decoded_sentence\n",
        "sample_actual_decoded = [decode_sequence(tokenizer_english, seq) for seq in y_sample_actual]\n",
        "sample_pred_decoded = [decode_sequence(tokenizer_english, seq.argmax(axis=-1)) for seq in y_sample_pred]\n",
        "\n",
        "for i in range(len(random_indices)):\n",
        "    print(f\"Example {i + 1}:\")\n",
        "    print(f\"Actual English:   {sample_actual_decoded[i]}\")\n",
        "    print(f\"Predicted English: {sample_pred_decoded[i]}\\n\")"
      ],
      "metadata": {
        "id": "zxJq3AA4P-K0"
      },
      "execution_count": null,
      "outputs": []
    },
    {
      "cell_type": "code",
      "source": [
        "# Combine RNN and LSTM results\n",
        "combined_results_df = pd.concat([rnn_results_df, lstm_results_df], ignore_index=True)\n",
        "combined_results_df"
      ],
      "metadata": {
        "id": "5M70ltjiQAlV"
      },
      "execution_count": null,
      "outputs": []
    },
    {
      "cell_type": "code",
      "source": [],
      "metadata": {
        "id": "IwIM-g8BQDjk"
      },
      "execution_count": null,
      "outputs": []
    }
  ]
}