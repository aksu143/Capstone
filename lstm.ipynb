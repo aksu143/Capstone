{
 "cells": [
  {
   "cell_type": "code",
   "execution_count": 1,
   "id": "c193b327",
   "metadata": {
    "id": "c193b327"
   },
   "outputs": [],
   "source": [
    "import pandas as pd\n",
    "import re"
   ]
  },
  {
   "cell_type": "code",
   "execution_count": 2,
   "id": "02b3ffa0",
   "metadata": {
    "id": "02b3ffa0"
   },
   "outputs": [],
   "source": [
    "combined_dataset = pd.read_csv('C:/Users/PC/Desktop/CapstoneProject/combined_dataset.csv')"
   ]
  },
  {
   "cell_type": "code",
   "execution_count": 3,
   "id": "QaD345tBBD8d",
   "metadata": {
    "colab": {
     "base_uri": "https://localhost:8080/"
    },
    "id": "QaD345tBBD8d",
    "outputId": "d67e64c3-bac3-4fe6-bb21-c8effbe09d31"
   },
   "outputs": [
    {
     "name": "stdout",
     "output_type": "stream",
     "text": [
      "<class 'pandas.core.frame.DataFrame'>\n",
      "RangeIndex: 201936 entries, 0 to 201935\n",
      "Data columns (total 2 columns):\n",
      " #   Column   Non-Null Count   Dtype \n",
      "---  ------   --------------   ----- \n",
      " 0   German   201795 non-null  object\n",
      " 1   English  201936 non-null  object\n",
      "dtypes: object(2)\n",
      "memory usage: 3.1+ MB\n"
     ]
    }
   ],
   "source": [
    "combined_dataset.info()"
   ]
  },
  {
   "cell_type": "code",
   "execution_count": 4,
   "id": "4f3mGZbgb_Dt",
   "metadata": {
    "colab": {
     "base_uri": "https://localhost:8080/"
    },
    "id": "4f3mGZbgb_Dt",
    "outputId": "a2ccbfcd-78a5-4426-fee2-4ad4d4c4e900"
   },
   "outputs": [
    {
     "data": {
      "text/plain": [
       "(201936, 2)"
      ]
     },
     "execution_count": 4,
     "metadata": {},
     "output_type": "execute_result"
    }
   ],
   "source": [
    "# Observing the shape of merged dataframes\n",
    "\n",
    "combined_dataset.shape"
   ]
  },
  {
   "cell_type": "code",
   "execution_count": 5,
   "id": "ifgoqoxeB8Dz",
   "metadata": {
    "colab": {
     "base_uri": "https://localhost:8080/",
     "height": 206
    },
    "id": "ifgoqoxeB8Dz",
    "outputId": "382473c3-8103-4c27-aa2f-f808fe6365d5"
   },
   "outputs": [
    {
     "data": {
      "text/html": [
       "<div>\n",
       "<style scoped>\n",
       "    .dataframe tbody tr th:only-of-type {\n",
       "        vertical-align: middle;\n",
       "    }\n",
       "\n",
       "    .dataframe tbody tr th {\n",
       "        vertical-align: top;\n",
       "    }\n",
       "\n",
       "    .dataframe thead th {\n",
       "        text-align: right;\n",
       "    }\n",
       "</style>\n",
       "<table border=\"1\" class=\"dataframe\">\n",
       "  <thead>\n",
       "    <tr style=\"text-align: right;\">\n",
       "      <th></th>\n",
       "      <th>German</th>\n",
       "      <th>English</th>\n",
       "    </tr>\n",
       "  </thead>\n",
       "  <tbody>\n",
       "    <tr>\n",
       "      <th>0</th>\n",
       "      <td>Steigt Gold auf 10.000 Dollar?\\n</td>\n",
       "      <td>$10,000 Gold?\\n</td>\n",
       "    </tr>\n",
       "    <tr>\n",
       "      <th>1</th>\n",
       "      <td>SAN FRANCISCO – Es war noch nie leicht, ein ra...</td>\n",
       "      <td>SAN FRANCISCO – It has never been easy to have...</td>\n",
       "    </tr>\n",
       "    <tr>\n",
       "      <th>2</th>\n",
       "      <td>In letzter Zeit allerdings ist dies schwierige...</td>\n",
       "      <td>Lately, with gold prices up more than 300% ove...</td>\n",
       "    </tr>\n",
       "    <tr>\n",
       "      <th>3</th>\n",
       "      <td>Erst letzten Dezember verfassten meine Kollege...</td>\n",
       "      <td>Just last December, fellow economists Martin F...</td>\n",
       "    </tr>\n",
       "    <tr>\n",
       "      <th>4</th>\n",
       "      <td>Und es kam, wie es kommen musste.\\n</td>\n",
       "      <td>Wouldn’t you know it?\\n</td>\n",
       "    </tr>\n",
       "  </tbody>\n",
       "</table>\n",
       "</div>"
      ],
      "text/plain": [
       "                                              German  \\\n",
       "0                   Steigt Gold auf 10.000 Dollar?\\n   \n",
       "1  SAN FRANCISCO – Es war noch nie leicht, ein ra...   \n",
       "2  In letzter Zeit allerdings ist dies schwierige...   \n",
       "3  Erst letzten Dezember verfassten meine Kollege...   \n",
       "4                Und es kam, wie es kommen musste.\\n   \n",
       "\n",
       "                                             English  \n",
       "0                                    $10,000 Gold?\\n  \n",
       "1  SAN FRANCISCO – It has never been easy to have...  \n",
       "2  Lately, with gold prices up more than 300% ove...  \n",
       "3  Just last December, fellow economists Martin F...  \n",
       "4                            Wouldn’t you know it?\\n  "
      ]
     },
     "execution_count": 5,
     "metadata": {},
     "output_type": "execute_result"
    }
   ],
   "source": [
    "# Observing the top 5 entries of merged dataframe\n",
    "\n",
    "combined_dataset.head()"
   ]
  },
  {
   "cell_type": "code",
   "execution_count": 6,
   "id": "KKSrfSvjB9jj",
   "metadata": {
    "colab": {
     "base_uri": "https://localhost:8080/",
     "height": 424
    },
    "id": "KKSrfSvjB9jj",
    "outputId": "26b2cdb0-5f99-4408-9f28-ac17f9323cbb"
   },
   "outputs": [
    {
     "data": {
      "text/html": [
       "<div>\n",
       "<style scoped>\n",
       "    .dataframe tbody tr th:only-of-type {\n",
       "        vertical-align: middle;\n",
       "    }\n",
       "\n",
       "    .dataframe tbody tr th {\n",
       "        vertical-align: top;\n",
       "    }\n",
       "\n",
       "    .dataframe thead th {\n",
       "        text-align: right;\n",
       "    }\n",
       "</style>\n",
       "<table border=\"1\" class=\"dataframe\">\n",
       "  <thead>\n",
       "    <tr style=\"text-align: right;\">\n",
       "      <th></th>\n",
       "      <th>German</th>\n",
       "      <th>English</th>\n",
       "    </tr>\n",
       "  </thead>\n",
       "  <tbody>\n",
       "    <tr>\n",
       "      <th>0</th>\n",
       "      <td>Steigt Gold auf 10.000 Dollar?\\n</td>\n",
       "      <td>$10,000 Gold?\\n</td>\n",
       "    </tr>\n",
       "    <tr>\n",
       "      <th>1</th>\n",
       "      <td>SAN FRANCISCO – Es war noch nie leicht, ein ra...</td>\n",
       "      <td>SAN FRANCISCO – It has never been easy to have...</td>\n",
       "    </tr>\n",
       "    <tr>\n",
       "      <th>2</th>\n",
       "      <td>In letzter Zeit allerdings ist dies schwierige...</td>\n",
       "      <td>Lately, with gold prices up more than 300% ove...</td>\n",
       "    </tr>\n",
       "    <tr>\n",
       "      <th>3</th>\n",
       "      <td>Erst letzten Dezember verfassten meine Kollege...</td>\n",
       "      <td>Just last December, fellow economists Martin F...</td>\n",
       "    </tr>\n",
       "    <tr>\n",
       "      <th>4</th>\n",
       "      <td>Und es kam, wie es kommen musste.\\n</td>\n",
       "      <td>Wouldn’t you know it?\\n</td>\n",
       "    </tr>\n",
       "    <tr>\n",
       "      <th>...</th>\n",
       "      <td>...</td>\n",
       "      <td>...</td>\n",
       "    </tr>\n",
       "    <tr>\n",
       "      <th>201790</th>\n",
       "      <td>Das bleibt eine der größten Errungenschaften i...</td>\n",
       "      <td>It didn’t have to be this way.\\n</td>\n",
       "    </tr>\n",
       "    <tr>\n",
       "      <th>201791</th>\n",
       "      <td>Gleichzeitig scheint sich Zumas revolutionäre ...</td>\n",
       "      <td>This past year has seen one missed opportunity...</td>\n",
       "    </tr>\n",
       "    <tr>\n",
       "      <th>201792</th>\n",
       "      <td>In einer Region, wo die älteren Menschen sehr ...</td>\n",
       "      <td>South African president Thabo Mbeki convened n...</td>\n",
       "    </tr>\n",
       "    <tr>\n",
       "      <th>201793</th>\n",
       "      <td>Drei von zehn Südafrikanern sind jünger als 15...</td>\n",
       "      <td>Some African leaders – notably Ghana’s preside...</td>\n",
       "    </tr>\n",
       "    <tr>\n",
       "      <th>201794</th>\n",
       "      <td>Irgendwie muss Zuma einen Weg finden, einersei...</td>\n",
       "      <td>Perhaps more significantly, the international ...</td>\n",
       "    </tr>\n",
       "  </tbody>\n",
       "</table>\n",
       "<p>201795 rows × 2 columns</p>\n",
       "</div>"
      ],
      "text/plain": [
       "                                                   German  \\\n",
       "0                        Steigt Gold auf 10.000 Dollar?\\n   \n",
       "1       SAN FRANCISCO – Es war noch nie leicht, ein ra...   \n",
       "2       In letzter Zeit allerdings ist dies schwierige...   \n",
       "3       Erst letzten Dezember verfassten meine Kollege...   \n",
       "4                     Und es kam, wie es kommen musste.\\n   \n",
       "...                                                   ...   \n",
       "201790  Das bleibt eine der größten Errungenschaften i...   \n",
       "201791  Gleichzeitig scheint sich Zumas revolutionäre ...   \n",
       "201792  In einer Region, wo die älteren Menschen sehr ...   \n",
       "201793  Drei von zehn Südafrikanern sind jünger als 15...   \n",
       "201794  Irgendwie muss Zuma einen Weg finden, einersei...   \n",
       "\n",
       "                                                  English  \n",
       "0                                         $10,000 Gold?\\n  \n",
       "1       SAN FRANCISCO – It has never been easy to have...  \n",
       "2       Lately, with gold prices up more than 300% ove...  \n",
       "3       Just last December, fellow economists Martin F...  \n",
       "4                                 Wouldn’t you know it?\\n  \n",
       "...                                                   ...  \n",
       "201790                   It didn’t have to be this way.\\n  \n",
       "201791  This past year has seen one missed opportunity...  \n",
       "201792  South African president Thabo Mbeki convened n...  \n",
       "201793  Some African leaders – notably Ghana’s preside...  \n",
       "201794  Perhaps more significantly, the international ...  \n",
       "\n",
       "[201795 rows x 2 columns]"
      ]
     },
     "execution_count": 6,
     "metadata": {},
     "output_type": "execute_result"
    }
   ],
   "source": [
    "# Dropping the null values from the dataframe\n",
    "\n",
    "combined_dataset.dropna()"
   ]
  },
  {
   "cell_type": "code",
   "execution_count": 7,
   "id": "gIonLznSCB_b",
   "metadata": {
    "id": "gIonLznSCB_b"
   },
   "outputs": [],
   "source": [
    "# Dropping the duplicates from the dataframe\n",
    "\n",
    "combined_dataset = combined_dataset.drop_duplicates()"
   ]
  },
  {
   "cell_type": "code",
   "execution_count": 8,
   "id": "AYK2k3CbCEy7",
   "metadata": {
    "colab": {
     "base_uri": "https://localhost:8080/"
    },
    "id": "AYK2k3CbCEy7",
    "outputId": "2912b8c4-48a6-4146-b61f-10c7396cccf1"
   },
   "outputs": [
    {
     "data": {
      "text/plain": [
       "(201936, 2)"
      ]
     },
     "execution_count": 8,
     "metadata": {},
     "output_type": "execute_result"
    }
   ],
   "source": [
    "# Observing shape of the dataframe after dropping null values and duplicates\n",
    "\n",
    "combined_dataset.shape"
   ]
  },
  {
   "cell_type": "code",
   "execution_count": 9,
   "id": "eEq49cq-CGlj",
   "metadata": {
    "id": "eEq49cq-CGlj"
   },
   "outputs": [],
   "source": [
    "# Randomly sample 5% of dataframe\n",
    "\n",
    "combined_dataset_sample = combined_dataset.sample(frac = 0.01)"
   ]
  },
  {
   "cell_type": "code",
   "execution_count": 10,
   "id": "szyTR_ebCIjs",
   "metadata": {
    "colab": {
     "base_uri": "https://localhost:8080/"
    },
    "id": "szyTR_ebCIjs",
    "outputId": "aa75751c-ebcd-4bf5-c45f-260f0954f6fc"
   },
   "outputs": [
    {
     "data": {
      "text/plain": [
       "(2019, 2)"
      ]
     },
     "execution_count": 10,
     "metadata": {},
     "output_type": "execute_result"
    }
   ],
   "source": [
    "# Observing the shape of sampled dataframe\n",
    "\n",
    "combined_dataset_sample.shape"
   ]
  },
  {
   "cell_type": "code",
   "execution_count": 11,
   "id": "ZDEppm7VCMak",
   "metadata": {
    "id": "ZDEppm7VCMak"
   },
   "outputs": [],
   "source": [
    "# Adding columns in the dataframe which shows the length of each English and German sentence\n",
    "\n",
    "combined_dataset_sample['eng_length'] = combined_dataset_sample['English'].str.len()\n",
    "\n",
    "combined_dataset_sample['ger_length'] = combined_dataset_sample['German'].str.len()"
   ]
  },
  {
   "cell_type": "code",
   "execution_count": 12,
   "id": "L8P3EGJtCNxs",
   "metadata": {
    "colab": {
     "base_uri": "https://localhost:8080/"
    },
    "id": "L8P3EGJtCNxs",
    "outputId": "2cd984c0-9949-4b1c-ce0e-7f37cac6f9cc"
   },
   "outputs": [
    {
     "name": "stdout",
     "output_type": "stream",
     "text": [
      "<class 'pandas.core.frame.DataFrame'>\n",
      "Index: 2019 entries, 136156 to 78086\n",
      "Data columns (total 4 columns):\n",
      " #   Column      Non-Null Count  Dtype  \n",
      "---  ------      --------------  -----  \n",
      " 0   German      2018 non-null   object \n",
      " 1   English     2019 non-null   object \n",
      " 2   eng_length  2019 non-null   int64  \n",
      " 3   ger_length  2018 non-null   float64\n",
      "dtypes: float64(1), int64(1), object(2)\n",
      "memory usage: 78.9+ KB\n"
     ]
    }
   ],
   "source": [
    "# Observing the information of sampled dataframe\n",
    "\n",
    "combined_dataset_sample.info()"
   ]
  },
  {
   "cell_type": "code",
   "execution_count": 13,
   "id": "jj7dYEiHCPUj",
   "metadata": {
    "colab": {
     "base_uri": "https://localhost:8080/",
     "height": 206
    },
    "id": "jj7dYEiHCPUj",
    "outputId": "ac6c6798-17b4-40f3-9aee-544d659524ea"
   },
   "outputs": [
    {
     "data": {
      "text/html": [
       "<div>\n",
       "<style scoped>\n",
       "    .dataframe tbody tr th:only-of-type {\n",
       "        vertical-align: middle;\n",
       "    }\n",
       "\n",
       "    .dataframe tbody tr th {\n",
       "        vertical-align: top;\n",
       "    }\n",
       "\n",
       "    .dataframe thead th {\n",
       "        text-align: right;\n",
       "    }\n",
       "</style>\n",
       "<table border=\"1\" class=\"dataframe\">\n",
       "  <thead>\n",
       "    <tr style=\"text-align: right;\">\n",
       "      <th></th>\n",
       "      <th>German</th>\n",
       "      <th>English</th>\n",
       "      <th>eng_length</th>\n",
       "      <th>ger_length</th>\n",
       "    </tr>\n",
       "  </thead>\n",
       "  <tbody>\n",
       "    <tr>\n",
       "      <th>136156</th>\n",
       "      <td>Seitdem besteht die Haltung der Zentralregieru...</td>\n",
       "      <td>Lost in the debates about whether the European...</td>\n",
       "      <td>351</td>\n",
       "      <td>148.0</td>\n",
       "    </tr>\n",
       "    <tr>\n",
       "      <th>17088</th>\n",
       "      <td>Als Schröder vor sieben Jahren an die Macht ka...</td>\n",
       "      <td>Schroeder came to power seven years ago repres...</td>\n",
       "      <td>239</td>\n",
       "      <td>317.0</td>\n",
       "    </tr>\n",
       "    <tr>\n",
       "      <th>200521</th>\n",
       "      <td>Hinzu kommen die sehr viel größeren Zahlen von...</td>\n",
       "      <td>It would also reduce the increasing inequality...</td>\n",
       "      <td>80</td>\n",
       "      <td>190.0</td>\n",
       "    </tr>\n",
       "    <tr>\n",
       "      <th>84918</th>\n",
       "      <td>Warum ist die US-Politik derart akkommodierend?\\n</td>\n",
       "      <td>The means of discussing these questions is kno...</td>\n",
       "      <td>109</td>\n",
       "      <td>48.0</td>\n",
       "    </tr>\n",
       "    <tr>\n",
       "      <th>45143</th>\n",
       "      <td>Duisenberg war sich dieses Junktims bewusst un...</td>\n",
       "      <td>No one wants this.\\n</td>\n",
       "      <td>19</td>\n",
       "      <td>65.0</td>\n",
       "    </tr>\n",
       "  </tbody>\n",
       "</table>\n",
       "</div>"
      ],
      "text/plain": [
       "                                                   German  \\\n",
       "136156  Seitdem besteht die Haltung der Zentralregieru...   \n",
       "17088   Als Schröder vor sieben Jahren an die Macht ka...   \n",
       "200521  Hinzu kommen die sehr viel größeren Zahlen von...   \n",
       "84918   Warum ist die US-Politik derart akkommodierend?\\n   \n",
       "45143   Duisenberg war sich dieses Junktims bewusst un...   \n",
       "\n",
       "                                                  English  eng_length  \\\n",
       "136156  Lost in the debates about whether the European...         351   \n",
       "17088   Schroeder came to power seven years ago repres...         239   \n",
       "200521  It would also reduce the increasing inequality...          80   \n",
       "84918   The means of discussing these questions is kno...         109   \n",
       "45143                                No one wants this.\\n          19   \n",
       "\n",
       "        ger_length  \n",
       "136156       148.0  \n",
       "17088        317.0  \n",
       "200521       190.0  \n",
       "84918         48.0  \n",
       "45143         65.0  "
      ]
     },
     "execution_count": 13,
     "metadata": {},
     "output_type": "execute_result"
    }
   ],
   "source": [
    "# Observing top 5 entries of the sampled dataframe\n",
    "\n",
    "combined_dataset_sample.head(5)"
   ]
  },
  {
   "cell_type": "code",
   "execution_count": 14,
   "id": "3bvgPbXxCROz",
   "metadata": {
    "id": "3bvgPbXxCROz"
   },
   "outputs": [],
   "source": [
    "def clean_sentence(sentence):\n",
    "    sentence = sentence.lower()  #Convert to lowercase\n",
    "    sentence = re.sub(r'\\s+', ' ', sentence)  # Remove new line character\n",
    "    sentence = sentence.strip()  # Remove leading and trailing white spaces\n",
    "    sentence = re.sub(r'\\s+', ' ', sentence)  # Replace multiple spaces with a single space\n",
    "    sentence = re.sub(r'[^\\w\\s.,!?\\'\"]', '', sentence)  # Remove special characters except common punctuation\n",
    "    sentence = 'START_ '+ sentence + ' _END'\n",
    "    return sentence"
   ]
  },
  {
   "cell_type": "code",
   "execution_count": 15,
   "id": "8X7waDCHC__k",
   "metadata": {
    "id": "8X7waDCHC__k"
   },
   "outputs": [],
   "source": [
    "# Calling process_data function on the sampled dataframe\n",
    "\n",
    "combined_dataset_sample['German'] = combined_dataset_sample['German'].astype(str).apply(clean_sentence)"
   ]
  },
  {
   "cell_type": "code",
   "execution_count": 16,
   "id": "bmsnfBLHEEqj",
   "metadata": {
    "id": "bmsnfBLHEEqj"
   },
   "outputs": [],
   "source": [
    "combined_dataset_sample['English'] = combined_dataset_sample['English'].astype(str).apply(clean_sentence)"
   ]
  },
  {
   "cell_type": "code",
   "execution_count": null,
   "id": "Fq4mQR7sDzmT",
   "metadata": {
    "id": "Fq4mQR7sDzmT"
   },
   "outputs": [],
   "source": []
  },
  {
   "cell_type": "code",
   "execution_count": 17,
   "id": "DRgVzxqbDCT7",
   "metadata": {
    "colab": {
     "base_uri": "https://localhost:8080/",
     "height": 206
    },
    "id": "DRgVzxqbDCT7",
    "outputId": "c281da11-3cc0-4b71-f475-53f5b50622a9"
   },
   "outputs": [
    {
     "data": {
      "text/html": [
       "<div>\n",
       "<style scoped>\n",
       "    .dataframe tbody tr th:only-of-type {\n",
       "        vertical-align: middle;\n",
       "    }\n",
       "\n",
       "    .dataframe tbody tr th {\n",
       "        vertical-align: top;\n",
       "    }\n",
       "\n",
       "    .dataframe thead th {\n",
       "        text-align: right;\n",
       "    }\n",
       "</style>\n",
       "<table border=\"1\" class=\"dataframe\">\n",
       "  <thead>\n",
       "    <tr style=\"text-align: right;\">\n",
       "      <th></th>\n",
       "      <th>German</th>\n",
       "      <th>English</th>\n",
       "      <th>eng_length</th>\n",
       "      <th>ger_length</th>\n",
       "    </tr>\n",
       "  </thead>\n",
       "  <tbody>\n",
       "    <tr>\n",
       "      <th>136156</th>\n",
       "      <td>START_ seitdem besteht die haltung der zentral...</td>\n",
       "      <td>START_ lost in the debates about whether the e...</td>\n",
       "      <td>351</td>\n",
       "      <td>148.0</td>\n",
       "    </tr>\n",
       "    <tr>\n",
       "      <th>17088</th>\n",
       "      <td>START_ als schröder vor sieben jahren an die m...</td>\n",
       "      <td>START_ schroeder came to power seven years ago...</td>\n",
       "      <td>239</td>\n",
       "      <td>317.0</td>\n",
       "    </tr>\n",
       "    <tr>\n",
       "      <th>200521</th>\n",
       "      <td>START_ hinzu kommen die sehr viel größeren zah...</td>\n",
       "      <td>START_ it would also reduce the increasing ine...</td>\n",
       "      <td>80</td>\n",
       "      <td>190.0</td>\n",
       "    </tr>\n",
       "    <tr>\n",
       "      <th>84918</th>\n",
       "      <td>START_ warum ist die uspolitik derart akkommod...</td>\n",
       "      <td>START_ the means of discussing these questions...</td>\n",
       "      <td>109</td>\n",
       "      <td>48.0</td>\n",
       "    </tr>\n",
       "    <tr>\n",
       "      <th>45143</th>\n",
       "      <td>START_ duisenberg war sich dieses junktims bew...</td>\n",
       "      <td>START_ no one wants this. _END</td>\n",
       "      <td>19</td>\n",
       "      <td>65.0</td>\n",
       "    </tr>\n",
       "  </tbody>\n",
       "</table>\n",
       "</div>"
      ],
      "text/plain": [
       "                                                   German  \\\n",
       "136156  START_ seitdem besteht die haltung der zentral...   \n",
       "17088   START_ als schröder vor sieben jahren an die m...   \n",
       "200521  START_ hinzu kommen die sehr viel größeren zah...   \n",
       "84918   START_ warum ist die uspolitik derart akkommod...   \n",
       "45143   START_ duisenberg war sich dieses junktims bew...   \n",
       "\n",
       "                                                  English  eng_length  \\\n",
       "136156  START_ lost in the debates about whether the e...         351   \n",
       "17088   START_ schroeder came to power seven years ago...         239   \n",
       "200521  START_ it would also reduce the increasing ine...          80   \n",
       "84918   START_ the means of discussing these questions...         109   \n",
       "45143                      START_ no one wants this. _END          19   \n",
       "\n",
       "        ger_length  \n",
       "136156       148.0  \n",
       "17088        317.0  \n",
       "200521       190.0  \n",
       "84918         48.0  \n",
       "45143         65.0  "
      ]
     },
     "execution_count": 17,
     "metadata": {},
     "output_type": "execute_result"
    }
   ],
   "source": [
    "# Observing top 5 entries of the processed dataframe\n",
    "\n",
    "combined_dataset_sample.head(5)"
   ]
  },
  {
   "cell_type": "code",
   "execution_count": null,
   "id": "TBD-nSfZGpVr",
   "metadata": {
    "id": "TBD-nSfZGpVr"
   },
   "outputs": [],
   "source": []
  },
  {
   "cell_type": "markdown",
   "id": "fv68MbJ3HpV8",
   "metadata": {
    "id": "fv68MbJ3HpV8"
   },
   "source": [
    "Pre Processing - Dataset suitable to be used for AIML model learning"
   ]
  },
  {
   "cell_type": "code",
   "execution_count": 18,
   "id": "grWEsF3CDDyL",
   "metadata": {
    "id": "grWEsF3CDDyL"
   },
   "outputs": [],
   "source": [
    "# Function to generate word tokens\n",
    "from tensorflow.keras.preprocessing.text import Tokenizer\n",
    "\n",
    "def tokenize(sentences):\n",
    "    # Create tokenizer\n",
    "    text_tokenizer = Tokenizer()\n",
    "\n",
    "    # Fit texts\n",
    "    text_tokenizer.fit_on_texts(sentences)\n",
    "    return text_tokenizer.texts_to_sequences(sentences), text_tokenizer"
   ]
  },
  {
   "cell_type": "code",
   "execution_count": 19,
   "id": "1KbmMC1xIm4q",
   "metadata": {
    "id": "1KbmMC1xIm4q"
   },
   "outputs": [],
   "source": [
    "# Generate word index\n",
    "\n",
    "eng_tokenized, eng_tokenizer = tokenize(combined_dataset_sample['English'])\n",
    "ger_tokenized, ger_tokenizer = tokenize(combined_dataset_sample['German'])\n",
    "\n",
    "eng_word_index = eng_tokenizer.word_index\n",
    "ger_word_index = ger_tokenizer.word_index"
   ]
  },
  {
   "cell_type": "code",
   "execution_count": 20,
   "id": "Kfwe2rgjIsWa",
   "metadata": {
    "colab": {
     "base_uri": "https://localhost:8080/"
    },
    "id": "Kfwe2rgjIsWa",
    "outputId": "74176d44-e079-40db-f086-76d79f6d3488"
   },
   "outputs": [
    {
     "name": "stdout",
     "output_type": "stream",
     "text": [
      "English vocabulary is of 8067 unique words\n",
      "german vocabulary is of 10523 unique words\n"
     ]
    }
   ],
   "source": [
    "# Finding the vocabulary size with number of unique tokens\n",
    "\n",
    "english_vocab = len(eng_tokenizer.word_index) + 1\n",
    "german_vocab = len(ger_tokenizer.word_index) + 1\n",
    "\n",
    "print(\"English vocabulary is of {} unique words\".format(english_vocab))\n",
    "print(\"german vocabulary is of {} unique words\".format(german_vocab))"
   ]
  },
  {
   "cell_type": "code",
   "execution_count": 21,
   "id": "jZvNWRWpIyRh",
   "metadata": {
    "colab": {
     "base_uri": "https://localhost:8080/"
    },
    "id": "jZvNWRWpIyRh",
    "outputId": "4fd39956-687e-4781-8a2f-106bf1a7dc07"
   },
   "outputs": [
    {
     "name": "stdout",
     "output_type": "stream",
     "text": [
      "Maximum Length of English tokens is 87\n",
      "Maximum Length of German tokens is 87\n"
     ]
    }
   ],
   "source": [
    "# Define the parameters\n",
    "\n",
    "maxlen_eng = int(len(max(eng_tokenized, key=len)))\n",
    "maxlen_ger = int(len(max(ger_tokenized, key=len)))\n",
    "\n",
    "print(\"Maximum Length of English tokens is {}\".format(maxlen_eng))\n",
    "print(\"Maximum Length of German tokens is {}\".format(maxlen_ger))"
   ]
  },
  {
   "cell_type": "code",
   "execution_count": 22,
   "id": "FgYSJNRgI4wJ",
   "metadata": {
    "colab": {
     "base_uri": "https://localhost:8080/"
    },
    "id": "FgYSJNRgI4wJ",
    "outputId": "be24d846-bcc7-4cf7-992a-e2d3e35c1f7f"
   },
   "outputs": [
    {
     "name": "stdout",
     "output_type": "stream",
     "text": [
      "Number of English Samples are {}: 2019\n",
      "Number of German Samples are {}: 2019\n"
     ]
    }
   ],
   "source": [
    "# Generate token sequence\n",
    "from tensorflow.keras.preprocessing.sequence import pad_sequences\n",
    "eng_pad_sentence = pad_sequences(eng_tokenized, maxlen_eng, padding = \"post\")\n",
    "ger_pad_sentence = pad_sequences(ger_tokenized, maxlen_ger, padding = \"post\")\n",
    "\n",
    "print('Number of English Samples are {}:', len(eng_pad_sentence))\n",
    "print('Number of German Samples are {}:', len(ger_pad_sentence))"
   ]
  },
  {
   "cell_type": "code",
   "execution_count": null,
   "id": "ER3BnfkvJENC",
   "metadata": {
    "id": "ER3BnfkvJENC"
   },
   "outputs": [],
   "source": []
  },
  {
   "cell_type": "markdown",
   "id": "xMHNEijxJIg6",
   "metadata": {
    "id": "xMHNEijxJIg6"
   },
   "source": [
    "Model Design"
   ]
  },
  {
   "cell_type": "code",
   "execution_count": 23,
   "id": "ZResiCM6JK2q",
   "metadata": {
    "colab": {
     "base_uri": "https://localhost:8080/"
    },
    "id": "ZResiCM6JK2q",
    "outputId": "3c2e985f-33be-4cc0-d1c3-fd6de9f26326"
   },
   "outputs": [
    {
     "name": "stdout",
     "output_type": "stream",
     "text": [
      "(1514, 87)\n",
      "(505, 87)\n",
      "(1514, 87)\n",
      "(505, 87)\n"
     ]
    }
   ],
   "source": [
    "from sklearn.model_selection import train_test_split\n",
    "\n",
    "X_train, X_test, Y_train, Y_test = train_test_split(eng_pad_sentence,ger_pad_sentence,test_size=0.25,shuffle=True,random_state=101)\n",
    "\n",
    "print(X_train.shape)\n",
    "print(X_test.shape)\n",
    "print(Y_train.shape)\n",
    "print(Y_test.shape)"
   ]
  },
  {
   "cell_type": "code",
   "execution_count": 24,
   "id": "W-gN0ZeGOzKq",
   "metadata": {
    "id": "W-gN0ZeGOzKq"
   },
   "outputs": [],
   "source": [
    "from tensorflow.keras.layers import Dense, LSTM, Input, Embedding, Activation, RepeatVector, Dropout, BatchNormalization, Flatten, Bidirectional, TimeDistributed, SimpleRNN\n",
    "from tensorflow.keras.models import Model, Sequential"
   ]
  },
  {
   "cell_type": "code",
   "execution_count": 25,
   "id": "cG86vtccOcZB",
   "metadata": {
    "colab": {
     "base_uri": "https://localhost:8080/"
    },
    "id": "cG86vtccOcZB",
    "outputId": "3b4d9aa3-c0c5-42c0-eaff-27f5d2a9c2b7"
   },
   "outputs": [
    {
     "name": "stderr",
     "output_type": "stream",
     "text": [
      "C:\\Users\\PC\\anaconda3\\Lib\\site-packages\\keras\\src\\layers\\core\\embedding.py:93: UserWarning: Do not pass an `input_shape`/`input_dim` argument to a layer. When using Sequential models, prefer using an `Input(shape)` object as the first layer in the model instead.\n",
      "  super().__init__(**kwargs)\n"
     ]
    }
   ],
   "source": [
    "# Designing the basic LSTM model\n",
    "\n",
    "model_translate_lstm = Sequential()\n",
    "\n",
    "model_translate_lstm.add(Embedding(input_dim = english_vocab, output_dim = 128,input_shape=(maxlen_eng,), trainable = False))\n",
    "\n",
    "model_translate_lstm.add(LSTM(64, return_sequences=False))\n",
    "\n",
    "model_translate_lstm.add(RepeatVector(maxlen_ger))\n",
    "\n",
    "model_translate_lstm.add(LSTM(64, return_sequences=True, dropout=0.2))\n",
    "\n",
    "model_translate_lstm.add(TimeDistributed(Dense(1000)))\n",
    "\n",
    "model_translate_lstm.add(Dense(german_vocab,activation = 'softmax'))"
   ]
  },
  {
   "cell_type": "code",
   "execution_count": 26,
   "id": "6YUawvByr_ID",
   "metadata": {
    "id": "6YUawvByr_ID"
   },
   "outputs": [],
   "source": [
    "from tensorflow.keras.losses import sparse_categorical_crossentropy\n",
    "from tensorflow.keras.optimizers import Adam\n",
    "from tensorflow.keras.optimizers import RMSprop\n",
    "rms = RMSprop(learning_rate=0.001)\n",
    "model_translate_lstm.compile(loss=sparse_categorical_crossentropy, optimizer=rms, metrics=['accuracy'])"
   ]
  },
  {
   "cell_type": "code",
   "execution_count": 27,
   "id": "_LxRwH7csxjs",
   "metadata": {
    "colab": {
     "base_uri": "https://localhost:8080/",
     "height": 340
    },
    "id": "_LxRwH7csxjs",
    "outputId": "c06c5d19-fc53-422f-fb5d-fd54e0cfd4a2"
   },
   "outputs": [
    {
     "data": {
      "text/html": [
       "<pre style=\"white-space:pre;overflow-x:auto;line-height:normal;font-family:Menlo,'DejaVu Sans Mono',consolas,'Courier New',monospace\"><span style=\"font-weight: bold\">Model: \"sequential\"</span>\n",
       "</pre>\n"
      ],
      "text/plain": [
       "\u001b[1mModel: \"sequential\"\u001b[0m\n"
      ]
     },
     "metadata": {},
     "output_type": "display_data"
    },
    {
     "data": {
      "text/html": [
       "<pre style=\"white-space:pre;overflow-x:auto;line-height:normal;font-family:Menlo,'DejaVu Sans Mono',consolas,'Courier New',monospace\">┏━━━━━━━━━━━━━━━━━━━━━━━━━━━━━━━━━━━━━━┳━━━━━━━━━━━━━━━━━━━━━━━━━━━━━┳━━━━━━━━━━━━━━━━━┓\n",
       "┃<span style=\"font-weight: bold\"> Layer (type)                         </span>┃<span style=\"font-weight: bold\"> Output Shape                </span>┃<span style=\"font-weight: bold\">         Param # </span>┃\n",
       "┡━━━━━━━━━━━━━━━━━━━━━━━━━━━━━━━━━━━━━━╇━━━━━━━━━━━━━━━━━━━━━━━━━━━━━╇━━━━━━━━━━━━━━━━━┩\n",
       "│ embedding (<span style=\"color: #0087ff; text-decoration-color: #0087ff\">Embedding</span>)                │ (<span style=\"color: #00d7ff; text-decoration-color: #00d7ff\">None</span>, <span style=\"color: #00af00; text-decoration-color: #00af00\">87</span>, <span style=\"color: #00af00; text-decoration-color: #00af00\">128</span>)             │       <span style=\"color: #00af00; text-decoration-color: #00af00\">1,032,576</span> │\n",
       "├──────────────────────────────────────┼─────────────────────────────┼─────────────────┤\n",
       "│ lstm (<span style=\"color: #0087ff; text-decoration-color: #0087ff\">LSTM</span>)                          │ (<span style=\"color: #00d7ff; text-decoration-color: #00d7ff\">None</span>, <span style=\"color: #00af00; text-decoration-color: #00af00\">64</span>)                  │          <span style=\"color: #00af00; text-decoration-color: #00af00\">49,408</span> │\n",
       "├──────────────────────────────────────┼─────────────────────────────┼─────────────────┤\n",
       "│ repeat_vector (<span style=\"color: #0087ff; text-decoration-color: #0087ff\">RepeatVector</span>)         │ (<span style=\"color: #00d7ff; text-decoration-color: #00d7ff\">None</span>, <span style=\"color: #00af00; text-decoration-color: #00af00\">87</span>, <span style=\"color: #00af00; text-decoration-color: #00af00\">64</span>)              │               <span style=\"color: #00af00; text-decoration-color: #00af00\">0</span> │\n",
       "├──────────────────────────────────────┼─────────────────────────────┼─────────────────┤\n",
       "│ lstm_1 (<span style=\"color: #0087ff; text-decoration-color: #0087ff\">LSTM</span>)                        │ (<span style=\"color: #00d7ff; text-decoration-color: #00d7ff\">None</span>, <span style=\"color: #00af00; text-decoration-color: #00af00\">87</span>, <span style=\"color: #00af00; text-decoration-color: #00af00\">64</span>)              │          <span style=\"color: #00af00; text-decoration-color: #00af00\">33,024</span> │\n",
       "├──────────────────────────────────────┼─────────────────────────────┼─────────────────┤\n",
       "│ time_distributed (<span style=\"color: #0087ff; text-decoration-color: #0087ff\">TimeDistributed</span>)   │ (<span style=\"color: #00d7ff; text-decoration-color: #00d7ff\">None</span>, <span style=\"color: #00af00; text-decoration-color: #00af00\">87</span>, <span style=\"color: #00af00; text-decoration-color: #00af00\">1000</span>)            │          <span style=\"color: #00af00; text-decoration-color: #00af00\">65,000</span> │\n",
       "├──────────────────────────────────────┼─────────────────────────────┼─────────────────┤\n",
       "│ dense_1 (<span style=\"color: #0087ff; text-decoration-color: #0087ff\">Dense</span>)                      │ (<span style=\"color: #00d7ff; text-decoration-color: #00d7ff\">None</span>, <span style=\"color: #00af00; text-decoration-color: #00af00\">87</span>, <span style=\"color: #00af00; text-decoration-color: #00af00\">10523</span>)           │      <span style=\"color: #00af00; text-decoration-color: #00af00\">10,533,523</span> │\n",
       "└──────────────────────────────────────┴─────────────────────────────┴─────────────────┘\n",
       "</pre>\n"
      ],
      "text/plain": [
       "┏━━━━━━━━━━━━━━━━━━━━━━━━━━━━━━━━━━━━━━┳━━━━━━━━━━━━━━━━━━━━━━━━━━━━━┳━━━━━━━━━━━━━━━━━┓\n",
       "┃\u001b[1m \u001b[0m\u001b[1mLayer (type)                        \u001b[0m\u001b[1m \u001b[0m┃\u001b[1m \u001b[0m\u001b[1mOutput Shape               \u001b[0m\u001b[1m \u001b[0m┃\u001b[1m \u001b[0m\u001b[1m        Param #\u001b[0m\u001b[1m \u001b[0m┃\n",
       "┡━━━━━━━━━━━━━━━━━━━━━━━━━━━━━━━━━━━━━━╇━━━━━━━━━━━━━━━━━━━━━━━━━━━━━╇━━━━━━━━━━━━━━━━━┩\n",
       "│ embedding (\u001b[38;5;33mEmbedding\u001b[0m)                │ (\u001b[38;5;45mNone\u001b[0m, \u001b[38;5;34m87\u001b[0m, \u001b[38;5;34m128\u001b[0m)             │       \u001b[38;5;34m1,032,576\u001b[0m │\n",
       "├──────────────────────────────────────┼─────────────────────────────┼─────────────────┤\n",
       "│ lstm (\u001b[38;5;33mLSTM\u001b[0m)                          │ (\u001b[38;5;45mNone\u001b[0m, \u001b[38;5;34m64\u001b[0m)                  │          \u001b[38;5;34m49,408\u001b[0m │\n",
       "├──────────────────────────────────────┼─────────────────────────────┼─────────────────┤\n",
       "│ repeat_vector (\u001b[38;5;33mRepeatVector\u001b[0m)         │ (\u001b[38;5;45mNone\u001b[0m, \u001b[38;5;34m87\u001b[0m, \u001b[38;5;34m64\u001b[0m)              │               \u001b[38;5;34m0\u001b[0m │\n",
       "├──────────────────────────────────────┼─────────────────────────────┼─────────────────┤\n",
       "│ lstm_1 (\u001b[38;5;33mLSTM\u001b[0m)                        │ (\u001b[38;5;45mNone\u001b[0m, \u001b[38;5;34m87\u001b[0m, \u001b[38;5;34m64\u001b[0m)              │          \u001b[38;5;34m33,024\u001b[0m │\n",
       "├──────────────────────────────────────┼─────────────────────────────┼─────────────────┤\n",
       "│ time_distributed (\u001b[38;5;33mTimeDistributed\u001b[0m)   │ (\u001b[38;5;45mNone\u001b[0m, \u001b[38;5;34m87\u001b[0m, \u001b[38;5;34m1000\u001b[0m)            │          \u001b[38;5;34m65,000\u001b[0m │\n",
       "├──────────────────────────────────────┼─────────────────────────────┼─────────────────┤\n",
       "│ dense_1 (\u001b[38;5;33mDense\u001b[0m)                      │ (\u001b[38;5;45mNone\u001b[0m, \u001b[38;5;34m87\u001b[0m, \u001b[38;5;34m10523\u001b[0m)           │      \u001b[38;5;34m10,533,523\u001b[0m │\n",
       "└──────────────────────────────────────┴─────────────────────────────┴─────────────────┘\n"
      ]
     },
     "metadata": {},
     "output_type": "display_data"
    },
    {
     "data": {
      "text/html": [
       "<pre style=\"white-space:pre;overflow-x:auto;line-height:normal;font-family:Menlo,'DejaVu Sans Mono',consolas,'Courier New',monospace\"><span style=\"font-weight: bold\"> Total params: </span><span style=\"color: #00af00; text-decoration-color: #00af00\">11,713,531</span> (44.68 MB)\n",
       "</pre>\n"
      ],
      "text/plain": [
       "\u001b[1m Total params: \u001b[0m\u001b[38;5;34m11,713,531\u001b[0m (44.68 MB)\n"
      ]
     },
     "metadata": {},
     "output_type": "display_data"
    },
    {
     "data": {
      "text/html": [
       "<pre style=\"white-space:pre;overflow-x:auto;line-height:normal;font-family:Menlo,'DejaVu Sans Mono',consolas,'Courier New',monospace\"><span style=\"font-weight: bold\"> Trainable params: </span><span style=\"color: #00af00; text-decoration-color: #00af00\">10,680,955</span> (40.74 MB)\n",
       "</pre>\n"
      ],
      "text/plain": [
       "\u001b[1m Trainable params: \u001b[0m\u001b[38;5;34m10,680,955\u001b[0m (40.74 MB)\n"
      ]
     },
     "metadata": {},
     "output_type": "display_data"
    },
    {
     "data": {
      "text/html": [
       "<pre style=\"white-space:pre;overflow-x:auto;line-height:normal;font-family:Menlo,'DejaVu Sans Mono',consolas,'Courier New',monospace\"><span style=\"font-weight: bold\"> Non-trainable params: </span><span style=\"color: #00af00; text-decoration-color: #00af00\">1,032,576</span> (3.94 MB)\n",
       "</pre>\n"
      ],
      "text/plain": [
       "\u001b[1m Non-trainable params: \u001b[0m\u001b[38;5;34m1,032,576\u001b[0m (3.94 MB)\n"
      ]
     },
     "metadata": {},
     "output_type": "display_data"
    }
   ],
   "source": [
    "model_translate_lstm.summary()"
   ]
  },
  {
   "cell_type": "code",
   "execution_count": 28,
   "id": "iV0QMPLmucNL",
   "metadata": {
    "colab": {
     "base_uri": "https://localhost:8080/",
     "height": 1000
    },
    "id": "iV0QMPLmucNL",
    "outputId": "6c2399e5-ec54-4578-c7a0-0232aae94d17"
   },
   "outputs": [
    {
     "data": {
      "image/png": "[encoded data removed]",
      "text/plain": [
       "<IPython.core.display.Image object>"
      ]
     },
     "execution_count": 28,
     "metadata": {},
     "output_type": "execute_result"
    }
   ],
   "source": [
    "from keras.utils import plot_model\n",
    "plot_model(model_translate_lstm, to_file='model.png', show_shapes=True)"
   ]
  },
  {
   "cell_type": "code",
   "execution_count": 29,
   "id": "zZaZZYGEmC7c",
   "metadata": {
    "id": "zZaZZYGEmC7c"
   },
   "outputs": [],
   "source": [
    "\n",
    "from tensorflow.keras.callbacks import EarlyStopping, ReduceLROnPlateau, ModelCheckpoint\n",
    "checkpoint_filepath = 'checkpoint.model.keras'\n",
    "es = EarlyStopping(monitor='val_accuracy',mode='max',verbose=1,patience=40)\n",
    "rl = ReduceLROnPlateau(monitor='val_accuracy',mode='max',verbose=1,patience=5,factor=0.1,min_lr=0.001)\n",
    "mc = ModelCheckpoint(checkpoint_filepath,monitor='val_accuracy',verbose=1,mode='max',save_best_only=True)"
   ]
  },
  {
   "cell_type": "code",
   "execution_count": 30,
   "id": "HD3Ez6pJrYAb",
   "metadata": {
    "colab": {
     "base_uri": "https://localhost:8080/",
     "height": 1000
    },
    "id": "HD3Ez6pJrYAb",
    "outputId": "a70da87f-90ef-4fa1-8db7-e242f4088e99"
   },
   "outputs": [
    {
     "name": "stdout",
     "output_type": "stream",
     "text": [
      "Epoch 1/10\n",
      "\u001b[1m3/3\u001b[0m \u001b[32m━━━━━━━━━━━━━━━━━━━━\u001b[0m\u001b[37m\u001b[0m \u001b[1m0s\u001b[0m 6s/step - accuracy: 0.2463 - loss: 9.2407      \n",
      "Epoch 1: val_accuracy improved from -inf to 0.72421, saving model to checkpoint.model.keras\n",
      "\u001b[1m3/3\u001b[0m \u001b[32m━━━━━━━━━━━━━━━━━━━━\u001b[0m\u001b[37m\u001b[0m \u001b[1m48s\u001b[0m 8s/step - accuracy: 0.2786 - loss: 9.2376 - val_accuracy: 0.7242 - val_loss: 8.6668 - learning_rate: 0.0010\n",
      "Epoch 2/10\n",
      "\u001b[1m3/3\u001b[0m \u001b[32m━━━━━━━━━━━━━━━━━━━━\u001b[0m\u001b[37m\u001b[0m \u001b[1m0s\u001b[0m 5s/step - accuracy: 0.7257 - loss: 8.1733\n",
      "Epoch 2: val_accuracy did not improve from 0.72421\n",
      "\u001b[1m3/3\u001b[0m \u001b[32m━━━━━━━━━━━━━━━━━━━━\u001b[0m\u001b[37m\u001b[0m \u001b[1m21s\u001b[0m 6s/step - accuracy: 0.7260 - loss: 8.0973 - val_accuracy: 0.7242 - val_loss: 2.8733 - learning_rate: 0.0010\n",
      "Epoch 3/10\n",
      "\u001b[1m3/3\u001b[0m \u001b[32m━━━━━━━━━━━━━━━━━━━━\u001b[0m\u001b[37m\u001b[0m \u001b[1m0s\u001b[0m 5s/step - accuracy: 0.7295 - loss: 2.7931\n",
      "Epoch 3: val_accuracy did not improve from 0.72421\n",
      "\u001b[1m3/3\u001b[0m \u001b[32m━━━━━━━━━━━━━━━━━━━━\u001b[0m\u001b[37m\u001b[0m \u001b[1m21s\u001b[0m 6s/step - accuracy: 0.7289 - loss: 2.7949 - val_accuracy: 0.7242 - val_loss: 2.6621 - learning_rate: 0.0010\n",
      "Epoch 4/10\n",
      "\u001b[1m3/3\u001b[0m \u001b[32m━━━━━━━━━━━━━━━━━━━━\u001b[0m\u001b[37m\u001b[0m \u001b[1m0s\u001b[0m 5s/step - accuracy: 0.7272 - loss: 2.6195\n",
      "Epoch 4: val_accuracy did not improve from 0.72421\n",
      "\u001b[1m3/3\u001b[0m \u001b[32m━━━━━━━━━━━━━━━━━━━━\u001b[0m\u001b[37m\u001b[0m \u001b[1m21s\u001b[0m 6s/step - accuracy: 0.7272 - loss: 2.6184 - val_accuracy: 0.7242 - val_loss: 2.5971 - learning_rate: 0.0010\n",
      "Epoch 5/10\n",
      "\u001b[1m3/3\u001b[0m \u001b[32m━━━━━━━━━━━━━━━━━━━━\u001b[0m\u001b[37m\u001b[0m \u001b[1m0s\u001b[0m 5s/step - accuracy: 0.7279 - loss: 2.5443\n",
      "Epoch 5: val_accuracy did not improve from 0.72421\n",
      "\u001b[1m3/3\u001b[0m \u001b[32m━━━━━━━━━━━━━━━━━━━━\u001b[0m\u001b[37m\u001b[0m \u001b[1m21s\u001b[0m 6s/step - accuracy: 0.7277 - loss: 2.5465 - val_accuracy: 0.7242 - val_loss: 2.5925 - learning_rate: 0.0010\n",
      "Epoch 6/10\n",
      "\u001b[1m3/3\u001b[0m \u001b[32m━━━━━━━━━━━━━━━━━━━━\u001b[0m\u001b[37m\u001b[0m \u001b[1m0s\u001b[0m 5s/step - accuracy: 0.7252 - loss: 2.5925\n",
      "Epoch 6: val_accuracy did not improve from 0.72421\n",
      "\u001b[1m3/3\u001b[0m \u001b[32m━━━━━━━━━━━━━━━━━━━━\u001b[0m\u001b[37m\u001b[0m \u001b[1m21s\u001b[0m 6s/step - accuracy: 0.7257 - loss: 2.5898 - val_accuracy: 0.7242 - val_loss: 2.6154 - learning_rate: 0.0010\n",
      "Epoch 7/10\n",
      "\u001b[1m3/3\u001b[0m \u001b[32m━━━━━━━━━━━━━━━━━━━━\u001b[0m\u001b[37m\u001b[0m \u001b[1m0s\u001b[0m 5s/step - accuracy: 0.7286 - loss: 2.5362\n",
      "Epoch 7: val_accuracy did not improve from 0.72421\n",
      "\u001b[1m3/3\u001b[0m \u001b[32m━━━━━━━━━━━━━━━━━━━━\u001b[0m\u001b[37m\u001b[0m \u001b[1m21s\u001b[0m 6s/step - accuracy: 0.7282 - loss: 2.5396 - val_accuracy: 0.7242 - val_loss: 2.5470 - learning_rate: 0.0010\n",
      "Epoch 8/10\n",
      "\u001b[1m3/3\u001b[0m \u001b[32m━━━━━━━━━━━━━━━━━━━━\u001b[0m\u001b[37m\u001b[0m \u001b[1m0s\u001b[0m 5s/step - accuracy: 0.7273 - loss: 2.5442\n",
      "Epoch 8: val_accuracy did not improve from 0.72421\n",
      "\u001b[1m3/3\u001b[0m \u001b[32m━━━━━━━━━━━━━━━━━━━━\u001b[0m\u001b[37m\u001b[0m \u001b[1m21s\u001b[0m 6s/step - accuracy: 0.7273 - loss: 2.5470 - val_accuracy: 0.7242 - val_loss: 2.7202 - learning_rate: 0.0010\n",
      "Epoch 9/10\n",
      "\u001b[1m3/3\u001b[0m \u001b[32m━━━━━━━━━━━━━━━━━━━━\u001b[0m\u001b[37m\u001b[0m \u001b[1m0s\u001b[0m 5s/step - accuracy: 0.7240 - loss: 2.6294\n",
      "Epoch 9: val_accuracy did not improve from 0.72421\n",
      "\u001b[1m3/3\u001b[0m \u001b[32m━━━━━━━━━━━━━━━━━━━━\u001b[0m\u001b[37m\u001b[0m \u001b[1m21s\u001b[0m 6s/step - accuracy: 0.7248 - loss: 2.6156 - val_accuracy: 0.7242 - val_loss: 2.4730 - learning_rate: 0.0010\n",
      "Epoch 10/10\n",
      "\u001b[1m3/3\u001b[0m \u001b[32m━━━━━━━━━━━━━━━━━━━━\u001b[0m\u001b[37m\u001b[0m \u001b[1m0s\u001b[0m 5s/step - accuracy: 0.7288 - loss: 2.4708\n",
      "Epoch 10: val_accuracy did not improve from 0.72421\n",
      "\u001b[1m3/3\u001b[0m \u001b[32m━━━━━━━━━━━━━━━━━━━━\u001b[0m\u001b[37m\u001b[0m \u001b[1m21s\u001b[0m 6s/step - accuracy: 0.7283 - loss: 2.4777 - val_accuracy: 0.7242 - val_loss: 2.6275 - learning_rate: 0.0010\n"
     ]
    }
   ],
   "source": [
    "history = model_translate_lstm.fit(X_train, Y_train, epochs = 10, batch_size = 512, validation_split = 0.3, callbacks = [es,rl,mc])"
   ]
  },
  {
   "cell_type": "code",
   "execution_count": 31,
   "id": "18HuFU99vot6",
   "metadata": {
    "id": "18HuFU99vot6"
   },
   "outputs": [
    {
     "data": {
      "image/png": "[encoded data removed]",
      "text/plain": [
       "<Figure size 1000x500 with 1 Axes>"
      ]
     },
     "metadata": {},
     "output_type": "display_data"
    }
   ],
   "source": [
    "import matplotlib.pyplot as plt\n",
    "plt.figure(figsize=(10,5))\n",
    "plt.plot(history.history['accuracy'],'r',label='train accuracy')\n",
    "plt.plot(history.history['val_accuracy'],'b',label='test accuracy')\n",
    "plt.xlabel('No. of Epochs')\n",
    "plt.ylabel('Accuracy')\n",
    "plt.title('Accuracy Graph')\n",
    "plt.legend();"
   ]
  },
  {
   "cell_type": "code",
   "execution_count": 32,
   "id": "5cb3dcca-55af-47f4-b925-a2f125d69ff1",
   "metadata": {},
   "outputs": [
    {
     "name": "stdout",
     "output_type": "stream",
     "text": [
      "\u001b[1m16/16\u001b[0m \u001b[32m━━━━━━━━━━━━━━━━━━━━\u001b[0m\u001b[37m\u001b[0m \u001b[1m3s\u001b[0m 179ms/step - accuracy: 0.7231 - loss: 2.6407\n"
     ]
    }
   ],
   "source": [
    "# Evaluating the model performance on test data\n",
    "\n",
    "results_translate = model_translate_lstm.evaluate(X_test, Y_test)"
   ]
  },
  {
   "cell_type": "code",
   "execution_count": 33,
   "id": "feb37e69-731e-4937-a98f-28abb23dc940",
   "metadata": {},
   "outputs": [
    {
     "name": "stdout",
     "output_type": "stream",
     "text": [
      "\u001b[1m48/48\u001b[0m \u001b[32m━━━━━━━━━━━━━━━━━━━━\u001b[0m\u001b[37m\u001b[0m \u001b[1m8s\u001b[0m 175ms/step - accuracy: 0.7315 - loss: 2.5301\n"
     ]
    }
   ],
   "source": [
    "# Evaluating the model performance on train data\n",
    "\n",
    "results_translate_train = model_translate_lstm.evaluate(X_train, Y_train)"
   ]
  },
  {
   "cell_type": "code",
   "execution_count": 34,
   "id": "3c32aa64-00a5-4d28-af5d-b03ed9fbb43c",
   "metadata": {},
   "outputs": [],
   "source": [
    "# Function to generate words from the index\n",
    "\n",
    "def logits_to_sentence(logits, tokenizer):\n",
    "\n",
    "    index_to_words = {idx: word for word, idx in tokenizer.word_index.items()}\n",
    "    index_to_words[0] = '<empty>' \n",
    "\n",
    "    return ' '.join([index_to_words[prediction] for prediction in np.argmax(logits, 1)])"
   ]
  },
  {
   "cell_type": "code",
   "execution_count": 37,
   "id": "ad9506b1-9f86-4de5-9fbc-c1fff47a1547",
   "metadata": {},
   "outputs": [
    {
     "name": "stdout",
     "output_type": "stream",
     "text": [
      "The english sentence is: START_ instead, he could be headed to the presidency. _END\n",
      "The german sentence is: START_ heute braucht die freiheit dieselbe art unnachgiebiger verteidigung. _END\n",
      "The predicted sentence is :\n",
      "\u001b[1m1/1\u001b[0m \u001b[32m━━━━━━━━━━━━━━━━━━━━\u001b[0m\u001b[37m\u001b[0m \u001b[1m0s\u001b[0m 18ms/step\n",
      "<empty> <empty> <empty> <empty> <empty> <empty> <empty> <empty> <empty> <empty> <empty> <empty> <empty> <empty> <empty> <empty> <empty> <empty> <empty> <empty> <empty> <empty> <empty> <empty> <empty> <empty> <empty> <empty> <empty> <empty> <empty> <empty> <empty> <empty> <empty> <empty> <empty> <empty> <empty> <empty> <empty> <empty> <empty> <empty> <empty> <empty> <empty> <empty> <empty> <empty> <empty> <empty> <empty> <empty> <empty> <empty> <empty> <empty> <empty> <empty> <empty> <empty> <empty> <empty> <empty> <empty> <empty> <empty> <empty> <empty> <empty> <empty> <empty> <empty> <empty> <empty> <empty> <empty> <empty> <empty> <empty> <empty> <empty> <empty> <empty> <empty> <empty>\n"
     ]
    }
   ],
   "source": [
    "# Making predictions using model on randomly selected X_test sample \n",
    "import numpy as np\n",
    "index = 10\n",
    "\n",
    "# Printing original sentences from both the languages\n",
    "\n",
    "print(\"The english sentence is: {}\".format(combined_dataset_sample.iloc[index]['English']))\n",
    "print(\"The german sentence is: {}\".format(combined_dataset_sample.iloc[index]['German']))\n",
    "\n",
    "# Printing predicted sentence\n",
    "\n",
    "print('The predicted sentence is :')\n",
    "\n",
    "print(logits_to_sentence(model_translate_lstm.predict(X_test[index:index+1])[0], ger_tokenizer))"
   ]
  },
  {
   "cell_type": "raw",
   "id": "da2cdfba-f467-4194-a21b-1c2d06e16e66",
   "metadata": {},
   "source": [
    "Observation:\n",
    "\n",
    "We have trained our basic LSTM model on 0.01% sample data as we have not infrastructure to process all the request.\n",
    "Our model is having 10523 output having softmax.\n",
    "Model is generating similar accuracies on training and test datasets so model is not over fitting.\n",
    "Model accuracy is improving after 2nd epoch.\n",
    "Model is unable to predict well."
   ]
  },
  {
   "cell_type": "code",
   "execution_count": null,
   "id": "ab62c6bd-ea5d-4bcc-a4dc-5e8a4e245c36",
   "metadata": {},
   "outputs": [],
   "source": []
  },
  {
   "cell_type": "code",
   "execution_count": null,
   "id": "DD360HKYrb-x",
   "metadata": {
    "id": "DD360HKYrb-x"
   },
   "outputs": [],
   "source": []
  }
 ],
 "metadata": {
  "colab": {
   "provenance": []
  },
  "kernelspec": {
   "display_name": "Python 3 (ipykernel)",
   "language": "python",
   "name": "python3"
  },
  "language_info": {
   "codemirror_mode": {
    "name": "ipython",
    "version": 3
   },
   "file_extension": ".py",
   "mimetype": "text/x-python",
   "name": "python",
   "nbconvert_exporter": "python",
   "pygments_lexer": "ipython3",
   "version": "3.11.9"
  }
 },
 "nbformat": 4,
 "nbformat_minor": 5
}
