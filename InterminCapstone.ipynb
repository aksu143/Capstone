{
  "nbformat": 4,
  "nbformat_minor": 0,
  "metadata": {
    "colab": {
      "provenance": [],
      "gpuType": "V28"
    },
    "kernelspec": {
      "name": "python3",
      "display_name": "Python 3"
    },
    "language_info": {
      "name": "python"
    },
    "accelerator": "TPU"
  },
  "cells": [
    {
      "cell_type": "code",
      "execution_count": 4,
      "metadata": {
        "colab": {
          "base_uri": "https://localhost:8080/"
        },
        "id": "G4oTXykVCRsK",
        "outputId": "a7047e07-32fa-48eb-e448-e29e834ce34f"
      },
      "outputs": [
        {
          "output_type": "stream",
          "name": "stdout",
          "text": [
            "Drive already mounted at /content/drive; to attempt to forcibly remount, call drive.mount(\"/content/drive\", force_remount=True).\n"
          ]
        }
      ],
      "source": [
        "from google.colab import drive\n",
        "drive.mount('/content/drive')"
      ]
    },
    {
      "cell_type": "code",
      "source": [
        "import re\n",
        "import string\n",
        "import pickle\n",
        "import random\n",
        "import tarfile\n",
        "import os\n",
        "import gc\n",
        "import numpy as np\n",
        "import pandas as pd\n",
        "import seaborn as sns\n",
        "import matplotlib.pyplot as plt\n",
        "from sklearn.model_selection import train_test_split\n",
        "from tensorflow.keras.preprocessing.sequence import pad_sequences\n",
        "from tensorflow.keras.preprocessing.text import Tokenizer\n",
        "from tensorflow.keras.layers import Flatten, Embedding, LSTM, TimeDistributed, Input, SimpleRNN, Bidirectional, Dense, RepeatVector, Concatenate, Attention, Dot, Activation\n",
        "from tensorflow.keras.models import Model, Sequential, load_model, save_model\n",
        "from tensorflow.keras.losses import sparse_categorical_crossentropy\n",
        "from tensorflow.keras.optimizers import Adam\n",
        "from tensorflow.keras.callbacks import EarlyStopping, ModelCheckpoint"
      ],
      "metadata": {
        "id": "m9hyeBD6CZ-6"
      },
      "execution_count": 5,
      "outputs": []
    },
    {
      "cell_type": "code",
      "source": [
        "training_dir = '/content/drive/MyDrive/capstone/'\n",
        "\n",
        "# Load the datasets into pandas DataFrames\n",
        "europarl_de = os.path.join(training_dir, 'europarl-v7.de-en.de')\n",
        "europarl_en = os.path.join(training_dir, 'europarl-v7.de-en.en')\n",
        "commoncrawl_de = os.path.join(training_dir, 'commoncrawl.de-en.de')\n",
        "commoncrawl_en = os.path.join(training_dir, 'commoncrawl.de-en.en')"
      ],
      "metadata": {
        "id": "Z-bZbg-VNxFW"
      },
      "execution_count": 6,
      "outputs": []
    },
    {
      "cell_type": "code",
      "source": [
        "def load_dataset(de_path, en_path):\n",
        "    with open(de_path, 'r', encoding='utf-8') as de_file, open(en_path, 'r', encoding='utf-8') as en_file:\n",
        "        de_sentences = de_file.readlines()\n",
        "        en_sentences = en_file.readlines()\n",
        "\n",
        "    # Check if lengths match\n",
        "    if len(de_sentences) != len(en_sentences):\n",
        "        print(f\"Length mismatch: {de_path} ({len(de_sentences)}) and {en_path} ({len(en_sentences)})\")\n",
        "        # Truncate to the shorter length\n",
        "        min_length = min(len(de_sentences), len(en_sentences))\n",
        "        de_sentences = de_sentences[:min_length]\n",
        "        en_sentences = en_sentences[:min_length]\n",
        "\n",
        "    return pd.DataFrame({'German': de_sentences, 'English': en_sentences})\n",
        "\n",
        "# Load datasets\n",
        "europarl = load_dataset(europarl_de, europarl_en)\n",
        "commoncrawl = load_dataset(commoncrawl_de, commoncrawl_en)"
      ],
      "metadata": {
        "id": "AktpSCi3N64m"
      },
      "execution_count": 7,
      "outputs": []
    },
    {
      "cell_type": "code",
      "source": [
        "#Print the shape of each dataset\n",
        "print(\"Shape of Europarl German dataset :\",europarl.shape)"
      ],
      "metadata": {
        "colab": {
          "base_uri": "https://localhost:8080/"
        },
        "id": "3Oon0-rEOGUO",
        "outputId": "d5dc23a1-6367-4089-fa75-96f469ad5210"
      },
      "execution_count": 8,
      "outputs": [
        {
          "output_type": "stream",
          "name": "stdout",
          "text": [
            "Shape of Europarl German dataset : (1920209, 2)\n"
          ]
        }
      ]
    },
    {
      "cell_type": "code",
      "source": [
        "print(\"Shape of CommonCarl German dataset :\",commoncrawl.shape)"
      ],
      "metadata": {
        "colab": {
          "base_uri": "https://localhost:8080/"
        },
        "id": "nTR64N00OONe",
        "outputId": "9c19384f-47c0-42f4-d1c3-a26bf44c952d"
      },
      "execution_count": 9,
      "outputs": [
        {
          "output_type": "stream",
          "name": "stdout",
          "text": [
            "Shape of CommonCarl German dataset : (2399123, 2)\n"
          ]
        }
      ]
    },
    {
      "cell_type": "code",
      "source": [
        "# Merge the datasets\n",
        "df = pd.concat([europarl, commoncrawl], ignore_index=True)\n",
        "\n",
        "# Display the number of sentences\n",
        "print(f\"Total number of sentences in the dataset: {len(df)}\")"
      ],
      "metadata": {
        "colab": {
          "base_uri": "https://localhost:8080/"
        },
        "id": "t0BoyjJ9OOzN",
        "outputId": "25bf719a-07ab-480a-c91a-6f020391bc12"
      },
      "execution_count": 10,
      "outputs": [
        {
          "output_type": "stream",
          "name": "stdout",
          "text": [
            "Total number of sentences in the dataset: 4319332\n"
          ]
        }
      ]
    },
    {
      "cell_type": "code",
      "source": [
        "# Display entire dataframe\n",
        "pd.set_option('display.max_colwidth', None)  # Display full contents of each column without truncation\n",
        "pd.set_option('display.max_rows', None)      # Display all rows"
      ],
      "metadata": {
        "id": "W0VnSL8POZW1"
      },
      "execution_count": 11,
      "outputs": []
    },
    {
      "cell_type": "code",
      "source": [
        "df.head(50)"
      ],
      "metadata": {
        "colab": {
          "base_uri": "https://localhost:8080/",
          "height": 1000
        },
        "id": "MD15fxLgObEV",
        "outputId": "501040dd-c75b-4610-ef17-555a7cafa3c4"
      },
      "execution_count": 12,
      "outputs": [
        {
          "output_type": "execute_result",
          "data": {
            "text/plain": [
              "                                                                                                                                                                                                                                                                                                                                                                                                                          German  \\\n",
              "0                                                                                                                                                                                                                                                                                                                                                                                           Wiederaufnahme der Sitzungsperiode\\n   \n",
              "1                                                                                                                                                                                                   Ich erkläre die am Freitag, dem 17. Dezember unterbrochene Sitzungsperiode des Europäischen Parlaments für wiederaufgenommen, wünsche Ihnen nochmals alles Gute zum Jahreswechsel und hoffe, daß Sie schöne Ferien hatten.\\n   \n",
              "2                                                                                                                                                                                                                                    Wie Sie feststellen konnten, ist der gefürchtete \"Millenium-Bug \" nicht eingetreten. Doch sind Bürger einiger unserer Mitgliedstaaten Opfer von schrecklichen Naturkatastrophen geworden.\\n   \n",
              "3                                                                                                                                                                                                                                                                                                               Im Parlament besteht der Wunsch nach einer Aussprache im Verlauf dieser Sitzungsperiode in den nächsten Tagen.\\n   \n",
              "4                                                                                                                                                                                                    Heute möchte ich Sie bitten - das ist auch der Wunsch einiger Kolleginnen und Kollegen -, allen Opfern der Stürme, insbesondere in den verschiedenen Ländern der Europäischen Union, in einer Schweigeminute zu gedenken.\\n   \n",
              "5                                                                                                                                                                                                                                                                                                                                                                      Ich bitte Sie, sich zu einer Schweigeminute zu erheben.\\n   \n",
              "6                                                                                                                                                                                                                                                                                                                                                                         (Das Parlament erhebt sich zu einer Schweigeminute.)\\n   \n",
              "7                                                                                                                                                                                                                                                                                                                                                                                      Frau Präsidentin, zur Geschäftsordnung.\\n   \n",
              "8                                                                                                                                                                                                                                                                                                 Wie Sie sicher aus der Presse und dem Fernsehen wissen, gab es in Sri Lanka mehrere Bombenexplosionen mit zahlreichen Toten.\\n   \n",
              "9                                                                                                                                                                                                                     Zu den Attentatsopfern, die es in jüngster Zeit in Sri Lanka zu beklagen gab, zählt auch Herr Kumar Ponnambalam, der dem Europäischen Parlament erst vor wenigen Monaten einen Besuch abgestattet hatte.\\n   \n",
              "10                                                       Wäre es angemessen, wenn Sie, Frau Präsidentin, der Präsidentin von Sri Lanka in einem Schreiben das Bedauern des Parlaments zum gewaltsamen Tod von Herrn Ponnambalam und anderen Bürgern von Sri Lanka übermitteln und sie auffordern würden, alles in ihrem Kräften stehende zu tun, um nach einer friedlichen Lösung dieser sehr schwierigen Situation zu suchen?\\n   \n",
              "11                                                                                                                                                                                                                                                                                                                                           Ja, Herr Evans, ich denke, daß eine derartige Initiative durchaus angebracht ist.\\n   \n",
              "12                                                                                                                                                                                                                                                                                                                                      Wenn das Haus damit einverstanden ist, werde ich dem Vorschlag von Herrn Evans folgen.\\n   \n",
              "13                                                                                                                                                                                                                                                                                                                                                                                     Frau Präsidentin, zur Geschäftsordnung.\\n   \n",
              "14                                                                                                                                                                                                                                                                                                                                  Könnten Sie mir eine Auskunft zu Artikel 143 im Zusammenhang mit der Unzulässigkeit geben?\\n   \n",
              "15                                                                                                                                                                                                                                                                                             Meine Frage betrifft eine Angelegenheit, die am Donnerstag zur Sprache kommen wird und auf die ich dann erneut verweisen werde.\\n   \n",
              "16                                                                                                                                                        Das Parlament wird sich am Donnerstag mit dem Cunha-Bericht über mehrjährige Ausrichtungsprogramme befassen, der in Absatz 6 vorschlägt, daß Länder, die ihr Soll zur Flottenverkleinerung nicht erfüllen, jährlich mit einer Art Quotenstrafe belegt werden sollen.\\n   \n",
              "17                                                                                                                                                                                                                                                                                                                           Und zwar sollen derartige Strafen trotz des Grundsatzes der relativen Stabilität verhängt werden.\\n   \n",
              "18                                                                                                                                                                                                                     Ich meine, daß der Grundsatz der relativen Stabilität einen elementaren Rechtsgrundsatz der gemeinsamen Fischereipolitik darstellt und ein Vorschlag, diesen zu unterlaufen, rechtlich unzulässig wäre.\\n   \n",
              "19                                                                                                                                                                                                     Ich möchte wissen, ob es möglich ist, einen Einwand gegen ein Dokument zu erheben, bei dem es sich lediglich um einen Bericht und keinen Legislativvorschlag handelt, und ob ich befugt bin, dies am Donnerstag zu tun.\\n   \n",
              "20                                                                                                                                                                                                                                                                                              Genau dann können Sie, wenn Sie wollen, diese Frage ansprechen, d. h. am Donnerstag zu Beginn der Aussprache über den Bericht.\\n   \n",
              "21                                                                                                                                                                                                                                                                                                                                                                                                           Frau Präsidentin!\\n   \n",
              "22                                                                                                                                                        Die erste diesjährige Tagung des Europäischen Parlaments fällt leider damit zusammen, daß in den Vereinigten Staaten, in Texas, für Donnerstag dieser Woche die Hinrichtung eines zum Tode verurteilten 34jährigen jungen Mannes namens Hicks festgelegt worden ist.\\n   \n",
              "23                                                                                                                                                                                                                                                            Auf Wunsch eines französischen Mitglieds, Herrn Zimeray, wurde bereits eine Petition eingereicht, die von vielen, auch von mir selbst, unterzeichnet worden ist.\\n   \n",
              "24  Gemäß der vom Europäischen Parlament und von der gesamten Europäischen Union nunmehr ständig vertretenen Linie möchte ich Sie jedoch bitten, den ganzen Einfluß Ihres Amtes und der Institution, die Sie vertreten, bei dem Präsidentschaftskandidaten und Gouverneur von Texas, George W. Bush, der zur Aussetzung der Vollstreckung des Todesurteils und zur Begnadigung des Verurteilten befugt ist, geltend zu machen.\\n   \n",
              "25                                                                                                                                                                                                                                                                                                                                                        All dies entspricht den Grundsätzen, die wir stets verteidigt haben.\\n   \n",
              "26                                                                                                                                                                                                                                                                                                                                                                            Vielen Dank, Herr Segni, das will ich gerne tun.\\n   \n",
              "27                                                                                                                                                                                                                                                                                                                                            Das ist ganz im Sinne der Position, die wir als Parlament immer vertreten haben.\\n   \n",
              "28                                                                                                                                                                                                                                                                                                   Frau Präsidentin! Ich möchte Sie auf einen Fall aufmerksam machen, mit dem sich dieses Parlament immer wieder befaßt hat.\\n   \n",
              "29                                                                                                                                                                                                                                                                                                                                                                                     Das ist der Fall von Alexander Nikitin.\\n   \n",
              "30                                                                                                                                                                                                                                                   Wir freuen uns hier alle, daß das Gericht ihn freigesprochen und deutlich gemacht hat, daß auch in Rußland der Zugang zu Umweltinformationen konstitutionelles Recht ist.\\n   \n",
              "31                                                                                                                                                                                                                                                                                                                            Nun ist es aber so, daß er wieder angeklagt werden soll, weil der Staatsanwalt in Berufung geht.\\n   \n",
              "32                                                                           Wir wissen und wir haben es in wirklich sehr vielen Entschließungen festgestellt - gerade während der letzten Plenartagung des vergangenen Jahres-, daß dies nicht nur ein juristischer Fall ist und daß es falsch ist, Alexander Nikitin Kriminalität und Verrat vorzuwerfen, weil wir als Betroffene von seinen Ergebnissen einen Nutzen haben.\\n   \n",
              "33                                                                                                                                 Diese Ergebnisse sind die Grundlage für die europäischen Programme zum Schutz der Barentsee, und deswegen bitte ich Sie, einen Briefentwurf, der Ihnen die wichtigsten Fakten schildert, zu prüfen und im Sinne der Beschlüsse des Parlaments in Rußland diese Position deutlich zu machen.\\n   \n",
              "34                                                                                                                                                                                                                                                                                                           Frau Schroedter, ich bin gerne bereit, die damit zusammenhängenden Fakten zu prüfen, wenn mir Ihr Brief vorliegt.\\n   \n",
              "35                                                                                                                                                                                                         Frau Präsidentin, zunächst besten Dank dafür, daß Sie Wort gehalten haben und nun in der ersten Sitzungsperiode des neuen Jahres das Angebot an Fernsehprogrammen in unseren Büros tatsächlich enorm erweitert ist.\\n   \n",
              "36                                                                                                                                                                                                                                                                                                                                                           Dennoch, Frau Präsidentin, wurde meinem Wunsch nicht entsprochen.\\n   \n",
              "37                                                                                                     Zwar können wir jetzt zwei finnische und einen portugiesischen, nach wie vor aber keinen niederländischen Sender empfangen. Ich hatte Sie aber um ein niederländisches Programm gebeten, denn auch wir Niederländer möchten die Nachrichten verfolgen, wenn wir jeden Monat hierher in die Verbannung geschickt werden.\\n   \n",
              "38                                                                                                                                                                                                                                                                                                     Deshalb möchte ich Sie nochmals ersuchen, dafür Sorge zu tragen, daß auch ein niederländischer Sender eingespeist wird.\\n   \n",
              "39                                                                                                                                                                                                                                                                                                    Frau Plooij-van Gorsel, ich kann Ihnen mitteilen, daß dieser Punkt am Mittwoch auf der Tagesordnung der Quästoren steht.\\n   \n",
              "40                                                                                                                                                                                                                                                                                                                                                                        Ich hoffe, daß dort in Ihrem Sinne entschieden wird.\\n   \n",
              "41                                                                                                                                                                                                                                                                             Frau Präsidentin, können Sie mir sagen, warum sich dieses Parlament nicht an die Arbeitsschutzregelungen hält, die es selbst verabschiedet hat?\\n   \n",
              "42                                                                                                                                                                                                                                                                                                                        Weshalb wurde die Luftqualität in diesem Gebäude seit unserer Wahl nicht ein einziges Mal überprüft?\\n   \n",
              "43                                                                                                                                                                                                                                                                                                                                    Weshalb ist der Arbeitsschutzausschuß seit 1998 nicht ein einziges Mal zusammengetreten?\\n   \n",
              "44                                                                                                                                                                                                                                                                                                                     Warum hat weder im Brüsseler noch im Straßburger Parlamentsgebäude eine Brandschutzübung stattgefunden?\\n   \n",
              "45                                                                                                                                                                                                                                                                                                                                                                            Warum finden keine Brandschutzbelehrungen statt?\\n   \n",
              "46                                                                                                                                                                                                                                                                                                                                       Warum wurde nach meinem Unfall nichts unternommen, um die Treppen sicherer zu machen?\\n   \n",
              "47                                                                                                                                                                                                                                                                                                                                                     Warum wird in den Nichtraucherzonen das Rauchverbot nicht durchgesetzt?\\n   \n",
              "48                                                                                                                                                                                                                                                                                                                                 Es ist eine Schande, daß wir Regeln verabschieden, an die wir uns dann selbst nicht halten.\\n   \n",
              "49                                                                                                                                                                                                                                                                                                                                      Frau Lynne, Sie haben völlig recht, und ich werde prüfen, ob all dies wirklich so ist.\\n   \n",
              "\n",
              "                                                                                                                                                                                                                                                                                                                                                                                                                 English  \n",
              "0                                                                                                                                                                                                                                                                                                                                                                                            Resumption of the session\\n  \n",
              "1                                                                                                                                                                                                      I declare resumed the session of the European Parliament adjourned on Friday 17 December 1999, and I would like once again to wish you a happy new year in the hope that you enjoyed a pleasant festive period.\\n  \n",
              "2                                                                                                                                                                                                                      Although, as you will have seen, the dreaded 'millennium bug' failed to materialise, still the people in a number of countries suffered a series of natural disasters that truly were dreadful.\\n  \n",
              "3                                                                                                                                                                                                                                                                                                            You have requested a debate on this subject in the course of the next few days, during this part-session.\\n  \n",
              "4                                                                                                                                                                             In the meantime, I should like to observe a minute' s silence, as a number of Members have requested, on behalf of all the victims concerned, particularly those of the terrible storms, in the various countries of the European Union.\\n  \n",
              "5                                                                                                                                                                                                                                                                                                                                                                       Please rise, then, for this minute' s silence.\\n  \n",
              "6                                                                                                                                                                                                                                                                                                                                                                    (The House rose and observed a minute' s silence)\\n  \n",
              "7                                                                                                                                                                                                                                                                                                                                                                                Madam President, on a point of order.\\n  \n",
              "8                                                                                                                                                                                                                                                                                          You will be aware from the press and television that there have been a number of bomb explosions and killings in Sri Lanka.\\n  \n",
              "9                                                                                                                                                                                                                                                                   One of the people assassinated very recently in Sri Lanka was Mr Kumar Ponnambalam, who had visited the European Parliament just a few months ago.\\n  \n",
              "10                                                                                                                   Would it be appropriate for you, Madam President, to write a letter to the Sri Lankan President expressing Parliament's regret at his and the other violent deaths in Sri Lanka and urging her to do everything she possibly can to seek a peaceful reconciliation to a very difficult situation?\\n  \n",
              "11                                                                                                                                                                                                                                                                                                              Yes, Mr Evans, I feel an initiative of the type you have just suggested would be entirely appropriate.\\n  \n",
              "12                                                                                                                                                                                                                                                                                                                                                          If the House agrees, I shall do as Mr Evans has suggested.\\n  \n",
              "13                                                                                                                                                                                                                                                                                                                                                                               Madam President, on a point of order.\\n  \n",
              "14                                                                                                                                                                                                                                                                                                                                                 I would like your advice about Rule 143 concerning inadmissibility.\\n  \n",
              "15                                                                                                                                                                                                                                                                                                                   My question relates to something that will come up on Thursday and which I will then raise again.\\n  \n",
              "16                                                                                                                                                         The Cunha report on multiannual guidance programmes comes before Parliament on Thursday and contains a proposal in paragraph 6 that a form of quota penalties should be introduced for countries which fail to meet their fleet reduction targets annually.\\n  \n",
              "17                                                                                                                                                                                                                                                                                                                                       It says that this should be done despite the principle of relative stability.\\n  \n",
              "18                                                                                                                                                                                                                                      I believe that the principle of relative stability is a fundamental legal principle of the common fisheries policy and a proposal to subvert it would be legally inadmissible.\\n  \n",
              "19                                                                                                                                                                                                                              I want to know whether one can raise an objection of that kind to what is merely a report, not a legislative proposal, and whether that is something I can competently do on Thursday.\\n  \n",
              "20                                                                                                                                                                                                                                                                   That is precisely the time when you may, if you wish, raise this question, i.e. on Thursday prior to the start of the presentation of the report.\\n  \n",
              "21                                                                                                                                                                                                                                                                                                                                                                                                                    \\n  \n",
              "22                                                                                                                                   Madam President, coinciding with this year' s first part-session of the European Parliament, a date has been set, unfortunately for next Thursday, in Texas in America, for the execution of a young 34 year-old man who has been sentenced to death. We shall call him Mr Hicks.\\n  \n",
              "23                                                                                                                                                                                                                                                                                   At the request of a French Member, Mr Zimeray, a petition has already been presented, which many people signed, including myself.\\n  \n",
              "24  However, I would ask you, in accordance with the line which is now constantly followed by the European Parliament and by the whole of the European Community, to make representations, using the weight of your prestigious office and the institution you represent, to the President and to the Governor of Texas, Mr Bush, who has the power to order a stay of execution and to reprieve the condemned person.\\n  \n",
              "25                                                                                                                                                                                                                                                                                                                                           This is all in accordance with the principles that we have always upheld.\\n  \n",
              "26                                                                                                                                                                                                                                                                                                                                                                          Thank you, Mr Segni, I shall do so gladly.\\n  \n",
              "27                                                                                                                                                                                                                                                                                                                                    Indeed, it is quite in keeping with the positions this House has always adopted.\\n  \n",
              "28                                                                                                                                                                                                                                                                                        Madam President, I should like to draw your attention to a case in which this Parliament has consistently shown an interest.\\n  \n",
              "29                                                                                                                                                                                                                                                                                                                                                                                It is the case of Alexander Nikitin.\\n  \n",
              "30                                                                                                                                                                                                                                                 All of us here are pleased that the courts have acquitted him and made it clear that in Russia, too, access to environmental information is a constitutional right.\\n  \n",
              "31                                                                                                                                                                                                                                                                                                                   Now, however, he is to go before the courts once more because the public prosecutor is appealing.\\n  \n",
              "32                                                                      We know, and we have stated as much in very many resolutions indeed, including specifically during the last plenary part-session of last year, that this is not solely a legal case and that it is wrong for Alexander Nikitin to be accused of criminal activity and treason because of our involvement as the beneficiaries of his findings.\\n  \n",
              "33                                                                                                   These findings form the basis of the European programmes to protect the Barents Sea, and that is why I would ask you to examine a draft letter setting out the most important facts and to make Parliament's position, as expressed in the resolutions which it has adopted, clear as far as Russia is concerned.\\n  \n",
              "34                                                                                                                                                                                                                                                                                                       Yes, Mrs Schroedter, I shall be pleased to look into the facts of this case when I have received your letter.\\n  \n",
              "35                                                                                                                                                                      Madam President, I would firstly like to compliment you on the fact that you have kept your word and that, during this first part-session of the new year, the number of television channels in our offices has indeed increased considerably.\\n  \n",
              "36                                                                                                                                                                                                                                                                                                                                                         But, Madam President, my personal request has not been met.\\n  \n",
              "37                                                                                                                                                            Although there are now two Finnish channels and one Portuguese one, there is still no Dutch channel, which is what I had requested because Dutch people here like to be able to follow the news too when we are sent to this place of exile every month.\\n  \n",
              "38                                                                                                                                                                                                                                                                                                                                  I would therefore once more ask you to ensure that we get a Dutch channel as well.\\n  \n",
              "39                                                                                                                                                                                                                                                                                                    Mrs Plooij-van Gorsel, I can tell you that this matter is on the agenda for the Quaestors' meeting on Wednesday.\\n  \n",
              "40                                                                                                                                                                                                                                                                                                                                                                   It will, I hope, be examined in a positive light.\\n  \n",
              "41                                                                                                                                                                                                                                                                                  Madam President, can you tell me why this Parliament does not adhere to the health and safety legislation that it actually passes?\\n  \n",
              "42                                                                                                                                                                                                                                                                                                                            Why has no air quality test been done on this particular building since we were elected?\\n  \n",
              "43                                                                                                                                                                                                                                                                                                                                               Why has there been no Health and Safety Committee meeting since 1998?\\n  \n",
              "44                                                                                                                                                                                                                                                                                               Why has there been no fire drill, either in the Brussels Parliament buildings or the Strasbourg Parliament buildings?\\n  \n",
              "45                                                                                                                                                                                                                                                                                                                                                                                 Why are there no fire instructions?\\n  \n",
              "46                                                                                                                                                                                                                                                                                                                                                        Why have the staircases not been improved since my accident?\\n  \n",
              "47                                                                                                                                                                                                                                                                                                                                                                              Why are no-smoking areas not enforced?\\n  \n",
              "48                                                                                                                                                                                                                                                                                                                         It seems absolutely disgraceful that we pass legislation and do not adhere to it ourselves.\\n  \n",
              "49                                                                                                                                                                                                                                                                                                                           Mrs Lynne, you are quite right and I shall check whether this has actually not been done.\\n  "
            ],
            "text/html": [
              "\n",
              "  <div id=\"df-52037ee4-9d8f-45e8-8685-d00a8f00b23e\" class=\"colab-df-container\">\n",
              "    <div>\n",
              "<style scoped>\n",
              "    .dataframe tbody tr th:only-of-type {\n",
              "        vertical-align: middle;\n",
              "    }\n",
              "\n",
              "    .dataframe tbody tr th {\n",
              "        vertical-align: top;\n",
              "    }\n",
              "\n",
              "    .dataframe thead th {\n",
              "        text-align: right;\n",
              "    }\n",
              "</style>\n",
              "<table border=\"1\" class=\"dataframe\">\n",
              "  <thead>\n",
              "    <tr style=\"text-align: right;\">\n",
              "      <th></th>\n",
              "      <th>German</th>\n",
              "      <th>English</th>\n",
              "    </tr>\n",
              "  </thead>\n",
              "  <tbody>\n",
              "    <tr>\n",
              "      <th>0</th>\n",
              "      <td>Wiederaufnahme der Sitzungsperiode\\n</td>\n",
              "      <td>Resumption of the session\\n</td>\n",
              "    </tr>\n",
              "    <tr>\n",
              "      <th>1</th>\n",
              "      <td>Ich erkläre die am Freitag, dem 17. Dezember unterbrochene Sitzungsperiode des Europäischen Parlaments für wiederaufgenommen, wünsche Ihnen nochmals alles Gute zum Jahreswechsel und hoffe, daß Sie schöne Ferien hatten.\\n</td>\n",
              "      <td>I declare resumed the session of the European Parliament adjourned on Friday 17 December 1999, and I would like once again to wish you a happy new year in the hope that you enjoyed a pleasant festive period.\\n</td>\n",
              "    </tr>\n",
              "    <tr>\n",
              "      <th>2</th>\n",
              "      <td>Wie Sie feststellen konnten, ist der gefürchtete \"Millenium-Bug \" nicht eingetreten. Doch sind Bürger einiger unserer Mitgliedstaaten Opfer von schrecklichen Naturkatastrophen geworden.\\n</td>\n",
              "      <td>Although, as you will have seen, the dreaded 'millennium bug' failed to materialise, still the people in a number of countries suffered a series of natural disasters that truly were dreadful.\\n</td>\n",
              "    </tr>\n",
              "    <tr>\n",
              "      <th>3</th>\n",
              "      <td>Im Parlament besteht der Wunsch nach einer Aussprache im Verlauf dieser Sitzungsperiode in den nächsten Tagen.\\n</td>\n",
              "      <td>You have requested a debate on this subject in the course of the next few days, during this part-session.\\n</td>\n",
              "    </tr>\n",
              "    <tr>\n",
              "      <th>4</th>\n",
              "      <td>Heute möchte ich Sie bitten - das ist auch der Wunsch einiger Kolleginnen und Kollegen -, allen Opfern der Stürme, insbesondere in den verschiedenen Ländern der Europäischen Union, in einer Schweigeminute zu gedenken.\\n</td>\n",
              "      <td>In the meantime, I should like to observe a minute' s silence, as a number of Members have requested, on behalf of all the victims concerned, particularly those of the terrible storms, in the various countries of the European Union.\\n</td>\n",
              "    </tr>\n",
              "    <tr>\n",
              "      <th>5</th>\n",
              "      <td>Ich bitte Sie, sich zu einer Schweigeminute zu erheben.\\n</td>\n",
              "      <td>Please rise, then, for this minute' s silence.\\n</td>\n",
              "    </tr>\n",
              "    <tr>\n",
              "      <th>6</th>\n",
              "      <td>(Das Parlament erhebt sich zu einer Schweigeminute.)\\n</td>\n",
              "      <td>(The House rose and observed a minute' s silence)\\n</td>\n",
              "    </tr>\n",
              "    <tr>\n",
              "      <th>7</th>\n",
              "      <td>Frau Präsidentin, zur Geschäftsordnung.\\n</td>\n",
              "      <td>Madam President, on a point of order.\\n</td>\n",
              "    </tr>\n",
              "    <tr>\n",
              "      <th>8</th>\n",
              "      <td>Wie Sie sicher aus der Presse und dem Fernsehen wissen, gab es in Sri Lanka mehrere Bombenexplosionen mit zahlreichen Toten.\\n</td>\n",
              "      <td>You will be aware from the press and television that there have been a number of bomb explosions and killings in Sri Lanka.\\n</td>\n",
              "    </tr>\n",
              "    <tr>\n",
              "      <th>9</th>\n",
              "      <td>Zu den Attentatsopfern, die es in jüngster Zeit in Sri Lanka zu beklagen gab, zählt auch Herr Kumar Ponnambalam, der dem Europäischen Parlament erst vor wenigen Monaten einen Besuch abgestattet hatte.\\n</td>\n",
              "      <td>One of the people assassinated very recently in Sri Lanka was Mr Kumar Ponnambalam, who had visited the European Parliament just a few months ago.\\n</td>\n",
              "    </tr>\n",
              "    <tr>\n",
              "      <th>10</th>\n",
              "      <td>Wäre es angemessen, wenn Sie, Frau Präsidentin, der Präsidentin von Sri Lanka in einem Schreiben das Bedauern des Parlaments zum gewaltsamen Tod von Herrn Ponnambalam und anderen Bürgern von Sri Lanka übermitteln und sie auffordern würden, alles in ihrem Kräften stehende zu tun, um nach einer friedlichen Lösung dieser sehr schwierigen Situation zu suchen?\\n</td>\n",
              "      <td>Would it be appropriate for you, Madam President, to write a letter to the Sri Lankan President expressing Parliament's regret at his and the other violent deaths in Sri Lanka and urging her to do everything she possibly can to seek a peaceful reconciliation to a very difficult situation?\\n</td>\n",
              "    </tr>\n",
              "    <tr>\n",
              "      <th>11</th>\n",
              "      <td>Ja, Herr Evans, ich denke, daß eine derartige Initiative durchaus angebracht ist.\\n</td>\n",
              "      <td>Yes, Mr Evans, I feel an initiative of the type you have just suggested would be entirely appropriate.\\n</td>\n",
              "    </tr>\n",
              "    <tr>\n",
              "      <th>12</th>\n",
              "      <td>Wenn das Haus damit einverstanden ist, werde ich dem Vorschlag von Herrn Evans folgen.\\n</td>\n",
              "      <td>If the House agrees, I shall do as Mr Evans has suggested.\\n</td>\n",
              "    </tr>\n",
              "    <tr>\n",
              "      <th>13</th>\n",
              "      <td>Frau Präsidentin, zur Geschäftsordnung.\\n</td>\n",
              "      <td>Madam President, on a point of order.\\n</td>\n",
              "    </tr>\n",
              "    <tr>\n",
              "      <th>14</th>\n",
              "      <td>Könnten Sie mir eine Auskunft zu Artikel 143 im Zusammenhang mit der Unzulässigkeit geben?\\n</td>\n",
              "      <td>I would like your advice about Rule 143 concerning inadmissibility.\\n</td>\n",
              "    </tr>\n",
              "    <tr>\n",
              "      <th>15</th>\n",
              "      <td>Meine Frage betrifft eine Angelegenheit, die am Donnerstag zur Sprache kommen wird und auf die ich dann erneut verweisen werde.\\n</td>\n",
              "      <td>My question relates to something that will come up on Thursday and which I will then raise again.\\n</td>\n",
              "    </tr>\n",
              "    <tr>\n",
              "      <th>16</th>\n",
              "      <td>Das Parlament wird sich am Donnerstag mit dem Cunha-Bericht über mehrjährige Ausrichtungsprogramme befassen, der in Absatz 6 vorschlägt, daß Länder, die ihr Soll zur Flottenverkleinerung nicht erfüllen, jährlich mit einer Art Quotenstrafe belegt werden sollen.\\n</td>\n",
              "      <td>The Cunha report on multiannual guidance programmes comes before Parliament on Thursday and contains a proposal in paragraph 6 that a form of quota penalties should be introduced for countries which fail to meet their fleet reduction targets annually.\\n</td>\n",
              "    </tr>\n",
              "    <tr>\n",
              "      <th>17</th>\n",
              "      <td>Und zwar sollen derartige Strafen trotz des Grundsatzes der relativen Stabilität verhängt werden.\\n</td>\n",
              "      <td>It says that this should be done despite the principle of relative stability.\\n</td>\n",
              "    </tr>\n",
              "    <tr>\n",
              "      <th>18</th>\n",
              "      <td>Ich meine, daß der Grundsatz der relativen Stabilität einen elementaren Rechtsgrundsatz der gemeinsamen Fischereipolitik darstellt und ein Vorschlag, diesen zu unterlaufen, rechtlich unzulässig wäre.\\n</td>\n",
              "      <td>I believe that the principle of relative stability is a fundamental legal principle of the common fisheries policy and a proposal to subvert it would be legally inadmissible.\\n</td>\n",
              "    </tr>\n",
              "    <tr>\n",
              "      <th>19</th>\n",
              "      <td>Ich möchte wissen, ob es möglich ist, einen Einwand gegen ein Dokument zu erheben, bei dem es sich lediglich um einen Bericht und keinen Legislativvorschlag handelt, und ob ich befugt bin, dies am Donnerstag zu tun.\\n</td>\n",
              "      <td>I want to know whether one can raise an objection of that kind to what is merely a report, not a legislative proposal, and whether that is something I can competently do on Thursday.\\n</td>\n",
              "    </tr>\n",
              "    <tr>\n",
              "      <th>20</th>\n",
              "      <td>Genau dann können Sie, wenn Sie wollen, diese Frage ansprechen, d. h. am Donnerstag zu Beginn der Aussprache über den Bericht.\\n</td>\n",
              "      <td>That is precisely the time when you may, if you wish, raise this question, i.e. on Thursday prior to the start of the presentation of the report.\\n</td>\n",
              "    </tr>\n",
              "    <tr>\n",
              "      <th>21</th>\n",
              "      <td>Frau Präsidentin!\\n</td>\n",
              "      <td>\\n</td>\n",
              "    </tr>\n",
              "    <tr>\n",
              "      <th>22</th>\n",
              "      <td>Die erste diesjährige Tagung des Europäischen Parlaments fällt leider damit zusammen, daß in den Vereinigten Staaten, in Texas, für Donnerstag dieser Woche die Hinrichtung eines zum Tode verurteilten 34jährigen jungen Mannes namens Hicks festgelegt worden ist.\\n</td>\n",
              "      <td>Madam President, coinciding with this year' s first part-session of the European Parliament, a date has been set, unfortunately for next Thursday, in Texas in America, for the execution of a young 34 year-old man who has been sentenced to death. We shall call him Mr Hicks.\\n</td>\n",
              "    </tr>\n",
              "    <tr>\n",
              "      <th>23</th>\n",
              "      <td>Auf Wunsch eines französischen Mitglieds, Herrn Zimeray, wurde bereits eine Petition eingereicht, die von vielen, auch von mir selbst, unterzeichnet worden ist.\\n</td>\n",
              "      <td>At the request of a French Member, Mr Zimeray, a petition has already been presented, which many people signed, including myself.\\n</td>\n",
              "    </tr>\n",
              "    <tr>\n",
              "      <th>24</th>\n",
              "      <td>Gemäß der vom Europäischen Parlament und von der gesamten Europäischen Union nunmehr ständig vertretenen Linie möchte ich Sie jedoch bitten, den ganzen Einfluß Ihres Amtes und der Institution, die Sie vertreten, bei dem Präsidentschaftskandidaten und Gouverneur von Texas, George W. Bush, der zur Aussetzung der Vollstreckung des Todesurteils und zur Begnadigung des Verurteilten befugt ist, geltend zu machen.\\n</td>\n",
              "      <td>However, I would ask you, in accordance with the line which is now constantly followed by the European Parliament and by the whole of the European Community, to make representations, using the weight of your prestigious office and the institution you represent, to the President and to the Governor of Texas, Mr Bush, who has the power to order a stay of execution and to reprieve the condemned person.\\n</td>\n",
              "    </tr>\n",
              "    <tr>\n",
              "      <th>25</th>\n",
              "      <td>All dies entspricht den Grundsätzen, die wir stets verteidigt haben.\\n</td>\n",
              "      <td>This is all in accordance with the principles that we have always upheld.\\n</td>\n",
              "    </tr>\n",
              "    <tr>\n",
              "      <th>26</th>\n",
              "      <td>Vielen Dank, Herr Segni, das will ich gerne tun.\\n</td>\n",
              "      <td>Thank you, Mr Segni, I shall do so gladly.\\n</td>\n",
              "    </tr>\n",
              "    <tr>\n",
              "      <th>27</th>\n",
              "      <td>Das ist ganz im Sinne der Position, die wir als Parlament immer vertreten haben.\\n</td>\n",
              "      <td>Indeed, it is quite in keeping with the positions this House has always adopted.\\n</td>\n",
              "    </tr>\n",
              "    <tr>\n",
              "      <th>28</th>\n",
              "      <td>Frau Präsidentin! Ich möchte Sie auf einen Fall aufmerksam machen, mit dem sich dieses Parlament immer wieder befaßt hat.\\n</td>\n",
              "      <td>Madam President, I should like to draw your attention to a case in which this Parliament has consistently shown an interest.\\n</td>\n",
              "    </tr>\n",
              "    <tr>\n",
              "      <th>29</th>\n",
              "      <td>Das ist der Fall von Alexander Nikitin.\\n</td>\n",
              "      <td>It is the case of Alexander Nikitin.\\n</td>\n",
              "    </tr>\n",
              "    <tr>\n",
              "      <th>30</th>\n",
              "      <td>Wir freuen uns hier alle, daß das Gericht ihn freigesprochen und deutlich gemacht hat, daß auch in Rußland der Zugang zu Umweltinformationen konstitutionelles Recht ist.\\n</td>\n",
              "      <td>All of us here are pleased that the courts have acquitted him and made it clear that in Russia, too, access to environmental information is a constitutional right.\\n</td>\n",
              "    </tr>\n",
              "    <tr>\n",
              "      <th>31</th>\n",
              "      <td>Nun ist es aber so, daß er wieder angeklagt werden soll, weil der Staatsanwalt in Berufung geht.\\n</td>\n",
              "      <td>Now, however, he is to go before the courts once more because the public prosecutor is appealing.\\n</td>\n",
              "    </tr>\n",
              "    <tr>\n",
              "      <th>32</th>\n",
              "      <td>Wir wissen und wir haben es in wirklich sehr vielen Entschließungen festgestellt - gerade während der letzten Plenartagung des vergangenen Jahres-, daß dies nicht nur ein juristischer Fall ist und daß es falsch ist, Alexander Nikitin Kriminalität und Verrat vorzuwerfen, weil wir als Betroffene von seinen Ergebnissen einen Nutzen haben.\\n</td>\n",
              "      <td>We know, and we have stated as much in very many resolutions indeed, including specifically during the last plenary part-session of last year, that this is not solely a legal case and that it is wrong for Alexander Nikitin to be accused of criminal activity and treason because of our involvement as the beneficiaries of his findings.\\n</td>\n",
              "    </tr>\n",
              "    <tr>\n",
              "      <th>33</th>\n",
              "      <td>Diese Ergebnisse sind die Grundlage für die europäischen Programme zum Schutz der Barentsee, und deswegen bitte ich Sie, einen Briefentwurf, der Ihnen die wichtigsten Fakten schildert, zu prüfen und im Sinne der Beschlüsse des Parlaments in Rußland diese Position deutlich zu machen.\\n</td>\n",
              "      <td>These findings form the basis of the European programmes to protect the Barents Sea, and that is why I would ask you to examine a draft letter setting out the most important facts and to make Parliament's position, as expressed in the resolutions which it has adopted, clear as far as Russia is concerned.\\n</td>\n",
              "    </tr>\n",
              "    <tr>\n",
              "      <th>34</th>\n",
              "      <td>Frau Schroedter, ich bin gerne bereit, die damit zusammenhängenden Fakten zu prüfen, wenn mir Ihr Brief vorliegt.\\n</td>\n",
              "      <td>Yes, Mrs Schroedter, I shall be pleased to look into the facts of this case when I have received your letter.\\n</td>\n",
              "    </tr>\n",
              "    <tr>\n",
              "      <th>35</th>\n",
              "      <td>Frau Präsidentin, zunächst besten Dank dafür, daß Sie Wort gehalten haben und nun in der ersten Sitzungsperiode des neuen Jahres das Angebot an Fernsehprogrammen in unseren Büros tatsächlich enorm erweitert ist.\\n</td>\n",
              "      <td>Madam President, I would firstly like to compliment you on the fact that you have kept your word and that, during this first part-session of the new year, the number of television channels in our offices has indeed increased considerably.\\n</td>\n",
              "    </tr>\n",
              "    <tr>\n",
              "      <th>36</th>\n",
              "      <td>Dennoch, Frau Präsidentin, wurde meinem Wunsch nicht entsprochen.\\n</td>\n",
              "      <td>But, Madam President, my personal request has not been met.\\n</td>\n",
              "    </tr>\n",
              "    <tr>\n",
              "      <th>37</th>\n",
              "      <td>Zwar können wir jetzt zwei finnische und einen portugiesischen, nach wie vor aber keinen niederländischen Sender empfangen. Ich hatte Sie aber um ein niederländisches Programm gebeten, denn auch wir Niederländer möchten die Nachrichten verfolgen, wenn wir jeden Monat hierher in die Verbannung geschickt werden.\\n</td>\n",
              "      <td>Although there are now two Finnish channels and one Portuguese one, there is still no Dutch channel, which is what I had requested because Dutch people here like to be able to follow the news too when we are sent to this place of exile every month.\\n</td>\n",
              "    </tr>\n",
              "    <tr>\n",
              "      <th>38</th>\n",
              "      <td>Deshalb möchte ich Sie nochmals ersuchen, dafür Sorge zu tragen, daß auch ein niederländischer Sender eingespeist wird.\\n</td>\n",
              "      <td>I would therefore once more ask you to ensure that we get a Dutch channel as well.\\n</td>\n",
              "    </tr>\n",
              "    <tr>\n",
              "      <th>39</th>\n",
              "      <td>Frau Plooij-van Gorsel, ich kann Ihnen mitteilen, daß dieser Punkt am Mittwoch auf der Tagesordnung der Quästoren steht.\\n</td>\n",
              "      <td>Mrs Plooij-van Gorsel, I can tell you that this matter is on the agenda for the Quaestors' meeting on Wednesday.\\n</td>\n",
              "    </tr>\n",
              "    <tr>\n",
              "      <th>40</th>\n",
              "      <td>Ich hoffe, daß dort in Ihrem Sinne entschieden wird.\\n</td>\n",
              "      <td>It will, I hope, be examined in a positive light.\\n</td>\n",
              "    </tr>\n",
              "    <tr>\n",
              "      <th>41</th>\n",
              "      <td>Frau Präsidentin, können Sie mir sagen, warum sich dieses Parlament nicht an die Arbeitsschutzregelungen hält, die es selbst verabschiedet hat?\\n</td>\n",
              "      <td>Madam President, can you tell me why this Parliament does not adhere to the health and safety legislation that it actually passes?\\n</td>\n",
              "    </tr>\n",
              "    <tr>\n",
              "      <th>42</th>\n",
              "      <td>Weshalb wurde die Luftqualität in diesem Gebäude seit unserer Wahl nicht ein einziges Mal überprüft?\\n</td>\n",
              "      <td>Why has no air quality test been done on this particular building since we were elected?\\n</td>\n",
              "    </tr>\n",
              "    <tr>\n",
              "      <th>43</th>\n",
              "      <td>Weshalb ist der Arbeitsschutzausschuß seit 1998 nicht ein einziges Mal zusammengetreten?\\n</td>\n",
              "      <td>Why has there been no Health and Safety Committee meeting since 1998?\\n</td>\n",
              "    </tr>\n",
              "    <tr>\n",
              "      <th>44</th>\n",
              "      <td>Warum hat weder im Brüsseler noch im Straßburger Parlamentsgebäude eine Brandschutzübung stattgefunden?\\n</td>\n",
              "      <td>Why has there been no fire drill, either in the Brussels Parliament buildings or the Strasbourg Parliament buildings?\\n</td>\n",
              "    </tr>\n",
              "    <tr>\n",
              "      <th>45</th>\n",
              "      <td>Warum finden keine Brandschutzbelehrungen statt?\\n</td>\n",
              "      <td>Why are there no fire instructions?\\n</td>\n",
              "    </tr>\n",
              "    <tr>\n",
              "      <th>46</th>\n",
              "      <td>Warum wurde nach meinem Unfall nichts unternommen, um die Treppen sicherer zu machen?\\n</td>\n",
              "      <td>Why have the staircases not been improved since my accident?\\n</td>\n",
              "    </tr>\n",
              "    <tr>\n",
              "      <th>47</th>\n",
              "      <td>Warum wird in den Nichtraucherzonen das Rauchverbot nicht durchgesetzt?\\n</td>\n",
              "      <td>Why are no-smoking areas not enforced?\\n</td>\n",
              "    </tr>\n",
              "    <tr>\n",
              "      <th>48</th>\n",
              "      <td>Es ist eine Schande, daß wir Regeln verabschieden, an die wir uns dann selbst nicht halten.\\n</td>\n",
              "      <td>It seems absolutely disgraceful that we pass legislation and do not adhere to it ourselves.\\n</td>\n",
              "    </tr>\n",
              "    <tr>\n",
              "      <th>49</th>\n",
              "      <td>Frau Lynne, Sie haben völlig recht, und ich werde prüfen, ob all dies wirklich so ist.\\n</td>\n",
              "      <td>Mrs Lynne, you are quite right and I shall check whether this has actually not been done.\\n</td>\n",
              "    </tr>\n",
              "  </tbody>\n",
              "</table>\n",
              "</div>\n",
              "    <div class=\"colab-df-buttons\">\n",
              "\n",
              "  <div class=\"colab-df-container\">\n",
              "    <button class=\"colab-df-convert\" onclick=\"convertToInteractive('df-52037ee4-9d8f-45e8-8685-d00a8f00b23e')\"\n",
              "            title=\"Convert this dataframe to an interactive table.\"\n",
              "            style=\"display:none;\">\n",
              "\n",
              "  <svg xmlns=\"http://www.w3.org/2000/svg\" height=\"24px\" viewBox=\"0 -960 960 960\">\n",
              "    <path d=\"M120-120v-720h720v720H120Zm60-500h600v-160H180v160Zm220 220h160v-160H400v160Zm0 220h160v-160H400v160ZM180-400h160v-160H180v160Zm440 0h160v-160H620v160ZM180-180h160v-160H180v160Zm440 0h160v-160H620v160Z\"/>\n",
              "  </svg>\n",
              "    </button>\n",
              "\n",
              "  <style>\n",
              "    .colab-df-container {\n",
              "      display:flex;\n",
              "      gap: 12px;\n",
              "    }\n",
              "\n",
              "    .colab-df-convert {\n",
              "      background-color: #E8F0FE;\n",
              "      border: none;\n",
              "      border-radius: 50%;\n",
              "      cursor: pointer;\n",
              "      display: none;\n",
              "      fill: #1967D2;\n",
              "      height: 32px;\n",
              "      padding: 0 0 0 0;\n",
              "      width: 32px;\n",
              "    }\n",
              "\n",
              "    .colab-df-convert:hover {\n",
              "      background-color: #E2EBFA;\n",
              "      box-shadow: 0px 1px 2px rgba(60, 64, 67, 0.3), 0px 1px 3px 1px rgba(60, 64, 67, 0.15);\n",
              "      fill: #174EA6;\n",
              "    }\n",
              "\n",
              "    .colab-df-buttons div {\n",
              "      margin-bottom: 4px;\n",
              "    }\n",
              "\n",
              "    [theme=dark] .colab-df-convert {\n",
              "      background-color: #3B4455;\n",
              "      fill: #D2E3FC;\n",
              "    }\n",
              "\n",
              "    [theme=dark] .colab-df-convert:hover {\n",
              "      background-color: #434B5C;\n",
              "      box-shadow: 0px 1px 3px 1px rgba(0, 0, 0, 0.15);\n",
              "      filter: drop-shadow(0px 1px 2px rgba(0, 0, 0, 0.3));\n",
              "      fill: #FFFFFF;\n",
              "    }\n",
              "  </style>\n",
              "\n",
              "    <script>\n",
              "      const buttonEl =\n",
              "        document.querySelector('#df-52037ee4-9d8f-45e8-8685-d00a8f00b23e button.colab-df-convert');\n",
              "      buttonEl.style.display =\n",
              "        google.colab.kernel.accessAllowed ? 'block' : 'none';\n",
              "\n",
              "      async function convertToInteractive(key) {\n",
              "        const element = document.querySelector('#df-52037ee4-9d8f-45e8-8685-d00a8f00b23e');\n",
              "        const dataTable =\n",
              "          await google.colab.kernel.invokeFunction('convertToInteractive',\n",
              "                                                    [key], {});\n",
              "        if (!dataTable) return;\n",
              "\n",
              "        const docLinkHtml = 'Like what you see? Visit the ' +\n",
              "          '<a target=\"_blank\" href=https://colab.research.google.com/notebooks/data_table.ipynb>data table notebook</a>'\n",
              "          + ' to learn more about interactive tables.';\n",
              "        element.innerHTML = '';\n",
              "        dataTable['output_type'] = 'display_data';\n",
              "        await google.colab.output.renderOutput(dataTable, element);\n",
              "        const docLink = document.createElement('div');\n",
              "        docLink.innerHTML = docLinkHtml;\n",
              "        element.appendChild(docLink);\n",
              "      }\n",
              "    </script>\n",
              "  </div>\n",
              "\n",
              "\n",
              "<div id=\"df-27bf2630-195e-49ed-92c8-a7d3080d671d\">\n",
              "  <button class=\"colab-df-quickchart\" onclick=\"quickchart('df-27bf2630-195e-49ed-92c8-a7d3080d671d')\"\n",
              "            title=\"Suggest charts\"\n",
              "            style=\"display:none;\">\n",
              "\n",
              "<svg xmlns=\"http://www.w3.org/2000/svg\" height=\"24px\"viewBox=\"0 0 24 24\"\n",
              "     width=\"24px\">\n",
              "    <g>\n",
              "        <path d=\"M19 3H5c-1.1 0-2 .9-2 2v14c0 1.1.9 2 2 2h14c1.1 0 2-.9 2-2V5c0-1.1-.9-2-2-2zM9 17H7v-7h2v7zm4 0h-2V7h2v10zm4 0h-2v-4h2v4z\"/>\n",
              "    </g>\n",
              "</svg>\n",
              "  </button>\n",
              "\n",
              "<style>\n",
              "  .colab-df-quickchart {\n",
              "      --bg-color: #E8F0FE;\n",
              "      --fill-color: #1967D2;\n",
              "      --hover-bg-color: #E2EBFA;\n",
              "      --hover-fill-color: #174EA6;\n",
              "      --disabled-fill-color: #AAA;\n",
              "      --disabled-bg-color: #DDD;\n",
              "  }\n",
              "\n",
              "  [theme=dark] .colab-df-quickchart {\n",
              "      --bg-color: #3B4455;\n",
              "      --fill-color: #D2E3FC;\n",
              "      --hover-bg-color: #434B5C;\n",
              "      --hover-fill-color: #FFFFFF;\n",
              "      --disabled-bg-color: #3B4455;\n",
              "      --disabled-fill-color: #666;\n",
              "  }\n",
              "\n",
              "  .colab-df-quickchart {\n",
              "    background-color: var(--bg-color);\n",
              "    border: none;\n",
              "    border-radius: 50%;\n",
              "    cursor: pointer;\n",
              "    display: none;\n",
              "    fill: var(--fill-color);\n",
              "    height: 32px;\n",
              "    padding: 0;\n",
              "    width: 32px;\n",
              "  }\n",
              "\n",
              "  .colab-df-quickchart:hover {\n",
              "    background-color: var(--hover-bg-color);\n",
              "    box-shadow: 0 1px 2px rgba(60, 64, 67, 0.3), 0 1px 3px 1px rgba(60, 64, 67, 0.15);\n",
              "    fill: var(--button-hover-fill-color);\n",
              "  }\n",
              "\n",
              "  .colab-df-quickchart-complete:disabled,\n",
              "  .colab-df-quickchart-complete:disabled:hover {\n",
              "    background-color: var(--disabled-bg-color);\n",
              "    fill: var(--disabled-fill-color);\n",
              "    box-shadow: none;\n",
              "  }\n",
              "\n",
              "  .colab-df-spinner {\n",
              "    border: 2px solid var(--fill-color);\n",
              "    border-color: transparent;\n",
              "    border-bottom-color: var(--fill-color);\n",
              "    animation:\n",
              "      spin 1s steps(1) infinite;\n",
              "  }\n",
              "\n",
              "  @keyframes spin {\n",
              "    0% {\n",
              "      border-color: transparent;\n",
              "      border-bottom-color: var(--fill-color);\n",
              "      border-left-color: var(--fill-color);\n",
              "    }\n",
              "    20% {\n",
              "      border-color: transparent;\n",
              "      border-left-color: var(--fill-color);\n",
              "      border-top-color: var(--fill-color);\n",
              "    }\n",
              "    30% {\n",
              "      border-color: transparent;\n",
              "      border-left-color: var(--fill-color);\n",
              "      border-top-color: var(--fill-color);\n",
              "      border-right-color: var(--fill-color);\n",
              "    }\n",
              "    40% {\n",
              "      border-color: transparent;\n",
              "      border-right-color: var(--fill-color);\n",
              "      border-top-color: var(--fill-color);\n",
              "    }\n",
              "    60% {\n",
              "      border-color: transparent;\n",
              "      border-right-color: var(--fill-color);\n",
              "    }\n",
              "    80% {\n",
              "      border-color: transparent;\n",
              "      border-right-color: var(--fill-color);\n",
              "      border-bottom-color: var(--fill-color);\n",
              "    }\n",
              "    90% {\n",
              "      border-color: transparent;\n",
              "      border-bottom-color: var(--fill-color);\n",
              "    }\n",
              "  }\n",
              "</style>\n",
              "\n",
              "  <script>\n",
              "    async function quickchart(key) {\n",
              "      const quickchartButtonEl =\n",
              "        document.querySelector('#' + key + ' button');\n",
              "      quickchartButtonEl.disabled = true;  // To prevent multiple clicks.\n",
              "      quickchartButtonEl.classList.add('colab-df-spinner');\n",
              "      try {\n",
              "        const charts = await google.colab.kernel.invokeFunction(\n",
              "            'suggestCharts', [key], {});\n",
              "      } catch (error) {\n",
              "        console.error('Error during call to suggestCharts:', error);\n",
              "      }\n",
              "      quickchartButtonEl.classList.remove('colab-df-spinner');\n",
              "      quickchartButtonEl.classList.add('colab-df-quickchart-complete');\n",
              "    }\n",
              "    (() => {\n",
              "      let quickchartButtonEl =\n",
              "        document.querySelector('#df-27bf2630-195e-49ed-92c8-a7d3080d671d button');\n",
              "      quickchartButtonEl.style.display =\n",
              "        google.colab.kernel.accessAllowed ? 'block' : 'none';\n",
              "    })();\n",
              "  </script>\n",
              "</div>\n",
              "\n",
              "    </div>\n",
              "  </div>\n"
            ],
            "application/vnd.google.colaboratory.intrinsic+json": {
              "type": "dataframe",
              "variable_name": "df"
            }
          },
          "metadata": {},
          "execution_count": 12
        }
      ]
    },
    {
      "cell_type": "code",
      "source": [
        "# Taking 5000 from each dataset to proceed with machine translation\n",
        "europarl = europarl.sample(n=5000, random_state=42)\n",
        "commoncrawl = commoncrawl.sample(n=5000, random_state=42)\n",
        "# Merge the datasets\n",
        "merged_df = pd.concat([europarl, commoncrawl], ignore_index=True)"
      ],
      "metadata": {
        "id": "D6AsvksHOewV"
      },
      "execution_count": 13,
      "outputs": []
    },
    {
      "cell_type": "code",
      "source": [
        "english_sentences = merged_df[\"English\"].tolist()\n",
        "german_sentences = merged_df[\"German\"].tolist()\n",
        "\n",
        "# Calculate sentence lengths\n",
        "english_lengths = [len(sentence.split()) for sentence in english_sentences]\n",
        "german_lengths = [len(sentence.split()) for sentence in german_sentences]\n",
        "\n",
        "# Create a histogram plot with two subplots\n",
        "plt.figure(figsize=(10, 6))  # Adjust figure size as needed\n",
        "\n",
        "plt.subplot(1, 2, 1)  # First subplot for English lengths\n",
        "plt.hist(english_lengths, bins=20, edgecolor='black', alpha=0.7, label='English')\n",
        "plt.xlabel(\"Sentence Length (Words)\")\n",
        "plt.ylabel(\"Number of Sentences\")\n",
        "plt.title(\"English Sentence Length Distribution\")\n",
        "plt.grid(True)\n",
        "\n",
        "plt.subplot(1, 2, 2)  # Second subplot for German lengths\n",
        "plt.hist(german_lengths, bins=20, edgecolor='black', alpha=0.7, label='German')\n",
        "plt.xlabel(\"Sentence Length (Words)\")\n",
        "plt.ylabel(\"Number of Sentences\")\n",
        "plt.title(\"German Sentence Length Distribution\")\n",
        "plt.grid(True)\n",
        "\n",
        "# Add a legend to the overall figure\n",
        "plt.legend()\n",
        "\n",
        "# Show the plot\n",
        "plt.tight_layout()\n",
        "plt.show()"
      ],
      "metadata": {
        "colab": {
          "base_uri": "https://localhost:8080/",
          "height": 607
        },
        "id": "6t5N8A--OiKt",
        "outputId": "2989e128-b476-41bb-c118-e7307e0886b9"
      },
      "execution_count": 14,
      "outputs": [
        {
          "output_type": "display_data",
          "data": {
            "text/plain": [
              "<Figure size 1000x600 with 2 Axes>"
            ],
            "image/png": "[encoded data removed]"
          },
          "metadata": {}
        }
      ]
    },
    {
      "cell_type": "code",
      "source": [
        "def cleanse_dataset(dataset):\n",
        "    # Remove empty lines\n",
        "    dataset = dataset[(dataset['German'].str.strip() != '') & (dataset['English'].str.strip() != '')]\n",
        "\n",
        "    # Trim whitespace using .loc to avoid SettingWithCopyWarning\n",
        "    dataset.loc[:, 'German'] = dataset['German'].str.strip()\n",
        "    dataset.loc[:, 'English'] = dataset['English'].str.strip()\n",
        "\n",
        "    # Remove duplicates\n",
        "    dataset = dataset.drop_duplicates()\n",
        "\n",
        "    # Remove non-textual characters (e.g., special characters)\n",
        "    dataset.loc[:, 'German'] = dataset['German'].str.replace(r'[^a-zA-ZäöüßÄÖÜéèêàâçÇ\\s]', '', regex=True)\n",
        "    dataset.loc[:, 'English'] = dataset['English'].str.replace(r'[^a-zA-Z\\s]', '', regex=True)\n",
        "\n",
        "    # Normalize case\n",
        "    dataset.loc[:, 'German'] = dataset['German'].str.lower()\n",
        "    dataset.loc[:, 'English'] = dataset['English'].str.lower()\n",
        "\n",
        "    return dataset"
      ],
      "metadata": {
        "id": "x7YIqJvSOqat"
      },
      "execution_count": 15,
      "outputs": []
    },
    {
      "cell_type": "code",
      "source": [
        "cleanse_df = cleanse_dataset(merged_df)\n",
        "cleanse_df.shape"
      ],
      "metadata": {
        "colab": {
          "base_uri": "https://localhost:8080/"
        },
        "id": "mlC3cePeOuTl",
        "outputId": "c00ad2bb-a45e-497e-b63b-9789da1190f3"
      },
      "execution_count": 16,
      "outputs": [
        {
          "output_type": "execute_result",
          "data": {
            "text/plain": [
              "(9956, 2)"
            ]
          },
          "metadata": {},
          "execution_count": 16
        }
      ]
    },
    {
      "cell_type": "code",
      "source": [
        "# Function to remove punctuation from a sentence\n",
        "def remove_punctuation(text):\n",
        "    translator = str.maketrans('', '', string.punctuation)\n",
        "    return text.translate(translator)"
      ],
      "metadata": {
        "id": "T_HmxdYNOwMd"
      },
      "execution_count": 17,
      "outputs": []
    },
    {
      "cell_type": "code",
      "source": [
        "# Remove punctuation from both German and English sentences\n",
        "cleanse_df['German'] = cleanse_df['German'].apply(remove_punctuation)\n",
        "cleanse_df['English'] = cleanse_df['English'].apply(remove_punctuation)"
      ],
      "metadata": {
        "id": "tOCbtcp4OzEN"
      },
      "execution_count": 18,
      "outputs": []
    },
    {
      "cell_type": "code",
      "source": [
        "cleanse_df.head()"
      ],
      "metadata": {
        "colab": {
          "base_uri": "https://localhost:8080/",
          "height": 276
        },
        "id": "RzQbjSVmO0lk",
        "outputId": "4aace25f-2e28-41b6-d9da-31e1534a7fde"
      },
      "execution_count": 19,
      "outputs": [
        {
          "output_type": "execute_result",
          "data": {
            "text/plain": [
              "                                                                                                                                                                                                                                                                                                                                                   German  \\\n",
              "0                                                                                                                                                                                                                                                                                           falls es legal ist dann brauchen wir keine debatte zur führen   \n",
              "1                                                                                                                                                                                                                                                                                                                  weitere makrofinanzhilfe für georgien    \n",
              "2                                                                                            diese forderung verlief im sande zum einen weil das abkommen im juli  ausläuft und zum anderen weil wir der ansicht waren dass ein so sensibles thema wie die dauer der vorratsspeicherung erforderlichenfalls gegenstand späterer verhandlungen sein könnte   \n",
              "3                                                                                                                                                                             so funktioniert der rechtsstaat und lord bethell kann sicher sein dass das dänische rechtswesen entsprechend den prinzipien funktioniert die wir in dieser union hochhalten   \n",
              "4  wir sind daher durch die weigerung des rates die grundrechtecharta rechtsverbindlich zu machen in eine absurde situation geraten einerseits werden die grundrechte als zwingende konsequenz der anerkennung der würde des menschen betrachtet aber andererseits wird es den menschen verweigert sie tatsächlich als ihr recht geltend machen zu können   \n",
              "\n",
              "                                                                                                                                                                                                                                                                                                                           English  \n",
              "0                                                                                                                                                                                                                                                                                           if it is legal we do not need a debate  \n",
              "1                                                                                                                                                                                                                                                                                   further macrofinancial assistance for georgia   \n",
              "2                                                                              the request came to nothing firstly because the agreement will come to an end in july  and secondly because we have taken the view that a subject as sensitive as the period of data retention could if necessary be a topic for later negotiations  \n",
              "3                                                                                                                                                  that is how the judicial system works and lord bethell can be certain that the danish legal system functions in accordance with all the principles that we uphold in this union  \n",
              "4  the councils refusal to make the charter of fundamental rights binding in law therefore puts us in an absurd situation in which on the one hand fundamental rights are regarded as an inevitable consequence of the recognition of human dignity whilst on the other hand people are denied the chance to exercise their rights  "
            ],
            "text/html": [
              "\n",
              "  <div id=\"df-f0dc2dfb-98e8-47c7-9189-ed22aaf877bd\" class=\"colab-df-container\">\n",
              "    <div>\n",
              "<style scoped>\n",
              "    .dataframe tbody tr th:only-of-type {\n",
              "        vertical-align: middle;\n",
              "    }\n",
              "\n",
              "    .dataframe tbody tr th {\n",
              "        vertical-align: top;\n",
              "    }\n",
              "\n",
              "    .dataframe thead th {\n",
              "        text-align: right;\n",
              "    }\n",
              "</style>\n",
              "<table border=\"1\" class=\"dataframe\">\n",
              "  <thead>\n",
              "    <tr style=\"text-align: right;\">\n",
              "      <th></th>\n",
              "      <th>German</th>\n",
              "      <th>English</th>\n",
              "    </tr>\n",
              "  </thead>\n",
              "  <tbody>\n",
              "    <tr>\n",
              "      <th>0</th>\n",
              "      <td>falls es legal ist dann brauchen wir keine debatte zur führen</td>\n",
              "      <td>if it is legal we do not need a debate</td>\n",
              "    </tr>\n",
              "    <tr>\n",
              "      <th>1</th>\n",
              "      <td>weitere makrofinanzhilfe für georgien</td>\n",
              "      <td>further macrofinancial assistance for georgia</td>\n",
              "    </tr>\n",
              "    <tr>\n",
              "      <th>2</th>\n",
              "      <td>diese forderung verlief im sande zum einen weil das abkommen im juli  ausläuft und zum anderen weil wir der ansicht waren dass ein so sensibles thema wie die dauer der vorratsspeicherung erforderlichenfalls gegenstand späterer verhandlungen sein könnte</td>\n",
              "      <td>the request came to nothing firstly because the agreement will come to an end in july  and secondly because we have taken the view that a subject as sensitive as the period of data retention could if necessary be a topic for later negotiations</td>\n",
              "    </tr>\n",
              "    <tr>\n",
              "      <th>3</th>\n",
              "      <td>so funktioniert der rechtsstaat und lord bethell kann sicher sein dass das dänische rechtswesen entsprechend den prinzipien funktioniert die wir in dieser union hochhalten</td>\n",
              "      <td>that is how the judicial system works and lord bethell can be certain that the danish legal system functions in accordance with all the principles that we uphold in this union</td>\n",
              "    </tr>\n",
              "    <tr>\n",
              "      <th>4</th>\n",
              "      <td>wir sind daher durch die weigerung des rates die grundrechtecharta rechtsverbindlich zu machen in eine absurde situation geraten einerseits werden die grundrechte als zwingende konsequenz der anerkennung der würde des menschen betrachtet aber andererseits wird es den menschen verweigert sie tatsächlich als ihr recht geltend machen zu können</td>\n",
              "      <td>the councils refusal to make the charter of fundamental rights binding in law therefore puts us in an absurd situation in which on the one hand fundamental rights are regarded as an inevitable consequence of the recognition of human dignity whilst on the other hand people are denied the chance to exercise their rights</td>\n",
              "    </tr>\n",
              "  </tbody>\n",
              "</table>\n",
              "</div>\n",
              "    <div class=\"colab-df-buttons\">\n",
              "\n",
              "  <div class=\"colab-df-container\">\n",
              "    <button class=\"colab-df-convert\" onclick=\"convertToInteractive('df-f0dc2dfb-98e8-47c7-9189-ed22aaf877bd')\"\n",
              "            title=\"Convert this dataframe to an interactive table.\"\n",
              "            style=\"display:none;\">\n",
              "\n",
              "  <svg xmlns=\"http://www.w3.org/2000/svg\" height=\"24px\" viewBox=\"0 -960 960 960\">\n",
              "    <path d=\"M120-120v-720h720v720H120Zm60-500h600v-160H180v160Zm220 220h160v-160H400v160Zm0 220h160v-160H400v160ZM180-400h160v-160H180v160Zm440 0h160v-160H620v160ZM180-180h160v-160H180v160Zm440 0h160v-160H620v160Z\"/>\n",
              "  </svg>\n",
              "    </button>\n",
              "\n",
              "  <style>\n",
              "    .colab-df-container {\n",
              "      display:flex;\n",
              "      gap: 12px;\n",
              "    }\n",
              "\n",
              "    .colab-df-convert {\n",
              "      background-color: #E8F0FE;\n",
              "      border: none;\n",
              "      border-radius: 50%;\n",
              "      cursor: pointer;\n",
              "      display: none;\n",
              "      fill: #1967D2;\n",
              "      height: 32px;\n",
              "      padding: 0 0 0 0;\n",
              "      width: 32px;\n",
              "    }\n",
              "\n",
              "    .colab-df-convert:hover {\n",
              "      background-color: #E2EBFA;\n",
              "      box-shadow: 0px 1px 2px rgba(60, 64, 67, 0.3), 0px 1px 3px 1px rgba(60, 64, 67, 0.15);\n",
              "      fill: #174EA6;\n",
              "    }\n",
              "\n",
              "    .colab-df-buttons div {\n",
              "      margin-bottom: 4px;\n",
              "    }\n",
              "\n",
              "    [theme=dark] .colab-df-convert {\n",
              "      background-color: #3B4455;\n",
              "      fill: #D2E3FC;\n",
              "    }\n",
              "\n",
              "    [theme=dark] .colab-df-convert:hover {\n",
              "      background-color: #434B5C;\n",
              "      box-shadow: 0px 1px 3px 1px rgba(0, 0, 0, 0.15);\n",
              "      filter: drop-shadow(0px 1px 2px rgba(0, 0, 0, 0.3));\n",
              "      fill: #FFFFFF;\n",
              "    }\n",
              "  </style>\n",
              "\n",
              "    <script>\n",
              "      const buttonEl =\n",
              "        document.querySelector('#df-f0dc2dfb-98e8-47c7-9189-ed22aaf877bd button.colab-df-convert');\n",
              "      buttonEl.style.display =\n",
              "        google.colab.kernel.accessAllowed ? 'block' : 'none';\n",
              "\n",
              "      async function convertToInteractive(key) {\n",
              "        const element = document.querySelector('#df-f0dc2dfb-98e8-47c7-9189-ed22aaf877bd');\n",
              "        const dataTable =\n",
              "          await google.colab.kernel.invokeFunction('convertToInteractive',\n",
              "                                                    [key], {});\n",
              "        if (!dataTable) return;\n",
              "\n",
              "        const docLinkHtml = 'Like what you see? Visit the ' +\n",
              "          '<a target=\"_blank\" href=https://colab.research.google.com/notebooks/data_table.ipynb>data table notebook</a>'\n",
              "          + ' to learn more about interactive tables.';\n",
              "        element.innerHTML = '';\n",
              "        dataTable['output_type'] = 'display_data';\n",
              "        await google.colab.output.renderOutput(dataTable, element);\n",
              "        const docLink = document.createElement('div');\n",
              "        docLink.innerHTML = docLinkHtml;\n",
              "        element.appendChild(docLink);\n",
              "      }\n",
              "    </script>\n",
              "  </div>\n",
              "\n",
              "\n",
              "<div id=\"df-c89cd702-4e3b-476c-a4a5-9c5f2b00b811\">\n",
              "  <button class=\"colab-df-quickchart\" onclick=\"quickchart('df-c89cd702-4e3b-476c-a4a5-9c5f2b00b811')\"\n",
              "            title=\"Suggest charts\"\n",
              "            style=\"display:none;\">\n",
              "\n",
              "<svg xmlns=\"http://www.w3.org/2000/svg\" height=\"24px\"viewBox=\"0 0 24 24\"\n",
              "     width=\"24px\">\n",
              "    <g>\n",
              "        <path d=\"M19 3H5c-1.1 0-2 .9-2 2v14c0 1.1.9 2 2 2h14c1.1 0 2-.9 2-2V5c0-1.1-.9-2-2-2zM9 17H7v-7h2v7zm4 0h-2V7h2v10zm4 0h-2v-4h2v4z\"/>\n",
              "    </g>\n",
              "</svg>\n",
              "  </button>\n",
              "\n",
              "<style>\n",
              "  .colab-df-quickchart {\n",
              "      --bg-color: #E8F0FE;\n",
              "      --fill-color: #1967D2;\n",
              "      --hover-bg-color: #E2EBFA;\n",
              "      --hover-fill-color: #174EA6;\n",
              "      --disabled-fill-color: #AAA;\n",
              "      --disabled-bg-color: #DDD;\n",
              "  }\n",
              "\n",
              "  [theme=dark] .colab-df-quickchart {\n",
              "      --bg-color: #3B4455;\n",
              "      --fill-color: #D2E3FC;\n",
              "      --hover-bg-color: #434B5C;\n",
              "      --hover-fill-color: #FFFFFF;\n",
              "      --disabled-bg-color: #3B4455;\n",
              "      --disabled-fill-color: #666;\n",
              "  }\n",
              "\n",
              "  .colab-df-quickchart {\n",
              "    background-color: var(--bg-color);\n",
              "    border: none;\n",
              "    border-radius: 50%;\n",
              "    cursor: pointer;\n",
              "    display: none;\n",
              "    fill: var(--fill-color);\n",
              "    height: 32px;\n",
              "    padding: 0;\n",
              "    width: 32px;\n",
              "  }\n",
              "\n",
              "  .colab-df-quickchart:hover {\n",
              "    background-color: var(--hover-bg-color);\n",
              "    box-shadow: 0 1px 2px rgba(60, 64, 67, 0.3), 0 1px 3px 1px rgba(60, 64, 67, 0.15);\n",
              "    fill: var(--button-hover-fill-color);\n",
              "  }\n",
              "\n",
              "  .colab-df-quickchart-complete:disabled,\n",
              "  .colab-df-quickchart-complete:disabled:hover {\n",
              "    background-color: var(--disabled-bg-color);\n",
              "    fill: var(--disabled-fill-color);\n",
              "    box-shadow: none;\n",
              "  }\n",
              "\n",
              "  .colab-df-spinner {\n",
              "    border: 2px solid var(--fill-color);\n",
              "    border-color: transparent;\n",
              "    border-bottom-color: var(--fill-color);\n",
              "    animation:\n",
              "      spin 1s steps(1) infinite;\n",
              "  }\n",
              "\n",
              "  @keyframes spin {\n",
              "    0% {\n",
              "      border-color: transparent;\n",
              "      border-bottom-color: var(--fill-color);\n",
              "      border-left-color: var(--fill-color);\n",
              "    }\n",
              "    20% {\n",
              "      border-color: transparent;\n",
              "      border-left-color: var(--fill-color);\n",
              "      border-top-color: var(--fill-color);\n",
              "    }\n",
              "    30% {\n",
              "      border-color: transparent;\n",
              "      border-left-color: var(--fill-color);\n",
              "      border-top-color: var(--fill-color);\n",
              "      border-right-color: var(--fill-color);\n",
              "    }\n",
              "    40% {\n",
              "      border-color: transparent;\n",
              "      border-right-color: var(--fill-color);\n",
              "      border-top-color: var(--fill-color);\n",
              "    }\n",
              "    60% {\n",
              "      border-color: transparent;\n",
              "      border-right-color: var(--fill-color);\n",
              "    }\n",
              "    80% {\n",
              "      border-color: transparent;\n",
              "      border-right-color: var(--fill-color);\n",
              "      border-bottom-color: var(--fill-color);\n",
              "    }\n",
              "    90% {\n",
              "      border-color: transparent;\n",
              "      border-bottom-color: var(--fill-color);\n",
              "    }\n",
              "  }\n",
              "</style>\n",
              "\n",
              "  <script>\n",
              "    async function quickchart(key) {\n",
              "      const quickchartButtonEl =\n",
              "        document.querySelector('#' + key + ' button');\n",
              "      quickchartButtonEl.disabled = true;  // To prevent multiple clicks.\n",
              "      quickchartButtonEl.classList.add('colab-df-spinner');\n",
              "      try {\n",
              "        const charts = await google.colab.kernel.invokeFunction(\n",
              "            'suggestCharts', [key], {});\n",
              "      } catch (error) {\n",
              "        console.error('Error during call to suggestCharts:', error);\n",
              "      }\n",
              "      quickchartButtonEl.classList.remove('colab-df-spinner');\n",
              "      quickchartButtonEl.classList.add('colab-df-quickchart-complete');\n",
              "    }\n",
              "    (() => {\n",
              "      let quickchartButtonEl =\n",
              "        document.querySelector('#df-c89cd702-4e3b-476c-a4a5-9c5f2b00b811 button');\n",
              "      quickchartButtonEl.style.display =\n",
              "        google.colab.kernel.accessAllowed ? 'block' : 'none';\n",
              "    })();\n",
              "  </script>\n",
              "</div>\n",
              "\n",
              "    </div>\n",
              "  </div>\n"
            ],
            "application/vnd.google.colaboratory.intrinsic+json": {
              "type": "dataframe",
              "variable_name": "cleanse_df",
              "summary": "{\n  \"name\": \"cleanse_df\",\n  \"rows\": 9956,\n  \"fields\": [\n    {\n      \"column\": \"German\",\n      \"properties\": {\n        \"dtype\": \"string\",\n        \"num_unique_values\": 9932,\n        \"samples\": [\n          \"so beginnt hemingways kurzgeschichte ein gebirgsidyll  die galt\\u00fcr und dem paznaun einen platz in der weltliteratur gab\",\n          \"wohnung dubai dubai marina dubai marina dr  sie haben gesagt\",\n          \"herr pr\\u00e4sident herr kommissar meine damen und herren erlauben sie mir an allererster stelle die beachtenswerte arbeit unseres berichterstatters wolf klinz zu w\\u00fcrdigen dem es gelungen ist eine breite zustimmung innerhalb des ausschusses f\\u00fcr wirtschaft und w\\u00e4hrung zu erhalten und einen vollkommen zufrieden stellenden kompromiss mit der pr\\u00e4sidentschaft zu verhandeln\"\n        ],\n        \"semantic_type\": \"\",\n        \"description\": \"\"\n      }\n    },\n    {\n      \"column\": \"English\",\n      \"properties\": {\n        \"dtype\": \"string\",\n        \"num_unique_values\": 9928,\n        \"samples\": [\n          \"i can only confirm our resolve to release the funds that have been allocated\",\n          \"many of these challenges ahead are outlined in your report\",\n          \"located just a few minutes from t\"\n        ],\n        \"semantic_type\": \"\",\n        \"description\": \"\"\n      }\n    }\n  ]\n}"
            }
          },
          "metadata": {},
          "execution_count": 19
        }
      ]
    },
    {
      "cell_type": "code",
      "source": [
        "# Load the processed dataset\n",
        "preprocessed_df = cleanse_df\n",
        "\n",
        "# Split the data into training and testing sets\n",
        "train_df, test_df = train_test_split(preprocessed_df, test_size=0.2, random_state=42)\n",
        "\n",
        "# Separate the German and English columns for both training and testing sets\n",
        "train_german = train_df['German']\n",
        "train_english = train_df['English']\n",
        "test_german = test_df['German']\n",
        "test_english = test_df['English']\n",
        "\n",
        "# Tokenization\n",
        "tokenizer_german = Tokenizer()\n",
        "tokenizer_english = Tokenizer()\n",
        "\n",
        "tokenizer_german.fit_on_texts(train_german)\n",
        "tokenizer_english.fit_on_texts(train_english)\n",
        "\n",
        "train_german_sequences = tokenizer_german.texts_to_sequences(train_german)\n",
        "train_english_sequences = tokenizer_english.texts_to_sequences(train_english)\n",
        "test_german_sequences = tokenizer_german.texts_to_sequences(test_german)\n",
        "test_english_sequences = tokenizer_english.texts_to_sequences(test_english)"
      ],
      "metadata": {
        "id": "Zz3I56hKO4RE"
      },
      "execution_count": 20,
      "outputs": []
    },
    {
      "cell_type": "code",
      "source": [
        "print('Maximum length german sentence: {}'.format(len(max(train_german_sequences,key=len))))\n",
        "print('Maximum length english sentence: {}'.format(len(max(train_english_sequences,key=len))))"
      ],
      "metadata": {
        "colab": {
          "base_uri": "https://localhost:8080/"
        },
        "id": "p0yUN_PgO6h8",
        "outputId": "fac8c974-fb14-4b7f-e06e-cfc6c0a2f6b4"
      },
      "execution_count": 21,
      "outputs": [
        {
          "output_type": "stream",
          "name": "stdout",
          "text": [
            "Maximum length german sentence: 208\n",
            "Maximum length english sentence: 645\n"
          ]
        }
      ]
    },
    {
      "cell_type": "code",
      "source": [
        "# Check language length\n",
        "german_vocab = len(tokenizer_german.word_index) + 1\n",
        "english_vocab = len(tokenizer_english.word_index) + 1\n",
        "print(\"German vocabulary is of {} unique words\".format(german_vocab))\n",
        "print(\"English vocabulary is of {} unique words\".format(english_vocab))"
      ],
      "metadata": {
        "colab": {
          "base_uri": "https://localhost:8080/"
        },
        "id": "AJpQxJ8CUHpL",
        "outputId": "c7886692-031e-40f0-efc2-7dd1341f13a8"
      },
      "execution_count": 22,
      "outputs": [
        {
          "output_type": "stream",
          "name": "stdout",
          "text": [
            "German vocabulary is of 29642 unique words\n",
            "English vocabulary is of 19340 unique words\n"
          ]
        }
      ]
    },
    {
      "cell_type": "code",
      "source": [
        "max_german_len = int(len(max(train_german_sequences,key=len)))\n",
        "max_english_len = int(len(max(train_english_sequences,key=len)))\n",
        "\n",
        "# Adjust padding lengths to be the same\n",
        "max_len = max(max_german_len, max_english_len)\n",
        "\n",
        "train_german_padded = pad_sequences(train_german_sequences, maxlen=max_len, padding='post', truncating='post')\n",
        "train_english_padded = pad_sequences(train_english_sequences, maxlen=max_len, padding='post', truncating='post')\n",
        "test_german_padded = pad_sequences(test_german_sequences, maxlen=max_len, padding='post', truncating='post')\n",
        "test_english_padded = pad_sequences(test_english_sequences, maxlen=max_len, padding='post', truncating='post')\n",
        "\n",
        "# Ensure the target sequences for training are shifted by one time step\n",
        "train_english_padded_shifted = np.pad(train_english_padded[:, 1:], ((0, 0), (0, 1)), 'constant')\n",
        "test_english_padded_shifted = np.pad(test_english_padded[:, 1:], ((0, 0), (0, 1)), 'constant')"
      ],
      "metadata": {
        "id": "GBe9J2BTO9Bs"
      },
      "execution_count": 23,
      "outputs": []
    },
    {
      "cell_type": "code",
      "source": [
        "# Verify the shapes of the input data\n",
        "print(f\"Shape of train_german_padded: {train_german_padded.shape}\")\n",
        "print(f\"Shape of train_english_padded_shifted: {train_english_padded_shifted.shape}\")\n",
        "print(f\"Shape of test_german_padded: {test_german_padded.shape}\")\n",
        "print(f\"Shape of test_english_padded_shifted: {test_english_padded_shifted.shape}\")"
      ],
      "metadata": {
        "colab": {
          "base_uri": "https://localhost:8080/"
        },
        "id": "YjtWoUccO-4U",
        "outputId": "0521a2d3-8928-4ec3-a05a-133da18b77a1"
      },
      "execution_count": 24,
      "outputs": [
        {
          "output_type": "stream",
          "name": "stdout",
          "text": [
            "Shape of train_german_padded: (7964, 645)\n",
            "Shape of train_english_padded_shifted: (7964, 645)\n",
            "Shape of test_german_padded: (1992, 645)\n",
            "Shape of test_english_padded_shifted: (1992, 645)\n"
          ]
        }
      ]
    },
    {
      "cell_type": "code",
      "source": [
        "# Define the paths\n",
        "tokenizer_path = '/content/drive/MyDrive/capstone/'\n",
        "data_path = '/content/drive/MyDrive/capstone/'\n",
        "\n",
        "# Save the tokenizers\n",
        "with open(tokenizer_path + 'tokenizer_german.pkl', 'wb') as file:\n",
        "    pickle.dump(tokenizer_german, file)\n",
        "with open(tokenizer_path + 'tokenizer_english.pkl', 'wb') as file:\n",
        "    pickle.dump(tokenizer_english, file)\n",
        "\n",
        "# Save the preprocessed data\n",
        "np.save(data_path + 'train_german_padded.npy', train_german_padded)\n",
        "np.save(data_path + 'train_english_padded_shifted.npy', train_english_padded_shifted)\n",
        "np.save(data_path + 'test_german_padded.npy', test_german_padded)\n",
        "np.save(data_path + 'test_english_padded_shifted.npy', test_english_padded_shifted)\n",
        "\n",
        "print(\"Tokenizers and data saved successfully.\")"
      ],
      "metadata": {
        "colab": {
          "base_uri": "https://localhost:8080/"
        },
        "id": "HMXVwf9kPA_E",
        "outputId": "667f4134-4ce5-4435-cf0a-a2ffb5512052"
      },
      "execution_count": 25,
      "outputs": [
        {
          "output_type": "stream",
          "name": "stdout",
          "text": [
            "Tokenizers and data saved successfully.\n"
          ]
        }
      ]
    },
    {
      "cell_type": "markdown",
      "source": [
        "Simple RNN model"
      ],
      "metadata": {
        "id": "ghhqNhNqPKGv"
      }
    },
    {
      "cell_type": "code",
      "source": [
        "# Define the model\n",
        "simple_rnn_model = Sequential()\n",
        "simple_rnn_model.add(SimpleRNN(256, input_shape=(max_len, 1), return_sequences=True))\n",
        "simple_rnn_model.add(Dense(english_vocab, activation='softmax'))\n",
        "\n",
        "# Compile the model\n",
        "simple_rnn_model.compile(optimizer= Adam(), loss='sparse_categorical_crossentropy', metrics=['accuracy'])\n",
        "\n",
        "# Print model summary\n",
        "simple_rnn_model.summary()"
      ],
      "metadata": {
        "colab": {
          "base_uri": "https://localhost:8080/"
        },
        "id": "9-j7VcQ9PL0M",
        "outputId": "b9ff4fdf-a925-47e3-f7d9-a80eafbbc745"
      },
      "execution_count": 26,
      "outputs": [
        {
          "output_type": "stream",
          "name": "stdout",
          "text": [
            "Model: \"sequential\"\n",
            "_________________________________________________________________\n",
            " Layer (type)                Output Shape              Param #   \n",
            "=================================================================\n",
            " simple_rnn (SimpleRNN)      (None, 645, 256)          66048     \n",
            "                                                                 \n",
            " dense (Dense)               (None, 645, 19340)        4970380   \n",
            "                                                                 \n",
            "=================================================================\n",
            "Total params: 5036428 (19.21 MB)\n",
            "Trainable params: 5036428 (19.21 MB)\n",
            "Non-trainable params: 0 (0.00 Byte)\n",
            "_________________________________________________________________\n"
          ]
        }
      ]
    },
    {
      "cell_type": "code",
      "source": [
        "# Define the callbacks\n",
        "rnn_checkpoint_path = '/content/drive/MyDrive/capstone/rnncheckpoint.model.keras'\n",
        "rnn_checkpoint = ModelCheckpoint(\n",
        "    filepath=rnn_checkpoint_path,\n",
        "    save_weights_only=False,\n",
        "    monitor='val_loss',\n",
        "    mode='min',\n",
        "    save_best_only=True,\n",
        "    verbose=1\n",
        ")\n",
        "early_stopping = EarlyStopping(monitor='val_loss', patience=3, verbose=1)"
      ],
      "metadata": {
        "id": "UNmB8Mu-POK0"
      },
      "execution_count": 27,
      "outputs": []
    },
    {
      "cell_type": "code",
      "source": [
        "# Train the model with callbacks\n",
        "history = simple_rnn_model.fit(\n",
        "    train_german_padded,\n",
        "    np.expand_dims(train_english_padded_shifted, -1),\n",
        "    epochs=10,\n",
        "    batch_size=128,\n",
        "    validation_data=(test_german_padded, np.expand_dims(test_english_padded_shifted, -1)),\n",
        "    callbacks=[rnn_checkpoint, early_stopping]\n",
        ")"
      ],
      "metadata": {
        "colab": {
          "base_uri": "https://localhost:8080/"
        },
        "id": "HFyN-dLjPQtc",
        "outputId": "65d07d69-bf7e-4ac7-e286-6eb8b844753a"
      },
      "execution_count": 28,
      "outputs": [
        {
          "output_type": "stream",
          "name": "stdout",
          "text": [
            "Epoch 1/10\n",
            "63/63 [==============================] - ETA: 0s - loss: 3.0082 - accuracy: 0.8564\n",
            "Epoch 1: val_loss improved from inf to 0.27705, saving model to /content/drive/MyDrive/capstone/rnncheckpoint.model.keras\n",
            "63/63 [==============================] - 360s 6s/step - loss: 3.0082 - accuracy: 0.8564 - val_loss: 0.2771 - val_accuracy: 0.9678\n",
            "Epoch 2/10\n",
            "63/63 [==============================] - ETA: 0s - loss: 0.2866 - accuracy: 0.9652\n",
            "Epoch 2: val_loss improved from 0.27705 to 0.25999, saving model to /content/drive/MyDrive/capstone/rnncheckpoint.model.keras\n",
            "63/63 [==============================] - 357s 6s/step - loss: 0.2866 - accuracy: 0.9652 - val_loss: 0.2600 - val_accuracy: 0.9678\n",
            "Epoch 3/10\n",
            "63/63 [==============================] - ETA: 0s - loss: 0.2797 - accuracy: 0.9651\n",
            "Epoch 3: val_loss improved from 0.25999 to 0.25532, saving model to /content/drive/MyDrive/capstone/rnncheckpoint.model.keras\n",
            "63/63 [==============================] - 358s 6s/step - loss: 0.2797 - accuracy: 0.9651 - val_loss: 0.2553 - val_accuracy: 0.9678\n",
            "Epoch 4/10\n",
            "63/63 [==============================] - ETA: 0s - loss: 0.2760 - accuracy: 0.9651\n",
            "Epoch 4: val_loss improved from 0.25532 to 0.25190, saving model to /content/drive/MyDrive/capstone/rnncheckpoint.model.keras\n",
            "63/63 [==============================] - 360s 6s/step - loss: 0.2760 - accuracy: 0.9651 - val_loss: 0.2519 - val_accuracy: 0.9678\n",
            "Epoch 5/10\n",
            "63/63 [==============================] - ETA: 0s - loss: 0.2732 - accuracy: 0.9652\n",
            "Epoch 5: val_loss improved from 0.25190 to 0.24810, saving model to /content/drive/MyDrive/capstone/rnncheckpoint.model.keras\n",
            "63/63 [==============================] - 360s 6s/step - loss: 0.2732 - accuracy: 0.9652 - val_loss: 0.2481 - val_accuracy: 0.9678\n",
            "Epoch 6/10\n",
            "63/63 [==============================] - ETA: 0s - loss: 0.2684 - accuracy: 0.9656\n",
            "Epoch 6: val_loss improved from 0.24810 to 0.24041, saving model to /content/drive/MyDrive/capstone/rnncheckpoint.model.keras\n",
            "63/63 [==============================] - 360s 6s/step - loss: 0.2684 - accuracy: 0.9656 - val_loss: 0.2404 - val_accuracy: 0.9682\n",
            "Epoch 7/10\n",
            "63/63 [==============================] - ETA: 0s - loss: 0.2659 - accuracy: 0.9660\n",
            "Epoch 7: val_loss improved from 0.24041 to 0.23925, saving model to /content/drive/MyDrive/capstone/rnncheckpoint.model.keras\n",
            "63/63 [==============================] - 360s 6s/step - loss: 0.2659 - accuracy: 0.9660 - val_loss: 0.2393 - val_accuracy: 0.9682\n",
            "Epoch 8/10\n",
            "63/63 [==============================] - ETA: 0s - loss: 0.2650 - accuracy: 0.9660\n",
            "Epoch 8: val_loss did not improve from 0.23925\n",
            "63/63 [==============================] - 360s 6s/step - loss: 0.2650 - accuracy: 0.9660 - val_loss: 0.2397 - val_accuracy: 0.9682\n",
            "Epoch 9/10\n",
            "63/63 [==============================] - ETA: 0s - loss: 0.2676 - accuracy: 0.9659\n",
            "Epoch 9: val_loss did not improve from 0.23925\n",
            "63/63 [==============================] - 361s 6s/step - loss: 0.2676 - accuracy: 0.9659 - val_loss: 0.2519 - val_accuracy: 0.9682\n",
            "Epoch 10/10\n",
            "63/63 [==============================] - ETA: 0s - loss: 0.2687 - accuracy: 0.9659\n",
            "Epoch 10: val_loss did not improve from 0.23925\n",
            "63/63 [==============================] - 360s 6s/step - loss: 0.2687 - accuracy: 0.9659 - val_loss: 0.2405 - val_accuracy: 0.9682\n",
            "Epoch 10: early stopping\n"
          ]
        }
      ]
    },
    {
      "cell_type": "code",
      "source": [
        "# Plot training & validation loss values\n",
        "plt.figure(figsize=(12, 4))\n",
        "plt.subplot(1, 2, 1)\n",
        "plt.plot(history.history['loss'])\n",
        "plt.plot(history.history['val_loss'])\n",
        "plt.title('Model Loss')\n",
        "plt.ylabel('Loss')\n",
        "plt.xlabel('Epoch')\n",
        "plt.legend(['Train', 'Validation'], loc='upper left')\n",
        "\n",
        "# Plot training & validation accuracy values\n",
        "plt.subplot(1, 2, 2)\n",
        "plt.plot(history.history['accuracy'])\n",
        "plt.plot(history.history['val_accuracy'])\n",
        "plt.title('Model Accuracy')\n",
        "plt.ylabel('Accuracy')\n",
        "plt.xlabel('Epoch')\n",
        "plt.legend(['Train', 'Validation'], loc='upper left')\n",
        "\n",
        "plt.tight_layout()\n",
        "plt.show()"
      ],
      "metadata": {
        "colab": {
          "base_uri": "https://localhost:8080/",
          "height": 407
        },
        "id": "5g9a-GdePS39",
        "outputId": "07bd3a7f-4ce2-438a-9a2a-39d2890054b3"
      },
      "execution_count": 29,
      "outputs": [
        {
          "output_type": "display_data",
          "data": {
            "text/plain": [
              "<Figure size 1200x400 with 2 Axes>"
            ],
            "image/png": "[encoded data removed]"
          },
          "metadata": {}
        }
      ]
    },
    {
      "cell_type": "code",
      "source": [
        "# Save the entire model (architecture + weights)\n",
        "simple_rnn_model.save('/content/drive/My Drive/capstone/rnn_model_checkpoint.h5')"
      ],
      "metadata": {
        "colab": {
          "base_uri": "https://localhost:8080/"
        },
        "id": "my8MUrP0PVZ0",
        "outputId": "e23b83c4-9d3e-446b-beff-7104a0d84dd6"
      },
      "execution_count": 30,
      "outputs": [
        {
          "output_type": "stream",
          "name": "stderr",
          "text": [
            "/usr/local/lib/python3.10/dist-packages/keras/src/engine/training.py:3103: UserWarning: You are saving your model as an HDF5 file via `model.save()`. This file format is considered legacy. We recommend using instead the native Keras format, e.g. `model.save('my_model.keras')`.\n",
            "  saving_api.save_model(\n"
          ]
        }
      ]
    },
    {
      "cell_type": "code",
      "source": [
        "# Load the weights into the model\n",
        "rnn_checkpoint_path = '/content/drive/My Drive/capstone/rnn_model_checkpoint.h5'\n",
        "best_rnn_model=load_model(rnn_checkpoint_path)"
      ],
      "metadata": {
        "id": "7s4QUhCjPapl"
      },
      "execution_count": 31,
      "outputs": []
    },
    {
      "cell_type": "code",
      "source": [
        "train_loss, train_accuracy = simple_rnn_model.evaluate(train_german_padded, np.expand_dims(train_english_padded_shifted, -1))\n",
        "test_loss, test_accuracy = simple_rnn_model.evaluate(test_german_padded, np.expand_dims(test_english_padded_shifted, -1))\n",
        "\n",
        "print(f\"Training Loss: {train_loss}, Training Accuracy: {train_accuracy}\")\n",
        "print(f\"Validation Loss: {test_loss}, Validation Accuracy: {test_accuracy}\")"
      ],
      "metadata": {
        "colab": {
          "base_uri": "https://localhost:8080/"
        },
        "id": "NA5OvxS2Pcjd",
        "outputId": "c93524f8-4276-4610-ecdd-1788a58eb1fe"
      },
      "execution_count": 32,
      "outputs": [
        {
          "output_type": "stream",
          "name": "stdout",
          "text": [
            "249/249 [==============================] - 253s 1s/step - loss: 0.2640 - accuracy: 0.9660\n",
            "63/63 [==============================] - 63s 1s/step - loss: 0.2405 - accuracy: 0.9682\n",
            "Training Loss: 0.26403510570526123, Training Accuracy: 0.9660286903381348\n",
            "Validation Loss: 0.24052298069000244, Validation Accuracy: 0.9681781530380249\n"
          ]
        }
      ]
    },
    {
      "cell_type": "code",
      "source": [
        "accuracy = test_accuracy"
      ],
      "metadata": {
        "id": "tLbgq4z_PeJt"
      },
      "execution_count": 33,
      "outputs": []
    },
    {
      "cell_type": "code",
      "source": [
        "# Store accuracy in a dataframe\n",
        "results_df = pd.DataFrame({'Model': ['RNN'], 'Accuracy': [accuracy * 100]})\n",
        "results_df"
      ],
      "metadata": {
        "colab": {
          "base_uri": "https://localhost:8080/",
          "height": 89
        },
        "id": "RE5kurczPgOM",
        "outputId": "489c3334-83be-452b-e4c1-6282a4d8e44c"
      },
      "execution_count": 34,
      "outputs": [
        {
          "output_type": "execute_result",
          "data": {
            "text/plain": [
              "  Model   Accuracy\n",
              "0   RNN  96.817815"
            ],
            "text/html": [
              "\n",
              "  <div id=\"df-c860fdd9-6ba1-42e0-af29-8165787970bc\" class=\"colab-df-container\">\n",
              "    <div>\n",
              "<style scoped>\n",
              "    .dataframe tbody tr th:only-of-type {\n",
              "        vertical-align: middle;\n",
              "    }\n",
              "\n",
              "    .dataframe tbody tr th {\n",
              "        vertical-align: top;\n",
              "    }\n",
              "\n",
              "    .dataframe thead th {\n",
              "        text-align: right;\n",
              "    }\n",
              "</style>\n",
              "<table border=\"1\" class=\"dataframe\">\n",
              "  <thead>\n",
              "    <tr style=\"text-align: right;\">\n",
              "      <th></th>\n",
              "      <th>Model</th>\n",
              "      <th>Accuracy</th>\n",
              "    </tr>\n",
              "  </thead>\n",
              "  <tbody>\n",
              "    <tr>\n",
              "      <th>0</th>\n",
              "      <td>RNN</td>\n",
              "      <td>96.817815</td>\n",
              "    </tr>\n",
              "  </tbody>\n",
              "</table>\n",
              "</div>\n",
              "    <div class=\"colab-df-buttons\">\n",
              "\n",
              "  <div class=\"colab-df-container\">\n",
              "    <button class=\"colab-df-convert\" onclick=\"convertToInteractive('df-c860fdd9-6ba1-42e0-af29-8165787970bc')\"\n",
              "            title=\"Convert this dataframe to an interactive table.\"\n",
              "            style=\"display:none;\">\n",
              "\n",
              "  <svg xmlns=\"http://www.w3.org/2000/svg\" height=\"24px\" viewBox=\"0 -960 960 960\">\n",
              "    <path d=\"M120-120v-720h720v720H120Zm60-500h600v-160H180v160Zm220 220h160v-160H400v160Zm0 220h160v-160H400v160ZM180-400h160v-160H180v160Zm440 0h160v-160H620v160ZM180-180h160v-160H180v160Zm440 0h160v-160H620v160Z\"/>\n",
              "  </svg>\n",
              "    </button>\n",
              "\n",
              "  <style>\n",
              "    .colab-df-container {\n",
              "      display:flex;\n",
              "      gap: 12px;\n",
              "    }\n",
              "\n",
              "    .colab-df-convert {\n",
              "      background-color: #E8F0FE;\n",
              "      border: none;\n",
              "      border-radius: 50%;\n",
              "      cursor: pointer;\n",
              "      display: none;\n",
              "      fill: #1967D2;\n",
              "      height: 32px;\n",
              "      padding: 0 0 0 0;\n",
              "      width: 32px;\n",
              "    }\n",
              "\n",
              "    .colab-df-convert:hover {\n",
              "      background-color: #E2EBFA;\n",
              "      box-shadow: 0px 1px 2px rgba(60, 64, 67, 0.3), 0px 1px 3px 1px rgba(60, 64, 67, 0.15);\n",
              "      fill: #174EA6;\n",
              "    }\n",
              "\n",
              "    .colab-df-buttons div {\n",
              "      margin-bottom: 4px;\n",
              "    }\n",
              "\n",
              "    [theme=dark] .colab-df-convert {\n",
              "      background-color: #3B4455;\n",
              "      fill: #D2E3FC;\n",
              "    }\n",
              "\n",
              "    [theme=dark] .colab-df-convert:hover {\n",
              "      background-color: #434B5C;\n",
              "      box-shadow: 0px 1px 3px 1px rgba(0, 0, 0, 0.15);\n",
              "      filter: drop-shadow(0px 1px 2px rgba(0, 0, 0, 0.3));\n",
              "      fill: #FFFFFF;\n",
              "    }\n",
              "  </style>\n",
              "\n",
              "    <script>\n",
              "      const buttonEl =\n",
              "        document.querySelector('#df-c860fdd9-6ba1-42e0-af29-8165787970bc button.colab-df-convert');\n",
              "      buttonEl.style.display =\n",
              "        google.colab.kernel.accessAllowed ? 'block' : 'none';\n",
              "\n",
              "      async function convertToInteractive(key) {\n",
              "        const element = document.querySelector('#df-c860fdd9-6ba1-42e0-af29-8165787970bc');\n",
              "        const dataTable =\n",
              "          await google.colab.kernel.invokeFunction('convertToInteractive',\n",
              "                                                    [key], {});\n",
              "        if (!dataTable) return;\n",
              "\n",
              "        const docLinkHtml = 'Like what you see? Visit the ' +\n",
              "          '<a target=\"_blank\" href=https://colab.research.google.com/notebooks/data_table.ipynb>data table notebook</a>'\n",
              "          + ' to learn more about interactive tables.';\n",
              "        element.innerHTML = '';\n",
              "        dataTable['output_type'] = 'display_data';\n",
              "        await google.colab.output.renderOutput(dataTable, element);\n",
              "        const docLink = document.createElement('div');\n",
              "        docLink.innerHTML = docLinkHtml;\n",
              "        element.appendChild(docLink);\n",
              "      }\n",
              "    </script>\n",
              "  </div>\n",
              "\n",
              "\n",
              "  <div id=\"id_a140e1e0-7056-430a-970b-de1ab56c6e88\">\n",
              "    <style>\n",
              "      .colab-df-generate {\n",
              "        background-color: #E8F0FE;\n",
              "        border: none;\n",
              "        border-radius: 50%;\n",
              "        cursor: pointer;\n",
              "        display: none;\n",
              "        fill: #1967D2;\n",
              "        height: 32px;\n",
              "        padding: 0 0 0 0;\n",
              "        width: 32px;\n",
              "      }\n",
              "\n",
              "      .colab-df-generate:hover {\n",
              "        background-color: #E2EBFA;\n",
              "        box-shadow: 0px 1px 2px rgba(60, 64, 67, 0.3), 0px 1px 3px 1px rgba(60, 64, 67, 0.15);\n",
              "        fill: #174EA6;\n",
              "      }\n",
              "\n",
              "      [theme=dark] .colab-df-generate {\n",
              "        background-color: #3B4455;\n",
              "        fill: #D2E3FC;\n",
              "      }\n",
              "\n",
              "      [theme=dark] .colab-df-generate:hover {\n",
              "        background-color: #434B5C;\n",
              "        box-shadow: 0px 1px 3px 1px rgba(0, 0, 0, 0.15);\n",
              "        filter: drop-shadow(0px 1px 2px rgba(0, 0, 0, 0.3));\n",
              "        fill: #FFFFFF;\n",
              "      }\n",
              "    </style>\n",
              "    <button class=\"colab-df-generate\" onclick=\"generateWithVariable('results_df')\"\n",
              "            title=\"Generate code using this dataframe.\"\n",
              "            style=\"display:none;\">\n",
              "\n",
              "  <svg xmlns=\"http://www.w3.org/2000/svg\" height=\"24px\"viewBox=\"0 0 24 24\"\n",
              "       width=\"24px\">\n",
              "    <path d=\"M7,19H8.4L18.45,9,17,7.55,7,17.6ZM5,21V16.75L18.45,3.32a2,2,0,0,1,2.83,0l1.4,1.43a1.91,1.91,0,0,1,.58,1.4,1.91,1.91,0,0,1-.58,1.4L9.25,21ZM18.45,9,17,7.55Zm-12,3A5.31,5.31,0,0,0,4.9,8.1,5.31,5.31,0,0,0,1,6.5,5.31,5.31,0,0,0,4.9,4.9,5.31,5.31,0,0,0,6.5,1,5.31,5.31,0,0,0,8.1,4.9,5.31,5.31,0,0,0,12,6.5,5.46,5.46,0,0,0,6.5,12Z\"/>\n",
              "  </svg>\n",
              "    </button>\n",
              "    <script>\n",
              "      (() => {\n",
              "      const buttonEl =\n",
              "        document.querySelector('#id_a140e1e0-7056-430a-970b-de1ab56c6e88 button.colab-df-generate');\n",
              "      buttonEl.style.display =\n",
              "        google.colab.kernel.accessAllowed ? 'block' : 'none';\n",
              "\n",
              "      buttonEl.onclick = () => {\n",
              "        google.colab.notebook.generateWithVariable('results_df');\n",
              "      }\n",
              "      })();\n",
              "    </script>\n",
              "  </div>\n",
              "\n",
              "    </div>\n",
              "  </div>\n"
            ],
            "application/vnd.google.colaboratory.intrinsic+json": {
              "type": "dataframe",
              "variable_name": "results_df",
              "summary": "{\n  \"name\": \"results_df\",\n  \"rows\": 1,\n  \"fields\": [\n    {\n      \"column\": \"Model\",\n      \"properties\": {\n        \"dtype\": \"string\",\n        \"num_unique_values\": 1,\n        \"samples\": [\n          \"RNN\"\n        ],\n        \"semantic_type\": \"\",\n        \"description\": \"\"\n      }\n    },\n    {\n      \"column\": \"Accuracy\",\n      \"properties\": {\n        \"dtype\": \"number\",\n        \"std\": null,\n        \"min\": 96.81781530380249,\n        \"max\": 96.81781530380249,\n        \"num_unique_values\": 1,\n        \"samples\": [\n          96.81781530380249\n        ],\n        \"semantic_type\": \"\",\n        \"description\": \"\"\n      }\n    }\n  ]\n}"
            }
          },
          "metadata": {},
          "execution_count": 34
        }
      ]
    },
    {
      "cell_type": "code",
      "source": [
        "# Choose 5 random indices from test set\n",
        "random_indices = random.sample(range(len(test_german_padded)), 5)\n",
        "\n",
        "# Select the random samples from X_test and y_test\n",
        "X_sample = test_german_padded[random_indices]\n",
        "y_sample_actual = test_english_padded_shifted[random_indices]\n",
        "\n",
        "# Predict using the RNN model\n",
        "y_sample_pred = simple_rnn_model.predict(X_sample)\n",
        "\n",
        "# Decode sequences from indices to words using tokenizer\n",
        "def decode_sequence(tokenizer, sequence):\n",
        "    reverse_word_map = dict(map(reversed, tokenizer.word_index.items()))\n",
        "    decoded_sentence = ' '.join(reverse_word_map.get(token, '<unk>') for token in sequence if token != 0)\n",
        "    return decoded_sentence\n",
        "\n",
        "# Decode actual and predicted sequences\n",
        "sample_actual_decoded = [decode_sequence(tokenizer_english, seq) for seq in y_sample_actual]\n",
        "sample_pred_decoded = [decode_sequence(tokenizer_english, seq.argmax(axis=-1)) for seq in y_sample_pred]\n",
        "\n",
        "# Print actual and predicted sequences\n",
        "for i in range(len(random_indices)):\n",
        "    print(f\"Example {i + 1}:\")\n",
        "    print(f\"Actual English:   {sample_actual_decoded[i]}\")\n",
        "    print(f\"Predicted English: {sample_pred_decoded[i]}\\n\")"
      ],
      "metadata": {
        "colab": {
          "base_uri": "https://localhost:8080/"
        },
        "id": "eIWQq9EFPhqc",
        "outputId": "a62c56a3-c443-4822-a21c-eeb23f93b65c"
      },
      "execution_count": 35,
      "outputs": [
        {
          "output_type": "stream",
          "name": "stdout",
          "text": [
            "1/1 [==============================] - 0s 244ms/step\n",
            "Example 1:\n",
            "Actual English:   amendment of the treaties was however limited to a review of some internal rules which was necessary and important but did not answer the fundamental question what is europe what are its common principles and therefore its objectives and limitations\n",
            "Predicted English: is\n",
            "\n",
            "Example 2:\n",
            "Actual English:   the provision which is still contained in the accession agreements of spain and portugal is due to run out at the end of this year\n",
            "Predicted English: \n",
            "\n",
            "Example 3:\n",
            "Actual English:   am sure that the member states of the eu are opposed to any attempt to undermine the concepts of and interdependence of human rights\n",
            "Predicted English: the\n",
            "\n",
            "Example 4:\n",
            "Actual English:   is something there are good reasons for doing because other methods of are still less appropriate from health and environmental points of view\n",
            "Predicted English: the\n",
            "\n",
            "Example 5:\n",
            "Actual English:   is very difficult to tell you that one is better than the other\n",
            "Predicted English: the\n",
            "\n"
          ]
        }
      ]
    },
    {
      "cell_type": "code",
      "source": [],
      "metadata": {
        "id": "fCP4cQoFPk2f"
      },
      "execution_count": 35,
      "outputs": []
    },
    {
      "cell_type": "markdown",
      "source": [
        "Simple LSTM model"
      ],
      "metadata": {
        "id": "0hZs0WGrPoTU"
      }
    },
    {
      "cell_type": "code",
      "source": [
        "# Define the model\n",
        "simple_lstm_model = Sequential()\n",
        "simple_lstm_model.add(LSTM(256, input_shape=(max_len, 1), return_sequences=True))\n",
        "simple_lstm_model.add(Dense(english_vocab, activation='softmax'))\n",
        "\n",
        "# Compile the model\n",
        "simple_lstm_model.compile(optimizer=Adam(1e-3), loss='sparse_categorical_crossentropy', metrics=['accuracy'])\n",
        "\n",
        "# Print model summary\n",
        "simple_lstm_model.summary()"
      ],
      "metadata": {
        "colab": {
          "base_uri": "https://localhost:8080/"
        },
        "id": "X1fWcQUyPq2c",
        "outputId": "0ac7bf30-4d6f-4739-9747-320a3fc530b8"
      },
      "execution_count": 36,
      "outputs": [
        {
          "output_type": "stream",
          "name": "stdout",
          "text": [
            "Model: \"sequential_1\"\n",
            "_________________________________________________________________\n",
            " Layer (type)                Output Shape              Param #   \n",
            "=================================================================\n",
            " lstm (LSTM)                 (None, 645, 256)          264192    \n",
            "                                                                 \n",
            " dense_1 (Dense)             (None, 645, 19340)        4970380   \n",
            "                                                                 \n",
            "=================================================================\n",
            "Total params: 5234572 (19.97 MB)\n",
            "Trainable params: 5234572 (19.97 MB)\n",
            "Non-trainable params: 0 (0.00 Byte)\n",
            "_________________________________________________________________\n"
          ]
        }
      ]
    },
    {
      "cell_type": "code",
      "source": [
        "# Define the callbacks\n",
        "lstm_checkpoint_path = '/content/drive/MyDrive/capstone/lstm_model_checkpoint.h5'\n",
        "lstm_checkpoint = ModelCheckpoint(\n",
        "    filepath=lstm_checkpoint_path,\n",
        "    save_weights_only=False,\n",
        "    monitor='val_loss',\n",
        "    mode='min',\n",
        "    save_best_only=True,\n",
        "    verbose=1\n",
        ")"
      ],
      "metadata": {
        "id": "6GojAR9UPscc"
      },
      "execution_count": 37,
      "outputs": []
    },
    {
      "cell_type": "code",
      "source": [
        "early_stopping = EarlyStopping(monitor='val_loss', patience=3, verbose=1)\n",
        "\n",
        "# Train the model with callbacks\n",
        "history = simple_lstm_model.fit(\n",
        "    train_german_padded,\n",
        "    np.expand_dims(train_english_padded_shifted, -1),\n",
        "    epochs=10,\n",
        "    batch_size=128,\n",
        "    validation_data=(test_german_padded, np.expand_dims(test_english_padded_shifted, -1)),\n",
        "    callbacks=[lstm_checkpoint, early_stopping]\n",
        ")"
      ],
      "metadata": {
        "colab": {
          "base_uri": "https://localhost:8080/"
        },
        "id": "qqR4AwEtPunE",
        "outputId": "aef2033d-9702-42bf-d0f2-88a2f2428a5e"
      },
      "execution_count": null,
      "outputs": [
        {
          "output_type": "stream",
          "name": "stdout",
          "text": [
            "Epoch 1/10\n",
            "18/63 [=======>......................] - ETA: 4:36 - loss: 7.5302 - accuracy: 0.9552"
          ]
        }
      ]
    },
    {
      "cell_type": "code",
      "source": [
        "# Plot training & validation loss values\n",
        "plt.figure(figsize=(12, 4))\n",
        "plt.subplot(1, 2, 1)\n",
        "plt.plot(history.history['loss'])\n",
        "plt.plot(history.history['val_loss'])\n",
        "plt.title('Model Loss')\n",
        "plt.ylabel('Loss')\n",
        "plt.xlabel('Epoch')\n",
        "plt.legend(['Train', 'Validation'], loc='upper left')\n",
        "\n",
        "# Plot training & validation accuracy values\n",
        "plt.subplot(1, 2, 2)\n",
        "plt.plot(history.history['accuracy'])\n",
        "plt.plot(history.history['val_accuracy'])\n",
        "plt.title('Model Accuracy')\n",
        "plt.ylabel('Accuracy')\n",
        "plt.xlabel('Epoch')\n",
        "plt.legend(['Train', 'Validation'], loc='upper left')\n",
        "\n",
        "plt.tight_layout()\n",
        "plt.show()"
      ],
      "metadata": {
        "id": "4HAzcdRGPwud"
      },
      "execution_count": null,
      "outputs": []
    },
    {
      "cell_type": "code",
      "source": [
        "# Load best LSTM model from checkpoint\n",
        "best_lstm_model = load_model(lstm_checkpoint_path)\n",
        "best_lstm_model.load_weights(lstm_checkpoint_path)"
      ],
      "metadata": {
        "id": "0FYVqalOPy4E"
      },
      "execution_count": null,
      "outputs": []
    },
    {
      "cell_type": "code",
      "source": [
        "test_loss, test_accuracy = simple_lstm_model.evaluate(test_german_padded, np.expand_dims(test_english_padded_shifted, -1))"
      ],
      "metadata": {
        "id": "tt6zs4buP028"
      },
      "execution_count": null,
      "outputs": []
    },
    {
      "cell_type": "code",
      "source": [
        "print(f\"Validation Loss: {test_loss}, Validation Accuracy: {test_accuracy}\")"
      ],
      "metadata": {
        "id": "6sSeKDspP2tc"
      },
      "execution_count": null,
      "outputs": []
    },
    {
      "cell_type": "code",
      "source": [
        "accuracy = test_accuracy"
      ],
      "metadata": {
        "id": "6QGBPntIP4Uk"
      },
      "execution_count": null,
      "outputs": []
    },
    {
      "cell_type": "code",
      "source": [
        "# Store accuracy in a dataframe\n",
        "lstm_results_df = pd.DataFrame({'Model': ['LSTM'], 'Accuracy': [accuracy * 100]})\n",
        "lstm_results_df"
      ],
      "metadata": {
        "id": "H_xSktZTP8o0"
      },
      "execution_count": null,
      "outputs": []
    },
    {
      "cell_type": "code",
      "source": [
        "# Choose 5 random indices from test set\n",
        "random_indices = random.sample(range(len(test_german_padded)), 5)\n",
        "\n",
        "# Select the random samples from X_test and y_test\n",
        "X_sample = test_german_padded[random_indices]\n",
        "y_sample_actual = test_english_padded_shifted[random_indices]\n",
        "\n",
        "# Predict using the RNN model\n",
        "y_sample_pred = simple_lstm_model.predict(X_sample)\n",
        "\n",
        "# Decode sequences from indices to words using tokenizer\n",
        "def decode_sequence(tokenizer, sequence):\n",
        "    reverse_word_map = dict(map(reversed, tokenizer.word_index.items()))\n",
        "    decoded_sentence = ' '.join(reverse_word_map.get(token, '<unk>') for token in sequence if token != 0)\n",
        "    return decoded_sentence\n",
        "\n",
        "# Decode actual and predicted sequences\n",
        "sample_actual_decoded = [decode_sequence(tokenizer_english, seq) for seq in y_sample_actual]\n",
        "sample_pred_decoded = [decode_sequence(tokenizer_english, seq.argmax(axis=-1)) for seq in y_sample_pred]\n",
        "\n",
        "# Print actual and predicted sequences\n",
        "for i in range(len(random_indices)):\n",
        "    print(f\"Example {i + 1}:\")\n",
        "    print(f\"Actual English:   {sample_actual_decoded[i]}\")\n",
        "    print(f\"Predicted English: {sample_pred_decoded[i]}\\n\")"
      ],
      "metadata": {
        "id": "zxJq3AA4P-K0"
      },
      "execution_count": null,
      "outputs": []
    },
    {
      "cell_type": "code",
      "source": [
        "# Combine RNN and LSTM results\n",
        "combined_results_df = pd.concat([results_df, lstm_results_df], ignore_index=True)\n",
        "combined_results_df"
      ],
      "metadata": {
        "id": "5M70ltjiQAlV"
      },
      "execution_count": null,
      "outputs": []
    },
    {
      "cell_type": "code",
      "source": [],
      "metadata": {
        "id": "IwIM-g8BQDjk"
      },
      "execution_count": null,
      "outputs": []
    }
  ]
}